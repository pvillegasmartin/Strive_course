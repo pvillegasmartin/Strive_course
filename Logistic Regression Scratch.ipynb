{
 "cells": [
  {
   "cell_type": "markdown",
   "metadata": {},
   "source": [
    "# Logistic Regression Scratch"
   ]
  },
  {
   "cell_type": "markdown",
   "metadata": {},
   "source": [
    "Logistic Regression is a Machine Learning classification algorithm that is used to predict the probability of a categorical dependent variable. In logistic regression, the dependent variable is a binary variable that contains data coded as 1 (yes, success, etc.) or 0 (no, failure, etc.). "
   ]
  },
  {
   "cell_type": "markdown",
   "metadata": {},
   "source": [
    "#### Import libraries"
   ]
  },
  {
   "cell_type": "code",
   "execution_count": 298,
   "metadata": {},
   "outputs": [],
   "source": [
    "import numpy as np\n",
    "import pandas as pd"
   ]
  },
  {
   "cell_type": "markdown",
   "metadata": {},
   "source": [
    "#### Dataset import\n",
    "Dividing the dataset in features(x) and response (y)."
   ]
  },
  {
   "cell_type": "code",
   "execution_count": 345,
   "metadata": {},
   "outputs": [],
   "source": [
    "df = pd.read_csv(r'C:\\Users\\Pablo\\Desktop\\STRIVE AI\\Strive_course\\Chapter 2\\01. Intro to ML\\Part 1\\data\\diabetes.csv')\n",
    "y=df['Outcome']\n",
    "x=df[['BMI','DiabetesPedigreeFunction']]"
   ]
  },
  {
   "cell_type": "markdown",
   "metadata": {},
   "source": [
    "##### Initializing logistic regression parameters"
   ]
  },
  {
   "cell_type": "code",
   "execution_count": 333,
   "metadata": {},
   "outputs": [],
   "source": [
    "alpha=0.01\n",
    "w = np.zeros(x.columns.shape[0])\n",
    "b = 0\n",
    "accuracy = 0\n",
    "i_same_worse=0\n",
    "best_accuracy=0\n",
    "num_iter=0"
   ]
  },
  {
   "cell_type": "markdown",
   "metadata": {},
   "source": [
    "### Algorithm run"
   ]
  },
  {
   "cell_type": "code",
   "execution_count": 349,
   "metadata": {},
   "outputs": [
    {
     "name": "stdout",
     "output_type": "stream",
     "text": [
      "The best accuracy of this algorithm is: 65.10%\n"
     ]
    }
   ],
   "source": [
    "while i_same_worse<50:\n",
    "    score = np.dot(x,w) #obtain the response for each row of values\n",
    "    y_pred = 1/(1+np.exp(-score)) #return a value between 0-1 for each row of values because the response is binary\n",
    "    error = y-y_pred #how far the prediction is of the expected value\n",
    "    gradient = np.dot(x.T,error) #calculate how much we have to adjust the weights \n",
    "    w = w + gradient*alpha #adjusting the weights\n",
    "    accuracy = sum(y==np.round(y_pred,0))/len(y) #calculing the accuracy of the model in this iteration\n",
    "    num_iter+=1\n",
    "    if accuracy>best_accuracy:\n",
    "        # saving the values for the best iteration\n",
    "        best_accuracy=accuracy\n",
    "        num_iter_result=num_iter\n",
    "        best_w=w\n",
    "    else:\n",
    "        i_same_worse+=1\n",
    "print(f'The best accuracy of this algorithm is: {best_accuracy*100:.2f}%')"
   ]
  },
  {
   "cell_type": "code",
   "execution_count": null,
   "metadata": {},
   "outputs": [],
   "source": []
  }
 ],
 "metadata": {
  "kernelspec": {
   "display_name": "Python 3",
   "language": "python",
   "name": "python3"
  },
  "language_info": {
   "codemirror_mode": {
    "name": "ipython",
    "version": 3
   },
   "file_extension": ".py",
   "mimetype": "text/x-python",
   "name": "python",
   "nbconvert_exporter": "python",
   "pygments_lexer": "ipython3",
   "version": "3.8.5"
  }
 },
 "nbformat": 4,
 "nbformat_minor": 4
}
