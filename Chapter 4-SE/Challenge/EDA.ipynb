{
 "cells": [
  {
   "cell_type": "code",
   "execution_count": 1,
   "id": "72deeb0f",
   "metadata": {},
   "outputs": [],
   "source": [
    "from pyspark.sql import SparkSession\n",
    "from pyspark.ml import Pipeline\n",
    "from pyspark.ml.feature import VectorAssembler\n",
    "from pyspark.ml.feature import StringIndexer\n",
    "from pyspark.ml.classification import RandomForestClassifier\n",
    "from pyspark.ml.evaluation import MulticlassClassificationEvaluator\n",
    "\n",
    "spark = SparkSession.builder.getOrCreate()\n",
    "\n",
    "df = spark.read.csv('hotel_bookings.csv', header=True, inferSchema=True)\n",
    "#Fill na and nulls\n",
    "df = df.na.fill(\"\")\n",
    "df = df.na.fill(0)"
   ]
  },
  {
   "cell_type": "code",
   "execution_count": 2,
   "id": "e66728f6",
   "metadata": {},
   "outputs": [
    {
     "name": "stdout",
     "output_type": "stream",
     "text": [
      "root\n",
      " |-- hotel: string (nullable = false)\n",
      " |-- is_canceled: integer (nullable = true)\n",
      " |-- lead_time: integer (nullable = true)\n",
      " |-- arrival_date_year: integer (nullable = true)\n",
      " |-- arrival_date_month: string (nullable = false)\n",
      " |-- arrival_date_week_number: integer (nullable = true)\n",
      " |-- arrival_date_day_of_month: integer (nullable = true)\n",
      " |-- stays_in_weekend_nights: integer (nullable = true)\n",
      " |-- stays_in_week_nights: integer (nullable = true)\n",
      " |-- adults: integer (nullable = true)\n",
      " |-- children: string (nullable = false)\n",
      " |-- babies: integer (nullable = true)\n",
      " |-- meal: string (nullable = false)\n",
      " |-- country: string (nullable = false)\n",
      " |-- market_segment: string (nullable = false)\n",
      " |-- distribution_channel: string (nullable = false)\n",
      " |-- is_repeated_guest: integer (nullable = true)\n",
      " |-- previous_cancellations: integer (nullable = true)\n",
      " |-- previous_bookings_not_canceled: integer (nullable = true)\n",
      " |-- reserved_room_type: string (nullable = false)\n",
      " |-- assigned_room_type: string (nullable = false)\n",
      " |-- booking_changes: integer (nullable = true)\n",
      " |-- deposit_type: string (nullable = false)\n",
      " |-- agent: string (nullable = false)\n",
      " |-- company: string (nullable = false)\n",
      " |-- days_in_waiting_list: integer (nullable = true)\n",
      " |-- customer_type: string (nullable = false)\n",
      " |-- adr: double (nullable = false)\n",
      " |-- required_car_parking_spaces: integer (nullable = true)\n",
      " |-- total_of_special_requests: integer (nullable = true)\n",
      " |-- reservation_status: string (nullable = false)\n",
      " |-- reservation_status_date: string (nullable = false)\n",
      "\n"
     ]
    }
   ],
   "source": [
    "df.printSchema()"
   ]
  },
  {
   "cell_type": "code",
   "execution_count": 3,
   "id": "7cc565ff",
   "metadata": {},
   "outputs": [],
   "source": [
    "columns_to_index = ['arrival_date_month', 'meal', 'country', 'market_segment', 'distribution_channel', 'reserved_room_type', 'assigned_room_type', 'deposit_type', 'customer_type']\n",
    "indexers = [StringIndexer(inputCol=column, outputCol=column+\"_index\").fit(df) for column in columns_to_index ]\n",
    "pipeline = Pipeline(stages=indexers)\n",
    "df_r = pipeline.fit(df).transform(df)\n",
    "df_r=df_r.withColumn('children',df_r['children'].cast(\"integer\").alias('children'))"
   ]
  },
  {
   "cell_type": "code",
   "execution_count": 4,
   "id": "f0eccab6",
   "metadata": {},
   "outputs": [
    {
     "name": "stdout",
     "output_type": "stream",
     "text": [
      "root\n",
      " |-- hotel: string (nullable = false)\n",
      " |-- is_canceled: integer (nullable = true)\n",
      " |-- lead_time: integer (nullable = true)\n",
      " |-- arrival_date_year: integer (nullable = true)\n",
      " |-- arrival_date_month: string (nullable = false)\n",
      " |-- arrival_date_week_number: integer (nullable = true)\n",
      " |-- arrival_date_day_of_month: integer (nullable = true)\n",
      " |-- stays_in_weekend_nights: integer (nullable = true)\n",
      " |-- stays_in_week_nights: integer (nullable = true)\n",
      " |-- adults: integer (nullable = true)\n",
      " |-- children: integer (nullable = true)\n",
      " |-- babies: integer (nullable = true)\n",
      " |-- meal: string (nullable = false)\n",
      " |-- country: string (nullable = false)\n",
      " |-- market_segment: string (nullable = false)\n",
      " |-- distribution_channel: string (nullable = false)\n",
      " |-- is_repeated_guest: integer (nullable = true)\n",
      " |-- previous_cancellations: integer (nullable = true)\n",
      " |-- previous_bookings_not_canceled: integer (nullable = true)\n",
      " |-- reserved_room_type: string (nullable = false)\n",
      " |-- assigned_room_type: string (nullable = false)\n",
      " |-- booking_changes: integer (nullable = true)\n",
      " |-- deposit_type: string (nullable = false)\n",
      " |-- agent: string (nullable = false)\n",
      " |-- company: string (nullable = false)\n",
      " |-- days_in_waiting_list: integer (nullable = true)\n",
      " |-- customer_type: string (nullable = false)\n",
      " |-- adr: double (nullable = false)\n",
      " |-- required_car_parking_spaces: integer (nullable = true)\n",
      " |-- total_of_special_requests: integer (nullable = true)\n",
      " |-- reservation_status: string (nullable = false)\n",
      " |-- reservation_status_date: string (nullable = false)\n",
      " |-- arrival_date_month_index: double (nullable = false)\n",
      " |-- meal_index: double (nullable = false)\n",
      " |-- country_index: double (nullable = false)\n",
      " |-- market_segment_index: double (nullable = false)\n",
      " |-- distribution_channel_index: double (nullable = false)\n",
      " |-- reserved_room_type_index: double (nullable = false)\n",
      " |-- assigned_room_type_index: double (nullable = false)\n",
      " |-- deposit_type_index: double (nullable = false)\n",
      " |-- customer_type_index: double (nullable = false)\n",
      "\n"
     ]
    }
   ],
   "source": [
    "df_r.printSchema()"
   ]
  },
  {
   "cell_type": "code",
   "execution_count": 5,
   "id": "57dfa1f5",
   "metadata": {},
   "outputs": [],
   "source": [
    "df_r = df_r.drop(*columns_to_index)\n",
    "df_r = df_r.drop(\"hotel\",\"country_index\", \"company\", \"agent\" ,\"reservation_status\", \"reservation_status_date\", \"deposit_type_index\",\"customer_type_index\")"
   ]
  },
  {
   "cell_type": "code",
   "execution_count": 6,
   "id": "f6b9c26d",
   "metadata": {},
   "outputs": [
    {
     "name": "stdout",
     "output_type": "stream",
     "text": [
      "root\n",
      " |-- is_canceled: integer (nullable = true)\n",
      " |-- lead_time: integer (nullable = true)\n",
      " |-- arrival_date_year: integer (nullable = true)\n",
      " |-- arrival_date_week_number: integer (nullable = true)\n",
      " |-- arrival_date_day_of_month: integer (nullable = true)\n",
      " |-- stays_in_weekend_nights: integer (nullable = true)\n",
      " |-- stays_in_week_nights: integer (nullable = true)\n",
      " |-- adults: integer (nullable = true)\n",
      " |-- children: integer (nullable = true)\n",
      " |-- babies: integer (nullable = true)\n",
      " |-- is_repeated_guest: integer (nullable = true)\n",
      " |-- previous_cancellations: integer (nullable = true)\n",
      " |-- previous_bookings_not_canceled: integer (nullable = true)\n",
      " |-- booking_changes: integer (nullable = true)\n",
      " |-- days_in_waiting_list: integer (nullable = true)\n",
      " |-- adr: double (nullable = false)\n",
      " |-- required_car_parking_spaces: integer (nullable = true)\n",
      " |-- total_of_special_requests: integer (nullable = true)\n",
      " |-- arrival_date_month_index: double (nullable = false)\n",
      " |-- meal_index: double (nullable = false)\n",
      " |-- market_segment_index: double (nullable = false)\n",
      " |-- distribution_channel_index: double (nullable = false)\n",
      " |-- reserved_room_type_index: double (nullable = false)\n",
      " |-- assigned_room_type_index: double (nullable = false)\n",
      "\n"
     ]
    }
   ],
   "source": [
    "df_r.printSchema()"
   ]
  },
  {
   "cell_type": "code",
   "execution_count": 7,
   "id": "719f0829",
   "metadata": {},
   "outputs": [],
   "source": [
    "input_cols = list(set(df_r.columns)-set(['is_canceled']))\n"
   ]
  },
  {
   "cell_type": "code",
   "execution_count": 8,
   "id": "1c434392",
   "metadata": {},
   "outputs": [
    {
     "data": {
      "text/plain": [
       "['arrival_date_week_number',\n",
       " 'distribution_channel_index',\n",
       " 'babies',\n",
       " 'market_segment_index',\n",
       " 'stays_in_week_nights',\n",
       " 'previous_cancellations',\n",
       " 'reserved_room_type_index',\n",
       " 'is_repeated_guest',\n",
       " 'total_of_special_requests',\n",
       " 'required_car_parking_spaces',\n",
       " 'booking_changes',\n",
       " 'arrival_date_month_index',\n",
       " 'stays_in_weekend_nights',\n",
       " 'arrival_date_year',\n",
       " 'children',\n",
       " 'adults',\n",
       " 'days_in_waiting_list',\n",
       " 'meal_index',\n",
       " 'arrival_date_day_of_month',\n",
       " 'lead_time',\n",
       " 'previous_bookings_not_canceled',\n",
       " 'assigned_room_type_index',\n",
       " 'adr']"
      ]
     },
     "execution_count": 8,
     "metadata": {},
     "output_type": "execute_result"
    }
   ],
   "source": [
    "input_cols"
   ]
  },
  {
   "cell_type": "code",
   "execution_count": 9,
   "id": "6e5519b6",
   "metadata": {},
   "outputs": [
    {
     "name": "stdout",
     "output_type": "stream",
     "text": [
      "+-----------+---------+-----------------+------------------------+-------------------------+-----------------------+--------------------+------+--------+------+-----------------+----------------------+------------------------------+---------------+--------------------+---+---------------------------+-------------------------+------------------------+----------+--------------------+--------------------------+------------------------+------------------------+--------------------+\n",
      "|is_canceled|lead_time|arrival_date_year|arrival_date_week_number|arrival_date_day_of_month|stays_in_weekend_nights|stays_in_week_nights|adults|children|babies|is_repeated_guest|previous_cancellations|previous_bookings_not_canceled|booking_changes|days_in_waiting_list|adr|required_car_parking_spaces|total_of_special_requests|arrival_date_month_index|meal_index|market_segment_index|distribution_channel_index|reserved_room_type_index|assigned_room_type_index|            features|\n",
      "+-----------+---------+-----------------+------------------------+-------------------------+-----------------------+--------------------+------+--------+------+-----------------+----------------------+------------------------------+---------------+--------------------+---+---------------------------+-------------------------+------------------------+----------+--------------------+--------------------------+------------------------+------------------------+--------------------+\n",
      "|          0|      342|             2015|                      27|                        1|                      0|                   0|     2|       0|     0|                0|                     0|                             0|              3|                   0|0.0|                          0|                        0|                     1.0|       0.0|                 3.0|                       1.0|                     6.0|                     5.0|(23,[0,1,3,6,10,1...|\n",
      "+-----------+---------+-----------------+------------------------+-------------------------+-----------------------+--------------------+------+--------+------+-----------------+----------------------+------------------------------+---------------+--------------------+---+---------------------------+-------------------------+------------------------+----------+--------------------+--------------------------+------------------------+------------------------+--------------------+\n",
      "only showing top 1 row\n",
      "\n"
     ]
    }
   ],
   "source": [
    "vectorizer = VectorAssembler(inputCols=input_cols, outputCol='features')\n",
    "df_r = vectorizer.setHandleInvalid(\"keep\").transform(df_r)\n",
    "df_r.show(1)"
   ]
  },
  {
   "cell_type": "code",
   "execution_count": 10,
   "id": "b59b11ad",
   "metadata": {},
   "outputs": [],
   "source": [
    "df_train, df_test = df_r.randomSplit([0.8,0.2], seed = 0, )\n",
    "rf_clf = RandomForestClassifier(featuresCol='features', labelCol='is_canceled')\n",
    "rf_clf = rf_clf.fit(df_train)\n",
    "df_test = rf_clf.transform(df_test)\n",
    "df_test = df_test.select('features', 'is_canceled', 'rawPrediction', 'probability', 'prediction')\n",
    "\n",
    "criterion = MulticlassClassificationEvaluator(labelCol='is_canceled')\n",
    "acc = criterion.evaluate(df_test)"
   ]
  },
  {
   "cell_type": "code",
   "execution_count": 11,
   "id": "bc82a699",
   "metadata": {},
   "outputs": [
    {
     "name": "stdout",
     "output_type": "stream",
     "text": [
      "+-----+-----------+---------+-----------------+------------------+------------------------+-------------------------+-----------------------+--------------------+------+--------+------+----+-------+--------------+--------------------+-----------------+----------------------+------------------------------+------------------+------------------+---------------+------------+-----+-------+--------------------+-------------+---+---------------------------+-------------------------+------------------+-----------------------+\n",
      "|hotel|is_canceled|lead_time|arrival_date_year|arrival_date_month|arrival_date_week_number|arrival_date_day_of_month|stays_in_weekend_nights|stays_in_week_nights|adults|children|babies|meal|country|market_segment|distribution_channel|is_repeated_guest|previous_cancellations|previous_bookings_not_canceled|reserved_room_type|assigned_room_type|booking_changes|deposit_type|agent|company|days_in_waiting_list|customer_type|adr|required_car_parking_spaces|total_of_special_requests|reservation_status|reservation_status_date|\n",
      "+-----+-----------+---------+-----------------+------------------+------------------------+-------------------------+-----------------------+--------------------+------+--------+------+----+-------+--------------+--------------------+-----------------+----------------------+------------------------------+------------------+------------------+---------------+------------+-----+-------+--------------------+-------------+---+---------------------------+-------------------------+------------------+-----------------------+\n",
      "|    0|          0|        0|                0|                 0|                       0|                        0|                      0|                   0|     0|       0|     0|   0|      0|             0|                   0|                0|                     0|                             0|                 0|                 0|              0|           0|    0|      0|                   0|            0|  0|                          0|                        0|                 0|                      0|\n",
      "+-----+-----------+---------+-----------------+------------------+------------------------+-------------------------+-----------------------+--------------------+------+--------+------+----+-------+--------------+--------------------+-----------------+----------------------+------------------------------+------------------+------------------+---------------+------------+-----+-------+--------------------+-------------+---+---------------------------+-------------------------+------------------+-----------------------+\n",
      "\n"
     ]
    }
   ],
   "source": [
    "from pyspark.sql.functions import isnan, when, count, col\n",
    "\n",
    "df.select([count(when(isnan(c), c)).alias(c) for c in df.columns]).show()"
   ]
  },
  {
   "cell_type": "code",
   "execution_count": 12,
   "id": "325fe101",
   "metadata": {
    "scrolled": false
   },
   "outputs": [
    {
     "name": "stdout",
     "output_type": "stream",
     "text": [
      "is_canceled 2\n",
      "lead_time 479\n",
      "arrival_date_year 3\n",
      "arrival_date_week_number 53\n",
      "arrival_date_day_of_month 31\n",
      "stays_in_weekend_nights 17\n",
      "stays_in_week_nights 35\n",
      "adults 14\n",
      "children 6\n",
      "babies 5\n",
      "is_repeated_guest 2\n",
      "previous_cancellations 15\n",
      "previous_bookings_not_canceled 73\n",
      "booking_changes 21\n",
      "days_in_waiting_list 128\n",
      "adr 8879\n",
      "required_car_parking_spaces 5\n",
      "total_of_special_requests 6\n",
      "arrival_date_month_index 12\n",
      "meal_index 5\n",
      "market_segment_index 8\n",
      "distribution_channel_index 5\n",
      "reserved_room_type_index 10\n",
      "assigned_room_type_index 12\n",
      "features 84568\n"
     ]
    }
   ],
   "source": [
    "for c in df_r.columns:\n",
    "    print(c, df_r.select(c).distinct().count())"
   ]
  },
  {
   "cell_type": "code",
   "execution_count": 13,
   "id": "7eb9c2c0",
   "metadata": {},
   "outputs": [
    {
     "data": {
      "text/plain": [
       "0.7488295237125038"
      ]
     },
     "execution_count": 13,
     "metadata": {},
     "output_type": "execute_result"
    }
   ],
   "source": [
    "acc"
   ]
  },
  {
   "cell_type": "code",
   "execution_count": 16,
   "id": "a4c9b70e",
   "metadata": {},
   "outputs": [
    {
     "data": {
      "text/plain": [
       "119390"
      ]
     },
     "execution_count": 16,
     "metadata": {},
     "output_type": "execute_result"
    }
   ],
   "source": [
    "df_r.select('is_canceled').count()"
   ]
  },
  {
   "cell_type": "code",
   "execution_count": 17,
   "id": "972de08e",
   "metadata": {},
   "outputs": [
    {
     "name": "stdout",
     "output_type": "stream",
     "text": [
      "+-----------+-----+\n",
      "|is_canceled|count|\n",
      "+-----------+-----+\n",
      "|          1|44224|\n",
      "|          0|75166|\n",
      "+-----------+-----+\n",
      "\n"
     ]
    }
   ],
   "source": [
    "df_r.groupBy(\"is_canceled\").count().show()"
   ]
  },
  {
   "cell_type": "code",
   "execution_count": null,
   "id": "4068fd74",
   "metadata": {},
   "outputs": [],
   "source": []
  }
 ],
 "metadata": {
  "kernelspec": {
   "display_name": "Python 3 (ipykernel)",
   "language": "python",
   "name": "python3"
  },
  "language_info": {
   "codemirror_mode": {
    "name": "ipython",
    "version": 3
   },
   "file_extension": ".py",
   "mimetype": "text/x-python",
   "name": "python",
   "nbconvert_exporter": "python",
   "pygments_lexer": "ipython3",
   "version": "3.9.7"
  }
 },
 "nbformat": 4,
 "nbformat_minor": 5
}
