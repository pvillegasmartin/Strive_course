{
 "cells": [
  {
   "cell_type": "markdown",
   "metadata": {},
   "source": [
    "<div style=\"background:#222222; color:#ffffff; padding:20px\">\n",
    "    <h2 align=\"center\">Deep Learning Fundamentals</h2>\n",
    "    <h2 align=\"center\" style=\"color:#01ff84\">Multiclass Clasification: MNIST</h2>\n",
    "<div>"
   ]
  },
  {
   "cell_type": "markdown",
   "metadata": {},
   "source": [
    "## Imports"
   ]
  },
  {
   "cell_type": "code",
   "execution_count": 44,
   "metadata": {},
   "outputs": [],
   "source": [
    "%matplotlib inline\n",
    "%config InlineBackend.figure_format = 'retina'\n",
    "\n",
    "from collections import OrderedDict\n",
    "\n",
    "import numpy as np\n",
    "import matplotlib.pyplot as plt\n",
    "import time\n",
    "\n",
    "import torch\n",
    "from torch import nn\n",
    "from torch import optim\n",
    "import torch.nn.functional as F\n",
    "from torch.utils.data import Dataset, DataLoader\n",
    "import pandas as pd\n",
    "\n",
    "from torchvision import datasets, transforms"
   ]
  },
  {
   "cell_type": "markdown",
   "metadata": {},
   "source": [
    "## Auxliary plotting function"
   ]
  },
  {
   "cell_type": "code",
   "execution_count": 45,
   "metadata": {},
   "outputs": [],
   "source": [
    "# https://discuss.pytorch.org/t/view-classify-in-module-helper/30279/6\n",
    "\n",
    "def view_classify(img, ps):\n",
    "\n",
    "    ps = ps.data.numpy().squeeze()\n",
    "\n",
    "    fig, (ax1, ax2) = plt.subplots(figsize=(6,9), ncols=2)\n",
    "    ax1.imshow(img.resize_(1, 28, 28).numpy().squeeze())\n",
    "    ax1.axis('off')\n",
    "    ax2.barh(np.arange(10), ps)\n",
    "    ax2.set_aspect(0.1)\n",
    "    ax2.set_yticks(np.arange(10))\n",
    "    ax2.set_yticklabels(np.arange(10))\n",
    "    ax2.set_title('Class Probability')\n",
    "    ax2.set_xlim(0, 1.1)"
   ]
  },
  {
   "cell_type": "markdown",
   "metadata": {},
   "source": [
    "# Load MNIST Dataset\n",
    "First up, we need to get our dataset. This is provided through the `torchvision` package. The code below will download the MNIST dataset, then create training and test datasets for us. Don't worry too much about the details here, you'll learn more about this later."
   ]
  },
  {
   "cell_type": "code",
   "execution_count": 46,
   "metadata": {},
   "outputs": [],
   "source": [
    "class FashionDataset(Dataset):\n",
    "\n",
    "    def __init__(self, data, transform=None):\n",
    "\n",
    "        self.fashion_MNIST = list(data.values)\n",
    "        self.transform = transform\n",
    "\n",
    "        label = []\n",
    "        image = []\n",
    "\n",
    "        for i in self.fashion_MNIST:\n",
    "            label.append(i[0])\n",
    "            image.append(i[1:])\n",
    "\n",
    "        self.labels = np.asarray(label)\n",
    "        self.images = np.asarray(image).reshape(-1, 28, 28, 1).astype('float32')\n",
    "\n",
    "    def __getitem__(self, index):\n",
    "\n",
    "        label = self.labels[index]\n",
    "        image = self.images[index]\n",
    "\n",
    "        if self.transform is not None:\n",
    "            image = self.transform(image)\n",
    "\n",
    "        return image, label\n",
    "\n",
    "    def __len__(self):\n",
    "\n",
    "        return len(self.images)\n",
    "\n",
    "\n",
    "\n",
    "train_csv = pd.read_csv(r'C:\\Users\\Pablo\\Desktop\\STRIVE AI\\Deep-learning-challenge\\data\\fashion-mnist_train.csv')\n",
    "test_csv = pd.read_csv(r'C:\\Users\\Pablo\\Desktop\\STRIVE AI\\Deep-learning-challenge\\data\\fashion-mnist_test.csv')\n",
    "\n",
    "trainset = FashionDataset(train_csv, transform=transforms.Compose([transforms.ToTensor()]))\n",
    "testset = FashionDataset(test_csv, transform=transforms.Compose([transforms.ToTensor()]))\n",
    "\n",
    "trainloader = torch.utils.data.DataLoader(trainset, batch_size=100, shuffle=True)\n",
    "testloader = torch.utils.data.DataLoader(testset, batch_size=100, shuffle=True)"
   ]
  },
  {
   "cell_type": "code",
   "execution_count": 47,
   "metadata": {},
   "outputs": [],
   "source": [
    "dataiter = iter(trainloader)\n",
    "images, labels = dataiter.next()"
   ]
  },
  {
   "cell_type": "markdown",
   "metadata": {},
   "source": [
    "We have the training data loaded into `trainloader` and we make that an iterator with `iter(trainloader)`. We'd use this to loop through the dataset for training, but here I'm just grabbing the first batch so we can check out the data. We can see below that `images` is just a tensor with size (64, 1, 28, 28). So, 64 images per batch, 1 color channel, and 28x28 images."
   ]
  },
  {
   "cell_type": "code",
   "execution_count": 54,
   "metadata": {},
   "outputs": [
    {
     "data": {
      "image/png": "[encoded data removed]",
      "text/plain": [
       "<Figure size 432x288 with 1 Axes>"
      ]
     },
     "metadata": {
      "image/png": {
       "height": 248,
       "width": 251
      },
      "needs_background": "light"
     },
     "output_type": "display_data"
    }
   ],
   "source": [
    "plt.imshow(images[6].numpy().squeeze(), cmap='Greys_r');"
   ]
  },
  {
   "cell_type": "code",
   "execution_count": 33,
   "metadata": {},
   "outputs": [
    {
     "data": {
      "text/plain": [
       "Network(\n",
       "  (fc1): Linear(in_features=784, out_features=128, bias=True)\n",
       "  (fc2): Linear(in_features=128, out_features=64, bias=True)\n",
       "  (fc3): Linear(in_features=64, out_features=10, bias=True)\n",
       ")"
      ]
     },
     "execution_count": 33,
     "metadata": {},
     "output_type": "execute_result"
    }
   ],
   "source": [
    "class Network(nn.Module):\n",
    "    \n",
    "    # Defining the layers, 128, 64, 10 units each\n",
    "    def __init__(self):\n",
    "        super().__init__()\n",
    "        self.fc1 = nn.Linear(784, 128)\n",
    "        self.fc2 = nn.Linear(128, 64)\n",
    "        self.fc3 = nn.Linear(64, 10)\n",
    "        \n",
    "    # Forward pass through the network, returns the output logits\n",
    "    def forward(self, x):\n",
    "        x = self.fc1(x)\n",
    "        x = F.relu(x)\n",
    "        x = self.fc2(x)\n",
    "        x = F.relu(x)\n",
    "        x = self.fc3(x)\n",
    "        x = F.softmax(x, dim=1)\n",
    "        return x\n",
    "\n",
    "model = Network()\n",
    "model"
   ]
  },
  {
   "cell_type": "code",
   "execution_count": 34,
   "metadata": {},
   "outputs": [
    {
     "data": {
      "image/png": "[encoded data removed]",
      "text/plain": [
       "<Figure size 432x648 with 2 Axes>"
      ]
     },
     "metadata": {
      "image/png": {
       "height": 195,
       "width": 349
      },
      "needs_background": "light"
     },
     "output_type": "display_data"
    }
   ],
   "source": [
    "# Grab some data \n",
    "dataiter = iter(trainloader)\n",
    "images, labels = dataiter.next()\n",
    "\n",
    "# Resize images into a 1D vector, new shape is (batch size, color channels, image pixels) \n",
    "images.resize_(64, 1, 784)\n",
    "# or images.resize_(images.shape[0], 1, 784) to not automatically get batch size\n",
    "\n",
    "# Forward pass through the network\n",
    "img_idx = 0\n",
    "ps = model.forward(images[img_idx,:])\n",
    "\n",
    "img = images[img_idx]\n",
    "view_classify(img.view(1, 28, 28), ps)"
   ]
  },
  {
   "cell_type": "markdown",
   "metadata": {},
   "source": [
    "## Training the network!\n",
    "\n",
    "The first thing we need to do for training is define our loss function. In PyTorch, you'll usually see this as `criterion`. Here we're using softmax output, so we want to use `criterion = nn.CrossEntropyLoss()` as our loss. Later when training, you use `loss = criterion(output, targets)` to calculate the actual loss.\n",
    "\n",
    "We also need to define the optimizer we're using, SGD or Adam, or something along those lines. Here I'll just use SGD with `torch.optim.SGD`, passing in the network parameters and the learning rate."
   ]
  },
  {
   "cell_type": "code",
   "execution_count": 35,
   "metadata": {},
   "outputs": [],
   "source": [
    "criterion = nn.CrossEntropyLoss()\n",
    "optimizer = optim.SGD(model.parameters(), lr=0.01)"
   ]
  },
  {
   "cell_type": "code",
   "execution_count": 42,
   "metadata": {},
   "outputs": [
    {
     "name": "stdout",
     "output_type": "stream",
     "text": [
      "epoch 1 done: accuracy of 0.8216000199317932\n",
      "epoch 2 done: accuracy of 0.8206999897956848\n",
      "epoch 3 done: accuracy of 0.8216000199317932\n",
      "epoch 4 done: accuracy of 0.8206999897956848\n",
      "epoch 5 done: accuracy of 0.8197000026702881\n",
      "epoch 6 done: accuracy of 0.8217999935150146\n",
      "epoch 7 done: accuracy of 0.819599986076355\n",
      "epoch 8 done: accuracy of 0.8216000199317932\n",
      "epoch 9 done: accuracy of 0.8208000063896179\n",
      "epoch 10 done: accuracy of 0.820900022983551\n",
      "epoch 11 done: accuracy of 0.8206999897956848\n",
      "epoch 12 done: accuracy of 0.823199987411499\n",
      "epoch 13 done: accuracy of 0.820900022983551\n",
      "epoch 14 done: accuracy of 0.8220999836921692\n",
      "epoch 15 done: accuracy of 0.819100022315979\n",
      "epoch 16 done: accuracy of 0.819599986076355\n",
      "epoch 17 done: accuracy of 0.8205000162124634\n",
      "epoch 18 done: accuracy of 0.8213000297546387\n",
      "epoch 19 done: accuracy of 0.8217999935150146\n",
      "epoch 20 done: accuracy of 0.8188999891281128\n",
      "epoch 21 done: accuracy of 0.8205999732017517\n",
      "epoch 22 done: accuracy of 0.8206999897956848\n",
      "epoch 23 done: accuracy of 0.8195000290870667\n",
      "epoch 24 done: accuracy of 0.8195000290870667\n",
      "epoch 25 done: accuracy of 0.8173999786376953\n",
      "epoch 26 done: accuracy of 0.8206999897956848\n",
      "epoch 27 done: accuracy of 0.8198999762535095\n",
      "epoch 28 done: accuracy of 0.8206999897956848\n",
      "epoch 29 done: accuracy of 0.8219000101089478\n",
      "epoch 30 done: accuracy of 0.8215000033378601\n",
      "epoch 31 done: accuracy of 0.8216000199317932\n",
      "epoch 32 done: accuracy of 0.8206999897956848\n",
      "epoch 33 done: accuracy of 0.8228999972343445\n",
      "epoch 34 done: accuracy of 0.8206999897956848\n",
      "epoch 35 done: accuracy of 0.8201000094413757\n",
      "epoch 36 done: accuracy of 0.8205000162124634\n",
      "epoch 37 done: accuracy of 0.8227999806404114\n",
      "epoch 38 done: accuracy of 0.8188999891281128\n",
      "epoch 39 done: accuracy of 0.8202999830245972\n",
      "epoch 40 done: accuracy of 0.8213000297546387\n",
      "epoch 41 done: accuracy of 0.821399986743927\n",
      "epoch 42 done: accuracy of 0.8194000124931335\n",
      "epoch 43 done: accuracy of 0.8148000240325928\n",
      "epoch 44 done: accuracy of 0.8210999965667725\n",
      "epoch 45 done: accuracy of 0.8205000162124634\n",
      "epoch 46 done: accuracy of 0.8201000094413757\n",
      "epoch 47 done: accuracy of 0.8167999982833862\n",
      "epoch 48 done: accuracy of 0.8220000267028809\n",
      "epoch 49 done: accuracy of 0.8187000155448914\n",
      "epoch 50 done: accuracy of 0.8226000070571899\n",
      "epoch 51 done: accuracy of 0.8187000155448914\n",
      "epoch 52 done: accuracy of 0.8208000063896179\n",
      "epoch 53 done: accuracy of 0.8216000199317932\n",
      "epoch 54 done: accuracy of 0.8202999830245972\n",
      "epoch 55 done: accuracy of 0.821399986743927\n",
      "epoch 56 done: accuracy of 0.8219000101089478\n",
      "epoch 57 done: accuracy of 0.8219000101089478\n",
      "epoch 58 done: accuracy of 0.8205000162124634\n",
      "epoch 59 done: accuracy of 0.8205999732017517\n",
      "epoch 60 done: accuracy of 0.8177000284194946\n",
      "epoch 61 done: accuracy of 0.8151000142097473\n",
      "epoch 62 done: accuracy of 0.8222000002861023\n",
      "epoch 63 done: accuracy of 0.8198000192642212\n",
      "epoch 64 done: accuracy of 0.8197000026702881\n",
      "epoch 65 done: accuracy of 0.8195000290870667\n",
      "epoch 66 done: accuracy of 0.8202999830245972\n",
      "epoch 67 done: accuracy of 0.8205000162124634\n",
      "epoch 68 done: accuracy of 0.8190000057220459\n",
      "epoch 69 done: accuracy of 0.820900022983551\n",
      "epoch 70 done: accuracy of 0.8219000101089478\n",
      "epoch 71 done: accuracy of 0.8210999965667725\n",
      "epoch 72 done: accuracy of 0.8226000070571899\n",
      "epoch 73 done: accuracy of 0.8205000162124634\n",
      "epoch 74 done: accuracy of 0.8198999762535095\n",
      "epoch 75 done: accuracy of 0.8210999965667725\n",
      "epoch 76 done: accuracy of 0.8212000131607056\n",
      "epoch 77 done: accuracy of 0.8215000033378601\n",
      "epoch 78 done: accuracy of 0.8220999836921692\n",
      "epoch 79 done: accuracy of 0.8220000267028809\n",
      "epoch 80 done: accuracy of 0.821399986743927\n",
      "epoch 81 done: accuracy of 0.8209999799728394\n",
      "epoch 82 done: accuracy of 0.8219000101089478\n",
      "epoch 83 done: accuracy of 0.8210999965667725\n",
      "epoch 84 done: accuracy of 0.822700023651123\n",
      "epoch 85 done: accuracy of 0.8216000199317932\n",
      "epoch 86 done: accuracy of 0.8209999799728394\n",
      "epoch 87 done: accuracy of 0.8213000297546387\n",
      "epoch 88 done: accuracy of 0.8220000267028809\n",
      "epoch 89 done: accuracy of 0.819599986076355\n",
      "epoch 90 done: accuracy of 0.8216000199317932\n",
      "epoch 91 done: accuracy of 0.8177000284194946\n",
      "epoch 92 done: accuracy of 0.8217999935150146\n",
      "epoch 93 done: accuracy of 0.8202999830245972\n",
      "epoch 94 done: accuracy of 0.8206999897956848\n",
      "epoch 95 done: accuracy of 0.8212000131607056\n",
      "epoch 96 done: accuracy of 0.8205999732017517\n",
      "epoch 97 done: accuracy of 0.8198000192642212\n",
      "epoch 98 done: accuracy of 0.821399986743927\n",
      "epoch 99 done: accuracy of 0.8209999799728394\n",
      "epoch 100 done: accuracy of 0.8197000026702881\n"
     ]
    }
   ],
   "source": [
    "## TODO: Your training loop here\n",
    "epochs = 100\n",
    "optimizer = optim.SGD(model.parameters(), lr=0.003)\n",
    "\n",
    "\n",
    "for e in range(epochs):\n",
    "    for i, (images, labels) in enumerate(iter(trainloader)):\n",
    "        # Flatten MNIST images into a 784 long vector\n",
    "        images.resize_(images.size()[0], 784)\n",
    "        model.train()\n",
    "        optimizer.zero_grad()\n",
    "        output = model.forward(images)\n",
    "        loss = criterion(output, labels)\n",
    "        loss.backward()\n",
    "        optimizer.step()\n",
    "    model.eval()\n",
    "    with torch.no_grad():\n",
    "        correct = 0\n",
    "        total = 0\n",
    "        for i, (images, labels) in enumerate(iter(testloader)):\n",
    "            images.resize_(images.size()[0], 784)\n",
    "            test_output = model.forward(images)\n",
    "            pred_y = torch.max(test_output, 1)[1].data.squeeze()\n",
    "            correct += (pred_y == labels).float().sum()\n",
    "            total += len(labels)\n",
    "            accuracy = (pred_y == labels).sum().item() / float(labels.size(0))\n",
    "    print(f'epoch {e+1} done: accuracy of {(correct/total).float()}')\n",
    "    model.train()"
   ]
  },
  {
   "cell_type": "code",
   "execution_count": 40,
   "metadata": {},
   "outputs": [
    {
     "data": {
      "image/png": "[encoded data removed]",
      "text/plain": [
       "<Figure size 432x648 with 2 Axes>"
      ]
     },
     "metadata": {
      "image/png": {
       "height": 195,
       "width": 349
      },
      "needs_background": "light"
     },
     "output_type": "display_data"
    }
   ],
   "source": [
    "# Run this cell with your model to make sure it works and predicts well for the validation data\n",
    "images, labels = next(iter(testloader))\n",
    "images.resize_(images.shape[0], 1, 784)\n",
    "ps = model.forward(images[0,:])\n",
    "view_classify(images[0].view(1, 28, 28), ps)"
   ]
  },
  {
   "cell_type": "markdown",
   "metadata": {},
   "source": [
    "<div style=\"background:#222222; color:#ffffff; padding:20px\">\n",
    "  <h3 style=\"color:#01ff84; margin-top:4px\">Exercise 3:</h3>\n",
    "  <p>Write the code for adding <strong style=\"color:#01ff84\">Early Stopping with patience = 2</strong> to the training loop from scratch.</p>\n",
    "  <p><strong style=\"color:#01ff84\">Hint:</strong> Monitor the Validation loss every epoch, and if in 2 epochs, the validation loss does not improve, stop the training loop with <code>break</code>.</p>\n",
    "<div>"
   ]
  },
  {
   "cell_type": "code",
   "execution_count": 27,
   "metadata": {},
   "outputs": [
    {
     "name": "stdout",
     "output_type": "stream",
     "text": [
      "2.351 0\n",
      "epoch 1 and LR [0.1] done: accuracy of 0.09989999979734421\n",
      "2.311 0\n",
      "epoch 2 and LR [0.1] done: accuracy of 0.09989999979734421\n",
      "2.341 0\n",
      "epoch 3 and LR [0.1] done: accuracy of 0.09989999979734421\n",
      "2.341 0\n",
      "epoch 4 and LR [0.1] done: accuracy of 0.09989999979734421\n",
      "2.361 0\n",
      "epoch 5 and LR [0.1] done: accuracy of 0.09989999979734421\n",
      "2.311 0\n",
      "epoch 6 and LR [0.1] done: accuracy of 0.09989999979734421\n"
     ]
    },
    {
     "ename": "KeyboardInterrupt",
     "evalue": "",
     "output_type": "error",
     "traceback": [
      "\u001b[1;31m---------------------------------------------------------------------------\u001b[0m",
      "\u001b[1;31mKeyboardInterrupt\u001b[0m                         Traceback (most recent call last)",
      "\u001b[1;32m~\\AppData\\Local\\Temp/ipykernel_29316/4257977465.py\u001b[0m in \u001b[0;36m<module>\u001b[1;34m\u001b[0m\n\u001b[0;32m     14\u001b[0m         \u001b[0moutput\u001b[0m \u001b[1;33m=\u001b[0m \u001b[0mmodel\u001b[0m\u001b[1;33m.\u001b[0m\u001b[0mforward\u001b[0m\u001b[1;33m(\u001b[0m\u001b[0mimages\u001b[0m\u001b[1;33m)\u001b[0m\u001b[1;33m\u001b[0m\u001b[1;33m\u001b[0m\u001b[0m\n\u001b[0;32m     15\u001b[0m         \u001b[0mloss\u001b[0m \u001b[1;33m=\u001b[0m \u001b[0mcriterion\u001b[0m\u001b[1;33m(\u001b[0m\u001b[0moutput\u001b[0m\u001b[1;33m,\u001b[0m \u001b[0mlabels\u001b[0m\u001b[1;33m)\u001b[0m\u001b[1;33m\u001b[0m\u001b[1;33m\u001b[0m\u001b[0m\n\u001b[1;32m---> 16\u001b[1;33m         \u001b[0mloss\u001b[0m\u001b[1;33m.\u001b[0m\u001b[0mbackward\u001b[0m\u001b[1;33m(\u001b[0m\u001b[1;33m)\u001b[0m\u001b[1;33m\u001b[0m\u001b[1;33m\u001b[0m\u001b[0m\n\u001b[0m\u001b[0;32m     17\u001b[0m         \u001b[0moptimizer\u001b[0m\u001b[1;33m.\u001b[0m\u001b[0mstep\u001b[0m\u001b[1;33m(\u001b[0m\u001b[1;33m)\u001b[0m\u001b[1;33m\u001b[0m\u001b[1;33m\u001b[0m\u001b[0m\n\u001b[0;32m     18\u001b[0m     \u001b[0mprint\u001b[0m\u001b[1;33m(\u001b[0m\u001b[0mround\u001b[0m\u001b[1;33m(\u001b[0m\u001b[0mloss\u001b[0m\u001b[1;33m.\u001b[0m\u001b[0mitem\u001b[0m\u001b[1;33m(\u001b[0m\u001b[1;33m)\u001b[0m\u001b[1;33m,\u001b[0m\u001b[1;36m3\u001b[0m\u001b[1;33m)\u001b[0m\u001b[1;33m,\u001b[0m\u001b[0mloss_anterior\u001b[0m\u001b[1;33m)\u001b[0m\u001b[1;33m\u001b[0m\u001b[1;33m\u001b[0m\u001b[0m\n",
      "\u001b[1;32m~\\anaconda3\\envs\\Strive\\lib\\site-packages\\torch\\_tensor.py\u001b[0m in \u001b[0;36mbackward\u001b[1;34m(self, gradient, retain_graph, create_graph, inputs)\u001b[0m\n\u001b[0;32m    305\u001b[0m                 \u001b[0mcreate_graph\u001b[0m\u001b[1;33m=\u001b[0m\u001b[0mcreate_graph\u001b[0m\u001b[1;33m,\u001b[0m\u001b[1;33m\u001b[0m\u001b[1;33m\u001b[0m\u001b[0m\n\u001b[0;32m    306\u001b[0m                 inputs=inputs)\n\u001b[1;32m--> 307\u001b[1;33m         \u001b[0mtorch\u001b[0m\u001b[1;33m.\u001b[0m\u001b[0mautograd\u001b[0m\u001b[1;33m.\u001b[0m\u001b[0mbackward\u001b[0m\u001b[1;33m(\u001b[0m\u001b[0mself\u001b[0m\u001b[1;33m,\u001b[0m \u001b[0mgradient\u001b[0m\u001b[1;33m,\u001b[0m \u001b[0mretain_graph\u001b[0m\u001b[1;33m,\u001b[0m \u001b[0mcreate_graph\u001b[0m\u001b[1;33m,\u001b[0m \u001b[0minputs\u001b[0m\u001b[1;33m=\u001b[0m\u001b[0minputs\u001b[0m\u001b[1;33m)\u001b[0m\u001b[1;33m\u001b[0m\u001b[1;33m\u001b[0m\u001b[0m\n\u001b[0m\u001b[0;32m    308\u001b[0m \u001b[1;33m\u001b[0m\u001b[0m\n\u001b[0;32m    309\u001b[0m     \u001b[1;32mdef\u001b[0m \u001b[0mregister_hook\u001b[0m\u001b[1;33m(\u001b[0m\u001b[0mself\u001b[0m\u001b[1;33m,\u001b[0m \u001b[0mhook\u001b[0m\u001b[1;33m)\u001b[0m\u001b[1;33m:\u001b[0m\u001b[1;33m\u001b[0m\u001b[1;33m\u001b[0m\u001b[0m\n",
      "\u001b[1;32m~\\anaconda3\\envs\\Strive\\lib\\site-packages\\torch\\autograd\\__init__.py\u001b[0m in \u001b[0;36mbackward\u001b[1;34m(tensors, grad_tensors, retain_graph, create_graph, grad_variables, inputs)\u001b[0m\n\u001b[0;32m    152\u001b[0m         \u001b[0mretain_graph\u001b[0m \u001b[1;33m=\u001b[0m \u001b[0mcreate_graph\u001b[0m\u001b[1;33m\u001b[0m\u001b[1;33m\u001b[0m\u001b[0m\n\u001b[0;32m    153\u001b[0m \u001b[1;33m\u001b[0m\u001b[0m\n\u001b[1;32m--> 154\u001b[1;33m     Variable._execution_engine.run_backward(\n\u001b[0m\u001b[0;32m    155\u001b[0m         \u001b[0mtensors\u001b[0m\u001b[1;33m,\u001b[0m \u001b[0mgrad_tensors_\u001b[0m\u001b[1;33m,\u001b[0m \u001b[0mretain_graph\u001b[0m\u001b[1;33m,\u001b[0m \u001b[0mcreate_graph\u001b[0m\u001b[1;33m,\u001b[0m \u001b[0minputs\u001b[0m\u001b[1;33m,\u001b[0m\u001b[1;33m\u001b[0m\u001b[1;33m\u001b[0m\u001b[0m\n\u001b[0;32m    156\u001b[0m         allow_unreachable=True, accumulate_grad=True)  # allow_unreachable flag\n",
      "\u001b[1;31mKeyboardInterrupt\u001b[0m: "
     ]
    }
   ],
   "source": [
    "from torch.optim.lr_scheduler import StepLR\n",
    "## TODO: Your training loop here\n",
    "epochs = 100\n",
    "criterion = nn.CrossEntropyLoss()\n",
    "optimizer = optim.SGD(model.parameters(), lr=0.1)\n",
    "scheduler = StepLR(optimizer, step_size=20, gamma=0.1)\n",
    "loss_anterior = 0\n",
    "for e in range(epochs):\n",
    "    for i, (images, labels) in enumerate(iter(trainloader)):\n",
    "        # Flatten MNIST images into a 784 long vector\n",
    "        images.resize_(images.size()[0], 784)\n",
    "        model.train()\n",
    "        optimizer.zero_grad()\n",
    "        output = model.forward(images)\n",
    "        loss = criterion(output, labels)\n",
    "        loss.backward()\n",
    "        optimizer.step()\n",
    "    print(round(loss.item(),3),loss_anterior)\n",
    "    model.eval()\n",
    "    with torch.no_grad():\n",
    "        correct = 0\n",
    "        total = 0\n",
    "        for i, (images, labels) in enumerate(iter(testloader)):\n",
    "            images.resize_(images.size()[0], 784)\n",
    "            test_output = model.forward(images)\n",
    "            pred_y = torch.max(test_output, 1)[1].data.squeeze()\n",
    "            correct += (pred_y == labels).float().sum()\n",
    "            total += len(labels)\n",
    "            accuracy = (pred_y == labels).sum().item() / float(labels.size(0))\n",
    "    print(f'epoch {e+1} and LR {scheduler.get_last_lr()} done: accuracy of {(correct/total).float()}')\n",
    "    model.train()\n",
    "    scheduler.step()\n",
    "    epochs+=1\n",
    "    #if round(loss.item(),2) == loss_anterior:\n",
    "    #    break\n",
    "    #else:\n",
    "    #    loss_anterior = round(loss.item(),2)"
   ]
  },
  {
   "cell_type": "code",
   "execution_count": null,
   "metadata": {},
   "outputs": [],
   "source": []
  },
  {
   "cell_type": "code",
   "execution_count": null,
   "metadata": {},
   "outputs": [],
   "source": []
  }
 ],
 "metadata": {
  "kernelspec": {
   "display_name": "Python 3 (ipykernel)",
   "language": "python",
   "name": "python3"
  },
  "language_info": {
   "codemirror_mode": {
    "name": "ipython",
    "version": 3
   },
   "file_extension": ".py",
   "mimetype": "text/x-python",
   "name": "python",
   "nbconvert_exporter": "python",
   "pygments_lexer": "ipython3",
   "version": "3.8.11"
  }
 },
 "nbformat": 4,
 "nbformat_minor": 2
}
