{
 "cells": [
  {
   "cell_type": "code",
   "execution_count": 1,
   "metadata": {},
   "outputs": [],
   "source": [
    "from pandas_datareader import data\n",
    "import numpy as np\n",
    "import pandas as pd\n",
    "import matplotlib.pyplot as plt\n",
    "import torch\n",
    "import torch.nn as nn\n",
    "import torch.nn.functional as F\n",
    "import torch.optim as optim\n",
    "from torch.autograd import Variable\n",
    "from torch.utils.data import Dataset, DataLoader\n",
    "from torchvision import transforms, utils\n",
    "from torchvision.utils import save_image\n",
    "from torch.optim import lr_scheduler\n"
   ]
  },
  {
   "cell_type": "code",
   "execution_count": 2,
   "metadata": {},
   "outputs": [],
   "source": [
    "tickers  = ['SPY']"
   ]
  },
  {
   "cell_type": "code",
   "execution_count": 3,
   "metadata": {},
   "outputs": [],
   "source": [
    "spy = data.DataReader(tickers, \n",
    "                       start='2011-1-1', \n",
    "                       end='2021-07-31', \n",
    "                       data_source='yahoo')['Close']"
   ]
  },
  {
   "cell_type": "code",
   "execution_count": 4,
   "metadata": {},
   "outputs": [
    {
     "data": {
      "text/html": [
       "<div>\n",
       "<style scoped>\n",
       "    .dataframe tbody tr th:only-of-type {\n",
       "        vertical-align: middle;\n",
       "    }\n",
       "\n",
       "    .dataframe tbody tr th {\n",
       "        vertical-align: top;\n",
       "    }\n",
       "\n",
       "    .dataframe thead th {\n",
       "        text-align: right;\n",
       "    }\n",
       "</style>\n",
       "<table border=\"1\" class=\"dataframe\">\n",
       "  <thead>\n",
       "    <tr style=\"text-align: right;\">\n",
       "      <th>Symbols</th>\n",
       "      <th>SPY</th>\n",
       "    </tr>\n",
       "    <tr>\n",
       "      <th>Date</th>\n",
       "      <th></th>\n",
       "    </tr>\n",
       "  </thead>\n",
       "  <tbody>\n",
       "    <tr>\n",
       "      <th>2021-07-26</th>\n",
       "      <td>441.019989</td>\n",
       "    </tr>\n",
       "    <tr>\n",
       "      <th>2021-07-27</th>\n",
       "      <td>439.010010</td>\n",
       "    </tr>\n",
       "    <tr>\n",
       "      <th>2021-07-28</th>\n",
       "      <td>438.829987</td>\n",
       "    </tr>\n",
       "    <tr>\n",
       "      <th>2021-07-29</th>\n",
       "      <td>440.649994</td>\n",
       "    </tr>\n",
       "    <tr>\n",
       "      <th>2021-07-30</th>\n",
       "      <td>438.510010</td>\n",
       "    </tr>\n",
       "  </tbody>\n",
       "</table>\n",
       "</div>"
      ],
      "text/plain": [
       "Symbols            SPY\n",
       "Date                  \n",
       "2021-07-26  441.019989\n",
       "2021-07-27  439.010010\n",
       "2021-07-28  438.829987\n",
       "2021-07-29  440.649994\n",
       "2021-07-30  438.510010"
      ]
     },
     "execution_count": 4,
     "metadata": {},
     "output_type": "execute_result"
    }
   ],
   "source": [
    "df1 = pd.DataFrame(spy)\n",
    "df1.tail()"
   ]
  },
  {
   "cell_type": "code",
   "execution_count": 5,
   "metadata": {},
   "outputs": [],
   "source": [
    "df2 = df1.reset_index()"
   ]
  },
  {
   "cell_type": "code",
   "execution_count": 6,
   "metadata": {},
   "outputs": [],
   "source": [
    "from sklearn.preprocessing import MinMaxScaler\n",
    "scaler=MinMaxScaler(feature_range=(0,1))"
   ]
  },
  {
   "cell_type": "code",
   "execution_count": 7,
   "metadata": {},
   "outputs": [],
   "source": [
    "def split_data(stock, lookback):\n",
    "    data_raw = stock.to_numpy() # convert to numpy array\n",
    "    data = []\n",
    "    \n",
    "    # create all possible sequences of length seq_len\n",
    "    for index in range(len(data_raw) - lookback): \n",
    "        data.append(data_raw[index: index + lookback])\n",
    "    \n",
    "    data = np.array(data);\n",
    "    test_set_size = int(np.round(0.12*data.shape[0]));\n",
    "    train_set_size = data.shape[0] - (test_set_size);\n",
    "    \n",
    "    x_train = data[:train_set_size,:-1,:]\n",
    "    y_train = data[:train_set_size,-1,:]\n",
    "    \n",
    "    x_test = data[train_set_size:,:-1]\n",
    "    y_test = data[train_set_size:,-1,:]\n",
    "    \n",
    "    return [x_train, y_train, x_test, y_test]\n",
    "lookback = 30 # choose sequence length\n",
    "x_train, y_train, x_test, y_test = split_data(df1, lookback)"
   ]
  },
  {
   "cell_type": "code",
   "execution_count": 8,
   "metadata": {},
   "outputs": [
    {
     "data": {
      "text/plain": [
       "((2316, 29, 1), (2316, 1), (316, 29, 1), (316, 1))"
      ]
     },
     "execution_count": 8,
     "metadata": {},
     "output_type": "execute_result"
    }
   ],
   "source": [
    "x_train.shape, y_train.shape, x_test.shape, y_test.shape"
   ]
  },
  {
   "cell_type": "code",
   "execution_count": 9,
   "metadata": {},
   "outputs": [],
   "source": [
    "def scale():\n",
    "    X_train = scaler.fit_transform(x_train.reshape(-1,x_train.shape[-1])).reshape(x_train.shape)\n",
    "    X_test = scaler.transform(x_test.reshape(-1,x_test.shape[-1])).reshape(x_test.shape)\n",
    "    Y_train = scaler.fit_transform(y_train)\n",
    "    Y_test = scaler.transform(y_test)\n",
    "\n",
    "    return [X_train, Y_train, X_test, Y_test]\n",
    "X_train, Y_train, X_test, Y_test = scale()\n"
   ]
  },
  {
   "cell_type": "code",
   "execution_count": 10,
   "metadata": {},
   "outputs": [],
   "source": [
    "x_train = torch.from_numpy(X_train).type(torch.Tensor)\n",
    "x_test = torch.from_numpy(X_test).type(torch.Tensor)\n",
    "y_train = torch.from_numpy(Y_train).type(torch.Tensor)\n",
    "y_test = torch.from_numpy(Y_test).type(torch.Tensor)"
   ]
  },
  {
   "cell_type": "code",
   "execution_count": 11,
   "metadata": {},
   "outputs": [
    {
     "data": {
      "text/plain": [
       "(torch.Size([2316, 29, 1]),\n",
       " torch.Size([2316, 1]),\n",
       " torch.Size([316, 29, 1]),\n",
       " torch.Size([316, 1]))"
      ]
     },
     "execution_count": 11,
     "metadata": {},
     "output_type": "execute_result"
    }
   ],
   "source": [
    "x_train.shape, y_train.shape, x_test.shape, y_test.shape"
   ]
  },
  {
   "cell_type": "code",
   "execution_count": 12,
   "metadata": {},
   "outputs": [],
   "source": [
    "device = torch.device(\"cuda:0\" if torch.cuda.is_available() else \"cpu\")"
   ]
  },
  {
   "cell_type": "code",
   "execution_count": 13,
   "metadata": {},
   "outputs": [],
   "source": [
    "input_size = 1\n",
    "hidden_size = 32\n",
    "num_layers = 3\n",
    "output_size = 1\n",
    "num_epochs = 200"
   ]
  },
  {
   "cell_type": "code",
   "execution_count": 14,
   "metadata": {},
   "outputs": [],
   "source": [
    "class GRU(nn.Module):\n",
    "    def __init__(self, input_dim, hidden_dim, num_layers, output_dim):\n",
    "        super(GRU, self).__init__()\n",
    "        self.hidden_dim = hidden_dim\n",
    "        self.num_layers = num_layers\n",
    "        \n",
    "        self.gru = nn.GRU(input_dim, hidden_dim, num_layers, batch_first=True,dropout=0.1)\n",
    "        self.fc = nn.Linear(hidden_dim, output_dim)\n",
    "\n",
    "    def forward(self, x):\n",
    "        h0 = torch.zeros(self.num_layers, x.size(0), self.hidden_dim).requires_grad_()\n",
    "        out, (hn) = self.gru(x, (h0.detach()))\n",
    "        out = self.fc(out[:, -1, :]) \n",
    "        return out"
   ]
  },
  {
   "cell_type": "code",
   "execution_count": 15,
   "metadata": {},
   "outputs": [],
   "source": [
    "model = GRU(input_dim=input_size, hidden_dim=hidden_size, output_dim=output_size, num_layers=num_layers)\n",
    "criterion = torch.nn.MSELoss(reduction='mean')\n",
    "optimizer = torch.optim.Adam(model.parameters(), lr=0.01)\n",
    "scheduler = lr_scheduler.StepLR(optimizer, step_size=25, gamma=0.1)"
   ]
  },
  {
   "cell_type": "markdown",
   "metadata": {},
   "source": []
  },
  {
   "cell_type": "code",
   "execution_count": 16,
   "metadata": {},
   "outputs": [
    {
     "name": "stderr",
     "output_type": "stream",
     "text": [
      "C:\\Users\\pgsin\\anaconda3\\envs\\deeplearner\\lib\\site-packages\\torch\\optim\\lr_scheduler.py:123: UserWarning: Detected call of `lr_scheduler.step()` before `optimizer.step()`. In PyTorch 1.1.0 and later, you should call them in the opposite order: `optimizer.step()` before `lr_scheduler.step()`.  Failure to do this will result in PyTorch skipping the first value of the learning rate schedule. See more details at https://pytorch.org/docs/stable/optim.html#how-to-adjust-learning-rate\n",
      "  \"https://pytorch.org/docs/stable/optim.html#how-to-adjust-learning-rate\", UserWarning)\n"
     ]
    },
    {
     "name": "stdout",
     "output_type": "stream",
     "text": [
      "Epoch  0 MSE:  0.19497598707675934\n",
      "Epoch  1 MSE:  0.05791056901216507\n",
      "Epoch  2 MSE:  0.10005606710910797\n",
      "Epoch  3 MSE:  0.058893729001283646\n",
      "Epoch  4 MSE:  0.05961592495441437\n",
      "Epoch  5 MSE:  0.06726446002721786\n",
      "Epoch  6 MSE:  0.05975406989455223\n",
      "Epoch  7 MSE:  0.049345992505550385\n",
      "Epoch  8 MSE:  0.044741515070199966\n",
      "Epoch  9 MSE:  0.04571529105305672\n",
      "Epoch  10 MSE:  0.041023578494787216\n",
      "Epoch  11 MSE:  0.02997175045311451\n",
      "Epoch  12 MSE:  0.020709292963147163\n",
      "Epoch  13 MSE:  0.015160682611167431\n",
      "Epoch  14 MSE:  0.006615115329623222\n",
      "Epoch  15 MSE:  0.0020008685532957315\n",
      "Epoch  16 MSE:  0.01691645383834839\n",
      "Epoch  17 MSE:  0.010462777689099312\n",
      "Epoch  18 MSE:  0.00904362928122282\n",
      "Epoch  19 MSE:  0.003404888790100813\n",
      "Epoch  20 MSE:  0.001270841807126999\n",
      "Epoch  21 MSE:  0.003775689285248518\n",
      "Epoch  22 MSE:  0.006396971642971039\n",
      "Epoch  23 MSE:  0.006855627056211233\n",
      "Epoch  24 MSE:  0.00627099210396409\n",
      "Epoch  25 MSE:  0.006134538445621729\n",
      "Epoch  26 MSE:  0.0060694520361721516\n",
      "Epoch  27 MSE:  0.005760714877396822\n",
      "Epoch  28 MSE:  0.005485724192112684\n",
      "Epoch  29 MSE:  0.005155099555850029\n",
      "Epoch  30 MSE:  0.004798683803528547\n",
      "Epoch  31 MSE:  0.004319048952311277\n",
      "Epoch  32 MSE:  0.00396732147783041\n",
      "Epoch  33 MSE:  0.0035160910338163376\n",
      "Epoch  34 MSE:  0.003070169361308217\n",
      "Epoch  35 MSE:  0.002619409468024969\n",
      "Epoch  36 MSE:  0.002284146146848798\n",
      "Epoch  37 MSE:  0.0019108285196125507\n",
      "Epoch  38 MSE:  0.0016325382748618722\n",
      "Epoch  39 MSE:  0.0013185848947614431\n",
      "Epoch  40 MSE:  0.001175006735138595\n",
      "Epoch  41 MSE:  0.0008781663491390646\n",
      "Epoch  42 MSE:  0.0008159417775459588\n",
      "Epoch  43 MSE:  0.0007217907113954425\n",
      "Epoch  44 MSE:  0.0006460564327426255\n",
      "Epoch  45 MSE:  0.0006932674441486597\n",
      "Epoch  46 MSE:  0.0007060645148158073\n",
      "Epoch  47 MSE:  0.0007523683016188443\n",
      "Epoch  48 MSE:  0.0007899759220890701\n",
      "Epoch  49 MSE:  0.0008697042358107865\n",
      "Epoch  50 MSE:  0.0008873739861883223\n",
      "Epoch  51 MSE:  0.0008703102939762175\n",
      "Epoch  52 MSE:  0.0008676854777149856\n",
      "Epoch  53 MSE:  0.0008760473574511707\n",
      "Epoch  54 MSE:  0.0008779615163803101\n",
      "Epoch  55 MSE:  0.000888583657797426\n",
      "Epoch  56 MSE:  0.0008911542827263474\n",
      "Epoch  57 MSE:  0.000903676322195679\n",
      "Epoch  58 MSE:  0.0008808804559521377\n",
      "Epoch  59 MSE:  0.0008578436682000756\n",
      "Epoch  60 MSE:  0.0008791055297479033\n",
      "Epoch  61 MSE:  0.0009090192033909261\n",
      "Epoch  62 MSE:  0.0008704086649231613\n",
      "Epoch  63 MSE:  0.0008748990949243307\n",
      "Epoch  64 MSE:  0.0008558230474591255\n",
      "Epoch  65 MSE:  0.000840333173982799\n",
      "Epoch  66 MSE:  0.0008151523652486503\n",
      "Epoch  67 MSE:  0.0008429768495261669\n",
      "Epoch  68 MSE:  0.0008332790457643569\n",
      "Epoch  69 MSE:  0.0007900985074229538\n",
      "Epoch  70 MSE:  0.0008112562354654074\n",
      "Epoch  71 MSE:  0.0008133140509016812\n",
      "Epoch  72 MSE:  0.000834125850815326\n",
      "Epoch  73 MSE:  0.0007691279170103371\n",
      "Epoch  74 MSE:  0.0007954472093842924\n",
      "Epoch  75 MSE:  0.0007863569771870971\n",
      "Epoch  76 MSE:  0.0007987480494193733\n",
      "Epoch  77 MSE:  0.0007945428369566798\n",
      "Epoch  78 MSE:  0.0007911045686341822\n",
      "Epoch  79 MSE:  0.0007813579286448658\n",
      "Epoch  80 MSE:  0.0007831251714378595\n",
      "Epoch  81 MSE:  0.0007667734753340483\n",
      "Epoch  82 MSE:  0.0007629171013832092\n",
      "Epoch  83 MSE:  0.0007931329309940338\n",
      "Epoch  84 MSE:  0.0007930069114081562\n",
      "Epoch  85 MSE:  0.0007708328193984926\n",
      "Epoch  86 MSE:  0.0008040537359192967\n",
      "Epoch  87 MSE:  0.0007650566985830665\n",
      "Epoch  88 MSE:  0.0007685009622946382\n",
      "Epoch  89 MSE:  0.0007847083616070449\n",
      "Epoch  90 MSE:  0.0007855789735913277\n",
      "Epoch  91 MSE:  0.0007704830495640635\n",
      "Epoch  92 MSE:  0.000752532621845603\n",
      "Epoch  93 MSE:  0.0007680839044041932\n",
      "Epoch  94 MSE:  0.0007664719014428556\n",
      "Epoch  95 MSE:  0.0007564321858808398\n",
      "Epoch  96 MSE:  0.0007998697692528367\n",
      "Epoch  97 MSE:  0.0007739535649307072\n",
      "Epoch  98 MSE:  0.0007715935353189707\n",
      "Epoch  99 MSE:  0.0007406155345961452\n",
      "Epoch  100 MSE:  0.0008000310626812279\n",
      "Epoch  101 MSE:  0.0007840427570044994\n",
      "Epoch  102 MSE:  0.0008080553379841149\n",
      "Epoch  103 MSE:  0.0007841153419576585\n",
      "Epoch  104 MSE:  0.0008065506117418408\n",
      "Epoch  105 MSE:  0.0007234935183078051\n",
      "Epoch  106 MSE:  0.0007540233782492578\n",
      "Epoch  107 MSE:  0.0007764017209410667\n",
      "Epoch  108 MSE:  0.0007978474022820592\n",
      "Epoch  109 MSE:  0.0008126379107125103\n",
      "Epoch  110 MSE:  0.0007415926665998995\n",
      "Epoch  111 MSE:  0.0007809514063410461\n",
      "Epoch  112 MSE:  0.0007673533982597291\n",
      "Epoch  113 MSE:  0.0008049050229601562\n",
      "Epoch  114 MSE:  0.0007781022577546537\n",
      "Epoch  115 MSE:  0.0007721014553681016\n",
      "Epoch  116 MSE:  0.000717468443326652\n",
      "Epoch  117 MSE:  0.0007285491446964443\n",
      "Epoch  118 MSE:  0.0007541851373389363\n",
      "Epoch  119 MSE:  0.0007748945499770343\n",
      "Epoch  120 MSE:  0.0007886574603617191\n",
      "Epoch  121 MSE:  0.0007970890728756785\n",
      "Epoch  122 MSE:  0.0007634470239281654\n",
      "Epoch  123 MSE:  0.000761951319873333\n",
      "Epoch  124 MSE:  0.0007620207034051418\n",
      "Epoch  125 MSE:  0.0007708448683843017\n",
      "Epoch  126 MSE:  0.0007944247336126864\n",
      "Epoch  127 MSE:  0.0007713169325143099\n",
      "Epoch  128 MSE:  0.0007097574998624623\n",
      "Epoch  129 MSE:  0.0007305577164515853\n",
      "Epoch  130 MSE:  0.0007412955164909363\n",
      "Epoch  131 MSE:  0.0007663819123990834\n",
      "Epoch  132 MSE:  0.0007456543389707804\n",
      "Epoch  133 MSE:  0.00076287891715765\n",
      "Epoch  134 MSE:  0.0007879461627453566\n",
      "Epoch  135 MSE:  0.0007464327500201762\n",
      "Epoch  136 MSE:  0.0007453066064044833\n",
      "Epoch  137 MSE:  0.0007706598844379187\n",
      "Epoch  138 MSE:  0.0008006446296349168\n",
      "Epoch  139 MSE:  0.0007734898244962096\n",
      "Epoch  140 MSE:  0.0007710297941230237\n",
      "Epoch  141 MSE:  0.000745398981962353\n",
      "Epoch  142 MSE:  0.0007807585061527789\n",
      "Epoch  143 MSE:  0.0007901007193140686\n",
      "Epoch  144 MSE:  0.0007754793623462319\n",
      "Epoch  145 MSE:  0.0007804351043887436\n",
      "Epoch  146 MSE:  0.0007622292032465339\n",
      "Epoch  147 MSE:  0.0007579983794130385\n",
      "Epoch  148 MSE:  0.0007532488671131432\n",
      "Epoch  149 MSE:  0.000726608675904572\n",
      "Epoch  150 MSE:  0.0007555244374088943\n",
      "Epoch  151 MSE:  0.0007613192428834736\n",
      "Epoch  152 MSE:  0.0007602666737511754\n",
      "Epoch  153 MSE:  0.0007495161844417453\n",
      "Epoch  154 MSE:  0.0007781976601108909\n",
      "Epoch  155 MSE:  0.0007723849848844111\n",
      "Epoch  156 MSE:  0.000790384947322309\n",
      "Epoch  157 MSE:  0.0007827588124200702\n",
      "Epoch  158 MSE:  0.0007678273250348866\n",
      "Epoch  159 MSE:  0.0007558421930298209\n",
      "Epoch  160 MSE:  0.0007617842638865113\n",
      "Epoch  161 MSE:  0.0007497786427848041\n",
      "Epoch  162 MSE:  0.000768145895563066\n",
      "Epoch  163 MSE:  0.0008273939020000398\n",
      "Epoch  164 MSE:  0.0008044656715355814\n",
      "Epoch  165 MSE:  0.0007926163380034268\n",
      "Epoch  166 MSE:  0.0007450542761944234\n",
      "Epoch  167 MSE:  0.0007789155351929367\n",
      "Epoch  168 MSE:  0.0007566389394924045\n",
      "Epoch  169 MSE:  0.0007728294003754854\n",
      "Epoch  170 MSE:  0.0007695982349105179\n",
      "Epoch  171 MSE:  0.0007966469274833798\n",
      "Epoch  172 MSE:  0.0007752505480311811\n",
      "Epoch  173 MSE:  0.0007460369379259646\n",
      "Epoch  174 MSE:  0.0007817632867954671\n",
      "Epoch  175 MSE:  0.0007839422323741019\n",
      "Epoch  176 MSE:  0.0007999541703611612\n",
      "Epoch  177 MSE:  0.0007708683842793107\n",
      "Epoch  178 MSE:  0.000749036727938801\n",
      "Epoch  179 MSE:  0.0007374435663223267\n",
      "Epoch  180 MSE:  0.000777068140450865\n",
      "Epoch  181 MSE:  0.0007909947307780385\n",
      "Epoch  182 MSE:  0.0007937875925563276\n",
      "Epoch  183 MSE:  0.0007941026706248522\n",
      "Epoch  184 MSE:  0.0007723900489509106\n",
      "Epoch  185 MSE:  0.0007463404326699674\n",
      "Epoch  186 MSE:  0.0007588217849843204\n",
      "Epoch  187 MSE:  0.0007582561811432242\n",
      "Epoch  188 MSE:  0.0007862735074013472\n",
      "Epoch  189 MSE:  0.0007744589238427579\n",
      "Epoch  190 MSE:  0.0007764499168843031\n",
      "Epoch  191 MSE:  0.0007461269269697368\n",
      "Epoch  192 MSE:  0.0007589265587739646\n",
      "Epoch  193 MSE:  0.0007909443811513484\n",
      "Epoch  194 MSE:  0.0007781624444760382\n",
      "Epoch  195 MSE:  0.0007618857780471444\n",
      "Epoch  196 MSE:  0.0007605834980495274\n",
      "Epoch  197 MSE:  0.0007717972621321678\n",
      "Epoch  198 MSE:  0.0007907594554126263\n",
      "Epoch  199 MSE:  0.0007344919140450656\n",
      "Training time: 124.83811044692993\n"
     ]
    }
   ],
   "source": [
    "import time\n",
    "hist = np.zeros(num_epochs)\n",
    "t_hist = np.zeros(num_epochs)\n",
    "start_time = time.time()\n",
    "lstm = []\n",
    "for t in range(num_epochs):\n",
    "\n",
    "    # make predictions\n",
    "    model.train()\n",
    "    scheduler.step()\n",
    "    y_train_pred = model(x_train)\n",
    "   # print(y_train_pred.shape)\n",
    "    loss = criterion(y_train_pred, y_train)\n",
    "    print(\"Epoch \", t, \"MSE: \", loss.item())\n",
    "    hist[t] = loss.item()\n",
    "    optimizer.zero_grad()\n",
    "    loss.backward()\n",
    "    optimizer.step()\n",
    "\n",
    "    with torch.no_grad():\n",
    "        model.eval()\n",
    "    \n",
    "        y_test_pred = model(x_test)\n",
    "        #print(y_test_pred.shape)\n",
    "        loss_eval = criterion(y_test_pred, y_test)\n",
    "        #print(\"Epoch \", t, \"MSE: \", loss.item())\n",
    "        t_hist[t] = loss_eval.item()\n",
    "    \n",
    "training_time = time.time()-start_time\n",
    "print(\"Training time: {}\".format(training_time))"
   ]
  },
  {
   "cell_type": "code",
   "execution_count": 17,
   "metadata": {},
   "outputs": [
    {
     "data": {
      "text/plain": [
       "(0.0006460564327426255,\n",
       " 0.19497598707675934,\n",
       " 0.005509876664436888,\n",
       " 0.01887271656514338)"
      ]
     },
     "execution_count": 17,
     "metadata": {},
     "output_type": "execute_result"
    }
   ],
   "source": [
    "hist.min(), hist.max(), hist.mean(), hist.std()"
   ]
  },
  {
   "cell_type": "code",
   "execution_count": 18,
   "metadata": {},
   "outputs": [],
   "source": [
    "predict = pd.DataFrame(scaler.inverse_transform(y_train_pred.detach().numpy()))\n"
   ]
  },
  {
   "cell_type": "code",
   "execution_count": 19,
   "metadata": {},
   "outputs": [],
   "source": [
    "original = pd.DataFrame(scaler.inverse_transform(y_train.detach().numpy()))"
   ]
  },
  {
   "cell_type": "code",
   "execution_count": 20,
   "metadata": {},
   "outputs": [
    {
     "name": "stderr",
     "output_type": "stream",
     "text": [
      "C:\\Users\\pgsin\\anaconda3\\envs\\deeplearner\\lib\\site-packages\\seaborn\\relational.py:436: MatplotlibDeprecationWarning: Case-insensitive properties were deprecated in 3.3 and support will be removed two minor releases later\n",
      "  scout, = ax.plot([], [], **kws)\n",
      "C:\\Users\\pgsin\\anaconda3\\envs\\deeplearner\\lib\\site-packages\\seaborn\\relational.py:514: MatplotlibDeprecationWarning: Case-insensitive properties were deprecated in 3.3 and support will be removed two minor releases later\n",
      "  line, = ax.plot([], [], **kws)\n",
      "C:\\Users\\pgsin\\anaconda3\\envs\\deeplearner\\lib\\site-packages\\seaborn\\relational.py:529: MatplotlibDeprecationWarning: Case-insensitive properties were deprecated in 3.3 and support will be removed two minor releases later\n",
      "  line, = ax.plot(x, y, **kws)\n",
      "C:\\Users\\pgsin\\anaconda3\\envs\\deeplearner\\lib\\site-packages\\seaborn\\relational.py:436: MatplotlibDeprecationWarning: Case-insensitive properties were deprecated in 3.3 and support will be removed two minor releases later\n",
      "  scout, = ax.plot([], [], **kws)\n",
      "C:\\Users\\pgsin\\anaconda3\\envs\\deeplearner\\lib\\site-packages\\seaborn\\relational.py:514: MatplotlibDeprecationWarning: Case-insensitive properties were deprecated in 3.3 and support will be removed two minor releases later\n",
      "  line, = ax.plot([], [], **kws)\n",
      "C:\\Users\\pgsin\\anaconda3\\envs\\deeplearner\\lib\\site-packages\\seaborn\\relational.py:529: MatplotlibDeprecationWarning: Case-insensitive properties were deprecated in 3.3 and support will be removed two minor releases later\n",
      "  line, = ax.plot(x, y, **kws)\n"
     ]
    },
    {
     "data": {
      "text/plain": [
       "Text(0.5, 1.0, ' GRU Loss')"
      ]
     },
     "execution_count": 20,
     "metadata": {},
     "output_type": "execute_result"
    },
    {
     "data": {
      "image/png": "[encoded data removed]",
      "text/plain": [
       "<Figure size 720x576 with 1 Axes>"
      ]
     },
     "metadata": {},
     "output_type": "display_data"
    }
   ],
   "source": [
    "import seaborn as sns\n",
    "sns.set_style(\"darkgrid\")    \n",
    "\n",
    "fig = plt.figure(figsize=(10,8))\n",
    "#fig.subplots_adjust(hspace=0.2, wspace=0.2)\n",
    "\n",
    "# plt.subplot(1, 3, 1)\n",
    "# ax = sns.lineplot(x = original.index, y = original[0], label=\"Data\", color='royalblue')\n",
    "# ax = sns.lineplot(x = predict.index, y = predict[0], label=\"Training Prediction (GRU)\", color='tomato', alpha=0.5)\n",
    "# ax.set_title('Stock price', size = 14, fontweight='bold')\n",
    "# ax.set_xlabel(\"Days\", size = 14)\n",
    "# ax.set_ylabel(\"Cost (USD)\", size = 14)\n",
    "# ax.set_xticklabels('', size=10)\n",
    "\n",
    "\n",
    "ax = sns.lineplot(data=hist, color='royalblue',Label='Training Loss')\n",
    "ax = sns.lineplot(data=t_hist, color='orange',Label='Test Loss')\n",
    "ax.set_xlabel(\"Epoch\", size = 14)\n",
    "ax.set_ylabel(\"Loss\", size = 14)\n",
    "ax.set_title(\" GRU Loss\", size = 14, fontweight='bold')\n",
    "# fig.set_figheight(6)\n",
    "# fig.set_figwidth(16)\n",
    "\n",
    "# plt.subplot(1, 3, 3)\n",
    "# ax = sns.lineplot(data=t_hist, color='royalblue')\n",
    "# ax.set_xlabel(\"Epoch\", size = 14)\n",
    "# ax.set_ylabel(\"Loss\", size = 14)\n",
    "# ax.set_title(\"Test Loss\", size = 14, fontweight='bold')\n",
    "# fig.set_figheight(6)\n",
    "# fig.set_figwidth(16)\n",
    "\n"
   ]
  },
  {
   "cell_type": "code",
   "execution_count": 21,
   "metadata": {},
   "outputs": [
    {
     "name": "stdout",
     "output_type": "stream",
     "text": [
      "Train Score: 6.19 RMSE\n",
      "Test Score: 32.38 RMSE\n"
     ]
    }
   ],
   "source": [
    "import math, time\n",
    "from sklearn.metrics import mean_squared_error\n",
    "\n",
    "# make predictions\n",
    "y_test_pred = model(x_test)\n",
    "\n",
    "\n",
    "# invert predictions\n",
    "y_train_pred = scaler.inverse_transform(y_train_pred.detach().numpy())\n",
    "y_train = scaler.inverse_transform(y_train.detach().numpy())\n",
    "y_test_pred = scaler.inverse_transform(y_test_pred.detach().numpy())\n",
    "y_test = scaler.inverse_transform(y_test.detach().numpy())\n",
    "\n",
    "# calculate root mean squared error\n",
    "trainScore = math.sqrt(mean_squared_error(y_train[:,0], y_train_pred[:,0]))\n",
    "print('Train Score: %.2f RMSE' % (trainScore))\n",
    "testScore = math.sqrt(mean_squared_error(y_test[:,0], y_test_pred[:,0]))\n",
    "print('Test Score: %.2f RMSE' % (testScore))\n",
    "lstm.append(trainScore)\n",
    "lstm.append(testScore)\n",
    "lstm.append(training_time)"
   ]
  },
  {
   "cell_type": "code",
   "execution_count": 22,
   "metadata": {},
   "outputs": [],
   "source": [
    "yt = pd.DataFrame(y_test_pred)\n",
    "exp = pd.concat([predict, yt])\n",
    "exp.to_csv('gru_pred_spy_covid.csv')"
   ]
  },
  {
   "cell_type": "code",
   "execution_count": 23,
   "metadata": {},
   "outputs": [],
   "source": [
    "# shift train predictions for plotting\n",
    "trainPredictPlot = np.empty_like(df1)\n",
    "trainPredictPlot[:, :] = np.nan\n",
    "trainPredictPlot[lookback:len(y_train_pred)+lookback, :] = y_train_pred\n",
    "\n",
    "# shift test predictions for plotting\n",
    "testPredictPlot = np.empty_like(df1)\n",
    "testPredictPlot[:, :] = np.nan\n",
    "testPredictPlot[len(y_train_pred)+lookback-1:len(df1)-1, :] = y_test_pred\n",
    "\n",
    "originals = df1.SPY.values.reshape(-1,1)\n",
    "\n",
    "predictions = np.append(trainPredictPlot, testPredictPlot, axis=1)\n",
    "predictions = np.append(predictions, originals, axis=1)\n",
    "\n",
    "result = pd.DataFrame(predictions)\n",
    "result = pd.concat([df2.Date, result], axis=1)\n",
    "result.to_csv('GRU_predictions_covid.csv')\t"
   ]
  },
  {
   "cell_type": "code",
   "execution_count": 24,
   "metadata": {},
   "outputs": [],
   "source": [
    "error = []\n",
    "for i in range(len(y_test_pred)):\n",
    "    error.append(y_test_pred[i]-y_test[i])\n",
    "error = np.array(error)"
   ]
  },
  {
   "cell_type": "code",
   "execution_count": 25,
   "metadata": {},
   "outputs": [
    {
     "data": {
      "image/png": "[encoded data removed]",
      "text/plain": [
       "<Figure size 432x288 with 1 Axes>"
      ]
     },
     "metadata": {},
     "output_type": "display_data"
    }
   ],
   "source": [
    "plt.scatter(y_test_pred, error)\n",
    "plt.xlabel('Price Predictions')\n",
    "plt.ylabel('Error')\n",
    "plt.title('Error values on test data of SPY')\n",
    "plt.show()"
   ]
  },
  {
   "cell_type": "code",
   "execution_count": 26,
   "metadata": {},
   "outputs": [
    {
     "data": {
      "image/png": "[encoded data removed]",
      "text/plain": [
       "<Figure size 401.625x360 with 1 Axes>"
      ]
     },
     "metadata": {},
     "output_type": "display_data"
    }
   ],
   "source": [
    "sns.displot(error, kde =True)\n",
    "plt.xlabel('Error')\n",
    "plt.ylabel('Frequency')\n",
    "plt.title('GRU Error values on test data of SPY')\n",
    "plt.show()\n"
   ]
  },
  {
   "cell_type": "code",
   "execution_count": 27,
   "metadata": {},
   "outputs": [
    {
     "data": {
      "text/plain": [
       "-25.97074"
      ]
     },
     "execution_count": 27,
     "metadata": {},
     "output_type": "execute_result"
    }
   ],
   "source": [
    "error.mean()\n"
   ]
  },
  {
   "cell_type": "code",
   "execution_count": 28,
   "metadata": {},
   "outputs": [
    {
     "data": {
      "text/plain": [
       "76.27826"
      ]
     },
     "execution_count": 28,
     "metadata": {},
     "output_type": "execute_result"
    }
   ],
   "source": [
    "error.max() - error.min()   "
   ]
  },
  {
   "cell_type": "code",
   "execution_count": null,
   "metadata": {},
   "outputs": [],
   "source": []
  }
 ],
 "metadata": {
  "interpreter": {
   "hash": "50a93f2fecfd00da27f8930a2c1c74e92db967b2162384b3e8848f4306dc0d4b"
  },
  "kernelspec": {
   "display_name": "Python 3.7.10 64-bit ('deeplearner': conda)",
   "name": "python3"
  },
  "language_info": {
   "codemirror_mode": {
    "name": "ipython",
    "version": 3
   },
   "file_extension": ".py",
   "mimetype": "text/x-python",
   "name": "python",
   "nbconvert_exporter": "python",
   "pygments_lexer": "ipython3",
   "version": "3.7.10"
  },
  "orig_nbformat": 4
 },
 "nbformat": 4,
 "nbformat_minor": 2
}
