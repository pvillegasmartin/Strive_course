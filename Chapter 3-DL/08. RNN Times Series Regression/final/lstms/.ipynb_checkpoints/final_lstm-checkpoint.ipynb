{
 "cells": [
  {
   "cell_type": "code",
   "execution_count": 1,
   "metadata": {},
   "outputs": [],
   "source": [
    "from pandas_datareader import data\n",
    "import numpy as np\n",
    "import pandas as pd\n",
    "import matplotlib.pyplot as plt\n",
    "import torch\n",
    "import torch.nn as nn\n",
    "import torch.nn.functional as F\n",
    "import torch.optim as optim\n",
    "from torch.autograd import Variable\n",
    "from torch.utils.data import Dataset, DataLoader\n",
    "from torchvision import transforms, utils\n",
    "from torchvision.utils import save_image\n",
    "from torch.optim import lr_scheduler\n"
   ]
  },
  {
   "cell_type": "code",
   "execution_count": 2,
   "metadata": {},
   "outputs": [],
   "source": [
    "tickers  = ['SPY']"
   ]
  },
  {
   "cell_type": "code",
   "execution_count": 3,
   "metadata": {},
   "outputs": [],
   "source": [
    "spy = data.DataReader(tickers, \n",
    "                       start='2011-1-1', \n",
    "                       end='2021-07-31', \n",
    "                       data_source='yahoo')['Close']"
   ]
  },
  {
   "cell_type": "code",
   "execution_count": 4,
   "metadata": {},
   "outputs": [
    {
     "data": {
      "text/html": [
       "<div>\n",
       "<style scoped>\n",
       "    .dataframe tbody tr th:only-of-type {\n",
       "        vertical-align: middle;\n",
       "    }\n",
       "\n",
       "    .dataframe tbody tr th {\n",
       "        vertical-align: top;\n",
       "    }\n",
       "\n",
       "    .dataframe thead th {\n",
       "        text-align: right;\n",
       "    }\n",
       "</style>\n",
       "<table border=\"1\" class=\"dataframe\">\n",
       "  <thead>\n",
       "    <tr style=\"text-align: right;\">\n",
       "      <th>Symbols</th>\n",
       "      <th>SPY</th>\n",
       "    </tr>\n",
       "    <tr>\n",
       "      <th>Date</th>\n",
       "      <th></th>\n",
       "    </tr>\n",
       "  </thead>\n",
       "  <tbody>\n",
       "    <tr>\n",
       "      <th>2021-07-26</th>\n",
       "      <td>441.019989</td>\n",
       "    </tr>\n",
       "    <tr>\n",
       "      <th>2021-07-27</th>\n",
       "      <td>439.010010</td>\n",
       "    </tr>\n",
       "    <tr>\n",
       "      <th>2021-07-28</th>\n",
       "      <td>438.829987</td>\n",
       "    </tr>\n",
       "    <tr>\n",
       "      <th>2021-07-29</th>\n",
       "      <td>440.649994</td>\n",
       "    </tr>\n",
       "    <tr>\n",
       "      <th>2021-07-30</th>\n",
       "      <td>438.510010</td>\n",
       "    </tr>\n",
       "  </tbody>\n",
       "</table>\n",
       "</div>"
      ],
      "text/plain": [
       "Symbols            SPY\n",
       "Date                  \n",
       "2021-07-26  441.019989\n",
       "2021-07-27  439.010010\n",
       "2021-07-28  438.829987\n",
       "2021-07-29  440.649994\n",
       "2021-07-30  438.510010"
      ]
     },
     "execution_count": 4,
     "metadata": {},
     "output_type": "execute_result"
    }
   ],
   "source": [
    "df1 = pd.DataFrame(spy)\n",
    "df1.tail()"
   ]
  },
  {
   "cell_type": "code",
   "execution_count": 5,
   "metadata": {},
   "outputs": [
    {
     "data": {
      "text/plain": [
       "(2662, 1)"
      ]
     },
     "execution_count": 5,
     "metadata": {},
     "output_type": "execute_result"
    }
   ],
   "source": [
    "df1.shape"
   ]
  },
  {
   "cell_type": "code",
   "execution_count": 6,
   "metadata": {},
   "outputs": [],
   "source": [
    "df2 = df1.reset_index()"
   ]
  },
  {
   "cell_type": "code",
   "execution_count": 7,
   "metadata": {},
   "outputs": [],
   "source": [
    "from sklearn.preprocessing import MinMaxScaler\n",
    "scaler=MinMaxScaler(feature_range=(0,1))"
   ]
  },
  {
   "cell_type": "code",
   "execution_count": 8,
   "metadata": {},
   "outputs": [],
   "source": [
    "def split_data(stock, lookback):\n",
    "    data_raw = stock.to_numpy() # convert to numpy array\n",
    "    data = []\n",
    "    \n",
    "    # create all possible sequences of length seq_len\n",
    "    for index in range(len(data_raw) - lookback): \n",
    "        data.append(data_raw[index: index + lookback])\n",
    "    \n",
    "    data = np.array(data);\n",
    "    test_set_size = int(np.round(0.15*data.shape[0]));\n",
    "    train_set_size = data.shape[0] - (test_set_size);\n",
    "    \n",
    "    x_train = data[:train_set_size,:-1,:]\n",
    "    y_train = data[:train_set_size,-1,:]\n",
    "    \n",
    "    x_test = data[train_set_size:,:-1]\n",
    "    y_test = data[train_set_size:,-1,:]\n",
    "    \n",
    "    return [x_train, y_train, x_test, y_test]\n",
    "lookback = 30 # choose sequence length\n",
    "x_train, y_train, x_test, y_test = split_data(df1, lookback)"
   ]
  },
  {
   "cell_type": "code",
   "execution_count": 9,
   "metadata": {},
   "outputs": [
    {
     "data": {
      "text/plain": [
       "((2237, 29, 1), (2237, 1), (395, 29, 1), (395, 1))"
      ]
     },
     "execution_count": 9,
     "metadata": {},
     "output_type": "execute_result"
    }
   ],
   "source": [
    "x_train.shape, y_train.shape, x_test.shape, y_test.shape"
   ]
  },
  {
   "cell_type": "code",
   "execution_count": 10,
   "metadata": {},
   "outputs": [],
   "source": [
    "def scale():\n",
    "    X_train = scaler.fit_transform(x_train.reshape(-1,x_train.shape[-1])).reshape(x_train.shape)\n",
    "    X_test = scaler.transform(x_test.reshape(-1,x_test.shape[-1])).reshape(x_test.shape)\n",
    "    Y_train = scaler.fit_transform(y_train)\n",
    "    Y_test = scaler.transform(y_test)\n",
    "\n",
    "    return [X_train, Y_train, X_test, Y_test]\n",
    "X_train, Y_train, X_test, Y_test = scale()\n"
   ]
  },
  {
   "cell_type": "code",
   "execution_count": 11,
   "metadata": {},
   "outputs": [],
   "source": [
    "x_train = torch.from_numpy(X_train).type(torch.Tensor)\n",
    "x_test = torch.from_numpy(X_test).type(torch.Tensor)\n",
    "y_train = torch.from_numpy(Y_train).type(torch.Tensor)\n",
    "y_test = torch.from_numpy(Y_test).type(torch.Tensor)"
   ]
  },
  {
   "cell_type": "code",
   "execution_count": 12,
   "metadata": {},
   "outputs": [
    {
     "data": {
      "text/plain": [
       "(torch.Size([2237, 29, 1]),\n",
       " torch.Size([2237, 1]),\n",
       " torch.Size([395, 29, 1]),\n",
       " torch.Size([395, 1]))"
      ]
     },
     "execution_count": 12,
     "metadata": {},
     "output_type": "execute_result"
    }
   ],
   "source": [
    "x_train.shape, y_train.shape, x_test.shape, y_test.shape"
   ]
  },
  {
   "cell_type": "code",
   "execution_count": 13,
   "metadata": {},
   "outputs": [],
   "source": [
    "device = torch.device(\"cuda:0\" if torch.cuda.is_available() else \"cpu\")"
   ]
  },
  {
   "cell_type": "code",
   "execution_count": 14,
   "metadata": {},
   "outputs": [],
   "source": [
    "input_size = 1\n",
    "hidden_size =32\n",
    "num_layers = 2\n",
    "output_size = 1\n",
    "num_epochs = 100"
   ]
  },
  {
   "cell_type": "code",
   "execution_count": 15,
   "metadata": {},
   "outputs": [],
   "source": [
    "class LSTM(nn.Module):\n",
    "    def __init__(self, input_dim, hidden_dim, num_layers, output_dim, ):\n",
    "        super(LSTM, self).__init__()\n",
    "        self.hidden_dim = hidden_dim\n",
    "        self.num_layers = num_layers\n",
    "       \n",
    "        self.lstm = nn.LSTM(input_dim, hidden_dim, num_layers, batch_first=True)\n",
    "        self.fc = nn.Linear(hidden_dim, output_dim)\n",
    "        self.relu = nn.ReLU()\n",
    "    def forward(self, x):\n",
    "        h0 = torch.zeros(self.num_layers, x.size(0), self.hidden_dim).requires_grad_()\n",
    "        c0 = torch.zeros(self.num_layers, x.size(0), self.hidden_dim).requires_grad_()\n",
    "        out, (hn, cn) = self.lstm(x, (h0.detach(), c0.detach()))\n",
    "\n",
    "        out = self.fc(out[:, -1, :])\n",
    "        \n",
    "        return out"
   ]
  },
  {
   "cell_type": "code",
   "execution_count": 16,
   "metadata": {},
   "outputs": [],
   "source": [
    "model = LSTM(input_size, hidden_size, num_layers, output_size )\n",
    "optimizer = torch.optim.Adam(model.parameters(), lr=0.01)\n",
    "criterion = torch.nn.MSELoss(reduction='mean')\n",
    "scheduler = lr_scheduler.StepLR(optimizer, step_size=30, gamma=0.1)"
   ]
  },
  {
   "cell_type": "markdown",
   "metadata": {},
   "source": []
  },
  {
   "cell_type": "code",
   "execution_count": 17,
   "metadata": {},
   "outputs": [
    {
     "name": "stdout",
     "output_type": "stream",
     "text": [
      "Epoch  0 MSE:  0.46338245272636414\n",
      "Epoch  1 MSE:  0.25774097442626953\n",
      "Epoch  2 MSE:  0.09213922172784805\n",
      "Epoch  3 MSE:  0.1433974951505661\n",
      "Epoch  4 MSE:  0.08722040057182312\n",
      "Epoch  5 MSE:  0.05740248039364815\n",
      "Epoch  6 MSE:  0.06540415436029434\n",
      "Epoch  7 MSE:  0.075583316385746\n",
      "Epoch  8 MSE:  0.0780419260263443\n",
      "Epoch  9 MSE:  0.07341217994689941\n",
      "Epoch  10 MSE:  0.06495647132396698\n",
      "Epoch  11 MSE:  0.05645293742418289\n",
      "Epoch  12 MSE:  0.05122702196240425\n",
      "Epoch  13 MSE:  0.05084044486284256\n",
      "Epoch  14 MSE:  0.05383048206567764\n",
      "Epoch  15 MSE:  0.056299783289432526\n",
      "Epoch  16 MSE:  0.05504249036312103\n",
      "Epoch  17 MSE:  0.050157301127910614\n",
      "Epoch  18 MSE:  0.04426111280918121\n",
      "Epoch  19 MSE:  0.03983964025974274\n",
      "Epoch  20 MSE:  0.037573184818029404\n",
      "Epoch  21 MSE:  0.036348167806863785\n",
      "Epoch  22 MSE:  0.03412473946809769\n",
      "Epoch  23 MSE:  0.028925858438014984\n",
      "Epoch  24 MSE:  0.01995546743273735\n",
      "Epoch  25 MSE:  0.009788348339498043\n",
      "Epoch  26 MSE:  0.008393071591854095\n",
      "Epoch  27 MSE:  0.009347537532448769\n",
      "Epoch  28 MSE:  0.0023134888615459204\n",
      "Epoch  29 MSE:  0.011637751013040543\n",
      "Epoch  30 MSE:  0.009154954925179482\n",
      "Epoch  31 MSE:  0.0016455719014629722\n",
      "Epoch  32 MSE:  0.0017119682161137462\n",
      "Epoch  33 MSE:  0.004761755932122469\n",
      "Epoch  34 MSE:  0.003656461602076888\n",
      "Epoch  35 MSE:  0.002030701143667102\n",
      "Epoch  36 MSE:  0.0026954221539199352\n",
      "Epoch  37 MSE:  0.00407410180196166\n",
      "Epoch  38 MSE:  0.004160859622061253\n",
      "Epoch  39 MSE:  0.0027470607310533524\n",
      "Epoch  40 MSE:  0.0012981545878574252\n",
      "Epoch  41 MSE:  0.0012723960680887103\n",
      "Epoch  42 MSE:  0.001974788261577487\n",
      "Epoch  43 MSE:  0.0014978906838223338\n",
      "Epoch  44 MSE:  0.0004931496223434806\n",
      "Epoch  45 MSE:  0.0007614874630235136\n",
      "Epoch  46 MSE:  0.0016630204627290368\n",
      "Epoch  47 MSE:  0.0016498295590281487\n",
      "Epoch  48 MSE:  0.0009397129178978503\n",
      "Epoch  49 MSE:  0.0008142192964442074\n",
      "Epoch  50 MSE:  0.0011775261955335736\n",
      "Epoch  51 MSE:  0.0009523985791020095\n",
      "Epoch  52 MSE:  0.0004187120357528329\n",
      "Epoch  53 MSE:  0.00039387764991261065\n",
      "Epoch  54 MSE:  0.0007014988805167377\n",
      "Epoch  55 MSE:  0.0007841335609555244\n",
      "Epoch  56 MSE:  0.0006058873259462416\n",
      "Epoch  57 MSE:  0.0005280448822304606\n",
      "Epoch  58 MSE:  0.000666458101477474\n",
      "Epoch  59 MSE:  0.0007287545595318079\n",
      "Epoch  60 MSE:  0.00055195193272084\n",
      "Epoch  61 MSE:  0.0003774246433749795\n",
      "Epoch  62 MSE:  0.0004002228379249573\n",
      "Epoch  63 MSE:  0.00047301751328632236\n",
      "Epoch  64 MSE:  0.0004212072817608714\n",
      "Epoch  65 MSE:  0.0003408557386137545\n",
      "Epoch  66 MSE:  0.0003909097285941243\n",
      "Epoch  67 MSE:  0.0004792900290340185\n",
      "Epoch  68 MSE:  0.00044357654405757785\n",
      "Epoch  69 MSE:  0.00036116805858910084\n",
      "Epoch  70 MSE:  0.00036140126758255064\n",
      "Epoch  71 MSE:  0.00038613754441030324\n",
      "Epoch  72 MSE:  0.0003481081803329289\n",
      "Epoch  73 MSE:  0.00029984625871293247\n",
      "Epoch  74 MSE:  0.0003164595109410584\n",
      "Epoch  75 MSE:  0.00035494621261022985\n",
      "Epoch  76 MSE:  0.00034637251519598067\n",
      "Epoch  77 MSE:  0.00031936957384459674\n",
      "Epoch  78 MSE:  0.0003248854191042483\n",
      "Epoch  79 MSE:  0.00033863636781461537\n",
      "Epoch  80 MSE:  0.0003202961233910173\n",
      "Epoch  81 MSE:  0.00029211293440312147\n",
      "Epoch  82 MSE:  0.00029257338610477746\n",
      "Epoch  83 MSE:  0.00030499667627736926\n",
      "Epoch  84 MSE:  0.0002979100390803069\n",
      "Epoch  85 MSE:  0.00028727197786793113\n",
      "Epoch  86 MSE:  0.000295089790597558\n",
      "Epoch  87 MSE:  0.0003026584745384753\n",
      "Epoch  88 MSE:  0.00029232120141386986\n",
      "Epoch  89 MSE:  0.00028135417960584164\n",
      "Epoch  90 MSE:  0.00028336691320873797\n",
      "Epoch  91 MSE:  0.00028393222601152956\n",
      "Epoch  92 MSE:  0.0002757025067694485\n",
      "Epoch  93 MSE:  0.0002724434598349035\n",
      "Epoch  94 MSE:  0.000277539569651708\n",
      "Epoch  95 MSE:  0.00027839047834277153\n",
      "Epoch  96 MSE:  0.0002729680563788861\n",
      "Epoch  97 MSE:  0.0002709910913836211\n",
      "Epoch  98 MSE:  0.00027231985586695373\n",
      "Epoch  99 MSE:  0.0002692522539291531\n",
      "Training time: 39.672158002853394\n"
     ]
    }
   ],
   "source": [
    "import time\n",
    "hist = np.zeros(num_epochs)\n",
    "t_hist = np.zeros(num_epochs)\n",
    "start_time = time.time()\n",
    "lstm = []\n",
    "for t in range(num_epochs):\n",
    "    # make predictions\n",
    "    model.train()\n",
    "    y_train_pred = model(x_train)\n",
    "   # print(y_train_pred.shape)\n",
    "    loss = criterion(y_train_pred, y_train)\n",
    "    print(\"Epoch \", t, \"MSE: \", loss.item())\n",
    "    hist[t] = loss.item()\n",
    "    optimizer.zero_grad()\n",
    "    loss.backward()\n",
    "    optimizer.step()\n",
    "\n",
    "    with torch.no_grad():\n",
    "        model.eval()\n",
    "    \n",
    "        y_test_pred = model(x_test)\n",
    "        #print(y_test_pred.shape)\n",
    "        loss_eval = criterion(y_test_pred, y_test)\n",
    "        #print(\"Epoch \", t, \"MSE: \", loss.item())\n",
    "        t_hist[t] = loss_eval.item()\n",
    "    \n",
    "training_time = time.time()-start_time\n",
    "print(\"Training time: {}\".format(training_time))"
   ]
  },
  {
   "cell_type": "code",
   "execution_count": 18,
   "metadata": {},
   "outputs": [],
   "source": [
    "predict = pd.DataFrame(scaler.inverse_transform(y_train_pred.detach().numpy()))\n"
   ]
  },
  {
   "cell_type": "code",
   "execution_count": 19,
   "metadata": {},
   "outputs": [],
   "source": [
    "original = pd.DataFrame(scaler.inverse_transform(y_train.detach().numpy()))"
   ]
  },
  {
   "cell_type": "code",
   "execution_count": 20,
   "metadata": {},
   "outputs": [
    {
     "data": {
      "text/html": [
       "<div>\n",
       "<style scoped>\n",
       "    .dataframe tbody tr th:only-of-type {\n",
       "        vertical-align: middle;\n",
       "    }\n",
       "\n",
       "    .dataframe tbody tr th {\n",
       "        vertical-align: top;\n",
       "    }\n",
       "\n",
       "    .dataframe thead th {\n",
       "        text-align: right;\n",
       "    }\n",
       "</style>\n",
       "<table border=\"1\" class=\"dataframe\">\n",
       "  <thead>\n",
       "    <tr style=\"text-align: right;\">\n",
       "      <th></th>\n",
       "      <th>0</th>\n",
       "    </tr>\n",
       "  </thead>\n",
       "  <tbody>\n",
       "    <tr>\n",
       "      <th>0</th>\n",
       "      <td>134.081772</td>\n",
       "    </tr>\n",
       "    <tr>\n",
       "      <th>1</th>\n",
       "      <td>134.352066</td>\n",
       "    </tr>\n",
       "    <tr>\n",
       "      <th>2</th>\n",
       "      <td>134.545334</td>\n",
       "    </tr>\n",
       "    <tr>\n",
       "      <th>3</th>\n",
       "      <td>134.759949</td>\n",
       "    </tr>\n",
       "    <tr>\n",
       "      <th>4</th>\n",
       "      <td>135.006927</td>\n",
       "    </tr>\n",
       "    <tr>\n",
       "      <th>...</th>\n",
       "      <td>...</td>\n",
       "    </tr>\n",
       "    <tr>\n",
       "      <th>2232</th>\n",
       "      <td>311.539490</td>\n",
       "    </tr>\n",
       "    <tr>\n",
       "      <th>2233</th>\n",
       "      <td>311.888184</td>\n",
       "    </tr>\n",
       "    <tr>\n",
       "      <th>2234</th>\n",
       "      <td>311.980225</td>\n",
       "    </tr>\n",
       "    <tr>\n",
       "      <th>2235</th>\n",
       "      <td>312.088867</td>\n",
       "    </tr>\n",
       "    <tr>\n",
       "      <th>2236</th>\n",
       "      <td>312.482330</td>\n",
       "    </tr>\n",
       "  </tbody>\n",
       "</table>\n",
       "<p>2237 rows × 1 columns</p>\n",
       "</div>"
      ],
      "text/plain": [
       "               0\n",
       "0     134.081772\n",
       "1     134.352066\n",
       "2     134.545334\n",
       "3     134.759949\n",
       "4     135.006927\n",
       "...          ...\n",
       "2232  311.539490\n",
       "2233  311.888184\n",
       "2234  311.980225\n",
       "2235  312.088867\n",
       "2236  312.482330\n",
       "\n",
       "[2237 rows x 1 columns]"
      ]
     },
     "execution_count": 20,
     "metadata": {},
     "output_type": "execute_result"
    }
   ],
   "source": [
    "predict"
   ]
  },
  {
   "cell_type": "code",
   "execution_count": 21,
   "metadata": {},
   "outputs": [
    {
     "name": "stderr",
     "output_type": "stream",
     "text": [
      "C:\\Users\\pgsin\\anaconda3\\envs\\deeplearner\\lib\\site-packages\\seaborn\\relational.py:436: MatplotlibDeprecationWarning: Case-insensitive properties were deprecated in 3.3 and support will be removed two minor releases later\n",
      "  scout, = ax.plot([], [], **kws)\n",
      "C:\\Users\\pgsin\\anaconda3\\envs\\deeplearner\\lib\\site-packages\\seaborn\\relational.py:514: MatplotlibDeprecationWarning: Case-insensitive properties were deprecated in 3.3 and support will be removed two minor releases later\n",
      "  line, = ax.plot([], [], **kws)\n",
      "C:\\Users\\pgsin\\anaconda3\\envs\\deeplearner\\lib\\site-packages\\seaborn\\relational.py:529: MatplotlibDeprecationWarning: Case-insensitive properties were deprecated in 3.3 and support will be removed two minor releases later\n",
      "  line, = ax.plot(x, y, **kws)\n",
      "C:\\Users\\pgsin\\anaconda3\\envs\\deeplearner\\lib\\site-packages\\seaborn\\relational.py:436: MatplotlibDeprecationWarning: Case-insensitive properties were deprecated in 3.3 and support will be removed two minor releases later\n",
      "  scout, = ax.plot([], [], **kws)\n",
      "C:\\Users\\pgsin\\anaconda3\\envs\\deeplearner\\lib\\site-packages\\seaborn\\relational.py:514: MatplotlibDeprecationWarning: Case-insensitive properties were deprecated in 3.3 and support will be removed two minor releases later\n",
      "  line, = ax.plot([], [], **kws)\n",
      "C:\\Users\\pgsin\\anaconda3\\envs\\deeplearner\\lib\\site-packages\\seaborn\\relational.py:529: MatplotlibDeprecationWarning: Case-insensitive properties were deprecated in 3.3 and support will be removed two minor releases later\n",
      "  line, = ax.plot(x, y, **kws)\n"
     ]
    },
    {
     "data": {
      "text/plain": [
       "Text(0.5, 1.0, ' LSTM Loss')"
      ]
     },
     "execution_count": 21,
     "metadata": {},
     "output_type": "execute_result"
    },
    {
     "data": {
      "image/png": "[encoded data removed]",
      "text/plain": [
       "<Figure size 720x576 with 1 Axes>"
      ]
     },
     "metadata": {},
     "output_type": "display_data"
    }
   ],
   "source": [
    "import seaborn as sns\n",
    "sns.set_style(\"darkgrid\")    \n",
    "\n",
    "fig = plt.figure(figsize=(10,8))\n",
    "#fig.subplots_adjust(hspace=0.2, wspace=0.2)\n",
    "\n",
    "# plt.subplot(1, 3, 1)\n",
    "# ax = sns.lineplot(x = original.index, y = original[0], label=\"Data\", color='royalblue')\n",
    "# ax = sns.lineplot(x = predict.index, y = predict[0], label=\"Training Prediction (GRU)\", color='tomato', alpha=0.5)\n",
    "# ax.set_title('Stock price', size = 14, fontweight='bold')\n",
    "# ax.set_xlabel(\"Days\", size = 14)\n",
    "# ax.set_ylabel(\"Cost (USD)\", size = 14)\n",
    "# ax.set_xticklabels('', size=10)\n",
    "\n",
    "\n",
    "ax = sns.lineplot(data=hist, color='royalblue',Label='Training Loss')\n",
    "ax = sns.lineplot(data=t_hist, color='orange',Label='Test Loss')\n",
    "ax.set_xlabel(\"Epoch\", size = 14)\n",
    "ax.set_ylabel(\"Loss\", size = 14)\n",
    "ax.set_title(\" LSTM Loss\", size = 14, fontweight='bold')\n",
    "# fig.set_figheight(6)\n",
    "# fig.set_figheight(8)\n",
    "# fig.set_figwidth(10)\n",
    "\n",
    "# plt.subplot(1, 3, 3)\n",
    "# ax = sns.lineplot(data=t_hist, color='orange')\n",
    "# ax.set_xlabel(\"Epoch\", size = 14)\n",
    "# ax.set_ylabel(\"Loss\", size = 14)\n",
    "# ax.set_title(\"Test Loss\", size = 14, fontweight='bold')\n",
    "# fig.set_figheight(6)\n",
    "# fig.set_figwidth(16)\n",
    "\n"
   ]
  },
  {
   "cell_type": "code",
   "execution_count": 22,
   "metadata": {},
   "outputs": [
    {
     "name": "stdout",
     "output_type": "stream",
     "text": [
      "Train Score: 3.53 RMSE\n",
      "Test Score: 37.91 RMSE\n"
     ]
    }
   ],
   "source": [
    "import math, time\n",
    "from sklearn.metrics import mean_squared_error\n",
    "\n",
    "# make predictions\n",
    "y_test_pred = model(x_test)\n",
    "\n",
    "\n",
    "# invert predictions\n",
    "y_train_pred = scaler.inverse_transform(y_train_pred.detach().numpy())\n",
    "y_train = scaler.inverse_transform(y_train.detach().numpy())\n",
    "y_test_pred = scaler.inverse_transform(y_test_pred.detach().numpy())\n",
    "y_test = scaler.inverse_transform(y_test.detach().numpy())\n",
    "\n",
    "# calculate root mean squared error\n",
    "trainScore = math.sqrt(mean_squared_error(y_train[:,0], y_train_pred[:,0]))\n",
    "print('Train Score: %.2f RMSE' % (trainScore))\n",
    "testScore = math.sqrt(mean_squared_error(y_test[:,0], y_test_pred[:,0]))\n",
    "print('Test Score: %.2f RMSE' % (testScore))\n",
    "lstm.append(trainScore)\n",
    "lstm.append(testScore)\n",
    "lstm.append(training_time)"
   ]
  },
  {
   "cell_type": "code",
   "execution_count": 23,
   "metadata": {},
   "outputs": [
    {
     "data": {
      "text/html": [
       "<div>\n",
       "<style scoped>\n",
       "    .dataframe tbody tr th:only-of-type {\n",
       "        vertical-align: middle;\n",
       "    }\n",
       "\n",
       "    .dataframe tbody tr th {\n",
       "        vertical-align: top;\n",
       "    }\n",
       "\n",
       "    .dataframe thead th {\n",
       "        text-align: right;\n",
       "    }\n",
       "</style>\n",
       "<table border=\"1\" class=\"dataframe\">\n",
       "  <thead>\n",
       "    <tr style=\"text-align: right;\">\n",
       "      <th></th>\n",
       "      <th>0</th>\n",
       "    </tr>\n",
       "  </thead>\n",
       "  <tbody>\n",
       "    <tr>\n",
       "      <th>0</th>\n",
       "      <td>312.443512</td>\n",
       "    </tr>\n",
       "    <tr>\n",
       "      <th>1</th>\n",
       "      <td>312.638367</td>\n",
       "    </tr>\n",
       "    <tr>\n",
       "      <th>2</th>\n",
       "      <td>312.699982</td>\n",
       "    </tr>\n",
       "    <tr>\n",
       "      <th>3</th>\n",
       "      <td>312.913055</td>\n",
       "    </tr>\n",
       "    <tr>\n",
       "      <th>4</th>\n",
       "      <td>313.342041</td>\n",
       "    </tr>\n",
       "    <tr>\n",
       "      <th>...</th>\n",
       "      <td>...</td>\n",
       "    </tr>\n",
       "    <tr>\n",
       "      <th>390</th>\n",
       "      <td>358.732697</td>\n",
       "    </tr>\n",
       "    <tr>\n",
       "      <th>391</th>\n",
       "      <td>359.184448</td>\n",
       "    </tr>\n",
       "    <tr>\n",
       "      <th>392</th>\n",
       "      <td>359.592407</td>\n",
       "    </tr>\n",
       "    <tr>\n",
       "      <th>393</th>\n",
       "      <td>359.776855</td>\n",
       "    </tr>\n",
       "    <tr>\n",
       "      <th>394</th>\n",
       "      <td>359.910370</td>\n",
       "    </tr>\n",
       "  </tbody>\n",
       "</table>\n",
       "<p>395 rows × 1 columns</p>\n",
       "</div>"
      ],
      "text/plain": [
       "              0\n",
       "0    312.443512\n",
       "1    312.638367\n",
       "2    312.699982\n",
       "3    312.913055\n",
       "4    313.342041\n",
       "..          ...\n",
       "390  358.732697\n",
       "391  359.184448\n",
       "392  359.592407\n",
       "393  359.776855\n",
       "394  359.910370\n",
       "\n",
       "[395 rows x 1 columns]"
      ]
     },
     "execution_count": 23,
     "metadata": {},
     "output_type": "execute_result"
    }
   ],
   "source": [
    "yt = pd.DataFrame(y_test_pred)\n",
    "yt"
   ]
  },
  {
   "cell_type": "code",
   "execution_count": 24,
   "metadata": {},
   "outputs": [],
   "source": [
    "exp = pd.concat([predict, yt])\n",
    "exp.columns = ['SPY']\n",
    "exp.to_csv('lstm_pred_spy_corona.csv')"
   ]
  },
  {
   "cell_type": "code",
   "execution_count": 25,
   "metadata": {},
   "outputs": [
    {
     "data": {
      "text/html": [
       "<div>\n",
       "<style scoped>\n",
       "    .dataframe tbody tr th:only-of-type {\n",
       "        vertical-align: middle;\n",
       "    }\n",
       "\n",
       "    .dataframe tbody tr th {\n",
       "        vertical-align: top;\n",
       "    }\n",
       "\n",
       "    .dataframe thead th {\n",
       "        text-align: right;\n",
       "    }\n",
       "</style>\n",
       "<table border=\"1\" class=\"dataframe\">\n",
       "  <thead>\n",
       "    <tr style=\"text-align: right;\">\n",
       "      <th></th>\n",
       "      <th>SPY</th>\n",
       "    </tr>\n",
       "  </thead>\n",
       "  <tbody>\n",
       "    <tr>\n",
       "      <th>0</th>\n",
       "      <td>134.081772</td>\n",
       "    </tr>\n",
       "    <tr>\n",
       "      <th>1</th>\n",
       "      <td>134.352066</td>\n",
       "    </tr>\n",
       "    <tr>\n",
       "      <th>2</th>\n",
       "      <td>134.545334</td>\n",
       "    </tr>\n",
       "    <tr>\n",
       "      <th>3</th>\n",
       "      <td>134.759949</td>\n",
       "    </tr>\n",
       "    <tr>\n",
       "      <th>4</th>\n",
       "      <td>135.006927</td>\n",
       "    </tr>\n",
       "    <tr>\n",
       "      <th>...</th>\n",
       "      <td>...</td>\n",
       "    </tr>\n",
       "    <tr>\n",
       "      <th>390</th>\n",
       "      <td>358.732697</td>\n",
       "    </tr>\n",
       "    <tr>\n",
       "      <th>391</th>\n",
       "      <td>359.184448</td>\n",
       "    </tr>\n",
       "    <tr>\n",
       "      <th>392</th>\n",
       "      <td>359.592407</td>\n",
       "    </tr>\n",
       "    <tr>\n",
       "      <th>393</th>\n",
       "      <td>359.776855</td>\n",
       "    </tr>\n",
       "    <tr>\n",
       "      <th>394</th>\n",
       "      <td>359.910370</td>\n",
       "    </tr>\n",
       "  </tbody>\n",
       "</table>\n",
       "<p>2632 rows × 1 columns</p>\n",
       "</div>"
      ],
      "text/plain": [
       "            SPY\n",
       "0    134.081772\n",
       "1    134.352066\n",
       "2    134.545334\n",
       "3    134.759949\n",
       "4    135.006927\n",
       "..          ...\n",
       "390  358.732697\n",
       "391  359.184448\n",
       "392  359.592407\n",
       "393  359.776855\n",
       "394  359.910370\n",
       "\n",
       "[2632 rows x 1 columns]"
      ]
     },
     "execution_count": 25,
     "metadata": {},
     "output_type": "execute_result"
    }
   ],
   "source": [
    "exp"
   ]
  },
  {
   "cell_type": "code",
   "execution_count": 26,
   "metadata": {},
   "outputs": [],
   "source": [
    "# shift train predictions for plotting\n",
    "trainPredictPlot = np.empty_like(df1)\n",
    "trainPredictPlot[:, :] = np.nan\n",
    "trainPredictPlot[lookback:len(y_train_pred)+lookback, :] = y_train_pred\n",
    "\n",
    "# shift test predictions for plotting\n",
    "testPredictPlot = np.empty_like(df1)\n",
    "testPredictPlot[:, :] = np.nan\n",
    "testPredictPlot[len(y_train_pred)+lookback-1:len(df1)-1, :] = y_test_pred\n",
    "\n",
    "originals = df1.SPY.values.reshape(-1,1)\n",
    "\n",
    "predictions = np.append(trainPredictPlot, testPredictPlot, axis=1)\n",
    "predictions = np.append(predictions, originals, axis=1)\n",
    "\n",
    "result = pd.DataFrame(predictions)\n",
    "result = pd.concat([df2.Date, result], axis=1)\n",
    "result.to_csv('LSTM_predictions_covid.csv')\t"
   ]
  },
  {
   "cell_type": "code",
   "execution_count": 27,
   "metadata": {},
   "outputs": [
    {
     "data": {
      "text/html": [
       "<div>\n",
       "<style scoped>\n",
       "    .dataframe tbody tr th:only-of-type {\n",
       "        vertical-align: middle;\n",
       "    }\n",
       "\n",
       "    .dataframe tbody tr th {\n",
       "        vertical-align: top;\n",
       "    }\n",
       "\n",
       "    .dataframe thead th {\n",
       "        text-align: right;\n",
       "    }\n",
       "</style>\n",
       "<table border=\"1\" class=\"dataframe\">\n",
       "  <thead>\n",
       "    <tr style=\"text-align: right;\">\n",
       "      <th></th>\n",
       "      <th>Date</th>\n",
       "      <th>0</th>\n",
       "      <th>1</th>\n",
       "      <th>2</th>\n",
       "    </tr>\n",
       "  </thead>\n",
       "  <tbody>\n",
       "    <tr>\n",
       "      <th>0</th>\n",
       "      <td>2011-01-03</td>\n",
       "      <td>NaN</td>\n",
       "      <td>NaN</td>\n",
       "      <td>127.050003</td>\n",
       "    </tr>\n",
       "    <tr>\n",
       "      <th>1</th>\n",
       "      <td>2011-01-04</td>\n",
       "      <td>NaN</td>\n",
       "      <td>NaN</td>\n",
       "      <td>126.980003</td>\n",
       "    </tr>\n",
       "    <tr>\n",
       "      <th>2</th>\n",
       "      <td>2011-01-05</td>\n",
       "      <td>NaN</td>\n",
       "      <td>NaN</td>\n",
       "      <td>127.639999</td>\n",
       "    </tr>\n",
       "    <tr>\n",
       "      <th>3</th>\n",
       "      <td>2011-01-06</td>\n",
       "      <td>NaN</td>\n",
       "      <td>NaN</td>\n",
       "      <td>127.389999</td>\n",
       "    </tr>\n",
       "    <tr>\n",
       "      <th>4</th>\n",
       "      <td>2011-01-07</td>\n",
       "      <td>NaN</td>\n",
       "      <td>NaN</td>\n",
       "      <td>127.139999</td>\n",
       "    </tr>\n",
       "    <tr>\n",
       "      <th>...</th>\n",
       "      <td>...</td>\n",
       "      <td>...</td>\n",
       "      <td>...</td>\n",
       "      <td>...</td>\n",
       "    </tr>\n",
       "    <tr>\n",
       "      <th>2657</th>\n",
       "      <td>2021-07-26</td>\n",
       "      <td>NaN</td>\n",
       "      <td>359.184448</td>\n",
       "      <td>441.019989</td>\n",
       "    </tr>\n",
       "    <tr>\n",
       "      <th>2658</th>\n",
       "      <td>2021-07-27</td>\n",
       "      <td>NaN</td>\n",
       "      <td>359.592407</td>\n",
       "      <td>439.010010</td>\n",
       "    </tr>\n",
       "    <tr>\n",
       "      <th>2659</th>\n",
       "      <td>2021-07-28</td>\n",
       "      <td>NaN</td>\n",
       "      <td>359.776855</td>\n",
       "      <td>438.829987</td>\n",
       "    </tr>\n",
       "    <tr>\n",
       "      <th>2660</th>\n",
       "      <td>2021-07-29</td>\n",
       "      <td>NaN</td>\n",
       "      <td>359.910370</td>\n",
       "      <td>440.649994</td>\n",
       "    </tr>\n",
       "    <tr>\n",
       "      <th>2661</th>\n",
       "      <td>2021-07-30</td>\n",
       "      <td>NaN</td>\n",
       "      <td>NaN</td>\n",
       "      <td>438.510010</td>\n",
       "    </tr>\n",
       "  </tbody>\n",
       "</table>\n",
       "<p>2662 rows × 4 columns</p>\n",
       "</div>"
      ],
      "text/plain": [
       "           Date   0           1           2\n",
       "0    2011-01-03 NaN         NaN  127.050003\n",
       "1    2011-01-04 NaN         NaN  126.980003\n",
       "2    2011-01-05 NaN         NaN  127.639999\n",
       "3    2011-01-06 NaN         NaN  127.389999\n",
       "4    2011-01-07 NaN         NaN  127.139999\n",
       "...         ...  ..         ...         ...\n",
       "2657 2021-07-26 NaN  359.184448  441.019989\n",
       "2658 2021-07-27 NaN  359.592407  439.010010\n",
       "2659 2021-07-28 NaN  359.776855  438.829987\n",
       "2660 2021-07-29 NaN  359.910370  440.649994\n",
       "2661 2021-07-30 NaN         NaN  438.510010\n",
       "\n",
       "[2662 rows x 4 columns]"
      ]
     },
     "execution_count": 27,
     "metadata": {},
     "output_type": "execute_result"
    }
   ],
   "source": [
    "result"
   ]
  },
  {
   "cell_type": "code",
   "execution_count": 28,
   "metadata": {},
   "outputs": [],
   "source": [
    "error = []\n",
    "for i in range(len(y_test_pred)):\n",
    "    error.append(y_test_pred[i]-y_test[i])\n",
    "error = np.array(error)"
   ]
  },
  {
   "cell_type": "code",
   "execution_count": 29,
   "metadata": {},
   "outputs": [
    {
     "data": {
      "image/png": "[encoded data removed]",
      "text/plain": [
       "<Figure size 432x288 with 1 Axes>"
      ]
     },
     "metadata": {},
     "output_type": "display_data"
    }
   ],
   "source": [
    "plt.scatter(y_test_pred, error)\n",
    "plt.xlabel('Price Predictions')\n",
    "plt.ylabel('Error')\n",
    "plt.title('Error values on test data of SPY')\n",
    "plt.show()\n",
    "\n"
   ]
  },
  {
   "cell_type": "code",
   "execution_count": 30,
   "metadata": {},
   "outputs": [
    {
     "data": {
      "text/plain": [
       "Text(0.5, 1.0, 'LSTM Error values on test data of SPY')"
      ]
     },
     "execution_count": 30,
     "metadata": {},
     "output_type": "execute_result"
    },
    {
     "data": {
      "image/png": "[encoded data removed]",
      "text/plain": [
       "<Figure size 401.625x360 with 1 Axes>"
      ]
     },
     "metadata": {},
     "output_type": "display_data"
    }
   ],
   "source": [
    "sns.displot(error, kde =True)\n",
    "plt.xlabel('Error')\n",
    "plt.ylabel('Frequency')\n",
    "plt.title('LSTM Error values on test data of SPY')"
   ]
  },
  {
   "cell_type": "code",
   "execution_count": 31,
   "metadata": {},
   "outputs": [
    {
     "data": {
      "text/plain": [
       "-28.42162"
      ]
     },
     "execution_count": 31,
     "metadata": {},
     "output_type": "execute_result"
    }
   ],
   "source": [
    "error.mean()\n"
   ]
  },
  {
   "cell_type": "code",
   "execution_count": 32,
   "metadata": {},
   "outputs": [
    {
     "data": {
      "text/plain": [
       "124.23036"
      ]
     },
     "execution_count": 32,
     "metadata": {},
     "output_type": "execute_result"
    }
   ],
   "source": [
    "error.max() - error.min()   "
   ]
  },
  {
   "cell_type": "code",
   "execution_count": null,
   "metadata": {},
   "outputs": [],
   "source": []
  }
 ],
 "metadata": {
  "interpreter": {
   "hash": "50a93f2fecfd00da27f8930a2c1c74e92db967b2162384b3e8848f4306dc0d4b"
  },
  "kernelspec": {
   "display_name": "Python 3 (ipykernel)",
   "language": "python",
   "name": "python3"
  },
  "language_info": {
   "codemirror_mode": {
    "name": "ipython",
    "version": 3
   },
   "file_extension": ".py",
   "mimetype": "text/x-python",
   "name": "python",
   "nbconvert_exporter": "python",
   "pygments_lexer": "ipython3",
   "version": "3.8.11"
  }
 },
 "nbformat": 4,
 "nbformat_minor": 2
}
