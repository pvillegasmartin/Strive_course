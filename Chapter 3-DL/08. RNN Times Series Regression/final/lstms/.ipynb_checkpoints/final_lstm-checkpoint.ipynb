{
 "cells": [
  {
   "cell_type": "code",
   "execution_count": 2,
   "metadata": {},
   "outputs": [],
   "source": [
    "from pandas_datareader import data\n",
    "import numpy as np\n",
    "import pandas as pd\n",
    "import matplotlib.pyplot as plt\n",
    "import torch\n",
    "import torch.nn as nn\n",
    "import torch.nn.functional as F\n",
    "import torch.optim as optim\n",
    "from torch.autograd import Variable\n",
    "from torch.utils.data import Dataset, DataLoader\n",
    "from torchvision import transforms, utils\n",
    "from torchvision.utils import save_image\n",
    "from torch.optim import lr_scheduler\n"
   ]
  },
  {
   "cell_type": "code",
   "execution_count": 3,
   "metadata": {},
   "outputs": [],
   "source": [
    "tickers  = ['SPY']"
   ]
  },
  {
   "cell_type": "code",
   "execution_count": 4,
   "metadata": {},
   "outputs": [],
   "source": [
    "spy = data.DataReader(tickers, \n",
    "                       start='2011-1-1', \n",
    "                       end='2021-07-31', \n",
    "                       data_source='yahoo')['Close']"
   ]
  },
  {
   "cell_type": "code",
   "execution_count": 5,
   "metadata": {},
   "outputs": [
    {
     "data": {
      "text/html": [
       "<div>\n",
       "<style scoped>\n",
       "    .dataframe tbody tr th:only-of-type {\n",
       "        vertical-align: middle;\n",
       "    }\n",
       "\n",
       "    .dataframe tbody tr th {\n",
       "        vertical-align: top;\n",
       "    }\n",
       "\n",
       "    .dataframe thead th {\n",
       "        text-align: right;\n",
       "    }\n",
       "</style>\n",
       "<table border=\"1\" class=\"dataframe\">\n",
       "  <thead>\n",
       "    <tr style=\"text-align: right;\">\n",
       "      <th>Symbols</th>\n",
       "      <th>SPY</th>\n",
       "    </tr>\n",
       "    <tr>\n",
       "      <th>Date</th>\n",
       "      <th></th>\n",
       "    </tr>\n",
       "  </thead>\n",
       "  <tbody>\n",
       "    <tr>\n",
       "      <th>2021-07-26</th>\n",
       "      <td>441.019989</td>\n",
       "    </tr>\n",
       "    <tr>\n",
       "      <th>2021-07-27</th>\n",
       "      <td>439.010010</td>\n",
       "    </tr>\n",
       "    <tr>\n",
       "      <th>2021-07-28</th>\n",
       "      <td>438.829987</td>\n",
       "    </tr>\n",
       "    <tr>\n",
       "      <th>2021-07-29</th>\n",
       "      <td>440.649994</td>\n",
       "    </tr>\n",
       "    <tr>\n",
       "      <th>2021-07-30</th>\n",
       "      <td>438.510010</td>\n",
       "    </tr>\n",
       "  </tbody>\n",
       "</table>\n",
       "</div>"
      ],
      "text/plain": [
       "Symbols            SPY\n",
       "Date                  \n",
       "2021-07-26  441.019989\n",
       "2021-07-27  439.010010\n",
       "2021-07-28  438.829987\n",
       "2021-07-29  440.649994\n",
       "2021-07-30  438.510010"
      ]
     },
     "execution_count": 5,
     "metadata": {},
     "output_type": "execute_result"
    }
   ],
   "source": [
    "df1 = pd.DataFrame(spy)\n",
    "df1.tail()"
   ]
  },
  {
   "cell_type": "code",
   "execution_count": 6,
   "metadata": {},
   "outputs": [
    {
     "data": {
      "text/plain": [
       "(2662, 1)"
      ]
     },
     "execution_count": 6,
     "metadata": {},
     "output_type": "execute_result"
    }
   ],
   "source": [
    "df1.shape"
   ]
  },
  {
   "cell_type": "code",
   "execution_count": 7,
   "metadata": {},
   "outputs": [],
   "source": [
    "df2 = df1.reset_index()"
   ]
  },
  {
   "cell_type": "code",
   "execution_count": 8,
   "metadata": {},
   "outputs": [],
   "source": [
    "from sklearn.preprocessing import MinMaxScaler\n",
    "scaler=MinMaxScaler(feature_range=(0,1))"
   ]
  },
  {
   "cell_type": "code",
   "execution_count": 9,
   "metadata": {},
   "outputs": [],
   "source": [
    "def split_data(stock, lookback):\n",
    "    data_raw = stock.to_numpy() # convert to numpy array\n",
    "    data = []\n",
    "    \n",
    "    # create all possible sequences of length seq_len\n",
    "    for index in range(len(data_raw) - lookback): \n",
    "        data.append(data_raw[index: index + lookback])\n",
    "    \n",
    "    data = np.array(data);\n",
    "    test_set_size = int(np.round(0.15*data.shape[0]));\n",
    "    train_set_size = data.shape[0] - (test_set_size);\n",
    "    \n",
    "    x_train = data[:train_set_size,:-1,:]\n",
    "    y_train = data[:train_set_size,-1,:]\n",
    "    \n",
    "    x_test = data[train_set_size:,:-1]\n",
    "    y_test = data[train_set_size:,-1,:]\n",
    "    \n",
    "    return [x_train, y_train, x_test, y_test]\n",
    "lookback = 30 # choose sequence length\n",
    "x_train, y_train, x_test, y_test = split_data(df1, lookback)"
   ]
  },
  {
   "cell_type": "code",
   "execution_count": 10,
   "metadata": {},
   "outputs": [
    {
     "data": {
      "text/plain": [
       "((2237, 29, 1), (2237, 1), (395, 29, 1), (395, 1))"
      ]
     },
     "execution_count": 10,
     "metadata": {},
     "output_type": "execute_result"
    }
   ],
   "source": [
    "x_train.shape, y_train.shape, x_test.shape, y_test.shape"
   ]
  },
  {
   "cell_type": "code",
   "execution_count": 11,
   "metadata": {},
   "outputs": [],
   "source": [
    "def scale():\n",
    "    X_train = scaler.fit_transform(x_train.reshape(-1,x_train.shape[-1])).reshape(x_train.shape)\n",
    "    X_test = scaler.transform(x_test.reshape(-1,x_test.shape[-1])).reshape(x_test.shape)\n",
    "    Y_train = scaler.fit_transform(y_train)\n",
    "    Y_test = scaler.transform(y_test)\n",
    "\n",
    "    return [X_train, Y_train, X_test, Y_test]\n",
    "X_train, Y_train, X_test, Y_test = scale()\n"
   ]
  },
  {
   "cell_type": "code",
   "execution_count": 12,
   "metadata": {},
   "outputs": [],
   "source": [
    "x_train = torch.from_numpy(X_train).type(torch.Tensor)\n",
    "x_test = torch.from_numpy(X_test).type(torch.Tensor)\n",
    "y_train = torch.from_numpy(Y_train).type(torch.Tensor)\n",
    "y_test = torch.from_numpy(Y_test).type(torch.Tensor)"
   ]
  },
  {
   "cell_type": "code",
   "execution_count": 13,
   "metadata": {},
   "outputs": [
    {
     "data": {
      "text/plain": [
       "(torch.Size([2237, 29, 1]),\n",
       " torch.Size([2237, 1]),\n",
       " torch.Size([395, 29, 1]),\n",
       " torch.Size([395, 1]))"
      ]
     },
     "execution_count": 13,
     "metadata": {},
     "output_type": "execute_result"
    }
   ],
   "source": [
    "x_train.shape, y_train.shape, x_test.shape, y_test.shape"
   ]
  },
  {
   "cell_type": "code",
   "execution_count": 14,
   "metadata": {},
   "outputs": [],
   "source": [
    "device = torch.device(\"cuda:0\" if torch.cuda.is_available() else \"cpu\")"
   ]
  },
  {
   "cell_type": "code",
   "execution_count": 15,
   "metadata": {},
   "outputs": [],
   "source": [
    "input_size = 1\n",
    "hidden_size =32\n",
    "num_layers = 2\n",
    "output_size = 1\n",
    "num_epochs = 100"
   ]
  },
  {
   "cell_type": "code",
   "execution_count": 16,
   "metadata": {},
   "outputs": [],
   "source": [
    "class LSTM(nn.Module):\n",
    "    def __init__(self, input_dim, hidden_dim, num_layers, output_dim, ):\n",
    "        super(LSTM, self).__init__()\n",
    "        self.hidden_dim = hidden_dim\n",
    "        self.num_layers = num_layers\n",
    "       \n",
    "        self.lstm = nn.LSTM(input_dim, hidden_dim, num_layers, batch_first=True)\n",
    "        self.fc = nn.Linear(hidden_dim, output_dim)\n",
    "        self.relu = nn.ReLU()\n",
    "    def forward(self, x):\n",
    "        h0 = torch.zeros(self.num_layers, x.size(0), self.hidden_dim).requires_grad_()\n",
    "        c0 = torch.zeros(self.num_layers, x.size(0), self.hidden_dim).requires_grad_()\n",
    "        out, (hn, cn) = self.lstm(x, (h0.detach(), c0.detach()))\n",
    "\n",
    "        out = self.fc(out[:, -1, :])\n",
    "        \n",
    "        return out"
   ]
  },
  {
   "cell_type": "code",
   "execution_count": 17,
   "metadata": {},
   "outputs": [],
   "source": [
    "model = LSTM(input_size, hidden_size, num_layers, output_size )\n",
    "optimizer = torch.optim.Adam(model.parameters(), lr=0.01)\n",
    "criterion = torch.nn.MSELoss(reduction='mean')\n",
    "scheduler = lr_scheduler.StepLR(optimizer, step_size=30, gamma=0.1)"
   ]
  },
  {
   "cell_type": "markdown",
   "metadata": {},
   "source": []
  },
  {
   "cell_type": "code",
   "execution_count": 18,
   "metadata": {},
   "outputs": [
    {
     "name": "stdout",
     "output_type": "stream",
     "text": [
      "Epoch  0 MSE:  0.1793723702430725\n",
      "Epoch  1 MSE:  0.09060703217983246\n",
      "Epoch  2 MSE:  0.06847008317708969\n",
      "Epoch  3 MSE:  0.07507827877998352\n",
      "Epoch  4 MSE:  0.05911393463611603\n",
      "Epoch  5 MSE:  0.05749905854463577\n",
      "Epoch  6 MSE:  0.059830401092767715\n",
      "Epoch  7 MSE:  0.05919705703854561\n",
      "Epoch  8 MSE:  0.05468202754855156\n",
      "Epoch  9 MSE:  0.04783136770129204\n",
      "Epoch  10 MSE:  0.04185698926448822\n",
      "Epoch  11 MSE:  0.04057063162326813\n",
      "Epoch  12 MSE:  0.037785325199365616\n",
      "Epoch  13 MSE:  0.02492775022983551\n",
      "Epoch  14 MSE:  0.01649124175310135\n",
      "Epoch  15 MSE:  0.009946776553988457\n",
      "Epoch  16 MSE:  0.00992145761847496\n",
      "Epoch  17 MSE:  0.008973825722932816\n",
      "Epoch  18 MSE:  0.011971866711974144\n",
      "Epoch  19 MSE:  0.007155113387852907\n",
      "Epoch  20 MSE:  0.004316363018006086\n",
      "Epoch  21 MSE:  0.002757361391559243\n",
      "Epoch  22 MSE:  0.0021650823764503\n",
      "Epoch  23 MSE:  0.0038892459124326706\n",
      "Epoch  24 MSE:  0.0044827875681221485\n",
      "Epoch  25 MSE:  0.004095654934644699\n",
      "Epoch  26 MSE:  0.004067639820277691\n",
      "Epoch  27 MSE:  0.003372207982465625\n",
      "Epoch  28 MSE:  0.001960590248927474\n",
      "Epoch  29 MSE:  0.0015106031205505133\n",
      "Epoch  30 MSE:  0.0014131157658994198\n",
      "Epoch  31 MSE:  0.0012740965466946363\n",
      "Epoch  32 MSE:  0.0020592622458934784\n",
      "Epoch  33 MSE:  0.002191476058214903\n",
      "Epoch  34 MSE:  0.0017815515166148543\n",
      "Epoch  35 MSE:  0.0015512825921177864\n",
      "Epoch  36 MSE:  0.0009005358442664146\n",
      "Epoch  37 MSE:  0.0006522821495309472\n",
      "Epoch  38 MSE:  0.000815298524685204\n",
      "Epoch  39 MSE:  0.0007999271620064974\n",
      "Epoch  40 MSE:  0.0009657362243160605\n",
      "Epoch  41 MSE:  0.0011176875559613109\n",
      "Epoch  42 MSE:  0.000971233646851033\n",
      "Epoch  43 MSE:  0.0008514319779351354\n",
      "Epoch  44 MSE:  0.0007610081811435521\n",
      "Epoch  45 MSE:  0.0005344938253983855\n",
      "Epoch  46 MSE:  0.0004917599144391716\n",
      "Epoch  47 MSE:  0.0005388641147874296\n",
      "Epoch  48 MSE:  0.0005296735325828195\n",
      "Epoch  49 MSE:  0.000639356963802129\n",
      "Epoch  50 MSE:  0.0006381781422533095\n",
      "Epoch  51 MSE:  0.0005611901287920773\n",
      "Epoch  52 MSE:  0.0005243320483714342\n",
      "Epoch  53 MSE:  0.00041057696216739714\n",
      "Epoch  54 MSE:  0.00037689649616368115\n",
      "Epoch  55 MSE:  0.0003909592633135617\n",
      "Epoch  56 MSE:  0.000379188364604488\n",
      "Epoch  57 MSE:  0.0004195778747089207\n",
      "Epoch  58 MSE:  0.0004208454629406333\n",
      "Epoch  59 MSE:  0.0003845234459731728\n",
      "Epoch  60 MSE:  0.00036872937926091254\n",
      "Epoch  61 MSE:  0.0003217078628949821\n",
      "Epoch  62 MSE:  0.00029816682217642665\n",
      "Epoch  63 MSE:  0.00030780682573094964\n",
      "Epoch  64 MSE:  0.0003049480146728456\n",
      "Epoch  65 MSE:  0.00032523053232580423\n",
      "Epoch  66 MSE:  0.00032446158002130687\n",
      "Epoch  67 MSE:  0.0003049673105124384\n",
      "Epoch  68 MSE:  0.0002939849509857595\n",
      "Epoch  69 MSE:  0.0002697535965126008\n",
      "Epoch  70 MSE:  0.0002666804357431829\n",
      "Epoch  71 MSE:  0.00026993686333298683\n",
      "Epoch  72 MSE:  0.00026948386221192777\n",
      "Epoch  73 MSE:  0.0002756867033895105\n",
      "Epoch  74 MSE:  0.00026577769313007593\n",
      "Epoch  75 MSE:  0.00025619674124754965\n",
      "Epoch  76 MSE:  0.00024729460710659623\n",
      "Epoch  77 MSE:  0.00023735461581964046\n",
      "Epoch  78 MSE:  0.0002394139301031828\n",
      "Epoch  79 MSE:  0.00023804960073903203\n",
      "Epoch  80 MSE:  0.00023945527209434658\n",
      "Epoch  81 MSE:  0.00023682489700149745\n",
      "Epoch  82 MSE:  0.00022961241484154016\n",
      "Epoch  83 MSE:  0.00022564860410057008\n",
      "Epoch  84 MSE:  0.00021975582058075815\n",
      "Epoch  85 MSE:  0.00021998836018610746\n",
      "Epoch  86 MSE:  0.00021925858163740486\n",
      "Epoch  87 MSE:  0.0002187552017858252\n",
      "Epoch  88 MSE:  0.00021712965099141002\n",
      "Epoch  89 MSE:  0.00021254624880384654\n",
      "Epoch  90 MSE:  0.00020992128702346236\n",
      "Epoch  91 MSE:  0.0002063375141005963\n",
      "Epoch  92 MSE:  0.00020584528101608157\n",
      "Epoch  93 MSE:  0.00020481606770772487\n",
      "Epoch  94 MSE:  0.00020390449208207428\n",
      "Epoch  95 MSE:  0.00020208474597893655\n",
      "Epoch  96 MSE:  0.00019922693900298327\n",
      "Epoch  97 MSE:  0.0001973570469999686\n",
      "Epoch  98 MSE:  0.00019534178136382252\n",
      "Epoch  99 MSE:  0.00019493335275910795\n",
      "Training time: 29.47798800468445\n"
     ]
    }
   ],
   "source": [
    "import time\n",
    "hist = np.zeros(num_epochs)\n",
    "t_hist = np.zeros(num_epochs)\n",
    "start_time = time.time()\n",
    "lstm = []\n",
    "for t in range(num_epochs):\n",
    "    # make predictions\n",
    "    model.train()\n",
    "    y_train_pred = model(x_train)\n",
    "   # print(y_train_pred.shape)\n",
    "    loss = criterion(y_train_pred, y_train)\n",
    "    print(\"Epoch \", t, \"MSE: \", loss.item())\n",
    "    hist[t] = loss.item()\n",
    "    optimizer.zero_grad()\n",
    "    loss.backward()\n",
    "    optimizer.step()\n",
    "\n",
    "    with torch.no_grad():\n",
    "        model.eval()\n",
    "    \n",
    "        y_test_pred = model(x_test)\n",
    "        #print(y_test_pred.shape)\n",
    "        loss_eval = criterion(y_test_pred, y_test)\n",
    "        #print(\"Epoch \", t, \"MSE: \", loss.item())\n",
    "        t_hist[t] = loss_eval.item()\n",
    "    \n",
    "training_time = time.time()-start_time\n",
    "print(\"Training time: {}\".format(training_time))"
   ]
  },
  {
   "cell_type": "code",
   "execution_count": 19,
   "metadata": {},
   "outputs": [],
   "source": [
    "predict = pd.DataFrame(scaler.inverse_transform(y_train_pred.detach().numpy()))\n"
   ]
  },
  {
   "cell_type": "code",
   "execution_count": 20,
   "metadata": {},
   "outputs": [],
   "source": [
    "original = pd.DataFrame(scaler.inverse_transform(y_train.detach().numpy()))"
   ]
  },
  {
   "cell_type": "code",
   "execution_count": 21,
   "metadata": {},
   "outputs": [
    {
     "data": {
      "text/html": [
       "<div>\n",
       "<style scoped>\n",
       "    .dataframe tbody tr th:only-of-type {\n",
       "        vertical-align: middle;\n",
       "    }\n",
       "\n",
       "    .dataframe tbody tr th {\n",
       "        vertical-align: top;\n",
       "    }\n",
       "\n",
       "    .dataframe thead th {\n",
       "        text-align: right;\n",
       "    }\n",
       "</style>\n",
       "<table border=\"1\" class=\"dataframe\">\n",
       "  <thead>\n",
       "    <tr style=\"text-align: right;\">\n",
       "      <th></th>\n",
       "      <th>0</th>\n",
       "    </tr>\n",
       "  </thead>\n",
       "  <tbody>\n",
       "    <tr>\n",
       "      <th>0</th>\n",
       "      <td>132.638474</td>\n",
       "    </tr>\n",
       "    <tr>\n",
       "      <th>1</th>\n",
       "      <td>132.941452</td>\n",
       "    </tr>\n",
       "    <tr>\n",
       "      <th>2</th>\n",
       "      <td>133.166855</td>\n",
       "    </tr>\n",
       "    <tr>\n",
       "      <th>3</th>\n",
       "      <td>133.425064</td>\n",
       "    </tr>\n",
       "    <tr>\n",
       "      <th>4</th>\n",
       "      <td>133.709488</td>\n",
       "    </tr>\n",
       "    <tr>\n",
       "      <th>...</th>\n",
       "      <td>...</td>\n",
       "    </tr>\n",
       "    <tr>\n",
       "      <th>2232</th>\n",
       "      <td>316.303284</td>\n",
       "    </tr>\n",
       "    <tr>\n",
       "      <th>2233</th>\n",
       "      <td>316.754181</td>\n",
       "    </tr>\n",
       "    <tr>\n",
       "      <th>2234</th>\n",
       "      <td>316.886169</td>\n",
       "    </tr>\n",
       "    <tr>\n",
       "      <th>2235</th>\n",
       "      <td>317.040253</td>\n",
       "    </tr>\n",
       "    <tr>\n",
       "      <th>2236</th>\n",
       "      <td>317.550507</td>\n",
       "    </tr>\n",
       "  </tbody>\n",
       "</table>\n",
       "<p>2237 rows × 1 columns</p>\n",
       "</div>"
      ],
      "text/plain": [
       "               0\n",
       "0     132.638474\n",
       "1     132.941452\n",
       "2     133.166855\n",
       "3     133.425064\n",
       "4     133.709488\n",
       "...          ...\n",
       "2232  316.303284\n",
       "2233  316.754181\n",
       "2234  316.886169\n",
       "2235  317.040253\n",
       "2236  317.550507\n",
       "\n",
       "[2237 rows x 1 columns]"
      ]
     },
     "execution_count": 21,
     "metadata": {},
     "output_type": "execute_result"
    }
   ],
   "source": [
    "predict"
   ]
  },
  {
   "cell_type": "code",
   "execution_count": 22,
   "metadata": {},
   "outputs": [
    {
     "name": "stderr",
     "output_type": "stream",
     "text": [
      "C:\\Users\\Pablo\\anaconda3\\envs\\Strive\\lib\\site-packages\\seaborn\\relational.py:436: MatplotlibDeprecationWarning: Case-insensitive properties were deprecated in 3.3 and support will be removed two minor releases later\n",
      "  scout, = ax.plot([], [], **kws)\n",
      "C:\\Users\\Pablo\\anaconda3\\envs\\Strive\\lib\\site-packages\\seaborn\\relational.py:514: MatplotlibDeprecationWarning: Case-insensitive properties were deprecated in 3.3 and support will be removed two minor releases later\n",
      "  line, = ax.plot([], [], **kws)\n",
      "C:\\Users\\Pablo\\anaconda3\\envs\\Strive\\lib\\site-packages\\seaborn\\relational.py:529: MatplotlibDeprecationWarning: Case-insensitive properties were deprecated in 3.3 and support will be removed two minor releases later\n",
      "  line, = ax.plot(x, y, **kws)\n",
      "C:\\Users\\Pablo\\anaconda3\\envs\\Strive\\lib\\site-packages\\seaborn\\relational.py:436: MatplotlibDeprecationWarning: Case-insensitive properties were deprecated in 3.3 and support will be removed two minor releases later\n",
      "  scout, = ax.plot([], [], **kws)\n",
      "C:\\Users\\Pablo\\anaconda3\\envs\\Strive\\lib\\site-packages\\seaborn\\relational.py:514: MatplotlibDeprecationWarning: Case-insensitive properties were deprecated in 3.3 and support will be removed two minor releases later\n",
      "  line, = ax.plot([], [], **kws)\n",
      "C:\\Users\\Pablo\\anaconda3\\envs\\Strive\\lib\\site-packages\\seaborn\\relational.py:529: MatplotlibDeprecationWarning: Case-insensitive properties were deprecated in 3.3 and support will be removed two minor releases later\n",
      "  line, = ax.plot(x, y, **kws)\n"
     ]
    },
    {
     "data": {
      "text/plain": [
       "Text(0.5, 1.0, ' LSTM Loss')"
      ]
     },
     "execution_count": 22,
     "metadata": {},
     "output_type": "execute_result"
    },
    {
     "data": {
      "image/png": "[encoded data removed]",
      "text/plain": [
       "<Figure size 720x576 with 1 Axes>"
      ]
     },
     "metadata": {},
     "output_type": "display_data"
    }
   ],
   "source": [
    "import seaborn as sns\n",
    "sns.set_style(\"darkgrid\")    \n",
    "\n",
    "fig = plt.figure(figsize=(10,8))\n",
    "#fig.subplots_adjust(hspace=0.2, wspace=0.2)\n",
    "\n",
    "# plt.subplot(1, 3, 1)\n",
    "# ax = sns.lineplot(x = original.index, y = original[0], label=\"Data\", color='royalblue')\n",
    "# ax = sns.lineplot(x = predict.index, y = predict[0], label=\"Training Prediction (GRU)\", color='tomato', alpha=0.5)\n",
    "# ax.set_title('Stock price', size = 14, fontweight='bold')\n",
    "# ax.set_xlabel(\"Days\", size = 14)\n",
    "# ax.set_ylabel(\"Cost (USD)\", size = 14)\n",
    "# ax.set_xticklabels('', size=10)\n",
    "\n",
    "\n",
    "ax = sns.lineplot(data=hist, color='royalblue',Label='Training Loss')\n",
    "ax = sns.lineplot(data=t_hist, color='orange',Label='Test Loss')\n",
    "ax.set_xlabel(\"Epoch\", size = 14)\n",
    "ax.set_ylabel(\"Loss\", size = 14)\n",
    "ax.set_title(\" LSTM Loss\", size = 14, fontweight='bold')\n",
    "# fig.set_figheight(6)\n",
    "# fig.set_figheight(8)\n",
    "# fig.set_figwidth(10)\n",
    "\n",
    "# plt.subplot(1, 3, 3)\n",
    "# ax = sns.lineplot(data=t_hist, color='orange')\n",
    "# ax.set_xlabel(\"Epoch\", size = 14)\n",
    "# ax.set_ylabel(\"Loss\", size = 14)\n",
    "# ax.set_title(\"Test Loss\", size = 14, fontweight='bold')\n",
    "# fig.set_figheight(6)\n",
    "# fig.set_figwidth(16)\n",
    "\n"
   ]
  },
  {
   "cell_type": "code",
   "execution_count": 23,
   "metadata": {},
   "outputs": [
    {
     "name": "stdout",
     "output_type": "stream",
     "text": [
      "Train Score: 3.00 RMSE\n",
      "Test Score: 26.13 RMSE\n"
     ]
    }
   ],
   "source": [
    "import math, time\n",
    "from sklearn.metrics import mean_squared_error\n",
    "\n",
    "# make predictions\n",
    "y_test_pred = model(x_test)\n",
    "\n",
    "\n",
    "# invert predictions\n",
    "y_train_pred = scaler.inverse_transform(y_train_pred.detach().numpy())\n",
    "y_train = scaler.inverse_transform(y_train.detach().numpy())\n",
    "y_test_pred = scaler.inverse_transform(y_test_pred.detach().numpy())\n",
    "y_test = scaler.inverse_transform(y_test.detach().numpy())\n",
    "\n",
    "# calculate root mean squared error\n",
    "trainScore = math.sqrt(mean_squared_error(y_train[:,0], y_train_pred[:,0]))\n",
    "print('Train Score: %.2f RMSE' % (trainScore))\n",
    "testScore = math.sqrt(mean_squared_error(y_test[:,0], y_test_pred[:,0]))\n",
    "print('Test Score: %.2f RMSE' % (testScore))\n",
    "lstm.append(trainScore)\n",
    "lstm.append(testScore)\n",
    "lstm.append(training_time)"
   ]
  },
  {
   "cell_type": "code",
   "execution_count": 24,
   "metadata": {},
   "outputs": [
    {
     "data": {
      "text/html": [
       "<div>\n",
       "<style scoped>\n",
       "    .dataframe tbody tr th:only-of-type {\n",
       "        vertical-align: middle;\n",
       "    }\n",
       "\n",
       "    .dataframe tbody tr th {\n",
       "        vertical-align: top;\n",
       "    }\n",
       "\n",
       "    .dataframe thead th {\n",
       "        text-align: right;\n",
       "    }\n",
       "</style>\n",
       "<table border=\"1\" class=\"dataframe\">\n",
       "  <thead>\n",
       "    <tr style=\"text-align: right;\">\n",
       "      <th></th>\n",
       "      <th>0</th>\n",
       "    </tr>\n",
       "  </thead>\n",
       "  <tbody>\n",
       "    <tr>\n",
       "      <th>0</th>\n",
       "      <td>317.508911</td>\n",
       "    </tr>\n",
       "    <tr>\n",
       "      <th>1</th>\n",
       "      <td>317.760803</td>\n",
       "    </tr>\n",
       "    <tr>\n",
       "      <th>2</th>\n",
       "      <td>317.852753</td>\n",
       "    </tr>\n",
       "    <tr>\n",
       "      <th>3</th>\n",
       "      <td>318.129181</td>\n",
       "    </tr>\n",
       "    <tr>\n",
       "      <th>4</th>\n",
       "      <td>318.671753</td>\n",
       "    </tr>\n",
       "    <tr>\n",
       "      <th>...</th>\n",
       "      <td>...</td>\n",
       "    </tr>\n",
       "    <tr>\n",
       "      <th>390</th>\n",
       "      <td>380.271698</td>\n",
       "    </tr>\n",
       "    <tr>\n",
       "      <th>391</th>\n",
       "      <td>380.769165</td>\n",
       "    </tr>\n",
       "    <tr>\n",
       "      <th>392</th>\n",
       "      <td>381.242706</td>\n",
       "    </tr>\n",
       "    <tr>\n",
       "      <th>393</th>\n",
       "      <td>381.484344</td>\n",
       "    </tr>\n",
       "    <tr>\n",
       "      <th>394</th>\n",
       "      <td>381.667297</td>\n",
       "    </tr>\n",
       "  </tbody>\n",
       "</table>\n",
       "<p>395 rows × 1 columns</p>\n",
       "</div>"
      ],
      "text/plain": [
       "              0\n",
       "0    317.508911\n",
       "1    317.760803\n",
       "2    317.852753\n",
       "3    318.129181\n",
       "4    318.671753\n",
       "..          ...\n",
       "390  380.271698\n",
       "391  380.769165\n",
       "392  381.242706\n",
       "393  381.484344\n",
       "394  381.667297\n",
       "\n",
       "[395 rows x 1 columns]"
      ]
     },
     "execution_count": 24,
     "metadata": {},
     "output_type": "execute_result"
    }
   ],
   "source": [
    "yt = pd.DataFrame(y_test_pred)\n",
    "yt"
   ]
  },
  {
   "cell_type": "code",
   "execution_count": 25,
   "metadata": {},
   "outputs": [],
   "source": [
    "exp = pd.concat([predict, yt])\n",
    "exp.columns = ['SPY']\n",
    "exp.to_csv('lstm_pred_spy_corona.csv')"
   ]
  },
  {
   "cell_type": "code",
   "execution_count": 26,
   "metadata": {},
   "outputs": [
    {
     "data": {
      "text/html": [
       "<div>\n",
       "<style scoped>\n",
       "    .dataframe tbody tr th:only-of-type {\n",
       "        vertical-align: middle;\n",
       "    }\n",
       "\n",
       "    .dataframe tbody tr th {\n",
       "        vertical-align: top;\n",
       "    }\n",
       "\n",
       "    .dataframe thead th {\n",
       "        text-align: right;\n",
       "    }\n",
       "</style>\n",
       "<table border=\"1\" class=\"dataframe\">\n",
       "  <thead>\n",
       "    <tr style=\"text-align: right;\">\n",
       "      <th></th>\n",
       "      <th>SPY</th>\n",
       "    </tr>\n",
       "  </thead>\n",
       "  <tbody>\n",
       "    <tr>\n",
       "      <th>0</th>\n",
       "      <td>132.638474</td>\n",
       "    </tr>\n",
       "    <tr>\n",
       "      <th>1</th>\n",
       "      <td>132.941452</td>\n",
       "    </tr>\n",
       "    <tr>\n",
       "      <th>2</th>\n",
       "      <td>133.166855</td>\n",
       "    </tr>\n",
       "    <tr>\n",
       "      <th>3</th>\n",
       "      <td>133.425064</td>\n",
       "    </tr>\n",
       "    <tr>\n",
       "      <th>4</th>\n",
       "      <td>133.709488</td>\n",
       "    </tr>\n",
       "    <tr>\n",
       "      <th>...</th>\n",
       "      <td>...</td>\n",
       "    </tr>\n",
       "    <tr>\n",
       "      <th>390</th>\n",
       "      <td>380.271698</td>\n",
       "    </tr>\n",
       "    <tr>\n",
       "      <th>391</th>\n",
       "      <td>380.769165</td>\n",
       "    </tr>\n",
       "    <tr>\n",
       "      <th>392</th>\n",
       "      <td>381.242706</td>\n",
       "    </tr>\n",
       "    <tr>\n",
       "      <th>393</th>\n",
       "      <td>381.484344</td>\n",
       "    </tr>\n",
       "    <tr>\n",
       "      <th>394</th>\n",
       "      <td>381.667297</td>\n",
       "    </tr>\n",
       "  </tbody>\n",
       "</table>\n",
       "<p>2632 rows × 1 columns</p>\n",
       "</div>"
      ],
      "text/plain": [
       "            SPY\n",
       "0    132.638474\n",
       "1    132.941452\n",
       "2    133.166855\n",
       "3    133.425064\n",
       "4    133.709488\n",
       "..          ...\n",
       "390  380.271698\n",
       "391  380.769165\n",
       "392  381.242706\n",
       "393  381.484344\n",
       "394  381.667297\n",
       "\n",
       "[2632 rows x 1 columns]"
      ]
     },
     "execution_count": 26,
     "metadata": {},
     "output_type": "execute_result"
    }
   ],
   "source": [
    "exp"
   ]
  },
  {
   "cell_type": "code",
   "execution_count": 27,
   "metadata": {},
   "outputs": [],
   "source": [
    "# shift train predictions for plotting\n",
    "trainPredictPlot = np.empty_like(df1)\n",
    "trainPredictPlot[:, :] = np.nan\n",
    "trainPredictPlot[lookback:len(y_train_pred)+lookback, :] = y_train_pred\n",
    "\n",
    "# shift test predictions for plotting\n",
    "testPredictPlot = np.empty_like(df1)\n",
    "testPredictPlot[:, :] = np.nan\n",
    "testPredictPlot[len(y_train_pred)+lookback-1:len(df1)-1, :] = y_test_pred\n",
    "\n",
    "originals = df1.SPY.values.reshape(-1,1)\n",
    "\n",
    "predictions = np.append(trainPredictPlot, testPredictPlot, axis=1)\n",
    "predictions = np.append(predictions, originals, axis=1)\n",
    "\n",
    "result = pd.DataFrame(predictions)\n",
    "result = pd.concat([df2.Date, result], axis=1)\n",
    "result.to_csv('LSTM_predictions_covid.csv')\t"
   ]
  },
  {
   "cell_type": "code",
   "execution_count": 28,
   "metadata": {},
   "outputs": [
    {
     "data": {
      "text/html": [
       "<div>\n",
       "<style scoped>\n",
       "    .dataframe tbody tr th:only-of-type {\n",
       "        vertical-align: middle;\n",
       "    }\n",
       "\n",
       "    .dataframe tbody tr th {\n",
       "        vertical-align: top;\n",
       "    }\n",
       "\n",
       "    .dataframe thead th {\n",
       "        text-align: right;\n",
       "    }\n",
       "</style>\n",
       "<table border=\"1\" class=\"dataframe\">\n",
       "  <thead>\n",
       "    <tr style=\"text-align: right;\">\n",
       "      <th></th>\n",
       "      <th>Date</th>\n",
       "      <th>0</th>\n",
       "      <th>1</th>\n",
       "      <th>2</th>\n",
       "    </tr>\n",
       "  </thead>\n",
       "  <tbody>\n",
       "    <tr>\n",
       "      <th>0</th>\n",
       "      <td>2011-01-03</td>\n",
       "      <td>NaN</td>\n",
       "      <td>NaN</td>\n",
       "      <td>127.050003</td>\n",
       "    </tr>\n",
       "    <tr>\n",
       "      <th>1</th>\n",
       "      <td>2011-01-04</td>\n",
       "      <td>NaN</td>\n",
       "      <td>NaN</td>\n",
       "      <td>126.980003</td>\n",
       "    </tr>\n",
       "    <tr>\n",
       "      <th>2</th>\n",
       "      <td>2011-01-05</td>\n",
       "      <td>NaN</td>\n",
       "      <td>NaN</td>\n",
       "      <td>127.639999</td>\n",
       "    </tr>\n",
       "    <tr>\n",
       "      <th>3</th>\n",
       "      <td>2011-01-06</td>\n",
       "      <td>NaN</td>\n",
       "      <td>NaN</td>\n",
       "      <td>127.389999</td>\n",
       "    </tr>\n",
       "    <tr>\n",
       "      <th>4</th>\n",
       "      <td>2011-01-07</td>\n",
       "      <td>NaN</td>\n",
       "      <td>NaN</td>\n",
       "      <td>127.139999</td>\n",
       "    </tr>\n",
       "    <tr>\n",
       "      <th>...</th>\n",
       "      <td>...</td>\n",
       "      <td>...</td>\n",
       "      <td>...</td>\n",
       "      <td>...</td>\n",
       "    </tr>\n",
       "    <tr>\n",
       "      <th>2657</th>\n",
       "      <td>2021-07-26</td>\n",
       "      <td>NaN</td>\n",
       "      <td>380.769165</td>\n",
       "      <td>441.019989</td>\n",
       "    </tr>\n",
       "    <tr>\n",
       "      <th>2658</th>\n",
       "      <td>2021-07-27</td>\n",
       "      <td>NaN</td>\n",
       "      <td>381.242706</td>\n",
       "      <td>439.010010</td>\n",
       "    </tr>\n",
       "    <tr>\n",
       "      <th>2659</th>\n",
       "      <td>2021-07-28</td>\n",
       "      <td>NaN</td>\n",
       "      <td>381.484344</td>\n",
       "      <td>438.829987</td>\n",
       "    </tr>\n",
       "    <tr>\n",
       "      <th>2660</th>\n",
       "      <td>2021-07-29</td>\n",
       "      <td>NaN</td>\n",
       "      <td>381.667297</td>\n",
       "      <td>440.649994</td>\n",
       "    </tr>\n",
       "    <tr>\n",
       "      <th>2661</th>\n",
       "      <td>2021-07-30</td>\n",
       "      <td>NaN</td>\n",
       "      <td>NaN</td>\n",
       "      <td>438.510010</td>\n",
       "    </tr>\n",
       "  </tbody>\n",
       "</table>\n",
       "<p>2662 rows × 4 columns</p>\n",
       "</div>"
      ],
      "text/plain": [
       "           Date   0           1           2\n",
       "0    2011-01-03 NaN         NaN  127.050003\n",
       "1    2011-01-04 NaN         NaN  126.980003\n",
       "2    2011-01-05 NaN         NaN  127.639999\n",
       "3    2011-01-06 NaN         NaN  127.389999\n",
       "4    2011-01-07 NaN         NaN  127.139999\n",
       "...         ...  ..         ...         ...\n",
       "2657 2021-07-26 NaN  380.769165  441.019989\n",
       "2658 2021-07-27 NaN  381.242706  439.010010\n",
       "2659 2021-07-28 NaN  381.484344  438.829987\n",
       "2660 2021-07-29 NaN  381.667297  440.649994\n",
       "2661 2021-07-30 NaN         NaN  438.510010\n",
       "\n",
       "[2662 rows x 4 columns]"
      ]
     },
     "execution_count": 28,
     "metadata": {},
     "output_type": "execute_result"
    }
   ],
   "source": [
    "result"
   ]
  },
  {
   "cell_type": "code",
   "execution_count": 29,
   "metadata": {},
   "outputs": [],
   "source": [
    "error = []\n",
    "for i in range(len(y_test_pred)):\n",
    "    error.append(y_test_pred[i]-y_test[i])\n",
    "error = np.array(error)"
   ]
  },
  {
   "cell_type": "code",
   "execution_count": 30,
   "metadata": {},
   "outputs": [
    {
     "data": {
      "image/png": "[encoded data removed]",
      "text/plain": [
       "<Figure size 432x288 with 1 Axes>"
      ]
     },
     "metadata": {},
     "output_type": "display_data"
    }
   ],
   "source": [
    "plt.scatter(y_test_pred, error)\n",
    "plt.xlabel('Price Predictions')\n",
    "plt.ylabel('Error')\n",
    "plt.title('Error values on test data of SPY')\n",
    "plt.show()\n",
    "\n"
   ]
  },
  {
   "cell_type": "code",
   "execution_count": 31,
   "metadata": {},
   "outputs": [
    {
     "data": {
      "text/plain": [
       "Text(0.5, 1.0, 'LSTM Error values on test data of SPY')"
      ]
     },
     "execution_count": 31,
     "metadata": {},
     "output_type": "execute_result"
    },
    {
     "data": {
      "image/png": "[encoded data removed]",
      "text/plain": [
       "<Figure size 401.625x360 with 1 Axes>"
      ]
     },
     "metadata": {},
     "output_type": "display_data"
    }
   ],
   "source": [
    "sns.displot(error, kde =True)\n",
    "plt.xlabel('Error')\n",
    "plt.ylabel('Frequency')\n",
    "plt.title('LSTM Error values on test data of SPY')"
   ]
  },
  {
   "cell_type": "code",
   "execution_count": 32,
   "metadata": {},
   "outputs": [
    {
     "data": {
      "text/plain": [
       "-18.324394"
      ]
     },
     "execution_count": 32,
     "metadata": {},
     "output_type": "execute_result"
    }
   ],
   "source": [
    "error.mean()\n"
   ]
  },
  {
   "cell_type": "code",
   "execution_count": 33,
   "metadata": {},
   "outputs": [
    {
     "data": {
      "text/plain": [
       "103.65877"
      ]
     },
     "execution_count": 33,
     "metadata": {},
     "output_type": "execute_result"
    }
   ],
   "source": [
    "error.max() - error.min()   "
   ]
  },
  {
   "cell_type": "code",
   "execution_count": null,
   "metadata": {},
   "outputs": [],
   "source": []
  }
 ],
 "metadata": {
  "interpreter": {
   "hash": "50a93f2fecfd00da27f8930a2c1c74e92db967b2162384b3e8848f4306dc0d4b"
  },
  "kernelspec": {
   "display_name": "Python 3 (ipykernel)",
   "language": "python",
   "name": "python3"
  },
  "language_info": {
   "codemirror_mode": {
    "name": "ipython",
    "version": 3
   },
   "file_extension": ".py",
   "mimetype": "text/x-python",
   "name": "python",
   "nbconvert_exporter": "python",
   "pygments_lexer": "ipython3",
   "version": "3.8.11"
  }
 },
 "nbformat": 4,
 "nbformat_minor": 2
}
