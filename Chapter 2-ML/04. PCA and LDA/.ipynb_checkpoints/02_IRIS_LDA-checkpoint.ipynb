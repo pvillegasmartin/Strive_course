{
 "cells": [
  {
   "cell_type": "code",
   "execution_count": 1,
   "metadata": {},
   "outputs": [],
   "source": [
    "# Import needed packages\n",
    "# You may add or remove packages should you need them\n",
    "import numpy as np\n",
    "import matplotlib\n",
    "import matplotlib.pyplot as plt\n",
    "import seaborn as sns\n",
    "import pandas as pd\n",
    "from sklearn.datasets import load_iris\n",
    "from sklearn import model_selection\n",
    "from sklearn.preprocessing import StandardScaler\n",
    "from sklearn import preprocessing\n",
    "from sklearn.model_selection import KFold, LeaveOneOut, cross_val_score\n",
    "\n",
    "# Set random seed\n",
    "np.random.seed(0)\n",
    "\n",
    "# Display plots inline and change plot resolution to retina\n",
    "%matplotlib inline\n",
    "%config InlineBackend.figure_format = 'retina'\n",
    "# Set Seaborn aesthetic parameters to defaults\n",
    "sns.set()"
   ]
  },
  {
   "cell_type": "code",
   "execution_count": 2,
   "metadata": {},
   "outputs": [],
   "source": [
    "# Load the Iris dataset included with scikit-learn\n",
    "iris = load_iris()"
   ]
  },
  {
   "cell_type": "code",
   "execution_count": 3,
   "metadata": {},
   "outputs": [],
   "source": [
    "# Put data in a pandas DataFrame\n",
    "df_iris = pd.DataFrame(iris.data, columns=iris.feature_names)"
   ]
  },
  {
   "cell_type": "code",
   "execution_count": 4,
   "metadata": {},
   "outputs": [],
   "source": [
    "# Add target and class to DataFrame\n",
    "df_iris[\"target\"] = iris.target\n",
    "df_iris[\"class\"] = iris.target_names[iris.target]"
   ]
  },
  {
   "cell_type": "code",
   "execution_count": 5,
   "metadata": {},
   "outputs": [
    {
     "data": {
      "text/html": [
       "<div>\n",
       "<style scoped>\n",
       "    .dataframe tbody tr th:only-of-type {\n",
       "        vertical-align: middle;\n",
       "    }\n",
       "\n",
       "    .dataframe tbody tr th {\n",
       "        vertical-align: top;\n",
       "    }\n",
       "\n",
       "    .dataframe thead th {\n",
       "        text-align: right;\n",
       "    }\n",
       "</style>\n",
       "<table border=\"1\" class=\"dataframe\">\n",
       "  <thead>\n",
       "    <tr style=\"text-align: right;\">\n",
       "      <th></th>\n",
       "      <th>sepal length (cm)</th>\n",
       "      <th>sepal width (cm)</th>\n",
       "      <th>petal length (cm)</th>\n",
       "      <th>petal width (cm)</th>\n",
       "      <th>target</th>\n",
       "      <th>class</th>\n",
       "    </tr>\n",
       "  </thead>\n",
       "  <tbody>\n",
       "    <tr>\n",
       "      <th>114</th>\n",
       "      <td>5.8</td>\n",
       "      <td>2.8</td>\n",
       "      <td>5.1</td>\n",
       "      <td>2.4</td>\n",
       "      <td>2</td>\n",
       "      <td>virginica</td>\n",
       "    </tr>\n",
       "    <tr>\n",
       "      <th>62</th>\n",
       "      <td>6.0</td>\n",
       "      <td>2.2</td>\n",
       "      <td>4.0</td>\n",
       "      <td>1.0</td>\n",
       "      <td>1</td>\n",
       "      <td>versicolor</td>\n",
       "    </tr>\n",
       "    <tr>\n",
       "      <th>33</th>\n",
       "      <td>5.5</td>\n",
       "      <td>4.2</td>\n",
       "      <td>1.4</td>\n",
       "      <td>0.2</td>\n",
       "      <td>0</td>\n",
       "      <td>setosa</td>\n",
       "    </tr>\n",
       "    <tr>\n",
       "      <th>107</th>\n",
       "      <td>7.3</td>\n",
       "      <td>2.9</td>\n",
       "      <td>6.3</td>\n",
       "      <td>1.8</td>\n",
       "      <td>2</td>\n",
       "      <td>virginica</td>\n",
       "    </tr>\n",
       "    <tr>\n",
       "      <th>7</th>\n",
       "      <td>5.0</td>\n",
       "      <td>3.4</td>\n",
       "      <td>1.5</td>\n",
       "      <td>0.2</td>\n",
       "      <td>0</td>\n",
       "      <td>setosa</td>\n",
       "    </tr>\n",
       "    <tr>\n",
       "      <th>100</th>\n",
       "      <td>6.3</td>\n",
       "      <td>3.3</td>\n",
       "      <td>6.0</td>\n",
       "      <td>2.5</td>\n",
       "      <td>2</td>\n",
       "      <td>virginica</td>\n",
       "    </tr>\n",
       "    <tr>\n",
       "      <th>40</th>\n",
       "      <td>5.0</td>\n",
       "      <td>3.5</td>\n",
       "      <td>1.3</td>\n",
       "      <td>0.3</td>\n",
       "      <td>0</td>\n",
       "      <td>setosa</td>\n",
       "    </tr>\n",
       "    <tr>\n",
       "      <th>86</th>\n",
       "      <td>6.7</td>\n",
       "      <td>3.1</td>\n",
       "      <td>4.7</td>\n",
       "      <td>1.5</td>\n",
       "      <td>1</td>\n",
       "      <td>versicolor</td>\n",
       "    </tr>\n",
       "    <tr>\n",
       "      <th>76</th>\n",
       "      <td>6.8</td>\n",
       "      <td>2.8</td>\n",
       "      <td>4.8</td>\n",
       "      <td>1.4</td>\n",
       "      <td>1</td>\n",
       "      <td>versicolor</td>\n",
       "    </tr>\n",
       "    <tr>\n",
       "      <th>71</th>\n",
       "      <td>6.1</td>\n",
       "      <td>2.8</td>\n",
       "      <td>4.0</td>\n",
       "      <td>1.3</td>\n",
       "      <td>1</td>\n",
       "      <td>versicolor</td>\n",
       "    </tr>\n",
       "  </tbody>\n",
       "</table>\n",
       "</div>"
      ],
      "text/plain": [
       "     sepal length (cm)  sepal width (cm)  petal length (cm)  petal width (cm)  \\\n",
       "114                5.8               2.8                5.1               2.4   \n",
       "62                 6.0               2.2                4.0               1.0   \n",
       "33                 5.5               4.2                1.4               0.2   \n",
       "107                7.3               2.9                6.3               1.8   \n",
       "7                  5.0               3.4                1.5               0.2   \n",
       "100                6.3               3.3                6.0               2.5   \n",
       "40                 5.0               3.5                1.3               0.3   \n",
       "86                 6.7               3.1                4.7               1.5   \n",
       "76                 6.8               2.8                4.8               1.4   \n",
       "71                 6.1               2.8                4.0               1.3   \n",
       "\n",
       "     target       class  \n",
       "114       2   virginica  \n",
       "62        1  versicolor  \n",
       "33        0      setosa  \n",
       "107       2   virginica  \n",
       "7         0      setosa  \n",
       "100       2   virginica  \n",
       "40        0      setosa  \n",
       "86        1  versicolor  \n",
       "76        1  versicolor  \n",
       "71        1  versicolor  "
      ]
     },
     "execution_count": 5,
     "metadata": {},
     "output_type": "execute_result"
    }
   ],
   "source": [
    "# Show 10 random samples\n",
    "df_iris.sample(n=10)"
   ]
  },
  {
   "cell_type": "code",
   "execution_count": 6,
   "metadata": {},
   "outputs": [],
   "source": [
    "# now... implement the LDA (bear in mind that you do pass it the y's and it is supervised!)\n",
    "from sklearn.discriminant_analysis import LinearDiscriminantAnalysis\n",
    "lda = LinearDiscriminantAnalysis()\n"
   ]
  },
  {
   "cell_type": "code",
   "execution_count": 7,
   "metadata": {},
   "outputs": [],
   "source": [
    "# same process as always, identify your X's and your y's\n",
    "X,y = df_iris.iloc[:,0:-2],df_iris.iloc[:,-2]"
   ]
  },
  {
   "cell_type": "code",
   "execution_count": 8,
   "metadata": {},
   "outputs": [],
   "source": [
    "#train-test-split\n",
    "X_train, X_test, y_train, y_test = model_selection.train_test_split(X,y, test_size=0.3, random_state=0)"
   ]
  },
  {
   "cell_type": "code",
   "execution_count": 9,
   "metadata": {},
   "outputs": [],
   "source": [
    "# Scale the X's\n",
    "scaler = StandardScaler()\n",
    "X_train_scaled = scaler.fit_transform(X_train)\n",
    "X_test_scaled = scaler.transform(X_test)"
   ]
  },
  {
   "cell_type": "code",
   "execution_count": 13,
   "metadata": {},
   "outputs": [],
   "source": [
    "# apply the lda transformation\n",
    "from sklearn.discriminant_analysis import LinearDiscriminantAnalysis\n",
    "lda = LinearDiscriminantAnalysis()\n",
    "X_train_lda = lda.fit(X_train_scaled,y_train).transform(X_train_scaled)\n",
    "X_test_lda = lda.transform(X_test_scaled)"
   ]
  },
  {
   "cell_type": "code",
   "execution_count": 14,
   "metadata": {},
   "outputs": [
    {
     "data": {
      "text/plain": [
       "array([[-0.93534728,  2.56340654],\n",
       "       [-4.9854655 ,  0.12984179],\n",
       "       [-6.71818728, -2.28054655],\n",
       "       [-4.50416279,  2.1562057 ],\n",
       "       [-6.05586017,  1.42531684],\n",
       "       [-0.85339282,  1.58864502],\n",
       "       [-6.24525673, -0.85251282],\n",
       "       [-2.35585784, -0.7209366 ],\n",
       "       [-0.84540183,  1.70265893],\n",
       "       [-4.07198666,  0.13954656],\n",
       "       [-3.67867911,  0.99586764],\n",
       "       [-4.85461429,  0.63957594],\n",
       "       [-4.815563  ,  0.36717819],\n",
       "       [-1.03351774, -0.06914412],\n",
       "       [-4.74968477, -0.75150098],\n",
       "       [-2.12692883, -1.0841014 ],\n",
       "       [ 6.96274732,  0.6311119 ],\n",
       "       [-5.49216896,  0.15037761],\n",
       "       [-1.90661334,  0.93348185],\n",
       "       [-0.15965983, -0.10313754],\n",
       "       [-1.76011418,  1.14487246],\n",
       "       [-2.18415219,  0.38057744],\n",
       "       [-5.10785032,  0.13432765],\n",
       "       [ 8.5552578 , -0.77296709],\n",
       "       [ 7.72225853,  0.67356318],\n",
       "       [-5.21505839,  0.26102083],\n",
       "       [-1.17102799,  0.59183631],\n",
       "       [ 7.83631832,  0.02869204],\n",
       "       [ 9.35553499, -2.82342858],\n",
       "       [-2.04611942,  0.07774803],\n",
       "       [ 6.95470921,  0.55915308],\n",
       "       [-4.75658361, -0.19126793],\n",
       "       [ 0.77098739,  0.72473184],\n",
       "       [ 7.28956566, -0.43673152],\n",
       "       [-2.97814729,  1.59676503],\n",
       "       [-6.73412215, -2.55062945],\n",
       "       [-1.54712004,  0.51162475],\n",
       "       [ 7.6158557 ,  0.90607686],\n",
       "       [-5.99915933, -0.39751302],\n",
       "       [-6.04843305, -1.54556801],\n",
       "       [-6.79087011, -0.68574451],\n",
       "       [-6.38276697, -0.19153239],\n",
       "       [ 8.1557153 , -0.83706936],\n",
       "       [ 7.30621152,  0.02328206],\n",
       "       [-4.26771241, -1.26195412],\n",
       "       [-5.67177136, -1.14926051],\n",
       "       [ 6.15267599,  1.70338185],\n",
       "       [-5.97408842, -2.15002716],\n",
       "       [ 7.48476889,  0.60661814],\n",
       "       [-5.86027001,  0.18417995],\n",
       "       [-4.88072446, -1.09301479],\n",
       "       [ 7.31415539,  0.17935106],\n",
       "       [ 8.30221445, -0.62567875],\n",
       "       [-4.30762603,  0.89472407],\n",
       "       [ 8.05663958, -0.72252753],\n",
       "       [ 7.08517926,  0.58457095],\n",
       "       [ 7.88555069, -1.55000071],\n",
       "       [-1.98909032,  1.55009235],\n",
       "       [-6.68494268, -1.3184643 ],\n",
       "       [-7.11754709,  0.25593366],\n",
       "       [ 8.31824356, -0.43970602],\n",
       "       [ 7.34626073,  0.50924144],\n",
       "       [ 8.33427267, -0.25373329],\n",
       "       [-2.4205968 ,  1.02993444],\n",
       "       [-1.02557387,  0.08692487],\n",
       "       [ 8.35025465, -0.02570547],\n",
       "       [ 6.5454668 , -0.56725091],\n",
       "       [-0.88649607,  0.50039751],\n",
       "       [ 7.81910282, -0.74741748],\n",
       "       [-8.72717883,  0.79979296],\n",
       "       [-0.10191972,  1.55913747],\n",
       "       [-5.04249461, -1.34250254],\n",
       "       [-0.78056863, -0.13232228],\n",
       "       [ 9.14429688, -1.28394815],\n",
       "       [-3.86707774, -0.52360489],\n",
       "       [10.31029655, -1.77968274],\n",
       "       [-7.2073983 ,  1.0325711 ],\n",
       "       [ 8.14710755, -1.22512412],\n",
       "       [ 6.94671822,  0.44513917],\n",
       "       [-5.81936845,  0.73390475],\n",
       "       [ 7.95875026, -0.01784891],\n",
       "       [-6.61116769, -2.23901938],\n",
       "       [-1.40861187,  0.60900144],\n",
       "       [-0.62498633,  0.86732919],\n",
       "       [ 0.66520132,  1.23128637],\n",
       "       [-5.68903398, -1.88331494],\n",
       "       [-5.27346237, -1.63323994],\n",
       "       [-3.51615085,  1.39323098],\n",
       "       [-3.19784602, -0.14677737],\n",
       "       [ 7.1092936 ,  0.80044742],\n",
       "       [-0.33080162,  1.88024719],\n",
       "       [-6.4325632 , -1.6977384 ],\n",
       "       [-5.49216896,  0.15037761],\n",
       "       [ 7.95075926, -0.13186282],\n",
       "       [-1.38445042,  0.78282283],\n",
       "       [-1.31015292,  0.22041876],\n",
       "       [-3.76861878, -0.91218757],\n",
       "       [-1.95693786,  1.83792765],\n",
       "       [ 9.09330848, -0.61148812],\n",
       "       [ 7.7710155 , -1.30533568],\n",
       "       [ 7.60786471,  0.79206295],\n",
       "       [-5.61398414,  0.47095941],\n",
       "       [-0.60777083,  1.64343871],\n",
       "       [-6.5857256 , -1.55917138],\n",
       "       [ 7.32219351,  0.25130988]])"
      ]
     },
     "execution_count": 14,
     "metadata": {},
     "output_type": "execute_result"
    }
   ],
   "source": [
    "# select 2 principal components\n",
    "X_train_lda"
   ]
  },
  {
   "cell_type": "code",
   "execution_count": 15,
   "metadata": {},
   "outputs": [
    {
     "data": {
      "text/plain": [
       "array([[ 1.13900041, -0.14519003],\n",
       "       [ 0.5028995 , -0.88998308],\n",
       "       [-4.54370903,  1.8899462 ],\n",
       "       [-2.03103272, -2.19576071]])"
      ]
     },
     "execution_count": 15,
     "metadata": {},
     "output_type": "execute_result"
    }
   ],
   "source": [
    "# take a look at the new axes for the data and plot them\n",
    "lda.scalings_"
   ]
  },
  {
   "cell_type": "code",
   "execution_count": 16,
   "metadata": {},
   "outputs": [
    {
     "data": {
      "text/plain": [
       "array([0.99231557, 0.00768443])"
      ]
     },
     "execution_count": 16,
     "metadata": {},
     "output_type": "execute_result"
    }
   ],
   "source": [
    "# what about the variability?\n",
    "lda.explained_variance_ratio_"
   ]
  },
  {
   "cell_type": "code",
   "execution_count": 17,
   "metadata": {},
   "outputs": [
    {
     "data": {
      "text/plain": [
       "0.9777777777777777"
      ]
     },
     "execution_count": 17,
     "metadata": {},
     "output_type": "execute_result"
    }
   ],
   "source": [
    "# Run a Random Forest Classifier with the transformed data\n",
    "from sklearn.ensemble import RandomForestClassifier\n",
    "from sklearn import metrics\n",
    "forest_lda = RandomForestClassifier()\n",
    "forest_lda.fit(X_train_lda, y_train)\n",
    "y_pred_lda = forest_lda.predict(X_test_lda)\n",
    "metrics.accuracy_score(y_test, y_pred_lda)"
   ]
  },
  {
   "cell_type": "code",
   "execution_count": 18,
   "metadata": {},
   "outputs": [
    {
     "data": {
      "text/plain": [
       "0.4"
      ]
     },
     "execution_count": 18,
     "metadata": {},
     "output_type": "execute_result"
    }
   ],
   "source": [
    "#Check the new acuracy! Is it higher or lower than what you obtain selecting 2 features and applying a Random Forest Directly?\n",
    "forest = RandomForestClassifier()\n",
    "forest.fit(X_train_scaled[:,:2], y_train)\n",
    "y_pred = forest_lda.predict(X_test_scaled[:,:2])\n",
    "metrics.accuracy_score(y_test, y_pred)"
   ]
  },
  {
   "cell_type": "code",
   "execution_count": null,
   "metadata": {},
   "outputs": [],
   "source": []
  }
 ],
 "metadata": {
  "kernelspec": {
   "display_name": "Python 3",
   "language": "python",
   "name": "python3"
  },
  "language_info": {
   "codemirror_mode": {
    "name": "ipython",
    "version": 3
   },
   "file_extension": ".py",
   "mimetype": "text/x-python",
   "name": "python",
   "nbconvert_exporter": "python",
   "pygments_lexer": "ipython3",
   "version": "3.8.5"
  }
 },
 "nbformat": 4,
 "nbformat_minor": 2
}
