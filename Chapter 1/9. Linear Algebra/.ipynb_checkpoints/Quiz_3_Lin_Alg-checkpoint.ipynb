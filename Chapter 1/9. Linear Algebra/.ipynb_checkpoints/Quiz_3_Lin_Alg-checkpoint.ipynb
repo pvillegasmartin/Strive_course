{
 "cells": [
  {
   "cell_type": "markdown",
   "metadata": {},
   "source": [
    "## Linear Algebra Quiz #3\n",
    "\n",
    "![title](./img/3_0.jpeg)\n",
    "\n",
    "We strongly suggest working with numpy :)"
   ]
  },
  {
   "cell_type": "code",
   "execution_count": 1,
   "metadata": {},
   "outputs": [],
   "source": [
    "#Do your imports here\n",
    "import numpy as np"
   ]
  },
  {
   "cell_type": "markdown",
   "metadata": {},
   "source": [
    "![title](./img/3_2.png)\n",
    "![title](./img/3_3.png)\n",
    "Create a program that can output\n",
    "\n",
    "- What is the value of element c23​ of Matrix C where C=A x B ?\n",
    "- What is the value of element c23​ of Matrix C where C=B x A ?"
   ]
  },
  {
   "cell_type": "code",
   "execution_count": 32,
   "metadata": {},
   "outputs": [
    {
     "name": "stdout",
     "output_type": "stream",
     "text": [
      "-1.0\n",
      "-1.0\n"
     ]
    }
   ],
   "source": [
    "# okay numpy is great but... how would you inverse a matrix by hand?\n",
    "\n",
    "def inverse_matrix(A):\n",
    "    inverse = np.ones((A.shape[1],A.shape[0]))\n",
    "    for i in range(0,A.shape[0]):\n",
    "        for j in range(0,A.shape[1]):\n",
    "            inverse[j][i]=A[i][j]\n",
    "    return inverse\n",
    "\n",
    "A = np.array([[3,1,2],[-5,4,1],[0,3,-8]])\n",
    "B = np.array([[0,5,-1],[3,2,-1],[10,0.5,4]])\n",
    "rest = A*B\n",
    "print(rest[1][2])\n",
    "rest = B*A\n",
    "print(rest[1][2])\n"
   ]
  },
  {
   "cell_type": "markdown",
   "metadata": {},
   "source": [
    "![title](./img/3_1.png)\n",
    "Create a program that can output\n",
    "\n",
    "- What is the value of the ijth element if i = 2 and j=3?\n",
    "- What is the value of the ijth element if i = 3 and j=1?"
   ]
  },
  {
   "cell_type": "code",
   "execution_count": 37,
   "metadata": {},
   "outputs": [
    {
     "name": "stdout",
     "output_type": "stream",
     "text": [
      "-2.7\n",
      "4.4\n"
     ]
    }
   ],
   "source": [
    "# Just answer using code --> easy stuff!\n",
    "\n",
    "def matrix_solver(matrixs,sequence):\n",
    "    i=1\n",
    "    res = matrixs[0]\n",
    "    while i<len(matrixs):\n",
    "        if sequence[i-1]=='add':\n",
    "            res += matrixs[i]\n",
    "            i+=1\n",
    "        elif sequence[i-1]=='substract':\n",
    "            res -= matrixs[i]\n",
    "            i+=1\n",
    "        elif sequence[i-1]=='multiply':\n",
    "            res *= matrixs[i]\n",
    "            i+=1\n",
    "        elif sequence[i-1]=='transpose':\n",
    "            res = inverse_matrix(res)\n",
    "        \n",
    "    return res\n",
    "            \n",
    "A=np.array([[3,0.6,4,-3],[-1.3,4,0,8.6],[7,0,-8,0.006]])\n",
    "B=np.array([[3,-5.76,45,0],[2,-2,1.3,9],[-9,0,0,0]])\n",
    "C=np.array([[0,1009,-66.7849,90],[0,5,4,-0.07],[-7.7,0,0,0]])\n",
    "        \n",
    "print(matrix_solver((A,B,C),[\"add\",\"substract\"])[1][2])\n",
    "print(matrix_solver((A,B,C),[\"add\",\"substract\"])[2][0])\n",
    "\n",
    "# Harder\n",
    "# Can you build a matrix solver that can do output the result given n matrices and a sequence of operations such as [add subtract multiply transpose?]\n",
    "#Some ideas on valid operations: Multiplication Addition Subtraction Inverstion Transposed. "
   ]
  },
  {
   "cell_type": "markdown",
   "metadata": {},
   "source": [
    "![title](./img/3_3.png)\n",
    "Create a program that can output\n",
    "- How many rows will C have?\n",
    "- How many columns will C have?\n",
    "- What will be the value of c13​?"
   ]
  },
  {
   "cell_type": "code",
   "execution_count": 43,
   "metadata": {},
   "outputs": [
    {
     "name": "stdout",
     "output_type": "stream",
     "text": [
      "5\n",
      "3\n",
      "26.0\n"
     ]
    }
   ],
   "source": [
    "A=np.array([[0.6,-15,2,5,98]])\n",
    "B=np.array([[2,9,13,1,0],[2,-14,-0.5,9,0],[-4,0,44,4,5]])\n",
    "print(A.shape[1])#nrows\n",
    "print(B.shape[0])#ncolumns\n",
    "print((A*B)[0][2])"
   ]
  },
  {
   "cell_type": "code",
   "execution_count": null,
   "metadata": {},
   "outputs": [],
   "source": []
  }
 ],
 "metadata": {
  "kernelspec": {
   "display_name": "Python 3",
   "language": "python",
   "name": "python3"
  },
  "language_info": {
   "codemirror_mode": {
    "name": "ipython",
    "version": 3
   },
   "file_extension": ".py",
   "mimetype": "text/x-python",
   "name": "python",
   "nbconvert_exporter": "python",
   "pygments_lexer": "ipython3",
   "version": "3.8.5"
  },
  "varInspector": {
   "cols": {
    "lenName": 16,
    "lenType": 16,
    "lenVar": 40
   },
   "kernels_config": {
    "python": {
     "delete_cmd_postfix": "",
     "delete_cmd_prefix": "del ",
     "library": "var_list.py",
     "varRefreshCmd": "print(var_dic_list())"
    },
    "r": {
     "delete_cmd_postfix": ") ",
     "delete_cmd_prefix": "rm(",
     "library": "var_list.r",
     "varRefreshCmd": "cat(var_dic_list()) "
    }
   },
   "types_to_exclude": [
    "module",
    "function",
    "builtin_function_or_method",
    "instance",
    "_Feature"
   ],
   "window_display": false
  }
 },
 "nbformat": 4,
 "nbformat_minor": 2
}
