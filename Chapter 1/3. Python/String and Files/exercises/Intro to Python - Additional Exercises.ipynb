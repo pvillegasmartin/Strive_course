{
 "cells": [
  {
   "cell_type": "markdown",
   "metadata": {},
   "source": [
    "**Exercise 2.2 (optional):** Write code that classifies a given amount of money (which you store in a variable `amount`), specified in cents, as greater monetary units. Your code lists the monetary equivalent in dollars (100 ct), quarters (25 ct), dimes (10 ct), nickels (5 ct), and pennies (1 ct). Your program should report the maximum number of dollars that fit in the amount, then the maximum number of quarters that fit in the remainder after you subtract the dollars, then the maximum number of dimes that fit in the remainder after you subtract the dollars and quarters, and so on for nickels and pennies. The result is that you express the amount as the minimum number of coins needed.  \n",
    "\n",
    "**Can you do it again? Would you change anything from the last time you had to do this?**"
   ]
  },
  {
   "cell_type": "code",
   "execution_count": 3,
   "metadata": {},
   "outputs": [
    {
     "name": "stdout",
     "output_type": "stream",
     "text": [
      "We have:\n",
      "10 dollars\n",
      "1 quarters\n",
      "2 dimes\n",
      "0 nickles\n",
      "3 pennies\n",
      "\n"
     ]
    }
   ],
   "source": [
    "# Your Code Here\n",
    "def amount_money(money=1048):\n",
    "    dollars = money//100\n",
    "    money -= dollars*100\n",
    "    quarters = money//25\n",
    "    money -= quarters*25\n",
    "    dimes = money//10\n",
    "    money -= dimes*10\n",
    "    nickles = money//5\n",
    "    money -= nickles*5\n",
    "    pennies = money\n",
    "    print(f'We have:\\n{dollars} dollars\\n{quarters} quarters\\n{dimes} dimes\\n{nickles} nickles\\n{pennies} pennies\\n')\n",
    "    \n",
    "if __name__==\"__main__\":\n",
    "    amount_money()"
   ]
  },
  {
   "cell_type": "markdown",
   "metadata": {},
   "source": [
    "**Exercise (optional)**: The factorial of a positive integer is that integer, multiplied by all positive integers that are lower (excluding zero). You write the factorial as the number with an exclamation mark after it. E.g., the factorial of 5 is `5! = 5 * 4 * 3 * 2 * 1 = 120`. Write a function that calculates the factorial of its (integer) parameter. Test your function for different parameter values, but do not use very large numbers as factorials grow exponentially. Hint: to do this with a `while` loop, you need at least one more variable."
   ]
  },
  {
   "cell_type": "code",
   "execution_count": 1,
   "metadata": {},
   "outputs": [
    {
     "name": "stdout",
     "output_type": "stream",
     "text": [
      "120\n"
     ]
    }
   ],
   "source": [
    "# Factorial\n",
    "def factorial(number):                                \n",
    "    i = 1\n",
    "    result = 1\n",
    "    while i<=number:\n",
    "        result *= i\n",
    "        i+=1\n",
    "    return result\n",
    "print(factorial(5))"
   ]
  },
  {
   "cell_type": "markdown",
   "metadata": {},
   "source": [
    "**Exercise 5.1 (optional):** Write a function that prints a multiplication table for digits 1 to 10. A multiplication table for the numbers 1 to `num = 3` looks as follows:\n",
    "\n",
    "`. |  1  2  3`<br>\n",
    "`------------`<br>\n",
    "`1 |  1  2  3`<br>\n",
    "`2 |  2  4  6`<br>\n",
    "`3 |  3  6  9`\n",
    "\n",
    "So the labels on the rows are multiplied by the labels on the columns, and the result is shown in the cell that is on that row/column combination. "
   ]
  },
  {
   "cell_type": "code",
   "execution_count": 2,
   "metadata": {},
   "outputs": [
    {
     "name": "stdout",
     "output_type": "stream",
     "text": [
      ". | 1 2 3\n",
      "---------\n",
      "1 | 1 2 3\n",
      "2 | 2 4 6\n",
      "3 | 3 6 9\n"
     ]
    }
   ],
   "source": [
    "# Print multiplication table\n",
    "def print_multiplication_table(n):\n",
    "    first_row = \". |\"\n",
    "    for i in range(1,n+1):\n",
    "        first_row += f' {str(i)}' \n",
    "    print(first_row)\n",
    "    print (\"-\"*len(first_row))\n",
    "    for i in range(1,n+1):\n",
    "        row = f'{i} |'\n",
    "        for j in range(1,n+1):\n",
    "            row += f' {i*j}'\n",
    "        print(row)\n",
    "        \n",
    "print_multiplication_table(3)"
   ]
  },
  {
   "cell_type": "markdown",
   "metadata": {},
   "source": [
    "**Exercise 5.2 (optional):** If you did the previous exercise with a `while` loop, then do it again with a `for` loop. If you did it with a `for` loop, then do it again with a `while` loop. If you did not use a loop at all, you should be ashamed of yourself."
   ]
  },
  {
   "cell_type": "code",
   "execution_count": 3,
   "metadata": {},
   "outputs": [
    {
     "name": "stdout",
     "output_type": "stream",
     "text": [
      ".  |   1   2   3   4   5   6   7   8   9  10  11  12  13  14  15  16  17  18  19  20  21  22  23  24  25\n",
      "--------------------------------------------------------------------------------------------------------\n",
      "1  |   1   2   3   4   5   6   7   8   9  10  11  12  13  14  15  16  17  18  19  20  21  22  23  24  25\n",
      "2  |   2   4   6   8  10  12  14  16  18  20  22  24  26  28  30  32  34  36  38  40  42  44  46  48  50\n",
      "3  |   3   6   9  12  15  18  21  24  27  30  33  36  39  42  45  48  51  54  57  60  63  66  69  72  75\n",
      "4  |   4   8  12  16  20  24  28  32  36  40  44  48  52  56  60  64  68  72  76  80  84  88  92  96 100\n",
      "5  |   5  10  15  20  25  30  35  40  45  50  55  60  65  70  75  80  85  90  95 100 105 110 115 120 125\n",
      "6  |   6  12  18  24  30  36  42  48  54  60  66  72  78  84  90  96 102 108 114 120 126 132 138 144 150\n",
      "7  |   7  14  21  28  35  42  49  56  63  70  77  84  91  98 105 112 119 126 133 140 147 154 161 168 175\n",
      "8  |   8  16  24  32  40  48  56  64  72  80  88  96 104 112 120 128 136 144 152 160 168 176 184 192 200\n",
      "9  |   9  18  27  36  45  54  63  72  81  90  99 108 117 126 135 144 153 162 171 180 189 198 207 216 225\n",
      "10 |  10  20  30  40  50  60  70  80  90 100 110 120 130 140 150 160 170 180 190 200 210 220 230 240 250\n",
      "11 |  11  22  33  44  55  66  77  88  99 110 121 132 143 154 165 176 187 198 209 220 231 242 253 264 275\n",
      "12 |  12  24  36  48  60  72  84  96 108 120 132 144 156 168 180 192 204 216 228 240 252 264 276 288 300\n",
      "13 |  13  26  39  52  65  78  91 104 117 130 143 156 169 182 195 208 221 234 247 260 273 286 299 312 325\n",
      "14 |  14  28  42  56  70  84  98 112 126 140 154 168 182 196 210 224 238 252 266 280 294 308 322 336 350\n",
      "15 |  15  30  45  60  75  90 105 120 135 150 165 180 195 210 225 240 255 270 285 300 315 330 345 360 375\n",
      "16 |  16  32  48  64  80  96 112 128 144 160 176 192 208 224 240 256 272 288 304 320 336 352 368 384 400\n",
      "17 |  17  34  51  68  85 102 119 136 153 170 187 204 221 238 255 272 289 306 323 340 357 374 391 408 425\n",
      "18 |  18  36  54  72  90 108 126 144 162 180 198 216 234 252 270 288 306 324 342 360 378 396 414 432 450\n",
      "19 |  19  38  57  76  95 114 133 152 171 190 209 228 247 266 285 304 323 342 361 380 399 418 437 456 475\n",
      "20 |  20  40  60  80 100 120 140 160 180 200 220 240 260 280 300 320 340 360 380 400 420 440 460 480 500\n",
      "21 |  21  42  63  84 105 126 147 168 189 210 231 252 273 294 315 336 357 378 399 420 441 462 483 504 525\n",
      "22 |  22  44  66  88 110 132 154 176 198 220 242 264 286 308 330 352 374 396 418 440 462 484 506 528 550\n",
      "23 |  23  46  69  92 115 138 161 184 207 230 253 276 299 322 345 368 391 414 437 460 483 506 529 552 575\n",
      "24 |  24  48  72  96 120 144 168 192 216 240 264 288 312 336 360 384 408 432 456 480 504 528 552 576 600\n",
      "25 |  25  50  75 100 125 150 175 200 225 250 275 300 325 350 375 400 425 450 475 500 525 550 575 600 625\n"
     ]
    }
   ],
   "source": [
    "# Print multiplication table\n",
    "def print_multiplication_table(n):\n",
    "    espacios_totales = len(str(n*n))+1\n",
    "    first_row = f'.{len(str(n)) *\" \"}|'\n",
    "    i = 1\n",
    "    while i <= n:\n",
    "        first_row += f'{(espacios_totales-len(str(i))) * \" \"}{str(i)}'\n",
    "        i += 1\n",
    "    print(first_row)\n",
    "    print(\"-\" * len(first_row))\n",
    "    i = 1\n",
    "    while i <= n:\n",
    "        row = f'{i}{(len(str(n)) - len(str(i))) * \" \"} |'\n",
    "        j = 1\n",
    "        while j <= n:\n",
    "            row += f'{(espacios_totales-len(str(i*j))) * \" \"}{i * j}'\n",
    "            j += 1\n",
    "        i += 1\n",
    "        print(row)\n",
    "\n",
    "\n",
    "print_multiplication_table(25)"
   ]
  },
  {
   "cell_type": "markdown",
   "metadata": {},
   "source": [
    "**Exercise 6.5 (optional):** Typical autocorrect functions are the following: \n",
    "1. if a word starts with two capitals, followed by a lower-case letter, the second capital is made lower case; \n",
    "2. if a sentence contains a word that is immediately followed by the same word, the second occurrence is removed; \n",
    "3. if a sentence starts with a lower-case letter, that letter is turned into a capital; \n",
    "4. if a word consists entirely of capitals, except for the first letter which is lower case, then the case of the letters in the word is reversed; and \n",
    "5. if the sentence contains the name of a day (in English) which does not start with a capital, the first letter is turned into a capital. \n",
    "\n",
    "Write a program that takes a sentence and makes these auto-corrections."
   ]
  },
  {
   "cell_type": "code",
   "execution_count": 18,
   "metadata": {},
   "outputs": [
    {
     "name": "stdout",
     "output_type": "stream",
     "text": [
      "As it turned out our chance meeting with Reverend Arthur Belling was to change our whole way of life, and every sunday we'd hurry along to St Loony up the Cream Bun and Jam.\n"
     ]
    }
   ],
   "source": [
    "# Autocorrect.\n",
    "sentence = \"as it turned out our chance meeting with REverend aRTHUR BElling was \\\n",
    "was to change our whole way of life, and every sunday we'd hurry along to St lOONY up the Cream BUn and Jam.\"\n",
    "final_text = \"\"\n",
    "i=0\n",
    "while i < len(sentence):\n",
    "    if i==0 or sentence[i-1]==\".\":\n",
    "        final_text += sentence[i].upper()\n",
    "    elif sentence[i].isupper() and sentence[i-1].isupper() and sentence[i+1].islower():\n",
    "        final_text += sentence[i].lower()\n",
    "    else:\n",
    "        final_text += sentence[i]\n",
    "    i += 1\n",
    "\n",
    "final_text = final_text.split()\n",
    "j=0\n",
    "final = []\n",
    "while j<len(final_text):\n",
    "    if len(final_text[j])> 2 and final_text[j][0].islower() and final_text[j][2].isupper():\n",
    "        final.append(final_text[j].swapcase())\n",
    "    elif final_text[j] == final_text[j-1]:\n",
    "        pass\n",
    "    else:\n",
    "        final.append(final_text[j])\n",
    "    j+=1\n",
    "print(\" \".join(final))"
   ]
  },
  {
   "cell_type": "markdown",
   "metadata": {},
   "source": [
    "### Exercise 11.3 (Optional)\n",
    "In this directory you find a file `blakepoems.txt`. Write a program that processes the contents of this file, line by line. It creates an output file in the current working directory called `blkpms.txt`, which has the same contents as `blakepoems.txt`, except that all the vowels are removed (case-insensitively). At the end, display how many characters you read, and how many characters you wrote. If you want to check the contents of `blkpms.txt`, you can either open it in a text editor, or display the first 10 lines or so at the end of your program."
   ]
  },
  {
   "cell_type": "code",
   "execution_count": 2,
   "metadata": {},
   "outputs": [
    {
     "name": "stdout",
     "output_type": "stream",
     "text": [
      "We read 37870 characters but only wrote 27722.\n"
     ]
    }
   ],
   "source": [
    "with open(r'.\\text-files\\blakepoems.txt','r') as pm:\n",
    "    final_text = \"\"\n",
    "    poem = pm.read()\n",
    "    for letter in poem:\n",
    "        if letter.lower() not in 'aeiou':\n",
    "            final_text += letter\n",
    "\n",
    "    file = open(r'.\\text-files\\blkpms.txt','w')\n",
    "    file.write(final_text)\n",
    "    file.close()\n",
    "    print(f'We read {len(poem)} characters but only wrote {len(final_text)}.')"
   ]
  },
  {
   "cell_type": "code",
   "execution_count": null,
   "metadata": {},
   "outputs": [],
   "source": []
  }
 ],
 "metadata": {
  "kernelspec": {
   "display_name": "Python 3",
   "language": "python",
   "name": "python3"
  },
  "language_info": {
   "codemirror_mode": {
    "name": "ipython",
    "version": 3
   },
   "file_extension": ".py",
   "mimetype": "text/x-python",
   "name": "python",
   "nbconvert_exporter": "python",
   "pygments_lexer": "ipython3",
   "version": "3.8.5"
  }
 },
 "nbformat": 4,
 "nbformat_minor": 2
}
