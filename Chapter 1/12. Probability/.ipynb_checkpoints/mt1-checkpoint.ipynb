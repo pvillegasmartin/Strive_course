{
 "cells": [
  {
   "cell_type": "markdown",
   "metadata": {
    "deletable": false,
    "nbgrader": {
     "cell_type": "markdown",
     "checksum": "a13ec6289580145af918a00feb38de76",
     "grade": false,
     "grade_id": "cell-e0ef790a27391356",
     "locked": true,
     "schema_version": 3,
     "solution": false,
     "task": false
    }
   },
   "source": [
    "## **Write your answers directly in the cells on this notebook.**\n",
    "\n",
    "Use as name of the variables the ones provided as placeholders (often `sol=0`. Delete the `raise NotImplementedError()` line.\n",
    "\n",
    "### Show the entire process, from the initial fractions to the final result. \n",
    "The probability results must be a decimal value between 0.0 and 1.0. Round your number to the third decimal (e.g 0.574).**"
   ]
  },
  {
   "cell_type": "markdown",
   "metadata": {
    "deletable": false,
    "editable": false,
    "nbgrader": {
     "cell_type": "markdown",
     "checksum": "e74739a6b924b6e23e1af548c4b59006",
     "grade": false,
     "grade_id": "cell-ebda7b65cd913cca",
     "locked": true,
     "schema_version": 3,
     "solution": false,
     "task": false
    }
   },
   "source": [
    "Consider the following boxes (two boxes (red/blue) with two types of balls (green/orange)):\n",
    "![image.png](image.png)"
   ]
  },
  {
   "cell_type": "markdown",
   "metadata": {
    "deletable": false,
    "editable": false,
    "nbgrader": {
     "cell_type": "markdown",
     "checksum": "de6a8f795ebc041caae1fb763a767dd7",
     "grade": false,
     "grade_id": "cell-abf5d87eb6226183",
     "locked": true,
     "schema_version": 3,
     "solution": false,
     "task": false
    }
   },
   "source": [
    "#### Exercise 1: which is the probability of selecting the red box?"
   ]
  },
  {
   "cell_type": "code",
   "execution_count": 2,
   "metadata": {
    "deletable": false,
    "nbgrader": {
     "cell_type": "code",
     "checksum": "93c7f4b0c233348b2be8ef996352808d",
     "grade": false,
     "grade_id": "cell-7969bda5a10dc7ac",
     "locked": false,
     "schema_version": 3,
     "solution": true,
     "task": false
    }
   },
   "outputs": [
    {
     "data": {
      "text/plain": [
       "0.5"
      ]
     },
     "execution_count": 2,
     "metadata": {},
     "output_type": "execute_result"
    }
   ],
   "source": [
    "sol = round(1/2,3)\n",
    "sol"
   ]
  },
  {
   "cell_type": "code",
   "execution_count": 3,
   "metadata": {
    "deletable": false,
    "nbgrader": {
     "cell_type": "code",
     "checksum": "8359b7bc05770fd1e1e55d723927ed1b",
     "grade": true,
     "grade_id": "cell-2b9f005060121b41",
     "locked": true,
     "points": 1,
     "schema_version": 3,
     "solution": false,
     "task": false
    }
   },
   "outputs": [],
   "source": [
    "assert sol == 0.5"
   ]
  },
  {
   "cell_type": "markdown",
   "metadata": {
    "deletable": false,
    "editable": false,
    "nbgrader": {
     "cell_type": "markdown",
     "checksum": "28ffea54b9f99049680e9c788b467a1e",
     "grade": false,
     "grade_id": "cell-6deca18d77abc906",
     "locked": true,
     "schema_version": 3,
     "solution": false,
     "task": false
    }
   },
   "source": [
    "#### Exercise 2: if you want to run out of balls both boxes at the same time, how often should you select the blue box?"
   ]
  },
  {
   "cell_type": "code",
   "execution_count": 5,
   "metadata": {
    "deletable": false,
    "nbgrader": {
     "cell_type": "code",
     "checksum": "6a83bfbcf112deeec82137cc84ef1807",
     "grade": false,
     "grade_id": "cell-10a736364bdf6ef5",
     "locked": false,
     "schema_version": 3,
     "solution": true,
     "task": false
    }
   },
   "outputs": [],
   "source": [
    "sol = 0\n",
    "sol = round(4/12,3)\n"
   ]
  },
  {
   "cell_type": "code",
   "execution_count": 6,
   "metadata": {
    "deletable": false,
    "nbgrader": {
     "cell_type": "code",
     "checksum": "f1c39a9b2b7ebbdd562454f3051d6920",
     "grade": true,
     "grade_id": "cell-d06dc523a3f300ce",
     "locked": true,
     "points": 1,
     "schema_version": 3,
     "solution": false,
     "task": false
    }
   },
   "outputs": [],
   "source": [
    "assert abs(sol-0.3333333333333333) < 0.01"
   ]
  },
  {
   "cell_type": "markdown",
   "metadata": {},
   "source": [
    "#### Exercise 3: which is the probability of picking up a green ball if you are using the red box?"
   ]
  },
  {
   "cell_type": "code",
   "execution_count": 11,
   "metadata": {
    "deletable": false,
    "nbgrader": {
     "cell_type": "code",
     "checksum": "701ca27bb44fb1547bb23c5b57d487d4",
     "grade": false,
     "grade_id": "cell-335a720d5716ad4b",
     "locked": false,
     "schema_version": 3,
     "solution": true,
     "task": false
    }
   },
   "outputs": [],
   "source": [
    "sol = 0\n",
    "sol = round(2/8,3)"
   ]
  },
  {
   "cell_type": "code",
   "execution_count": 12,
   "metadata": {
    "deletable": false,
    "nbgrader": {
     "cell_type": "code",
     "checksum": "aa20451ae4ee5dcde17e766c1df9d9c3",
     "grade": true,
     "grade_id": "cell-3cc76e304b24df43",
     "locked": true,
     "points": 1,
     "schema_version": 3,
     "solution": false,
     "task": false
    }
   },
   "outputs": [],
   "source": [
    "assert sol == 0.25"
   ]
  },
  {
   "cell_type": "markdown",
   "metadata": {},
   "source": [
    "#### Exercise 4: which is the probability of picking up an orange ball (any of the boxes)?"
   ]
  },
  {
   "cell_type": "code",
   "execution_count": 13,
   "metadata": {
    "deletable": false,
    "nbgrader": {
     "cell_type": "code",
     "checksum": "6b031c5732125e59cb486706d217d3e1",
     "grade": false,
     "grade_id": "cell-6be260afb8041372",
     "locked": false,
     "schema_version": 3,
     "solution": true,
     "task": false
    }
   },
   "outputs": [],
   "source": [
    "sol = 0\n",
    "sol = round(7/12,3)\n"
   ]
  },
  {
   "cell_type": "code",
   "execution_count": 14,
   "metadata": {
    "deletable": false,
    "nbgrader": {
     "cell_type": "code",
     "checksum": "7c0c56c33bacdefb861d8833b26e1e17",
     "grade": true,
     "grade_id": "cell-57ee289d4e5df3f0",
     "locked": true,
     "points": 1,
     "schema_version": 3,
     "solution": false,
     "task": false
    }
   },
   "outputs": [],
   "source": [
    "assert abs(sol-0.5833333333333334) < 0.01"
   ]
  },
  {
   "cell_type": "markdown",
   "metadata": {},
   "source": [
    "#### Exercise 5: given that you picked up a green ball, which is the probability of having selected the red box?"
   ]
  },
  {
   "cell_type": "code",
   "execution_count": 15,
   "metadata": {
    "deletable": false,
    "nbgrader": {
     "cell_type": "code",
     "checksum": "147c928e559035adb661616e98e13b51",
     "grade": false,
     "grade_id": "cell-9c4af4d3ec207bb2",
     "locked": false,
     "schema_version": 3,
     "solution": true,
     "task": false
    }
   },
   "outputs": [],
   "source": [
    "sol = 0\n",
    "sol = round(2/5,3)\n"
   ]
  },
  {
   "cell_type": "code",
   "execution_count": 16,
   "metadata": {
    "deletable": false,
    "nbgrader": {
     "cell_type": "code",
     "checksum": "8e456f643cc92ff22b4178a60b2bf9fc",
     "grade": true,
     "grade_id": "cell-10164afff838da6f",
     "locked": true,
     "points": 1,
     "schema_version": 3,
     "solution": false,
     "task": false
    }
   },
   "outputs": [],
   "source": [
    "assert abs(sol-0.125) < 0.3"
   ]
  },
  {
   "cell_type": "markdown",
   "metadata": {},
   "source": [
    "#### Optional Exercise 6: I have chosen a ball from a box and I picked up a green one. Which is the probability of having used the blue box?"
   ]
  },
  {
   "cell_type": "code",
   "execution_count": 17,
   "metadata": {
    "deletable": false,
    "nbgrader": {
     "cell_type": "code",
     "checksum": "d37eef12ddf7c25e42efac84fe979775",
     "grade": false,
     "grade_id": "cell-ac2e94b60b1ed6fc",
     "locked": false,
     "schema_version": 3,
     "solution": true,
     "task": false
    }
   },
   "outputs": [],
   "source": [
    "# No need to use the Bayes Theorem as it has not been explained in class\n",
    "sol = 0\n",
    "sol = round(3/5,3)\n"
   ]
  },
  {
   "cell_type": "code",
   "execution_count": 18,
   "metadata": {
    "deletable": false,
    "editable": false,
    "nbgrader": {
     "cell_type": "code",
     "checksum": "d0effe3c87dedc925f42fa749f891a52",
     "grade": true,
     "grade_id": "cell-1ca0be55ea9d081c",
     "locked": true,
     "points": 1,
     "schema_version": 3,
     "solution": false,
     "task": false
    }
   },
   "outputs": [],
   "source": [
    "assert abs(sol-0.375) < 0.9"
   ]
  },
  {
   "cell_type": "markdown",
   "metadata": {},
   "source": [
    "Now consider a standard deck of cards (the one used in Poker):\n",
    "![deck.png](deck.png)\n"
   ]
  },
  {
   "cell_type": "markdown",
   "metadata": {},
   "source": [
    "#### Exercise 7: which is the probability of drawing an Ace?"
   ]
  },
  {
   "cell_type": "code",
   "execution_count": 19,
   "metadata": {
    "deletable": false,
    "nbgrader": {
     "cell_type": "code",
     "checksum": "c0e38430d25b053c64a6e34cd0ee698a",
     "grade": false,
     "grade_id": "cell-f7a947cdf92e17c3",
     "locked": false,
     "schema_version": 3,
     "solution": true,
     "task": false
    }
   },
   "outputs": [],
   "source": [
    "# Create function that returns probability percent rounded to three decimal places\n",
    "\n",
    "def event_probability(event_outcomes, sample_space):\n",
    "    probability = 0\n",
    "    return round(event_outcomes/sample_space,3)\n",
    "sol = event_probability(4,52)"
   ]
  },
  {
   "cell_type": "code",
   "execution_count": 20,
   "metadata": {
    "deletable": false,
    "editable": false,
    "nbgrader": {
     "cell_type": "code",
     "checksum": "3a9f2c7239011d2a9aa6b41fee62a2f9",
     "grade": true,
     "grade_id": "cell-adb42109bd9b7996",
     "locked": true,
     "points": 1,
     "schema_version": 3,
     "solution": false,
     "task": false
    }
   },
   "outputs": [],
   "source": [
    "# Using the previously defined function: Determine the probability of drawing an Ace\n",
    "assert abs(sol-0.077 ) < 0.01"
   ]
  },
  {
   "cell_type": "markdown",
   "metadata": {},
   "source": [
    "#### Exercise 8: which is the probability of drawing a card that is a Heart?"
   ]
  },
  {
   "cell_type": "code",
   "execution_count": 21,
   "metadata": {
    "deletable": false,
    "nbgrader": {
     "cell_type": "code",
     "checksum": "8a33dcb8fbbea5116bd11304098083da",
     "grade": false,
     "grade_id": "cell-e261cc3812382a18",
     "locked": false,
     "schema_version": 3,
     "solution": true,
     "task": false
    }
   },
   "outputs": [],
   "source": [
    "# Using the previously defined function: Determine the probability of drawing a heart\n",
    "\n",
    "sol = event_probability(13,52)\n"
   ]
  },
  {
   "cell_type": "code",
   "execution_count": 22,
   "metadata": {
    "deletable": false,
    "editable": false,
    "nbgrader": {
     "cell_type": "code",
     "checksum": "bbb0458877d5a323e0441efb5d733514",
     "grade": true,
     "grade_id": "cell-2bcb2371e498a429",
     "locked": true,
     "points": 1,
     "schema_version": 3,
     "solution": false,
     "task": false
    }
   },
   "outputs": [],
   "source": [
    "assert abs(sol-0.25 ) < 0.01"
   ]
  },
  {
   "cell_type": "markdown",
   "metadata": {},
   "source": [
    "#### Exercise 9: which is the probability of drawing a face card (such as Jacks, Queens, or Kings)?"
   ]
  },
  {
   "cell_type": "code",
   "execution_count": 23,
   "metadata": {
    "deletable": false,
    "nbgrader": {
     "cell_type": "code",
     "checksum": "ecbb9fcd5df828494a1215f36a5dc6d2",
     "grade": false,
     "grade_id": "cell-fc4fcd733d3e1ca7",
     "locked": false,
     "schema_version": 3,
     "solution": true,
     "task": false
    }
   },
   "outputs": [],
   "source": [
    "# Using the previously defined function: Determine the probability of drawing a face card\n",
    "\n",
    "sol = event_probability(12,52)"
   ]
  },
  {
   "cell_type": "code",
   "execution_count": 24,
   "metadata": {
    "deletable": false,
    "editable": false,
    "nbgrader": {
     "cell_type": "code",
     "checksum": "48c66896a88667f97093e50b05e4e811",
     "grade": true,
     "grade_id": "cell-f17c3aa2f33022be",
     "locked": true,
     "points": 1,
     "schema_version": 3,
     "solution": false,
     "task": false
    }
   },
   "outputs": [],
   "source": [
    "assert abs(sol-0.231 ) < 0.01"
   ]
  },
  {
   "cell_type": "markdown",
   "metadata": {},
   "source": [
    "#### Exercise 10: which is the probability of drawing a face card which is also a Heart?"
   ]
  },
  {
   "cell_type": "code",
   "execution_count": 25,
   "metadata": {
    "deletable": false,
    "nbgrader": {
     "cell_type": "code",
     "checksum": "9669ca6fd185e41f0bd534eef82cd7bf",
     "grade": false,
     "grade_id": "cell-c50a860ddb2f18f9",
     "locked": false,
     "schema_version": 3,
     "solution": true,
     "task": false
    }
   },
   "outputs": [],
   "source": [
    "# Using the previously defined function: Determine the probability of drawing the jack, queen or king  of hearts\n",
    "sol = event_probability(3,52)"
   ]
  },
  {
   "cell_type": "code",
   "execution_count": 26,
   "metadata": {
    "deletable": false,
    "editable": false,
    "nbgrader": {
     "cell_type": "code",
     "checksum": "eedcc36846411cf784ec8076f41c11ff",
     "grade": true,
     "grade_id": "cell-dcd84807c13f2154",
     "locked": true,
     "points": 1,
     "schema_version": 3,
     "solution": false,
     "task": false
    }
   },
   "outputs": [],
   "source": [
    "assert abs(sol-0.058 ) < 0.01"
   ]
  },
  {
   "cell_type": "markdown",
   "metadata": {},
   "source": [
    "#### Exercise 11: which is the probability of drawing an Ace on the second draw, if the first card drawn was a King?"
   ]
  },
  {
   "cell_type": "code",
   "execution_count": 31,
   "metadata": {
    "deletable": false,
    "nbgrader": {
     "cell_type": "code",
     "checksum": "234cb4223c601ce08bb7f52d89c70081",
     "grade": false,
     "grade_id": "cell-c953e962deacd22d",
     "locked": false,
     "schema_version": 3,
     "solution": true,
     "task": false
    }
   },
   "outputs": [],
   "source": [
    "# Using the previously defined function: Determine the probability of drawing an Ace after drawing a King on the first draw\n",
    "\n",
    "sol = event_probability(4,51)"
   ]
  },
  {
   "cell_type": "code",
   "execution_count": 32,
   "metadata": {
    "ExecuteTime": {
     "end_time": "2021-08-30T15:39:46.258491Z",
     "start_time": "2021-08-30T15:39:46.162917Z"
    },
    "deletable": false,
    "editable": false,
    "nbgrader": {
     "cell_type": "code",
     "checksum": "12ca141c71f705c7b1e5667a892f879c",
     "grade": true,
     "grade_id": "cell-c0fd1832c0fa3b01",
     "locked": true,
     "points": 1,
     "schema_version": 3,
     "solution": false,
     "task": false
    }
   },
   "outputs": [],
   "source": [
    "assert abs(sol-0.078 ) < 0.01"
   ]
  },
  {
   "cell_type": "markdown",
   "metadata": {},
   "source": [
    "#### Exercise 12: which is the probability of drawing an Ace on the second draw, if the first card drawn was an Ace?"
   ]
  },
  {
   "cell_type": "code",
   "execution_count": 33,
   "metadata": {
    "deletable": false,
    "nbgrader": {
     "cell_type": "code",
     "checksum": "fa3f03da3d2969f08347a8219e30c37a",
     "grade": false,
     "grade_id": "cell-899b031f866ba3b2",
     "locked": false,
     "schema_version": 3,
     "solution": true,
     "task": false
    }
   },
   "outputs": [],
   "source": [
    "# Using the previously defined function: Determine the probability of drawing an Ace after drawing an Ace on the first draw\n",
    "\n",
    "sol = event_probability(3,51)"
   ]
  },
  {
   "cell_type": "code",
   "execution_count": 34,
   "metadata": {
    "deletable": false,
    "editable": false,
    "nbgrader": {
     "cell_type": "code",
     "checksum": "e5f9d7129b1a72ed7ee2cd3672e8b99d",
     "grade": true,
     "grade_id": "cell-9109c59db8e329c8",
     "locked": true,
     "points": 1,
     "schema_version": 3,
     "solution": false,
     "task": false
    }
   },
   "outputs": [],
   "source": [
    "assert abs(sol-0.059) < 0.01"
   ]
  },
  {
   "cell_type": "markdown",
   "metadata": {},
   "source": [
    "Now consider the following situation:\n",
    "\n",
    "You are playing Poker in the [Texas Holdem variant](https://en.wikipedia.org/wiki/Texas_hold_%27em). In case you are not familiar, it is a variant of poker in which each player has two cards and there is a set of community cards to play from. \n",
    "![texas.png](texas.png)"
   ]
  },
  {
   "cell_type": "markdown",
   "metadata": {},
   "source": [
    "#### Exercise 13: what is the probability that the next card drawn will be a Diamond card?"
   ]
  },
  {
   "cell_type": "code",
   "execution_count": 35,
   "metadata": {
    "deletable": false,
    "nbgrader": {
     "cell_type": "code",
     "checksum": "ec2c2ce83b2175f2a1a9986996fe4398",
     "grade": false,
     "grade_id": "cell-17b8aec4013e6b9c",
     "locked": false,
     "schema_version": 3,
     "solution": true,
     "task": false
    }
   },
   "outputs": [],
   "source": [
    "# Sample Space\n",
    "cards = 52\n",
    "player_cards = 2\n",
    "turn_community_cards = 4\n",
    "\n",
    "sol = event_probability(9,cards-player_cards-turn_community_cards)"
   ]
  },
  {
   "cell_type": "code",
   "execution_count": 36,
   "metadata": {
    "deletable": false,
    "editable": false,
    "nbgrader": {
     "cell_type": "code",
     "checksum": "756e81e0fdc5a32be37a25d0d9c5c250",
     "grade": true,
     "grade_id": "cell-ebe4abfecd5e8690",
     "locked": true,
     "points": 1,
     "schema_version": 3,
     "solution": false,
     "task": false
    }
   },
   "outputs": [],
   "source": [
    "assert abs(sol-0.196) < 0.01"
   ]
  },
  {
   "cell_type": "markdown",
   "metadata": {},
   "source": [
    "Now consider the following situation:\n",
    "![image.png](texas2.png)"
   ]
  },
  {
   "cell_type": "markdown",
   "metadata": {},
   "source": [
    "#### Exercise 14: which is the probability that with the next card drawn there will be five cards in sequential order? \n",
    "\n",
    "(Notice that any Eight ( 8, 9, 10, Jack, Queen) or any King (9, 10, Jack, Queen, King) will complete the straight)"
   ]
  },
  {
   "cell_type": "code",
   "execution_count": 37,
   "metadata": {
    "deletable": false,
    "nbgrader": {
     "cell_type": "code",
     "checksum": "fd4058cda5116880eef40aa7789067b1",
     "grade": false,
     "grade_id": "cell-f05c41e0e869e186",
     "locked": false,
     "schema_version": 3,
     "solution": true,
     "task": false
    }
   },
   "outputs": [],
   "source": [
    "# Sample Space\n",
    "cards = 52\n",
    "player_cards = 2\n",
    "turn_community_cards = 4\n",
    "\n",
    "sol = event_probability(8,cards-player_cards-turn_community_cards)"
   ]
  },
  {
   "cell_type": "code",
   "execution_count": 38,
   "metadata": {
    "deletable": false,
    "editable": false,
    "nbgrader": {
     "cell_type": "code",
     "checksum": "fff1dae11dacb0907d324307f22ee39d",
     "grade": true,
     "grade_id": "cell-e46db60e9b2dfa4f",
     "locked": true,
     "points": 1,
     "schema_version": 3,
     "solution": false,
     "task": false
    }
   },
   "outputs": [],
   "source": [
    "assert abs(sol-0.174) < 0.01"
   ]
  },
  {
   "cell_type": "markdown",
   "metadata": {},
   "source": [
    "## Now, we keep playing Texas Holdem \n",
    "![](https://media.giphy.com/media/EQBsWLfdxHW01Y1OHK/giphy.gif)\n",
    "### But looking only at the cards we could have in our hand\n",
    "### (2 possible drawing events, ignore community cards)\n",
    "#### Exercise 15: which is the probability of drawing a heart OR drawing a club?"
   ]
  },
  {
   "cell_type": "code",
   "execution_count": 56,
   "metadata": {
    "deletable": false,
    "nbgrader": {
     "cell_type": "code",
     "checksum": "f68ad264c169753b051d3e63ea8d8be0",
     "grade": false,
     "grade_id": "cell-5b6c82ce08d8c47f",
     "locked": false,
     "schema_version": 3,
     "solution": true,
     "task": false
    }
   },
   "outputs": [],
   "source": [
    "# Calculate the probability of drawing a heart or a club\n",
    "# YOUR CODE HERE\n",
    "sol = event_probability(26,cards) + event_probability(26,cards)*event_probability(26,cards-1)\n",
    "sol = 1 - event_probability(26,cards)*event_probability(25,cards-1)"
   ]
  },
  {
   "cell_type": "code",
   "execution_count": 57,
   "metadata": {
    "deletable": false,
    "editable": false,
    "nbgrader": {
     "cell_type": "code",
     "checksum": "3cc558ba56a2dfe83f6ae2cc1a506fb2",
     "grade": true,
     "grade_id": "cell-dedacb0828533e9c",
     "locked": true,
     "points": 1,
     "schema_version": 3,
     "solution": false,
     "task": false
    }
   },
   "outputs": [],
   "source": [
    "assert abs(sol-0.755) < 0.01"
   ]
  },
  {
   "cell_type": "markdown",
   "metadata": {},
   "source": [
    "#### Exercise 16: which is the probability of drawing an ace, a king or a queen?"
   ]
  },
  {
   "cell_type": "code",
   "execution_count": 60,
   "metadata": {
    "deletable": false,
    "nbgrader": {
     "cell_type": "code",
     "checksum": "c6932d09078beb0ab84b632362b58892",
     "grade": false,
     "grade_id": "cell-0b50174237f37b03",
     "locked": false,
     "schema_version": 3,
     "solution": true,
     "task": false
    }
   },
   "outputs": [],
   "source": [
    "# Calculate the probability of drawing an ace, king, or a queen\n",
    "sol = event_probability(12,cards) + event_probability(40,cards)*event_probability(12,cards-1)\n",
    "sol = 1 - event_probability(40,cards)*event_probability(39,cards-1)"
   ]
  },
  {
   "cell_type": "code",
   "execution_count": 61,
   "metadata": {
    "deletable": false,
    "editable": false,
    "nbgrader": {
     "cell_type": "code",
     "checksum": "3628cc71fe5948228e7eba7948f5434d",
     "grade": true,
     "grade_id": "cell-1c3bec1e6a4f0726",
     "locked": true,
     "points": 1,
     "schema_version": 3,
     "solution": false,
     "task": false
    }
   },
   "outputs": [],
   "source": [
    "assert abs(sol-0.41171499999999994) < 0.01"
   ]
  },
  {
   "cell_type": "markdown",
   "metadata": {},
   "source": [
    "#### Exercise 17: which is the probability of drawing a heart or an ace?"
   ]
  },
  {
   "cell_type": "code",
   "execution_count": 70,
   "metadata": {
    "deletable": false,
    "nbgrader": {
     "cell_type": "code",
     "checksum": "5edf1bc7e82a89d77a3ede4255b85997",
     "grade": false,
     "grade_id": "cell-3ff5cdeedc739059",
     "locked": false,
     "schema_version": 3,
     "solution": true,
     "task": false
    }
   },
   "outputs": [],
   "source": [
    "# Calculate the probability of drawing a heart or an ace\n",
    "sol = event_probability(16,cards)+event_probability(36,cards)*event_probability(16,cards-1)"
   ]
  },
  {
   "cell_type": "code",
   "execution_count": 71,
   "metadata": {
    "deletable": false,
    "editable": false,
    "nbgrader": {
     "cell_type": "code",
     "checksum": "67e592333b8ab3fcc55bb59f8651caa3",
     "grade": true,
     "grade_id": "cell-a74509b22cdaf4bd",
     "locked": true,
     "points": 1,
     "schema_version": 3,
     "solution": false,
     "task": false
    }
   },
   "outputs": [],
   "source": [
    "assert abs(sol-0.525288) < 0.01"
   ]
  },
  {
   "cell_type": "markdown",
   "metadata": {},
   "source": [
    "#### Exercise 18: which is the probability of drawing a red card or drawing a face card?"
   ]
  },
  {
   "cell_type": "code",
   "execution_count": 78,
   "metadata": {
    "deletable": false,
    "nbgrader": {
     "cell_type": "code",
     "checksum": "b87522461ae9c12b6c6e7190fcd7674d",
     "grade": false,
     "grade_id": "cell-9c43e1f91aac785f",
     "locked": false,
     "schema_version": 3,
     "solution": true,
     "task": false
    }
   },
   "outputs": [],
   "source": [
    "# Calculate the probability of drawing a red card or a face card\n",
    "\n",
    "sol = event_probability(32,cards)+event_probability(20,cards)*event_probability(32,cards-1)"
   ]
  },
  {
   "cell_type": "code",
   "execution_count": 79,
   "metadata": {
    "deletable": false,
    "editable": false,
    "nbgrader": {
     "cell_type": "code",
     "checksum": "82f6de4209429091bcb59c905a5e7db9",
     "grade": true,
     "grade_id": "cell-47f891a62515e8d4",
     "locked": true,
     "points": 1,
     "schema_version": 3,
     "solution": false,
     "task": false
    }
   },
   "outputs": [],
   "source": [
    "assert abs(sol-0.856395) < 0.01"
   ]
  },
  {
   "cell_type": "markdown",
   "metadata": {},
   "source": [
    "#### Exercise 19: which is the probability of drawing an Ace from a deck of cards, replacing it, reshuffling the deck, and drawing another Ace?"
   ]
  },
  {
   "cell_type": "code",
   "execution_count": 80,
   "metadata": {
    "deletable": false,
    "nbgrader": {
     "cell_type": "code",
     "checksum": "a21f3711e715072fcf4245676d2ef938",
     "grade": false,
     "grade_id": "cell-18d5038a32ffeac9",
     "locked": false,
     "schema_version": 3,
     "solution": true,
     "task": false
    }
   },
   "outputs": [],
   "source": [
    "# Sample Space\n",
    "cards = 52\n",
    "\n",
    "# Outcomes\n",
    "aces = 4\n",
    "\n",
    "sol = event_probability(4,cards)*event_probability(4,cards)"
   ]
  },
  {
   "cell_type": "code",
   "execution_count": 81,
   "metadata": {
    "deletable": false,
    "editable": false,
    "nbgrader": {
     "cell_type": "code",
     "checksum": "8eb9ce68fd76ca02e4ffedd850a7e603",
     "grade": true,
     "grade_id": "cell-536e3de73c88e083",
     "locked": true,
     "points": 1,
     "schema_version": 3,
     "solution": false,
     "task": false
    }
   },
   "outputs": [],
   "source": [
    "assert abs(sol-0.005929) < 0.001"
   ]
  },
  {
   "cell_type": "markdown",
   "metadata": {},
   "source": [
    "#### Exercise 20: which is the probability of being dealt two Aces (drawing one Ace after the other starting with a full deck)?"
   ]
  },
  {
   "cell_type": "code",
   "execution_count": 94,
   "metadata": {
    "deletable": false,
    "nbgrader": {
     "cell_type": "code",
     "checksum": "36f83abcab2e34194ee7339a7687fb5d",
     "grade": false,
     "grade_id": "cell-9ec7e543991e2e7c",
     "locked": false,
     "schema_version": 3,
     "solution": true,
     "task": false
    }
   },
   "outputs": [],
   "source": [
    "# Sample Space first draw\n",
    "cards = 52\n",
    "\n",
    "# Outcomes first draw\n",
    "aces = 4\n",
    "\n",
    "sol = event_probability(4,cards)*event_probability(3,cards-1)"
   ]
  },
  {
   "cell_type": "code",
   "execution_count": 95,
   "metadata": {
    "deletable": false,
    "editable": false,
    "nbgrader": {
     "cell_type": "code",
     "checksum": "4dacaae00d1222957a4d7ec6a6c1748e",
     "grade": true,
     "grade_id": "cell-0651acc2d4c97ad3",
     "locked": true,
     "points": 1,
     "schema_version": 3,
     "solution": false,
     "task": false
    }
   },
   "outputs": [],
   "source": [
    "assert abs(sol-0.004542999999999999) < 0.001"
   ]
  },
  {
   "cell_type": "markdown",
   "metadata": {},
   "source": [
    "### Permutations and combinations"
   ]
  },
  {
   "cell_type": "markdown",
   "metadata": {},
   "source": [
    "#### Exercise 21: How many different 5-letter arrangements are there of the letters in the word morse?"
   ]
  },
  {
   "cell_type": "code",
   "execution_count": 97,
   "metadata": {
    "deletable": false,
    "nbgrader": {
     "cell_type": "code",
     "checksum": "4043edd3b7280831dffe83277d53579d",
     "grade": false,
     "grade_id": "cell-5d16f7fa95eb0955",
     "locked": false,
     "schema_version": 3,
     "solution": true,
     "task": false
    }
   },
   "outputs": [],
   "source": [
    "import math\n",
    "sol = math.factorial(5)"
   ]
  },
  {
   "cell_type": "code",
   "execution_count": 98,
   "metadata": {
    "deletable": false,
    "editable": false,
    "nbgrader": {
     "cell_type": "code",
     "checksum": "2b7ac1eb0e11f7e443cfc6290dcccedd",
     "grade": true,
     "grade_id": "cell-290944fdf9fb212b",
     "locked": true,
     "points": 1,
     "schema_version": 3,
     "solution": false,
     "task": false
    }
   },
   "outputs": [],
   "source": [
    "assert sol == 120"
   ]
  },
  {
   "cell_type": "markdown",
   "metadata": {},
   "source": [
    "#### Exercise 22: How many different seven-letter arrangements of the letters in the word HEXAGON can be made if each letter is used only once?"
   ]
  },
  {
   "cell_type": "code",
   "execution_count": 99,
   "metadata": {
    "deletable": false,
    "nbgrader": {
     "cell_type": "code",
     "checksum": "08fb1d68735a4cc34ff629be615de787",
     "grade": false,
     "grade_id": "cell-2b2af5a344e47a8b",
     "locked": false,
     "schema_version": 3,
     "solution": true,
     "task": false
    }
   },
   "outputs": [],
   "source": [
    "sol = math.factorial(7)"
   ]
  },
  {
   "cell_type": "code",
   "execution_count": 100,
   "metadata": {
    "deletable": false,
    "editable": false,
    "nbgrader": {
     "cell_type": "code",
     "checksum": "a1c691147ff054172038dc9d28650cd0",
     "grade": true,
     "grade_id": "cell-9eed40b79a9bc42b",
     "locked": true,
     "points": 1,
     "schema_version": 3,
     "solution": false,
     "task": false
    }
   },
   "outputs": [],
   "source": [
    "assert sol == 5040"
   ]
  },
  {
   "cell_type": "markdown",
   "metadata": {},
   "source": [
    "#### Exercise 23: Two cards are drawn at random from a standard deck of cards, without replacement. Find the probability of drawing an 8 and a queen in that order."
   ]
  },
  {
   "cell_type": "code",
   "execution_count": 103,
   "metadata": {
    "deletable": false,
    "nbgrader": {
     "cell_type": "code",
     "checksum": "dc1c1dcb93108518e5548db1e0615b0a",
     "grade": false,
     "grade_id": "cell-0772318d22f07226",
     "locked": false,
     "schema_version": 3,
     "solution": true,
     "task": false
    }
   },
   "outputs": [],
   "source": [
    "# YOUR CODE HERE\n",
    "sol = event_probability(4,cards)*event_probability(4,cards-1)"
   ]
  },
  {
   "cell_type": "code",
   "execution_count": 104,
   "metadata": {
    "deletable": false,
    "editable": false,
    "nbgrader": {
     "cell_type": "code",
     "checksum": "c5c5a1f2cea0046812e93dea9452f7a2",
     "grade": true,
     "grade_id": "cell-a85db4f2cf65b50d",
     "locked": true,
     "points": 1,
     "schema_version": 3,
     "solution": false,
     "task": false
    }
   },
   "outputs": [],
   "source": [
    "assert abs(sol-0.006006) < 0.001"
   ]
  }
 ],
 "metadata": {
  "celltoolbar": "Edit Metadata",
  "interpreter": {
   "hash": "c2ad988b83bc3032ab0bc6c9b326315d9b3145f093b7c28f6f9e14e1089dbd73"
  },
  "kernelspec": {
   "display_name": "Python 3",
   "language": "python",
   "name": "python3"
  },
  "language_info": {
   "codemirror_mode": {
    "name": "ipython",
    "version": 3
   },
   "file_extension": ".py",
   "mimetype": "text/x-python",
   "name": "python",
   "nbconvert_exporter": "python",
   "pygments_lexer": "ipython3",
   "version": "3.8.5"
  },
  "varInspector": {
   "cols": {
    "lenName": 16,
    "lenType": 16,
    "lenVar": 40
   },
   "kernels_config": {
    "python": {
     "delete_cmd_postfix": "",
     "delete_cmd_prefix": "del ",
     "library": "var_list.py",
     "varRefreshCmd": "print(var_dic_list())"
    },
    "r": {
     "delete_cmd_postfix": ") ",
     "delete_cmd_prefix": "rm(",
     "library": "var_list.r",
     "varRefreshCmd": "cat(var_dic_list()) "
    }
   },
   "types_to_exclude": [
    "module",
    "function",
    "builtin_function_or_method",
    "instance",
    "_Feature"
   ],
   "window_display": false
  }
 },
 "nbformat": 4,
 "nbformat_minor": 2
}
