{
 "cells": [
  {
   "cell_type": "markdown",
   "metadata": {},
   "source": [
    "# 100 numpy exercises\n",
    "\n",
    "This is a collection of exercises that have been collected in the numpy mailing list, on stack overflow and in the numpy documentation. The goal of this collection is to offer a quick reference for both old and new users but also to provide a set of exercises for those who teach.\n",
    "\n",
    "\n",
    "If you find an error or think you've a better way to solve some of them, feel free to open an issue at <https://github.com/rougier/numpy-100>"
   ]
  },
  {
   "cell_type": "markdown",
   "metadata": {},
   "source": [
    "#### 1. Import the numpy package under the name `np` (★☆☆)"
   ]
  },
  {
   "cell_type": "code",
   "execution_count": 1,
   "metadata": {},
   "outputs": [],
   "source": [
    "import numpy as np"
   ]
  },
  {
   "cell_type": "markdown",
   "metadata": {},
   "source": [
    "#### 2. Print the numpy version and the configuration (★☆☆)"
   ]
  },
  {
   "cell_type": "code",
   "execution_count": 5,
   "metadata": {},
   "outputs": [
    {
     "name": "stdout",
     "output_type": "stream",
     "text": [
      "1.19.2\n",
      "blas_mkl_info:\n",
      "    libraries = ['mkl_rt']\n",
      "    library_dirs = ['C:/Users/Pablo/anaconda3\\\\Library\\\\lib']\n",
      "    define_macros = [('SCIPY_MKL_H', None), ('HAVE_CBLAS', None)]\n",
      "    include_dirs = ['C:/Users/Pablo/anaconda3\\\\Library\\\\include']\n",
      "blas_opt_info:\n",
      "    libraries = ['mkl_rt']\n",
      "    library_dirs = ['C:/Users/Pablo/anaconda3\\\\Library\\\\lib']\n",
      "    define_macros = [('SCIPY_MKL_H', None), ('HAVE_CBLAS', None)]\n",
      "    include_dirs = ['C:/Users/Pablo/anaconda3\\\\Library\\\\include']\n",
      "lapack_mkl_info:\n",
      "    libraries = ['mkl_rt']\n",
      "    library_dirs = ['C:/Users/Pablo/anaconda3\\\\Library\\\\lib']\n",
      "    define_macros = [('SCIPY_MKL_H', None), ('HAVE_CBLAS', None)]\n",
      "    include_dirs = ['C:/Users/Pablo/anaconda3\\\\Library\\\\include']\n",
      "lapack_opt_info:\n",
      "    libraries = ['mkl_rt']\n",
      "    library_dirs = ['C:/Users/Pablo/anaconda3\\\\Library\\\\lib']\n",
      "    define_macros = [('SCIPY_MKL_H', None), ('HAVE_CBLAS', None)]\n",
      "    include_dirs = ['C:/Users/Pablo/anaconda3\\\\Library\\\\include']\n"
     ]
    }
   ],
   "source": [
    "print(np.version.version)\n",
    "np.show_config()"
   ]
  },
  {
   "cell_type": "markdown",
   "metadata": {},
   "source": [
    "#### 3. Create a null vector of size 10 (★☆☆)"
   ]
  },
  {
   "cell_type": "code",
   "execution_count": 10,
   "metadata": {},
   "outputs": [
    {
     "data": {
      "text/plain": [
       "array([6.23042070e-307, 4.67296746e-307, 1.69121096e-306, 8.01092457e-307,\n",
       "       7.56587585e-307, 1.37961302e-306, 1.05699242e-307, 8.01097889e-307,\n",
       "       1.42421160e-306, 8.34446411e-308])"
      ]
     },
     "execution_count": 10,
     "metadata": {},
     "output_type": "execute_result"
    }
   ],
   "source": [
    "np.empty(10)"
   ]
  },
  {
   "cell_type": "markdown",
   "metadata": {},
   "source": [
    "#### 4.  How to find the memory size of any array (★☆☆)"
   ]
  },
  {
   "cell_type": "code",
   "execution_count": 12,
   "metadata": {},
   "outputs": [
    {
     "data": {
      "text/plain": [
       "400"
      ]
     },
     "execution_count": 12,
     "metadata": {},
     "output_type": "execute_result"
    }
   ],
   "source": [
    "array = np.ones(50)\n",
    "array.nbytes"
   ]
  },
  {
   "cell_type": "markdown",
   "metadata": {},
   "source": [
    "#### 5.  How to get the documentation of the numpy add function from the command line? (★☆☆)"
   ]
  },
  {
   "cell_type": "code",
   "execution_count": 14,
   "metadata": {},
   "outputs": [
    {
     "name": "stdout",
     "output_type": "stream",
     "text": [
      "add(x1, x2, /, out=None, *, where=True, casting='same_kind', order='K', dtype=None, subok=True[, signature, extobj])\n",
      "\n",
      "Add arguments element-wise.\n",
      "\n",
      "Parameters\n",
      "----------\n",
      "x1, x2 : array_like\n",
      "    The arrays to be added.\n",
      "    If ``x1.shape != x2.shape``, they must be broadcastable to a common\n",
      "    shape (which becomes the shape of the output).\n",
      "out : ndarray, None, or tuple of ndarray and None, optional\n",
      "    A location into which the result is stored. If provided, it must have\n",
      "    a shape that the inputs broadcast to. If not provided or None,\n",
      "    a freshly-allocated array is returned. A tuple (possible only as a\n",
      "    keyword argument) must have length equal to the number of outputs.\n",
      "where : array_like, optional\n",
      "    This condition is broadcast over the input. At locations where the\n",
      "    condition is True, the `out` array will be set to the ufunc result.\n",
      "    Elsewhere, the `out` array will retain its original value.\n",
      "    Note that if an uninitialized `out` array is created via the default\n",
      "    ``out=None``, locations within it where the condition is False will\n",
      "    remain uninitialized.\n",
      "**kwargs\n",
      "    For other keyword-only arguments, see the\n",
      "    :ref:`ufunc docs <ufuncs.kwargs>`.\n",
      "\n",
      "Returns\n",
      "-------\n",
      "add : ndarray or scalar\n",
      "    The sum of `x1` and `x2`, element-wise.\n",
      "    This is a scalar if both `x1` and `x2` are scalars.\n",
      "\n",
      "Notes\n",
      "-----\n",
      "Equivalent to `x1` + `x2` in terms of array broadcasting.\n",
      "\n",
      "Examples\n",
      "--------\n",
      ">>> np.add(1.0, 4.0)\n",
      "5.0\n",
      ">>> x1 = np.arange(9.0).reshape((3, 3))\n",
      ">>> x2 = np.arange(3.0)\n",
      ">>> np.add(x1, x2)\n",
      "array([[  0.,   2.,   4.],\n",
      "       [  3.,   5.,   7.],\n",
      "       [  6.,   8.,  10.]])\n"
     ]
    }
   ],
   "source": [
    "np.info(np.add)"
   ]
  },
  {
   "cell_type": "markdown",
   "metadata": {},
   "source": [
    "#### 6.  Create a null vector of size 10 but the fifth value which is 1 (★☆☆)"
   ]
  },
  {
   "cell_type": "code",
   "execution_count": 16,
   "metadata": {},
   "outputs": [
    {
     "name": "stdout",
     "output_type": "stream",
     "text": [
      "[6.23042070e-307 4.67296746e-307 1.69121096e-306 8.01092457e-307\n",
      " 1.00000000e+000 1.00000000e+000 1.05699242e-307 8.01097889e-307\n",
      " 1.42421160e-306 8.34446411e-308]\n"
     ]
    }
   ],
   "source": [
    "array = np.empty(10)\n",
    "array[4]=1\n",
    "print(array)"
   ]
  },
  {
   "cell_type": "markdown",
   "metadata": {},
   "source": [
    "#### 7.  Create a vector with values ranging from 10 to 49 (★☆☆)"
   ]
  },
  {
   "cell_type": "code",
   "execution_count": 17,
   "metadata": {},
   "outputs": [
    {
     "data": {
      "text/plain": [
       "array([10, 11, 12, 13, 14, 15, 16, 17, 18, 19, 20, 21, 22, 23, 24, 25, 26,\n",
       "       27, 28, 29, 30, 31, 32, 33, 34, 35, 36, 37, 38, 39, 40, 41, 42, 43,\n",
       "       44, 45, 46, 47, 48, 49])"
      ]
     },
     "execution_count": 17,
     "metadata": {},
     "output_type": "execute_result"
    }
   ],
   "source": [
    "np.arange(10,50)"
   ]
  },
  {
   "cell_type": "markdown",
   "metadata": {},
   "source": [
    "#### 8.  Reverse a vector (first element becomes last) (★☆☆)"
   ]
  },
  {
   "cell_type": "code",
   "execution_count": 22,
   "metadata": {},
   "outputs": [
    {
     "data": {
      "text/plain": [
       "array([49, 48, 47, 46, 45, 44, 43, 42, 41, 40, 39, 38, 37, 36, 35, 34, 33,\n",
       "       32, 31, 30, 29, 28, 27, 26, 25, 24, 23, 22, 21, 20, 19, 18, 17, 16,\n",
       "       15, 14, 13, 12, 11, 10])"
      ]
     },
     "execution_count": 22,
     "metadata": {},
     "output_type": "execute_result"
    }
   ],
   "source": [
    "array = np.arange(10,50)\n",
    "np.flip(array)"
   ]
  },
  {
   "cell_type": "markdown",
   "metadata": {},
   "source": [
    "#### 9.  Create a 3x3 matrix with values ranging from 0 to 8 (★☆☆)"
   ]
  },
  {
   "cell_type": "code",
   "execution_count": 23,
   "metadata": {},
   "outputs": [
    {
     "data": {
      "text/plain": [
       "array([[0, 1, 2],\n",
       "       [3, 4, 5],\n",
       "       [6, 7, 8]])"
      ]
     },
     "execution_count": 23,
     "metadata": {},
     "output_type": "execute_result"
    }
   ],
   "source": [
    "array = np.arange(0,9)\n",
    "array.reshape(3,3)"
   ]
  },
  {
   "cell_type": "markdown",
   "metadata": {},
   "source": [
    "#### 10. Find indices of non-zero elements from \\[1,2,0,0,4,0\\] (★☆☆)"
   ]
  },
  {
   "cell_type": "code",
   "execution_count": 26,
   "metadata": {},
   "outputs": [
    {
     "data": {
      "text/plain": [
       "(array([0, 1, 4], dtype=int64),)"
      ]
     },
     "execution_count": 26,
     "metadata": {},
     "output_type": "execute_result"
    }
   ],
   "source": [
    "array = np.array([1,2,0,0,4,0])\n",
    "np.nonzero(array)"
   ]
  },
  {
   "cell_type": "markdown",
   "metadata": {},
   "source": [
    "#### 11. Create a 3x3 identity matrix (★☆☆)"
   ]
  },
  {
   "cell_type": "code",
   "execution_count": 27,
   "metadata": {},
   "outputs": [
    {
     "data": {
      "text/plain": [
       "array([[1., 0., 0.],\n",
       "       [0., 1., 0.],\n",
       "       [0., 0., 1.]])"
      ]
     },
     "execution_count": 27,
     "metadata": {},
     "output_type": "execute_result"
    }
   ],
   "source": [
    "np.identity(3)"
   ]
  },
  {
   "cell_type": "markdown",
   "metadata": {},
   "source": [
    "#### 12. Create a 3x3x3 array with random values (★☆☆)"
   ]
  },
  {
   "cell_type": "code",
   "execution_count": 30,
   "metadata": {},
   "outputs": [
    {
     "data": {
      "text/plain": [
       "array([[[0.30387284, 0.77638356, 0.7975132 ],\n",
       "        [0.16693932, 0.71897533, 0.26518869],\n",
       "        [0.07488139, 0.67374348, 0.14983858]],\n",
       "\n",
       "       [[0.02757363, 0.66532461, 0.70140126],\n",
       "        [0.34190151, 0.69675397, 0.10761839],\n",
       "        [0.73939129, 0.23735539, 0.04870411]],\n",
       "\n",
       "       [[0.93033958, 0.36764227, 0.97619733],\n",
       "        [0.97490145, 0.92441799, 0.48661063],\n",
       "        [0.60061781, 0.38131863, 0.48684725]]])"
      ]
     },
     "execution_count": 30,
     "metadata": {},
     "output_type": "execute_result"
    }
   ],
   "source": [
    "np.random.rand(3,3,3)"
   ]
  },
  {
   "cell_type": "markdown",
   "metadata": {},
   "source": [
    "#### 13. Create a 10x10 array with random values and find the minimum and maximum values (★☆☆)"
   ]
  },
  {
   "cell_type": "code",
   "execution_count": 35,
   "metadata": {},
   "outputs": [
    {
     "name": "stdout",
     "output_type": "stream",
     "text": [
      "0.9923211113767458\n",
      "0.007131868379947948\n"
     ]
    }
   ],
   "source": [
    "array = np.random.rand(10,10)\n",
    "print(array.max())\n",
    "print(array.min())"
   ]
  },
  {
   "cell_type": "markdown",
   "metadata": {},
   "source": [
    "#### 14. Create a random vector of size 30 and find the mean value (★☆☆)"
   ]
  },
  {
   "cell_type": "code",
   "execution_count": 39,
   "metadata": {},
   "outputs": [
    {
     "data": {
      "text/plain": [
       "0.5160911647497707"
      ]
     },
     "execution_count": 39,
     "metadata": {},
     "output_type": "execute_result"
    }
   ],
   "source": [
    "array = np.random.rand(30)\n",
    "array.mean()"
   ]
  },
  {
   "cell_type": "markdown",
   "metadata": {},
   "source": [
    "#### 15. Create a 2d array with 1 on the border and 0 inside (★☆☆)"
   ]
  },
  {
   "cell_type": "code",
   "execution_count": 40,
   "metadata": {},
   "outputs": [
    {
     "name": "stdout",
     "output_type": "stream",
     "text": [
      "[[1. 1. 1. 1. 1.]\n",
      " [1. 0. 0. 0. 1.]\n",
      " [1. 0. 0. 0. 1.]\n",
      " [1. 0. 0. 0. 1.]\n",
      " [1. 1. 1. 1. 1.]]\n"
     ]
    }
   ],
   "source": [
    "array = np.ones((5,5))\n",
    "array[1:-1,1:-1] = 0\n",
    "print(array)"
   ]
  },
  {
   "cell_type": "markdown",
   "metadata": {},
   "source": [
    "#### 16. How to add a border (filled with 0's) around an existing array? (★☆☆)"
   ]
  },
  {
   "cell_type": "code",
   "execution_count": 56,
   "metadata": {},
   "outputs": [
    {
     "data": {
      "text/plain": [
       "array([[0.        , 0.        , 0.        , 0.        , 0.        ],\n",
       "       [0.        , 0.78784228, 0.50010223, 0.51689693, 0.        ],\n",
       "       [0.        , 0.93978242, 0.44935318, 0.24698305, 0.        ],\n",
       "       [0.        , 0.        , 0.        , 0.        , 0.        ]])"
      ]
     },
     "execution_count": 56,
     "metadata": {},
     "output_type": "execute_result"
    }
   ],
   "source": [
    "inside = np.random.rand(2,3)\n",
    "array = np.zeros((inside.shape[0]+2,inside.shape[1]+2))\n",
    "array[1:-1,1:-1]=inside\n",
    "array"
   ]
  },
  {
   "cell_type": "markdown",
   "metadata": {},
   "source": [
    "#### 17. What is the result of the following expression? (★☆☆)"
   ]
  },
  {
   "cell_type": "markdown",
   "metadata": {},
   "source": [
    "```python\n",
    "0 * np.nan\n",
    "np.nan == np.nan\n",
    "np.inf > np.nan\n",
    "np.nan - np.nan\n",
    "np.nan in set([np.nan])\n",
    "0.3 == 3 * 0.1\n",
    "```"
   ]
  },
  {
   "cell_type": "code",
   "execution_count": 59,
   "metadata": {},
   "outputs": [
    {
     "name": "stdout",
     "output_type": "stream",
     "text": [
      "nan\n",
      "False\n",
      "False\n",
      "nan\n",
      "True\n",
      "False\n"
     ]
    }
   ],
   "source": [
    "print(0 * np.nan)\n",
    "print(np.nan == np.nan)\n",
    "print(np.inf > np.nan)\n",
    "print(np.nan - np.nan)\n",
    "print(np.nan in set([np.nan]))\n",
    "print(0.3 == 3 * 0.1)"
   ]
  },
  {
   "cell_type": "markdown",
   "metadata": {},
   "source": [
    "#### 18. Create a 5x5 matrix with values 1,2,3,4 just below the diagonal (★☆☆)"
   ]
  },
  {
   "cell_type": "code",
   "execution_count": 64,
   "metadata": {},
   "outputs": [
    {
     "data": {
      "text/plain": [
       "array([[0.19507595, 0.28719698, 0.48941587, 0.2424189 , 0.84297791],\n",
       "       [1.        , 0.6684627 , 0.55178319, 0.88298214, 0.07955284],\n",
       "       [0.65274378, 2.        , 0.63402581, 0.1488989 , 0.88441128],\n",
       "       [0.24553789, 0.33604262, 3.        , 0.36859812, 0.96658834],\n",
       "       [0.65490497, 0.18425112, 0.66007562, 4.        , 0.8325448 ]])"
      ]
     },
     "execution_count": 64,
     "metadata": {},
     "output_type": "execute_result"
    }
   ],
   "source": [
    "array = np.random.rand(5,5)\n",
    "i=1\n",
    "j=0\n",
    "while i < 5:\n",
    "    array[i][j]=i\n",
    "    i += 1\n",
    "    j += 1\n",
    "array"
   ]
  },
  {
   "cell_type": "markdown",
   "metadata": {},
   "source": [
    "#### 19. Create a 8x8 matrix and fill it with a checkerboard pattern (★☆☆)"
   ]
  },
  {
   "cell_type": "code",
   "execution_count": 76,
   "metadata": {},
   "outputs": [
    {
     "data": {
      "text/plain": [
       "array([[1., 0., 1., 0., 1., 0., 1., 0.],\n",
       "       [0., 1., 0., 1., 0., 1., 0., 1.],\n",
       "       [1., 0., 1., 0., 1., 0., 1., 0.],\n",
       "       [0., 1., 0., 1., 0., 1., 0., 1.],\n",
       "       [1., 0., 1., 0., 1., 0., 1., 0.],\n",
       "       [0., 1., 0., 1., 0., 1., 0., 1.],\n",
       "       [1., 0., 1., 0., 1., 0., 1., 0.],\n",
       "       [0., 1., 0., 1., 0., 1., 0., 1.]])"
      ]
     },
     "execution_count": 76,
     "metadata": {},
     "output_type": "execute_result"
    }
   ],
   "source": [
    "array = np.zeros((8,8))\n",
    "for row in range(array.shape[0]):\n",
    "    for col in range(array.shape[1]):\n",
    "        if (col+row)%2 == 0:\n",
    "            array[row][col]=1\n",
    "            \n",
    "array"
   ]
  },
  {
   "cell_type": "markdown",
   "metadata": {},
   "source": [
    "#### 20. Consider a (6,7,8) shape array, what is the index (x,y,z) of the 100th element?"
   ]
  },
  {
   "cell_type": "code",
   "execution_count": 106,
   "metadata": {},
   "outputs": [
    {
     "data": {
      "text/plain": [
       "(1, 5, 4)"
      ]
     },
     "execution_count": 106,
     "metadata": {},
     "output_type": "execute_result"
    }
   ],
   "source": [
    "np.unravel_index(100, (6,7,8))"
   ]
  },
  {
   "cell_type": "markdown",
   "metadata": {},
   "source": [
    "#### 21. Create a checkerboard 8x8 matrix using the tile function (★☆☆)"
   ]
  },
  {
   "cell_type": "code",
   "execution_count": 115,
   "metadata": {},
   "outputs": [
    {
     "data": {
      "text/plain": [
       "array([[1, 0, 1, 0, 1, 0, 1, 0],\n",
       "       [0, 1, 0, 1, 0, 1, 0, 1],\n",
       "       [1, 0, 1, 0, 1, 0, 1, 0],\n",
       "       [0, 1, 0, 1, 0, 1, 0, 1],\n",
       "       [1, 0, 1, 0, 1, 0, 1, 0],\n",
       "       [0, 1, 0, 1, 0, 1, 0, 1],\n",
       "       [1, 0, 1, 0, 1, 0, 1, 0],\n",
       "       [0, 1, 0, 1, 0, 1, 0, 1]])"
      ]
     },
     "execution_count": 115,
     "metadata": {},
     "output_type": "execute_result"
    }
   ],
   "source": [
    "a = np.array([[1, 0],[0,1]])\n",
    "np.tile(a,(4,4))"
   ]
  },
  {
   "cell_type": "markdown",
   "metadata": {},
   "source": [
    "#### 22. Normalize a 5x5 random matrix (★☆☆)"
   ]
  },
  {
   "cell_type": "code",
   "execution_count": 116,
   "metadata": {},
   "outputs": [
    {
     "data": {
      "text/plain": [
       "array([[0.20579461, 0.07636475, 0.01752889, 0.05871976, 0.30017213],\n",
       "       [0.22234466, 0.29559873, 0.28755339, 0.1571553 , 0.22840432],\n",
       "       [0.10926095, 0.30897778, 0.00824803, 0.23470679, 0.28358772],\n",
       "       [0.3016338 , 0.14884556, 0.1580429 , 0.19012133, 0.14517552],\n",
       "       [0.0253149 , 0.1832494 , 0.18726697, 0.17472011, 0.15314073]])"
      ]
     },
     "execution_count": 116,
     "metadata": {},
     "output_type": "execute_result"
    }
   ],
   "source": [
    "array = np.random.rand(5,5)\n",
    "norm = np.linalg.norm(array)\n",
    "array/norm"
   ]
  },
  {
   "cell_type": "markdown",
   "metadata": {},
   "source": [
    "#### 23. Create a custom dtype that describes a color as four unsigned bytes (RGBA) (★☆☆)"
   ]
  },
  {
   "cell_type": "code",
   "execution_count": 117,
   "metadata": {},
   "outputs": [
    {
     "data": {
      "text/plain": [
       "dtype([('R', 'i1'), ('G', 'i1'), ('B', 'i1'), ('A', 'i1')])"
      ]
     },
     "execution_count": 117,
     "metadata": {},
     "output_type": "execute_result"
    }
   ],
   "source": [
    "np.dtype([('R', np.byte),('G', np.byte),('B', np.byte),('A', np.byte)])"
   ]
  },
  {
   "cell_type": "markdown",
   "metadata": {},
   "source": [
    "#### 24. Multiply a 5x3 matrix by a 3x2 matrix (real matrix product) (★☆☆)"
   ]
  },
  {
   "cell_type": "code",
   "execution_count": 120,
   "metadata": {},
   "outputs": [
    {
     "data": {
      "text/plain": [
       "array([[1.98431986, 1.04097261],\n",
       "       [0.99478932, 0.7030266 ],\n",
       "       [1.38730781, 0.36115775],\n",
       "       [1.57186264, 0.71276603],\n",
       "       [1.29063632, 1.06403886]])"
      ]
     },
     "execution_count": 120,
     "metadata": {},
     "output_type": "execute_result"
    }
   ],
   "source": [
    "np.matmul(np.random.rand(5,3),np.random.rand(3,2))"
   ]
  },
  {
   "cell_type": "markdown",
   "metadata": {},
   "source": [
    "#### 25. Given a 1D array, negate all elements which are between 3 and 8, in place. (★☆☆)"
   ]
  },
  {
   "cell_type": "code",
   "execution_count": 125,
   "metadata": {},
   "outputs": [
    {
     "data": {
      "text/plain": [
       "array([ 0.4151768 ,  0.96096465, -0.98542497, -0.19805034, -0.45348376,\n",
       "       -0.72099683, -0.16148537, -0.9237415 ,  0.49212007,  0.61805768,\n",
       "        0.28578044,  0.20721736,  0.03766505,  0.48891172,  0.6466241 ])"
      ]
     },
     "execution_count": 125,
     "metadata": {},
     "output_type": "execute_result"
    }
   ],
   "source": [
    "array = np.random.rand(15)\n",
    "array[2:8] = np.negative(array[2:8])\n",
    "array"
   ]
  },
  {
   "cell_type": "markdown",
   "metadata": {},
   "source": [
    "#### 26. What is the output of the following script? (★☆☆)"
   ]
  },
  {
   "cell_type": "markdown",
   "metadata": {},
   "source": [
    "```python\n",
    "# Author: Jake VanderPlas\n",
    "\n",
    "print(sum(range(5),-1))\n",
    "from numpy import *\n",
    "print(sum(range(5),-1))\n",
    "```"
   ]
  },
  {
   "cell_type": "code",
   "execution_count": 126,
   "metadata": {},
   "outputs": [
    {
     "name": "stdout",
     "output_type": "stream",
     "text": [
      "9\n",
      "10\n"
     ]
    }
   ],
   "source": [
    "print(sum(range(5),-1))\n",
    "from numpy import *\n",
    "print(sum(range(5),-1))"
   ]
  },
  {
   "cell_type": "markdown",
   "metadata": {},
   "source": [
    "#### 27. Consider an integer vector Z, which of these expressions are legal? (★☆☆)"
   ]
  },
  {
   "cell_type": "markdown",
   "metadata": {},
   "source": [
    "```python\n",
    "Z**Z\n",
    "2 << Z >> 2\n",
    "Z <- Z\n",
    "1j*Z\n",
    "Z/1/1\n",
    "Z<Z>Z\n",
    "```"
   ]
  },
  {
   "cell_type": "code",
   "execution_count": 136,
   "metadata": {},
   "outputs": [
    {
     "data": {
      "text/plain": [
       "array([0.78499222, 0.87003741, 0.56211827, 0.74061213, 0.59880234,\n",
       "       0.12252626, 0.98046003, 0.51728187, 0.38023569, 0.34636343,\n",
       "       0.56002247, 0.93330204, 0.51895497, 0.90888212, 0.37989022])"
      ]
     },
     "execution_count": 136,
     "metadata": {},
     "output_type": "execute_result"
    }
   ],
   "source": [
    "Z**Z\n",
    "Z <- Z\n",
    "1j*Z\n",
    "Z/1/1"
   ]
  },
  {
   "cell_type": "markdown",
   "metadata": {},
   "source": [
    "#### 28. What are the result of the following expressions?"
   ]
  },
  {
   "cell_type": "markdown",
   "metadata": {},
   "source": [
    "```python\n",
    "np.array(0) / np.array(0)\n",
    "np.array(0) // np.array(0)\n",
    "np.array([np.nan]).astype(int).astype(float)\n",
    "```"
   ]
  },
  {
   "cell_type": "code",
   "execution_count": 139,
   "metadata": {},
   "outputs": [
    {
     "name": "stdout",
     "output_type": "stream",
     "text": [
      "nan\n",
      "0\n",
      "[-2.14748365e+09]\n"
     ]
    },
    {
     "name": "stderr",
     "output_type": "stream",
     "text": [
      "<ipython-input-139-2a10de0ee61b>:1: RuntimeWarning: invalid value encountered in true_divide\n",
      "  print(np.array(0) / np.array(0))\n",
      "<ipython-input-139-2a10de0ee61b>:2: RuntimeWarning: divide by zero encountered in floor_divide\n",
      "  print(np.array(0) // np.array(0))\n"
     ]
    }
   ],
   "source": [
    "print(np.array(0) / np.array(0))\n",
    "print(np.array(0) // np.array(0))\n",
    "print(np.array([np.nan]).astype(int).astype(float))"
   ]
  },
  {
   "cell_type": "markdown",
   "metadata": {},
   "source": [
    "#### 29. How to round away from zero a float array ? (★☆☆)"
   ]
  },
  {
   "cell_type": "code",
   "execution_count": 140,
   "metadata": {},
   "outputs": [
    {
     "data": {
      "text/plain": [
       "array([0., 1., 0., 0., 1., 1., 0., 0., 0., 0., 0., 1., 0., 1., 1.])"
      ]
     },
     "execution_count": 140,
     "metadata": {},
     "output_type": "execute_result"
    }
   ],
   "source": [
    "array = np.random.rand(15)\n",
    "np.around(array,0)"
   ]
  },
  {
   "cell_type": "markdown",
   "metadata": {},
   "source": [
    "#### 30. How to find common values between two arrays? (★☆☆)"
   ]
  },
  {
   "cell_type": "code",
   "execution_count": 142,
   "metadata": {},
   "outputs": [
    {
     "name": "stdout",
     "output_type": "stream",
     "text": [
      "[1 3 4]\n"
     ]
    }
   ],
   "source": [
    "ar1 = np.array([0, 1, 2, 3, 4])\n",
    "ar2 = [1, 3, 4]\n",
    "\n",
    "print(np.intersect1d(ar1, ar2))"
   ]
  },
  {
   "cell_type": "markdown",
   "metadata": {},
   "source": [
    "#### 31. How to ignore all numpy warnings (not recommended)? (★☆☆)"
   ]
  },
  {
   "cell_type": "code",
   "execution_count": 144,
   "metadata": {},
   "outputs": [],
   "source": [
    "import warnings\n",
    "warnings.filterwarnings('ignore')"
   ]
  },
  {
   "cell_type": "markdown",
   "metadata": {},
   "source": [
    "#### 32. Is the following expressions true? (★☆☆)"
   ]
  },
  {
   "cell_type": "markdown",
   "metadata": {},
   "source": [
    "```python\n",
    "np.sqrt(-1) == np.emath.sqrt(-1)\n",
    "```"
   ]
  },
  {
   "cell_type": "code",
   "execution_count": 145,
   "metadata": {},
   "outputs": [
    {
     "data": {
      "text/plain": [
       "False"
      ]
     },
     "execution_count": 145,
     "metadata": {},
     "output_type": "execute_result"
    }
   ],
   "source": [
    "np.sqrt(-1) == np.emath.sqrt(-1)"
   ]
  },
  {
   "cell_type": "markdown",
   "metadata": {},
   "source": [
    "#### 33. How to get the dates of yesterday, today and tomorrow? (★☆☆)"
   ]
  },
  {
   "cell_type": "code",
   "execution_count": 149,
   "metadata": {},
   "outputs": [
    {
     "name": "stdout",
     "output_type": "stream",
     "text": [
      "2021-09-22 \n",
      " 2021-09-23 \n",
      " 2021-09-24\n"
     ]
    }
   ],
   "source": [
    "today = np.datetime64('today', 'D')\n",
    "yesterday = today - np.timedelta64(1, 'D')\n",
    "tomorrow = today + np.timedelta64(1, 'D')\n",
    "print(yesterday,\"\\n\",today,\"\\n\",tomorrow)"
   ]
  },
  {
   "cell_type": "markdown",
   "metadata": {},
   "source": [
    "#### 34. How to get all the dates corresponding to the month of July 2016? (★★☆)"
   ]
  },
  {
   "cell_type": "code",
   "execution_count": 151,
   "metadata": {},
   "outputs": [
    {
     "name": "stdout",
     "output_type": "stream",
     "text": [
      "['2016-07-01' '2016-07-02' '2016-07-03' '2016-07-04' '2016-07-05'\n",
      " '2016-07-06' '2016-07-07' '2016-07-08' '2016-07-09' '2016-07-10'\n",
      " '2016-07-11' '2016-07-12' '2016-07-13' '2016-07-14' '2016-07-15'\n",
      " '2016-07-16' '2016-07-17' '2016-07-18' '2016-07-19' '2016-07-20'\n",
      " '2016-07-21' '2016-07-22' '2016-07-23' '2016-07-24' '2016-07-25'\n",
      " '2016-07-26' '2016-07-27' '2016-07-28' '2016-07-29' '2016-07-30'\n",
      " '2016-07-31']\n"
     ]
    }
   ],
   "source": [
    "print(np.arange('2016-07', '2016-08',dtype='datetime64[D]'))"
   ]
  },
  {
   "cell_type": "markdown",
   "metadata": {},
   "source": [
    "#### 35. How to compute ((A+B)\\*(-A/2)) in place (without copy)? (★★☆)"
   ]
  },
  {
   "cell_type": "code",
   "execution_count": 155,
   "metadata": {},
   "outputs": [
    {
     "data": {
      "text/plain": [
       "array([[-0.4228924 , -0.63241851],\n",
       "       [-0.13136521, -0.25928135]])"
      ]
     },
     "execution_count": 155,
     "metadata": {},
     "output_type": "execute_result"
    }
   ],
   "source": [
    "A = np.random.rand(2,2)\n",
    "B = np.random.rand(2,2)\n",
    "np.matmul(np.add(A,B),-A/2)"
   ]
  },
  {
   "cell_type": "markdown",
   "metadata": {},
   "source": [
    "#### 36. Extract the integer part of a random array using 5 different methods (★★☆)"
   ]
  },
  {
   "cell_type": "code",
   "execution_count": 164,
   "metadata": {},
   "outputs": [
    {
     "name": "stdout",
     "output_type": "stream",
     "text": [
      "[3. 4. 8.]\n",
      "[2. 4. 8.]\n",
      "[3. 5. 9.]\n",
      "[2. 4. 8.]\n",
      "[2. 4. 8.]\n"
     ]
    }
   ],
   "source": [
    "A = np.array([2.82,4.2,8.4])\n",
    "print(np.rint(A))\n",
    "print(np.trunc(A))\n",
    "print(np.ceil(A))\n",
    "print(np.fix(A))\n",
    "print(np.floor(A))"
   ]
  },
  {
   "cell_type": "markdown",
   "metadata": {},
   "source": [
    "#### 37. Create a 5x5 matrix with row values ranging from 0 to 4 (★★☆)"
   ]
  },
  {
   "cell_type": "code",
   "execution_count": 166,
   "metadata": {},
   "outputs": [
    {
     "data": {
      "text/plain": [
       "array([[1, 2, 1, 2, 2],\n",
       "       [3, 3, 3, 1, 1],\n",
       "       [4, 1, 0, 3, 4],\n",
       "       [3, 1, 4, 0, 4],\n",
       "       [1, 2, 3, 3, 3]])"
      ]
     },
     "execution_count": 166,
     "metadata": {},
     "output_type": "execute_result"
    }
   ],
   "source": [
    "np.random.randint(5, size=(5, 5))"
   ]
  },
  {
   "cell_type": "markdown",
   "metadata": {},
   "source": [
    "#### 38. Consider a generator function that generates 10 integers and use it to build an array (★☆☆)"
   ]
  },
  {
   "cell_type": "code",
   "execution_count": 171,
   "metadata": {},
   "outputs": [
    {
     "data": {
      "text/plain": [
       "array([2, 1, 2, 1, 3, 2, 3, 1, 1, 0], dtype=int64)"
      ]
     },
     "execution_count": 171,
     "metadata": {},
     "output_type": "execute_result"
    }
   ],
   "source": [
    "rng = np.random.default_rng()\n",
    "rng.integers(4, size=10)"
   ]
  },
  {
   "cell_type": "markdown",
   "metadata": {},
   "source": [
    "#### 39. Create a vector of size 10 with values ranging from 0 to 1, both excluded (★★☆)"
   ]
  },
  {
   "cell_type": "code",
   "execution_count": 173,
   "metadata": {},
   "outputs": [
    {
     "data": {
      "text/plain": [
       "array([0.09090909, 0.18181818, 0.27272727, 0.36363636, 0.45454545,\n",
       "       0.54545455, 0.63636364, 0.72727273, 0.81818182, 0.90909091])"
      ]
     },
     "execution_count": 173,
     "metadata": {},
     "output_type": "execute_result"
    }
   ],
   "source": [
    "np.linspace(0,1,12,endpoint=True)[1:-1]"
   ]
  },
  {
   "cell_type": "markdown",
   "metadata": {},
   "source": [
    "#### 40. Create a random vector of size 10 and sort it (★★☆)"
   ]
  },
  {
   "cell_type": "code",
   "execution_count": 175,
   "metadata": {},
   "outputs": [
    {
     "data": {
      "text/plain": [
       "array([[0.08336409, 0.16524204, 0.53937238, 0.54340371, 0.61498656,\n",
       "        0.64579133, 0.70444025, 0.74902285, 0.77136967, 0.85678635]])"
      ]
     },
     "execution_count": 175,
     "metadata": {},
     "output_type": "execute_result"
    }
   ],
   "source": [
    "array = np.random.rand(1,10)\n",
    "np.sort(array)"
   ]
  },
  {
   "cell_type": "markdown",
   "metadata": {},
   "source": [
    "#### 41. How to sum a small array faster than np.sum? (★★☆)"
   ]
  },
  {
   "cell_type": "code",
   "execution_count": 182,
   "metadata": {},
   "outputs": [
    {
     "name": "stdout",
     "output_type": "stream",
     "text": [
      "4.295099511938238\n",
      "4.295099511938238\n"
     ]
    }
   ],
   "source": [
    "array = np.random.rand(1,10)\n",
    "print(np.sum(array))\n",
    "print(sum(array)) #FASTER"
   ]
  },
  {
   "cell_type": "markdown",
   "metadata": {},
   "source": [
    "#### 42. Consider two random array A and B, check if they are equal (★★☆)"
   ]
  },
  {
   "cell_type": "code",
   "execution_count": 183,
   "metadata": {},
   "outputs": [
    {
     "data": {
      "text/plain": [
       "False"
      ]
     },
     "execution_count": 183,
     "metadata": {},
     "output_type": "execute_result"
    }
   ],
   "source": [
    "A = np.random.rand(1,10)\n",
    "B = np.random.rand(1,10)\n",
    "np.array_equal(A,B)"
   ]
  },
  {
   "cell_type": "markdown",
   "metadata": {},
   "source": [
    "#### 43. Make an array immutable (read-only) (★★☆)"
   ]
  },
  {
   "cell_type": "code",
   "execution_count": 185,
   "metadata": {},
   "outputs": [
    {
     "ename": "ValueError",
     "evalue": "assignment destination is read-only",
     "output_type": "error",
     "traceback": [
      "\u001b[1;31m---------------------------------------------------------------------------\u001b[0m",
      "\u001b[1;31mValueError\u001b[0m                                Traceback (most recent call last)",
      "\u001b[1;32m<ipython-input-185-4a0e6534d82a>\u001b[0m in \u001b[0;36m<module>\u001b[1;34m\u001b[0m\n\u001b[0;32m      1\u001b[0m \u001b[0mx\u001b[0m \u001b[1;33m=\u001b[0m \u001b[0mnp\u001b[0m\u001b[1;33m.\u001b[0m\u001b[0mzeros\u001b[0m\u001b[1;33m(\u001b[0m\u001b[1;36m10\u001b[0m\u001b[1;33m)\u001b[0m\u001b[1;33m\u001b[0m\u001b[1;33m\u001b[0m\u001b[0m\n\u001b[0;32m      2\u001b[0m \u001b[0mx\u001b[0m\u001b[1;33m.\u001b[0m\u001b[0mflags\u001b[0m\u001b[1;33m.\u001b[0m\u001b[0mwriteable\u001b[0m \u001b[1;33m=\u001b[0m \u001b[1;32mFalse\u001b[0m\u001b[1;33m\u001b[0m\u001b[1;33m\u001b[0m\u001b[0m\n\u001b[1;32m----> 3\u001b[1;33m \u001b[0mx\u001b[0m\u001b[1;33m[\u001b[0m\u001b[1;36m0\u001b[0m\u001b[1;33m]\u001b[0m\u001b[1;33m=\u001b[0m\u001b[1;36m1\u001b[0m\u001b[1;33m\u001b[0m\u001b[1;33m\u001b[0m\u001b[0m\n\u001b[0m",
      "\u001b[1;31mValueError\u001b[0m: assignment destination is read-only"
     ]
    }
   ],
   "source": [
    "x = np.zeros(10)\n",
    "x.flags.writeable = False\n",
    "x[0]=1"
   ]
  },
  {
   "cell_type": "markdown",
   "metadata": {},
   "source": [
    "#### 44. Consider a random 10x2 matrix representing cartesian coordinates, convert them to polar coordinates (★★☆)"
   ]
  },
  {
   "cell_type": "code",
   "execution_count": 186,
   "metadata": {},
   "outputs": [
    {
     "name": "stdout",
     "output_type": "stream",
     "text": [
      "[0.35624406 0.98350721 0.71438356 0.79691824 0.96601647 0.75466965\n",
      " 1.0444179  0.11764107 0.67434952 0.83239763]\n",
      "[0.15504686 1.49591404 1.41801257 0.69439333 0.39030996 1.39273356\n",
      " 0.73969112 0.66080722 1.41991819 0.72947647]\n"
     ]
    }
   ],
   "source": [
    "z= np.random.random((10,2))\n",
    "x,y = z[:,0], z[:,1]\n",
    "r = np.sqrt(x**2+y**2)\n",
    "t = np.arctan2(y,x)\n",
    "print(r)\n",
    "print(t)"
   ]
  },
  {
   "cell_type": "markdown",
   "metadata": {},
   "source": [
    "#### 45. Create random vector of size 10 and replace the maximum value by 0 (★★☆)"
   ]
  },
  {
   "cell_type": "code",
   "execution_count": 195,
   "metadata": {},
   "outputs": [
    {
     "data": {
      "text/plain": [
       "array([[0.47362688, 0.8966977 , 0.87516276, 0.59239555, 0.64959323,\n",
       "        0.        , 0.34447101, 0.30752954, 0.02683593, 0.56505379]])"
      ]
     },
     "execution_count": 195,
     "metadata": {},
     "output_type": "execute_result"
    }
   ],
   "source": [
    "array = np.random.random((1,10))\n",
    "array[0,np.argmax(array)]=0\n",
    "array"
   ]
  },
  {
   "cell_type": "markdown",
   "metadata": {},
   "source": [
    "#### 46. Create a structured array with `x` and `y` coordinates covering the \\[0,1\\]x\\[0,1\\] area (★★☆)"
   ]
  },
  {
   "cell_type": "code",
   "execution_count": 196,
   "metadata": {},
   "outputs": [
    {
     "name": "stdout",
     "output_type": "stream",
     "text": [
      "[[(0.        , 0.        ) (0.11111111, 0.        )\n",
      "  (0.22222222, 0.        ) (0.33333333, 0.        )\n",
      "  (0.44444444, 0.        ) (0.55555556, 0.        )\n",
      "  (0.66666667, 0.        ) (0.77777778, 0.        )\n",
      "  (0.88888889, 0.        ) (1.        , 0.        )]\n",
      " [(0.        , 0.11111111) (0.11111111, 0.11111111)\n",
      "  (0.22222222, 0.11111111) (0.33333333, 0.11111111)\n",
      "  (0.44444444, 0.11111111) (0.55555556, 0.11111111)\n",
      "  (0.66666667, 0.11111111) (0.77777778, 0.11111111)\n",
      "  (0.88888889, 0.11111111) (1.        , 0.11111111)]\n",
      " [(0.        , 0.22222222) (0.11111111, 0.22222222)\n",
      "  (0.22222222, 0.22222222) (0.33333333, 0.22222222)\n",
      "  (0.44444444, 0.22222222) (0.55555556, 0.22222222)\n",
      "  (0.66666667, 0.22222222) (0.77777778, 0.22222222)\n",
      "  (0.88888889, 0.22222222) (1.        , 0.22222222)]\n",
      " [(0.        , 0.33333333) (0.11111111, 0.33333333)\n",
      "  (0.22222222, 0.33333333) (0.33333333, 0.33333333)\n",
      "  (0.44444444, 0.33333333) (0.55555556, 0.33333333)\n",
      "  (0.66666667, 0.33333333) (0.77777778, 0.33333333)\n",
      "  (0.88888889, 0.33333333) (1.        , 0.33333333)]\n",
      " [(0.        , 0.44444444) (0.11111111, 0.44444444)\n",
      "  (0.22222222, 0.44444444) (0.33333333, 0.44444444)\n",
      "  (0.44444444, 0.44444444) (0.55555556, 0.44444444)\n",
      "  (0.66666667, 0.44444444) (0.77777778, 0.44444444)\n",
      "  (0.88888889, 0.44444444) (1.        , 0.44444444)]\n",
      " [(0.        , 0.55555556) (0.11111111, 0.55555556)\n",
      "  (0.22222222, 0.55555556) (0.33333333, 0.55555556)\n",
      "  (0.44444444, 0.55555556) (0.55555556, 0.55555556)\n",
      "  (0.66666667, 0.55555556) (0.77777778, 0.55555556)\n",
      "  (0.88888889, 0.55555556) (1.        , 0.55555556)]\n",
      " [(0.        , 0.66666667) (0.11111111, 0.66666667)\n",
      "  (0.22222222, 0.66666667) (0.33333333, 0.66666667)\n",
      "  (0.44444444, 0.66666667) (0.55555556, 0.66666667)\n",
      "  (0.66666667, 0.66666667) (0.77777778, 0.66666667)\n",
      "  (0.88888889, 0.66666667) (1.        , 0.66666667)]\n",
      " [(0.        , 0.77777778) (0.11111111, 0.77777778)\n",
      "  (0.22222222, 0.77777778) (0.33333333, 0.77777778)\n",
      "  (0.44444444, 0.77777778) (0.55555556, 0.77777778)\n",
      "  (0.66666667, 0.77777778) (0.77777778, 0.77777778)\n",
      "  (0.88888889, 0.77777778) (1.        , 0.77777778)]\n",
      " [(0.        , 0.88888889) (0.11111111, 0.88888889)\n",
      "  (0.22222222, 0.88888889) (0.33333333, 0.88888889)\n",
      "  (0.44444444, 0.88888889) (0.55555556, 0.88888889)\n",
      "  (0.66666667, 0.88888889) (0.77777778, 0.88888889)\n",
      "  (0.88888889, 0.88888889) (1.        , 0.88888889)]\n",
      " [(0.        , 1.        ) (0.11111111, 1.        )\n",
      "  (0.22222222, 1.        ) (0.33333333, 1.        )\n",
      "  (0.44444444, 1.        ) (0.55555556, 1.        )\n",
      "  (0.66666667, 1.        ) (0.77777778, 1.        )\n",
      "  (0.88888889, 1.        ) (1.        , 1.        )]]\n"
     ]
    }
   ],
   "source": [
    "Z = np.zeros((10,10), [('x',float),('y',float)])\n",
    "Z['x'], Z['y'] = np.meshgrid(np.linspace(0,1,10),np.linspace(0,1,10))\n",
    "print(Z)"
   ]
  },
  {
   "cell_type": "markdown",
   "metadata": {},
   "source": [
    "####  47. Given two arrays, X and Y, construct the Cauchy matrix C (Cij =1/(xi - yj))"
   ]
  },
  {
   "cell_type": "code",
   "execution_count": 200,
   "metadata": {},
   "outputs": [
    {
     "name": "stdout",
     "output_type": "stream",
     "text": [
      "[[ 2.03769443e+00  2.40253632e+00  2.63897146e+00  2.08539818e+00\n",
      "  -5.27760464e+00 -3.36480760e+00  5.50209748e+00 -2.33418964e+00\n",
      "   5.85408811e+00 -1.86757249e+01]\n",
      " [ 1.07739703e+00  1.17145534e+00  1.22496817e+00  1.09058751e+00\n",
      "   4.03335857e+00  7.13173062e+00  1.61508854e+00  1.11135457e+02\n",
      "   1.64410670e+00  2.60507038e+00]\n",
      " [ 1.44939855e+00  1.62491333e+00  1.72972628e+00  1.47337167e+00\n",
      "   1.02978751e+02 -1.02037514e+01  2.62508868e+00 -4.36255325e+00\n",
      "   2.70261915e+00  6.86600055e+00]\n",
      " [ 1.90447109e+01 -4.54217156e+01 -1.68613628e+01  2.42236144e+01\n",
      "  -1.59306038e+00 -1.35973668e+00 -3.89872928e+00 -1.15385915e+00\n",
      "  -3.73940951e+00 -2.03339591e+00]\n",
      " [ 2.95936314e+00  3.79670003e+00  4.42291298e+00  3.06105686e+00\n",
      "  -2.92124264e+00 -2.22205440e+00  3.45916678e+01 -1.72041715e+00\n",
      "   5.56154255e+01 -4.84529883e+00]\n",
      " [ 4.42958234e+00  6.61240088e+00  8.77657108e+00  4.66137592e+00\n",
      "  -2.20033768e+00 -1.77875930e+00 -1.20124554e+01 -1.44214822e+00\n",
      "  -1.06185294e+01 -3.13931092e+00]\n",
      " [ 1.11474547e+00  1.21574362e+00  1.27347888e+00  1.12887231e+00\n",
      "   4.61179846e+00  9.16411916e+00  1.70049542e+00 -4.52505954e+01\n",
      "   1.73269432e+00  2.83471136e+00]\n",
      " [ 1.40243619e+00  1.56611921e+00  1.66325778e+00  1.42486894e+00\n",
      "   3.04745175e+01 -1.33512041e+01  2.47498366e+00 -4.85154272e+00\n",
      "   2.54378490e+00  5.92596959e+00]\n",
      " [ 1.34113745e+01  2.52174362e+04 -2.68444621e+01  1.57884132e+01\n",
      "  -1.65107217e+00 -1.40177558e+00 -4.26551514e+00 -1.18399053e+00\n",
      "  -4.07553856e+00 -2.12887082e+00]\n",
      " [ 1.19564431e+01  1.09733400e+02 -3.54883133e+01  1.38100702e+01\n",
      "  -1.67618263e+00 -1.41983414e+00 -4.43724759e+00 -1.19684797e+00\n",
      "  -4.23203388e+00 -2.17080197e+00]]\n"
     ]
    }
   ],
   "source": [
    "A = np.random.rand(1,10)\n",
    "B = np.random.rand(1,10)\n",
    "A = A.reshape((-1,1))\n",
    "diff_matrix = A-B\n",
    "cauchym = 1.0/diff_matrix\n",
    "print (cauchym)"
   ]
  },
  {
   "cell_type": "markdown",
   "metadata": {},
   "source": [
    "#### 48. Print the minimum and maximum representable value for each numpy scalar type (★★☆)"
   ]
  },
  {
   "cell_type": "code",
   "execution_count": 201,
   "metadata": {},
   "outputs": [
    {
     "name": "stdout",
     "output_type": "stream",
     "text": [
      "-128\n",
      "127\n",
      "-2147483648\n",
      "2147483647\n",
      "-9223372036854775808\n",
      "9223372036854775807\n",
      "-3.4028235e+38\n",
      "3.4028235e+38\n",
      "1.1920929e-07\n",
      "-1.7976931348623157e+308\n",
      "1.7976931348623157e+308\n",
      "2.220446049250313e-16\n"
     ]
    }
   ],
   "source": [
    "for dtype in [np.int8, np.int32, np.int64]:\n",
    "    print(np.iinfo(dtype).min)\n",
    "    print(np.iinfo(dtype).max)\n",
    "for dtype in [np.float32, np.float64]:\n",
    "    print(np.finfo(dtype).min)\n",
    "    print(np.finfo(dtype).max)\n",
    "    print(np.finfo(dtype).eps)"
   ]
  },
  {
   "cell_type": "markdown",
   "metadata": {},
   "source": [
    "#### 49. How to print all the values of an array? (★★☆)"
   ]
  },
  {
   "cell_type": "code",
   "execution_count": 207,
   "metadata": {},
   "outputs": [
    {
     "name": "stdout",
     "output_type": "stream",
     "text": [
      "[ 0  1  2  3  4  5  6  7  8  9 10 11 12 13 14 15 16 17 18 19 20 21 22 23\n",
      " 24 25 26 27 28 29 30 31 32 33 34 35 36 37 38 39 40 41 42 43 44 45 46 47\n",
      " 48 49 50 51 52 53 54 55 56 57 58 59 60 61 62 63 64 65 66 67 68 69 70 71\n",
      " 72 73 74 75 76 77 78 79 80 81 82 83 84 85 86 87 88 89 90 91 92 93 94 95\n",
      " 96 97 98 99]\n"
     ]
    }
   ],
   "source": [
    "np.set_printoptions(threshold=np.inf)\n",
    "array = np.arange(100)\n",
    "print(array)"
   ]
  },
  {
   "cell_type": "markdown",
   "metadata": {},
   "source": [
    "#### 50. How to find the closest value (to a given scalar) in a vector? (★★☆)"
   ]
  },
  {
   "cell_type": "code",
   "execution_count": 212,
   "metadata": {},
   "outputs": [
    {
     "name": "stdout",
     "output_type": "stream",
     "text": [
      "13\n"
     ]
    }
   ],
   "source": [
    "array = np.arange(100)\n",
    "v_scalar = 12.65\n",
    "index = (np.abs(array-v_scalar)).argmin()\n",
    "print(array[index])"
   ]
  },
  {
   "cell_type": "markdown",
   "metadata": {},
   "source": [
    "#### 51. Create a structured array representing a position (x,y) and a color (r,g,b) (★★☆)"
   ]
  },
  {
   "cell_type": "code",
   "execution_count": 214,
   "metadata": {},
   "outputs": [
    {
     "name": "stdout",
     "output_type": "stream",
     "text": [
      "[((0., 0.), (0., 0., 0.))]\n"
     ]
    }
   ],
   "source": [
    "array = np.zeros(1,[('position', [ ('x', float, 1),('y', float, 1)]),('color', [ ('r', float, 1),('g', float, 1),('b', float, 1)])])\n",
    "print(array)"
   ]
  },
  {
   "cell_type": "markdown",
   "metadata": {},
   "source": [
    "#### 52. Consider a random vector with shape (100,2) representing coordinates, find point by point distances (★★☆)"
   ]
  },
  {
   "cell_type": "code",
   "execution_count": 215,
   "metadata": {},
   "outputs": [
    {
     "name": "stdout",
     "output_type": "stream",
     "text": [
      "[[0.         1.04007939 0.29350783 0.47565839 0.57256046 0.72158228\n",
      "  0.18298261 0.29728615 0.65949013 0.67293793 0.52439743 0.74713908\n",
      "  0.94424691 0.19185696 0.1561821  0.38982281 0.55544776 0.75261347\n",
      "  0.15040541 0.65159752 0.72593293 0.33043247 0.3208468  0.8831701\n",
      "  0.23736823 0.08099733 0.96606645 0.13287817 0.10902215 0.84552413\n",
      "  0.31494915 0.67715593 0.26946684 0.64817598 0.38209023 0.5328015\n",
      "  0.78076286 0.66970196 0.6633589  0.38382187 0.68698318 0.32148422\n",
      "  0.18488122 0.86992759 0.77129216 0.60830839 0.62086014 0.20696041\n",
      "  0.09858567 0.36401435 0.96214322 0.65080209 0.4051883  0.13987855\n",
      "  1.01209454 0.8695433  0.526216   0.29350361 0.51932856 0.70759103\n",
      "  0.96732369 0.21131554 0.24291241 0.46452194 0.74029591 0.68957295\n",
      "  0.15026604 0.72570686 0.66324982 0.86716544 0.93153709 0.29395633\n",
      "  0.42555133 0.1006555  0.91222682 0.73573002 0.70037198 0.42706583\n",
      "  0.10272455 0.52954638 0.71730743 0.1826902  0.87068561 0.61574774\n",
      "  0.19174583 0.34855527 0.40656577 0.32017851 0.70241769 0.83233594\n",
      "  0.50956909 0.67195141 0.89749111 0.26625121 0.64165997 0.85788076\n",
      "  0.91571669 0.51173662 0.74173261 0.20071156]\n",
      " [1.04007939 0.         0.97409911 0.58668099 0.97894468 0.37339739\n",
      "  1.13721038 0.9253447  0.38868744 0.61432419 0.69703932 0.37505019\n",
      "  0.11161104 0.91859884 1.19363064 0.81664431 0.96727629 0.5270361\n",
      "  0.97060342 0.566707   0.52215514 0.85984518 0.77658602 0.3949956\n",
      "  1.12696993 1.03157686 0.35400767 1.02324654 1.01317823 0.50709544\n",
      "  0.72522319 0.63179745 0.82425562 0.445059   0.72972274 0.55567944\n",
      "  0.64521721 0.59022483 0.91224953 0.93923614 0.48110551 0.86634626\n",
      "  0.88811949 0.22569306 0.62633852 0.92128253 0.6038383  1.22385789\n",
      "  1.10684107 0.82009815 0.21291488 0.98661148 0.63590191 1.02815562\n",
      "  0.24937396 0.64718367 0.60217489 1.08488226 0.82902093 0.67350862\n",
      "  0.31673406 1.02201551 0.98269937 0.58510617 0.58073554 0.75438701\n",
      "  1.02173422 0.44337608 0.76303302 0.276368   0.35642046 0.74671272\n",
      "  0.93733672 0.95400403 0.27562366 0.92388342 0.35017101 0.94919381\n",
      "  0.94659537 0.96474427 0.34400906 1.13150703 0.92323646 0.68596017\n",
      "  0.97249219 0.73289769 0.77000174 0.74959551 0.70175751 0.90011623\n",
      "  0.90379283 0.55395691 0.38600253 0.91884371 0.82281417 0.18828565\n",
      "  0.27304211 0.87691951 0.58251102 0.88998068]\n",
      " [0.29350783 0.97409911 0.         0.5232083  0.81155522 0.6085402\n",
      "  0.47568359 0.53207025 0.59026779 0.4629959  0.66782411 0.62029727\n",
      "  0.89948695 0.13744921 0.39943735 0.1672562  0.79273772 0.84451371\n",
      "  0.40347157 0.75097764 0.8143717  0.53488268 0.20970901 0.93443459\n",
      "  0.53026613 0.21526195 1.00407965 0.41229669 0.38509473 0.93231719\n",
      "  0.35003584 0.80416274 0.43482561 0.68173098 0.51302841 0.59240184\n",
      "  0.91193823 0.46983127 0.87818326 0.62270511 0.75299448 0.52857713\n",
      "  0.18429052 0.85791349 0.89681994 0.82955433 0.42761174 0.47253085\n",
      "  0.2615604  0.15635375 0.9576631  0.88530112 0.42115759 0.42070074\n",
      "  1.01809053 0.99701499 0.61788096 0.57793775 0.71625717 0.84932691\n",
      "  0.99434511 0.48607474 0.05071682 0.40838808 0.85077606 0.8576082\n",
      "  0.14773964 0.78142394 0.40593501 0.8759964  0.97097956 0.3195294\n",
      "  0.6621162  0.32441857 0.92549239 0.94763275 0.62589454 0.66732204\n",
      "  0.31477065 0.76802266 0.63009828 0.4758133  1.06967029 0.38867456\n",
      "  0.10356394 0.25450879 0.57132121 0.43371196 0.85344877 1.02959921\n",
      "  0.7316542  0.76820081 0.94607258 0.49698785 0.83267675 0.78615438\n",
      "  0.92833995 0.72517114 0.53247504 0.16014535]\n",
      " [0.47565839 0.58668099 0.5232083  0.         0.48895161 0.36038019\n",
      "  0.5515793  0.34598319 0.25752697 0.49499078 0.21295978 0.39857239\n",
      "  0.48226075 0.4130303  0.62128616 0.43088888 0.47158343 0.32234578\n",
      "  0.38588339 0.23418388 0.2919897  0.28402001 0.3223945  0.41929486\n",
      "  0.54053425 0.48916652 0.496993   0.43875472 0.43108665 0.40912202\n",
      "  0.17964536 0.30172913 0.23767394 0.17329475 0.15063103 0.06927555\n",
      "  0.4047263  0.47379855 0.48527754 0.38034786 0.23044755 0.28888081\n",
      "  0.36820239 0.39698176 0.3867209  0.46109929 0.43595242 0.64277937\n",
      "  0.55819305 0.41489859 0.48689905 0.5330199  0.10349216 0.44314392\n",
      "  0.53652454 0.48396214 0.11175091 0.50329582 0.33461526 0.35550364\n",
      "  0.49468478 0.43561562 0.50623891 0.17774978 0.33454305 0.39246614\n",
      "  0.50362094 0.26209113 0.59339815 0.39150723 0.46265127 0.20985994\n",
      "  0.39204854 0.38034192 0.4368373  0.53661219 0.29316274 0.403746\n",
      "  0.37500688 0.45788792 0.32183887 0.54572497 0.62244223 0.49818789\n",
      "  0.47245584 0.28390867 0.21142756 0.16426535 0.3685922  0.58373185\n",
      "  0.39619951 0.24915941 0.43237315 0.33494835 0.40628526 0.42131622\n",
      "  0.44029011 0.3734571  0.53636973 0.38207577]\n",
      " [0.57256046 0.97894468 0.81155522 0.48895161 0.         0.84516327\n",
      "  0.47647603 0.28158151 0.73786812 0.96982429 0.29417019 0.88420152\n",
      "  0.86757495 0.67438517 0.62150188 0.81054721 0.01930664 0.47202768\n",
      "  0.42465206 0.41250371 0.46653495 0.28077393 0.69008977 0.63595627\n",
      "  0.41144865 0.6436553  0.72020733 0.44304695 0.46406053 0.53698308\n",
      "  0.53256887 0.3572797  0.3869535  0.54865014 0.36413583 0.47035376\n",
      "  0.39871759 0.95157629 0.12299647 0.19088541 0.49783924 0.28562984\n",
      "  0.62986583 0.75397626 0.40616758 0.07313311 0.90878907 0.58240301\n",
      "  0.66683586 0.78541745 0.8020765  0.07878985 0.54108664 0.4377826\n",
      "  0.81774155 0.46533033 0.40708681 0.32381283 0.15795644 0.33443369\n",
      "  0.74321087 0.36793716 0.76928273 0.64708621 0.42404531 0.25985545\n",
      "  0.7028859  0.53642773 1.04237007 0.71132967 0.69287687 0.55099016\n",
      "  0.15000418 0.4970954  0.73225974 0.18617793 0.76796902 0.14638325\n",
      "  0.5043821  0.04368658 0.79910591 0.47041233 0.32628058 0.95614321\n",
      "  0.71532969 0.67546591 0.28913793 0.42394464 0.30907786 0.29477274\n",
      "  0.09394606 0.42652576 0.65098504 0.31626068 0.17697484 0.85891716\n",
      "  0.73590718 0.11550395 1.0186199  0.65543509]\n",
      " [0.72158228 0.37339739 0.6085402  0.36038019 0.84516327 0.\n",
      "  0.85247308 0.69241837 0.10908902 0.262379   0.55554468 0.03949398\n",
      "  0.32226875 0.57166951 0.87771264 0.44655863 0.82854593 0.52705647\n",
      "  0.68921946 0.4957922  0.5032821  0.63626802 0.42373529 0.50303055\n",
      "  0.86025947 0.69644355 0.53114465 0.73824309 0.72164713 0.57134309\n",
      "  0.42308997 0.57934033 0.56414931 0.33528886 0.50621628 0.37636484\n",
      "  0.65121039 0.23577491 0.82447824 0.73819516 0.42727156 0.63953625\n",
      "  0.54978532 0.33505171 0.62943764 0.80960474 0.23717227 0.92150757\n",
      "  0.7724143  0.45256924 0.42512824 0.88182264 0.35069361 0.74494431\n",
      "  0.4910869  0.70083647 0.44094687 0.84120719 0.6880246  0.63601892\n",
      "  0.50472331 0.75955886 0.62272532 0.26059005 0.56964569 0.69944475\n",
      "  0.67442599 0.4189296  0.4106164  0.38391856 0.50807285 0.43486573\n",
      "  0.75207104 0.65116079 0.42798487 0.86417476 0.09189731 0.763684\n",
      "  0.64156889 0.81641426 0.06312753 0.84783636 0.92004543 0.32271839\n",
      "  0.62036236 0.38382725 0.57162459 0.488978   0.65886703 0.88564977\n",
      "  0.75396131 0.49686201 0.50631706 0.67408216 0.73760285 0.19371055\n",
      "  0.42906357 0.73002408 0.25709749 0.54603503]\n",
      " [0.18298261 1.13721038 0.47568359 0.5515793  0.47647603 0.85247308\n",
      "  0.         0.25461124 0.77528746 0.83905718 0.52723801 0.88243613\n",
      "  1.03382204 0.37136224 0.14755414 0.56767529 0.46284905 0.77133227\n",
      "  0.16692771 0.67327508 0.74897477 0.31503136 0.48495579 0.92070808\n",
      "  0.07055611 0.26069584 1.00793584 0.1150852  0.13116354 0.86185758\n",
      "  0.4295328  0.67637924 0.31446247 0.71236686 0.42045767 0.59364004\n",
      "  0.7691147  0.83300562 0.58685371 0.31227762 0.72795807 0.30584697\n",
      "  0.3549833  0.94530144 0.76453498 0.52928391 0.78373258 0.11064208\n",
      "  0.2374911  0.5411395  1.02921852 0.55425125 0.50957335 0.10938333\n",
      "  1.0712059  0.85551711 0.56722446 0.15475314 0.47469928 0.69292874\n",
      "  1.01582604 0.13309907 0.42497498 0.59206698 0.74678526 0.65467829\n",
      "  0.32973391 0.77018551 0.84130892 0.93100653 0.97406932 0.41860338\n",
      "  0.34953935 0.20593548 0.97132091 0.65754525 0.81596382 0.34593534\n",
      "  0.21690014 0.43793388 0.83755573 0.00677111 0.79794344 0.78766798\n",
      "  0.37465879 0.50428559 0.41138941 0.38772362 0.68071102 0.76288072\n",
      "  0.43939382 0.69399102 0.93598643 0.24125082 0.59006761 0.9643763\n",
      "  0.97502239 0.45087692 0.90609527 0.37509131]\n",
      " [0.29728615 0.9253447  0.53207025 0.34598319 0.28158151 0.69241837\n",
      "  0.25461124 0.         0.59778436 0.75319817 0.27433201 0.72791703\n",
      "  0.81705646 0.39574563 0.3785875  0.54856009 0.26333577 0.51921244\n",
      "  0.14690681 0.42314236 0.49822665 0.06658789 0.43307951 0.67295604\n",
      "  0.2160724  0.36400162 0.7610204  0.17775517 0.19281692 0.60867634\n",
      "  0.29878334 0.42189172 0.13703982 0.48452059 0.19660907 0.3697729\n",
      "  0.51501633 0.73960907 0.36609477 0.09094749 0.4847751  0.05920063\n",
      "  0.35336611 0.71871586 0.51003463 0.31139063 0.69245104 0.36402919\n",
      "  0.39471021 0.52210256 0.7951639  0.35800456 0.34497414 0.17522229\n",
      "  0.83179197 0.6019821  0.33012818 0.15967252 0.2278173  0.4389412\n",
      "  0.77166523 0.12162122 0.4885895  0.44890992 0.49269013 0.4055414\n",
      "  0.42157372 0.52782172 0.80051421 0.69656558 0.72774267 0.30705467\n",
      "  0.13164371 0.215749   0.73325604 0.43845148 0.63581242 0.13568732\n",
      "  0.22282495 0.23790244 0.66256769 0.24784719 0.57384213 0.72379581\n",
      "  0.43429368 0.42865732 0.16358937 0.20543713 0.42784974 0.535837\n",
      "  0.21235942 0.4436541  0.68844301 0.03508442 0.34872694 0.76671816\n",
      "  0.73702348 0.21495882 0.81147732 0.37918873]\n",
      " [0.65949013 0.38868744 0.59026779 0.25752697 0.73786812 0.10908902\n",
      "  0.77528746 0.59778436 0.         0.33136184 0.4470584  0.14858017\n",
      "  0.30927288 0.52994614 0.81501925 0.44058252 0.72151291 0.42665189\n",
      "  0.60929461 0.38873527 0.40129295 0.53882242 0.38857854 0.42361071\n",
      "  0.77670993 0.64510781 0.46549115 0.66022568 0.64615929 0.47898351\n",
      "  0.34854292 0.47225968 0.47507795 0.22983747 0.40659418 0.26806947\n",
      "  0.5481145  0.30480273 0.71542596 0.63771168 0.32402186 0.54283147\n",
      "  0.50038719 0.28345436 0.52647357 0.70105185 0.28955186 0.85222822\n",
      "  0.72082741 0.43996944 0.3820362  0.77322332 0.26592263 0.66628515\n",
      "  0.4467853  0.60253681 0.33245022 0.75075812 0.58036064 0.52925231\n",
      "  0.44431924 0.67375937 0.59566556 0.197439   0.46651644 0.59115355\n",
      "  0.63314198 0.32044975 0.46996193 0.31971593 0.43826136 0.36599398\n",
      "  0.64931698 0.58016929 0.36804718 0.75522706 0.04098381 0.66106647\n",
      "  0.57156861 0.7100639  0.06479849 0.77020416 0.8132407  0.37406828\n",
      "  0.58389215 0.34450536 0.46869418 0.39862892 0.55149696 0.7783428\n",
      "  0.6473541  0.39090991 0.42935256 0.58218209 0.62851865 0.20126422\n",
      "  0.36992715 0.62303188 0.34401933 0.50148563]\n",
      " [0.67293793 0.61432419 0.4629959  0.49499078 0.96982429 0.262379\n",
      "  0.83905718 0.75319817 0.33136184 0.         0.70791321 0.24522131\n",
      "  0.58040539 0.48715683 0.81902551 0.30087955 0.95124472 0.74954088\n",
      "  0.69715027 0.69491941 0.72203545 0.71351717 0.35429645 0.75423424\n",
      "  0.86774447 0.62110678 0.790077   0.73571813 0.71252368 0.80864752\n",
      "  0.45445433 0.77565778 0.61624527 0.54831202 0.60594242 0.54123649\n",
      "  0.86409567 0.02688728 0.97935906 0.82242893 0.64410942 0.71330499\n",
      "  0.48830609 0.59653572 0.843095   0.95147651 0.06127263 0.87944317\n",
      "  0.69093819 0.32093881 0.68750523 1.02229244 0.42874461 0.74394217\n",
      "  0.75345716 0.92643279 0.60186019 0.87525515 0.8230704  0.83283292\n",
      "  0.76522748 0.78160812 0.49563535 0.32340629 0.78375142 0.88222334\n",
      "  0.57573454 0.64721271 0.14976817 0.64262253 0.76515305 0.44802235\n",
      "  0.84777357 0.63528007 0.68828215 1.03157783 0.33947925 0.85797211\n",
      "  0.62383471 0.9335197  0.31968582 0.83615799 1.11151814 0.08107856\n",
      "  0.51606259 0.33735801 0.68072336 0.55567945 0.85107114 1.07392337\n",
      "  0.8759165  0.70178286 0.75929423 0.72544292 0.9012551  0.45040365\n",
      "  0.6895737  0.85647936 0.07022869 0.47277214]\n",
      " [0.52439743 0.69703932 0.66782411 0.21295978 0.29417019 0.55554468\n",
      "  0.52723801 0.27433201 0.4470584  0.70791321 0.         0.59491979\n",
      "  0.58553399 0.53766729 0.63899922 0.6122451  0.27930412 0.24491012\n",
      "  0.38868105 0.15109168 0.22476694 0.21230048 0.49314852 0.40152075\n",
      "  0.48989414 0.56784307 0.48995544 0.43493042 0.44055989 0.33464137\n",
      "  0.32632425 0.15321217 0.2569908  0.25691756 0.15553413 0.17921238\n",
      "  0.25674382 0.68674814 0.27308771 0.2536628  0.22389168 0.22158281\n",
      "  0.48870337 0.47625267 0.24690512 0.2540637  0.64867412 0.63476032\n",
      "  0.62106975 0.59166563 0.53955441 0.32630118 0.29374652 0.43525091\n",
      "  0.56862883 0.34548547 0.11461344 0.42360981 0.13665025 0.18576413\n",
      "  0.5034555  0.39441206 0.6383044  0.38804495 0.22044465 0.19251138\n",
      "  0.60528337 0.26662738 0.8021811  0.44277711 0.45746416 0.354366\n",
      "  0.24351166 0.42474189 0.47332042 0.3238858  0.47534233 0.25503855\n",
      "  0.4253112  0.2720823  0.50681274 0.52052342 0.41789308 0.70857747\n",
      "  0.59274556 0.46398261 0.11928916 0.23449644 0.18621533 0.37818781\n",
      "  0.20940547 0.17103784 0.41713246 0.28649072 0.19361677 0.56635317\n",
      "  0.47710804 0.18304476 0.74874232 0.51000468]\n",
      " [0.74713908 0.37505019 0.62029727 0.39857239 0.88420152 0.03949398\n",
      "  0.88243613 0.72791703 0.14858017 0.24522131 0.59491979 0.\n",
      "  0.33519361 0.59149967 0.90301013 0.45572704 0.86751338 0.56401721\n",
      "  0.7203799  0.53466239 0.54072306 0.67264167 0.44292024 0.53404101\n",
      "  0.89219062 0.71866806 0.55788157 0.76870329 0.75137436 0.60589623\n",
      "  0.45387683 0.61818753 0.59830624 0.37387247 0.54336489 0.41572117\n",
      "  0.68882984 0.21949043 0.86397027 0.77533429 0.4651631  0.67569704\n",
      "  0.57221091 0.35969933 0.66703343 0.84898337 0.2288683  0.94883243\n",
      "  0.79441919 0.46394363 0.44585539 0.92121105 0.38469058 0.77558519\n",
      "  0.51147297 0.73695867 0.48033485 0.8752786  0.72718112 0.67475423\n",
      "  0.53002984 0.79234011 0.63736868 0.2905961  0.60733934 0.73864608\n",
      "  0.69348807 0.45558153 0.39491908 0.41146578 0.53621094 0.4639854\n",
      "  0.78985124 0.67973252 0.45381342 0.90359715 0.12932456 0.80141941\n",
      "  0.66987402 0.85519278 0.09868388 0.8779477  0.95873415 0.31208653\n",
      "  0.63815387 0.40488217 0.60956928 0.52370814 0.69778218 0.92450847\n",
      "  0.79282293 0.53541926 0.53659075 0.70881594 0.7770872  0.20518836\n",
      "  0.45464282 0.76899515 0.23075883 0.56695723]\n",
      " [0.94424691 0.11161104 0.89948695 0.48226075 0.86757495 0.32226875\n",
      "  1.03382204 0.81705646 0.30927288 0.58040539 0.58553399 0.33519361\n",
      "  0.         0.83340068 1.09609375 0.74847102 0.85579931 0.41987384\n",
      "  0.86781149 0.45556042 0.41321713 0.75121194 0.69609107 0.29976513\n",
      "  1.02108439 0.94073778 0.27626574 0.92062936 0.91175898 0.40817586\n",
      "  0.62962907 0.52212289 0.7198083  0.334701   0.62230883 0.44733542\n",
      "  0.54115744 0.55454842 0.80249808 0.82874487 0.36977645 0.75793211\n",
      "  0.79989009 0.11599369 0.52157975 0.81042871 0.55941885 1.12315193\n",
      "  1.01517066 0.74889804 0.1351451  0.87626126 0.53906086 0.92521153\n",
      "  0.19234832 0.5502875  0.49188743 0.97671692 0.71741279 0.56540539\n",
      "  0.24018964 0.91618646 0.90374983 0.49928751 0.4735892  0.64576315\n",
      "  0.93568265 0.33263261 0.73004974 0.17170618 0.27030416 0.65293111\n",
      "  0.82622341 0.85530122 0.1822363  0.81618418 0.27533657 0.83806007\n",
      "  0.84843126 0.85315697 0.27809582 1.02798166 0.82167003 0.64473448\n",
      "  0.88915355 0.65142954 0.66024326 0.64621697 0.59354354 0.79688403\n",
      "  0.79218203 0.44320611 0.29316501 0.81172019 0.71274527 0.13000565\n",
      "  0.1805149  0.76530923 0.56066868 0.80387007]\n",
      " [0.19185696 0.91859884 0.13744921 0.4130303  0.67438517 0.57166951\n",
      "  0.37136224 0.39574563 0.52994614 0.48715683 0.53766729 0.59149967\n",
      "  0.83340068 0.         0.33192024 0.19800652 0.65551947 0.72833365\n",
      "  0.27313537 0.63155972 0.69875256 0.39745289 0.1486431  0.83154696\n",
      "  0.41661501 0.13412992 0.90640652 0.29004024 0.26297014 0.81853433\n",
      "  0.23366493 0.67890943 0.2982029  0.58079586 0.38214805 0.48075743\n",
      "  0.7868093  0.48637131 0.74107221 0.48608791 0.64293011 0.39112805\n",
      "  0.04897634 0.77730153 0.77281518 0.69217117 0.43850466 0.39464639\n",
      "  0.20659561 0.17244804 0.87528722 0.74790429 0.31676087 0.29872287\n",
      "  0.93226411 0.87337051 0.4979495  0.45362857 0.57978557 0.72146854\n",
      "  0.90045268 0.35894677 0.10082716 0.33431071 0.7298618  0.72521601\n",
      "  0.10337536 0.6750298  0.4714072  0.78743069 0.87247128 0.2032012\n",
      "  0.52516545 0.1943189  0.83588404 0.81079021 0.56908253 0.53060548\n",
      "  0.18368121 0.63090278 0.57983922 0.37006792 0.93414722 0.42604437\n",
      "  0.05946363 0.18814861 0.43674619 0.30332929 0.72386414 0.89415696\n",
      "  0.59420808 0.64984478 0.84420198 0.36067618 0.69722516 0.73105087\n",
      "  0.83900738 0.58787068 0.55687543 0.03109866]\n",
      " [0.1561821  1.19363064 0.39943735 0.62128616 0.62150188 0.87771264\n",
      "  0.14755414 0.3785875  0.81501925 0.81902551 0.63899922 0.90301013\n",
      "  1.09609375 0.33192024 0.         0.52618571 0.60715678 0.87770876\n",
      "  0.25110435 0.7772806  0.85289806 0.42994023 0.47181307 1.01759759\n",
      "  0.21752475 0.19853355 1.10265878 0.20441386 0.19948456 0.97005548\n",
      "  0.46866852 0.79164132 0.39774238 0.79146919 0.51131752 0.67386118\n",
      "  0.89003878 0.81769031 0.72859411 0.44906271 0.82165337 0.4204683\n",
      "  0.33570403 1.01790805 0.88325914 0.67121471 0.76941394 0.07717722\n",
      "  0.13787773 0.50221976 1.10790652 0.69975982 0.55779081 0.20497959\n",
      "  1.15536578 0.97800021 0.65926255 0.30208533 0.60568501 0.81457802\n",
      "  1.10655285 0.26155526 0.35087825 0.62058331 0.85916152 0.78412493\n",
      "  0.25472368 0.86211102 0.79519759 1.01152969 1.06825811 0.44909044\n",
      "  0.48849424 0.24132293 1.05514388 0.80007092 0.85594774 0.48623446\n",
      "  0.24771845 0.58185009 0.87326499 0.15291911 0.93982187 0.75713761\n",
      "  0.31172576 0.50238673 0.51986476 0.45998608 0.80521535 0.90382866\n",
      "  0.57812041 0.79799509 1.03239101 0.35660722 0.7247815  1.01264116\n",
      "  1.0587212  0.58697971 0.88863688 0.34754959]\n",
      " [0.38982281 0.81664431 0.1672562  0.43088888 0.81054721 0.44655863\n",
      "  0.56767529 0.54856009 0.44058252 0.30087955 0.6122451  0.45572704\n",
      "  0.74847102 0.19800652 0.52618571 0.         0.7912432  0.74981545\n",
      "  0.45138382 0.66506022 0.71936999 0.53076452 0.12161135 0.81727872\n",
      "  0.60860814 0.3278675  0.87942151 0.47815795 0.45202149 0.83155532\n",
      "  0.28829166 0.72998102 0.42415974 0.56795717 0.46800734 0.49840767\n",
      "  0.83494412 0.3052352  0.85538643 0.6333483  0.65020988 0.52697375\n",
      "  0.21506057 0.71817889 0.81736487 0.81374065 0.26138871 0.59168026\n",
      "  0.3936856  0.02724774 0.81813728 0.87739256 0.32882396 0.48684922\n",
      "  0.88096804 0.91483886 0.53812317 0.63568935 0.68993208 0.78107384\n",
      "  0.86555424 0.53936197 0.1950828  0.27996329 0.76532862 0.80452569\n",
      "  0.27661674 0.67227974 0.27372194 0.74335441 0.8477611  0.26384201\n",
      "  0.66792657 0.37725714 0.79315056 0.91991036 0.47314285 0.67564494\n",
      "  0.36569841 0.76876387 0.4736234  0.56598826 1.02872872 0.23224413\n",
      "  0.21703933 0.14897434 0.53809331 0.39366246 0.79036783 0.98869308\n",
      "  0.72184477 0.67963414 0.82740319 0.51513552 0.79548469 0.63003865\n",
      "  0.79568092 0.70954327 0.37104642 0.19297057]\n",
      " [0.55544776 0.96727629 0.79273772 0.47158343 0.01930664 0.82854593\n",
      "  0.46284905 0.26333577 0.72151291 0.95124472 0.27930412 0.86751338\n",
      "  0.85579931 0.65551947 0.60715678 0.7912432  0.         0.46405702\n",
      "  0.4070843  0.40144003 0.4574523  0.26154089 0.67078349 0.62854716\n",
      "  0.3987416  0.62599262 0.71348726 0.42652618 0.44715753 0.53137007\n",
      "  0.51336242 0.3490312  0.36767807 0.53480316 0.345428   0.45435532\n",
      "  0.39531183 0.93310997 0.12979088 0.17288194 0.48629657 0.26645526\n",
      "  0.61087998 0.74267369 0.40178521 0.07530788 0.89018033 0.56960174\n",
      "  0.6501536  0.76611943 0.7926099  0.09535513 0.52250069 0.42142603\n",
      "  0.80963954 0.46447907 0.39146414 0.31121829 0.14268626 0.32899271\n",
      "  0.73576017 0.35204171 0.75063313 0.62866086 0.41708376 0.25670383\n",
      "  0.68481958 0.5254644  1.02326191 0.7010314  0.68562533 0.53171329\n",
      "  0.13169206 0.4789952  0.7230051  0.19650918 0.75200524 0.12863992\n",
      "  0.48616003 0.02592371 0.78303715 0.45669989 0.33716902 0.93718953\n",
      "  0.69675835 0.65620602 0.27052143 0.40476108 0.30441592 0.30441092\n",
      "  0.07571503 0.41604425 0.64369156 0.29789437 0.173958   0.84496794\n",
      "  0.72667552 0.09852187 1.00033301 0.63642867]\n",
      " [0.75261347 0.5270361  0.84451371 0.32234578 0.47202768 0.52705647\n",
      "  0.77133227 0.51921244 0.42665189 0.74954088 0.24491012 0.56401721\n",
      "  0.41987384 0.72833365 0.87770876 0.74981545 0.46405702 0.\n",
      "  0.62662743 0.10102545 0.03046096 0.45636768 0.64457623 0.16513451\n",
      "  0.73477459 0.7848626  0.2521207  0.67524264 0.67824228 0.09291069\n",
      "  0.4960586  0.11509428 0.48378476 0.20129893 0.37052384 0.25318211\n",
      "  0.12821526 0.72406719 0.38925292 0.49236773 0.10585967 0.46550306\n",
      "  0.68122533 0.30415791 0.10672368 0.40657673 0.69909245 0.87784211\n",
      "  0.84569838 0.73545543 0.3335809  0.46639874 0.42574918 0.67628919\n",
      "  0.345714   0.1768935  0.2315236  0.6668892  0.34257228 0.14706559\n",
      "  0.27202343 0.63883751 0.82484185 0.47772279 0.05373455 0.22859608\n",
      "  0.81119544 0.10880357 0.87449859 0.25083802 0.22243017 0.52682799\n",
      "  0.47448304 0.65197054 0.26321621 0.39685218 0.43517109 0.48490589\n",
      "  0.65046141 0.46794967 0.46533535 0.76464818 0.40970565 0.7761537\n",
      "  0.78709008 0.60510952 0.360333   0.43790093 0.17537852 0.38119521\n",
      "  0.41421173 0.0807189  0.18054684 0.53012801 0.30262244 0.45258584\n",
      "  0.26671583 0.38835938 0.76977968 0.69798169]\n",
      " [0.15040541 0.97060342 0.40347157 0.38588339 0.42465206 0.68921946\n",
      "  0.16692771 0.14690681 0.60929461 0.69715027 0.38868105 0.7203799\n",
      "  0.86781149 0.27313537 0.25110435 0.45138382 0.4070843  0.62662743\n",
      "  0.         0.5262896  0.60197439 0.18402942 0.34985346 0.76830375\n",
      "  0.17332941 0.21904918 0.85417883 0.05287955 0.05188209 0.71895115\n",
      "  0.26651574 0.54171951 0.15100628 0.54997387 0.26237521 0.43121706\n",
      "  0.64201958 0.6881986  0.51300111 0.23455132 0.57302593 0.17473594\n",
      "  0.23925396 0.78135577 0.63425937 0.45813979 0.63913949 0.25870762\n",
      "  0.24818919 0.42413874 0.86739103 0.50235225 0.34338175 0.05758722\n",
      "  0.91170949 0.73048113 0.41070639 0.18432669 0.37036096 0.56731242\n",
      "  0.85962883 0.08798149 0.3564996  0.42986135 0.60844288 0.54355908\n",
      "  0.2803287  0.61423659 0.71899485 0.76971235 0.81991953 0.2593795\n",
      "  0.27622441 0.0791799  0.81150873 0.58535736 0.64983886 0.27844559\n",
      "  0.08947059 0.38127886 0.67202937 0.16148484 0.72036874 0.65412645\n",
      "  0.30144211 0.35991131 0.26939509 0.22165164 0.55989814 0.68211874\n",
      "  0.35924571 0.54702051 0.78326423 0.11619647 0.49250058 0.79746858\n",
      "  0.81516063 0.36139668 0.76155354 0.26414392]\n",
      " [0.65159752 0.566707   0.75097764 0.23418388 0.41250371 0.4957922\n",
      "  0.67327508 0.42314236 0.38873527 0.69491941 0.15109168 0.53466239\n",
      "  0.45556042 0.63155972 0.7772806  0.66506022 0.40144003 0.10102545\n",
      "  0.5262896  0.         0.0758409  0.35897025 0.55534873 0.25052345\n",
      "  0.63919844 0.68453088 0.33892504 0.57536064 0.57779632 0.19393169\n",
      "  0.40114429 0.08355791 0.38277989 0.16143469 0.26950753 0.16748243\n",
      "  0.17293045 0.67066415 0.35148295 0.40406375 0.08620375 0.36792446\n",
      "  0.58391972 0.34149055 0.15366943 0.3551312  0.64065555 0.77887504\n",
      "  0.74483684 0.64896674 0.39435942 0.42228775 0.3370493  0.57662664\n",
      "  0.41930989 0.2497797  0.13363582 0.5745617  0.26731421 0.14056693\n",
      "  0.35259507 0.54137689 0.72922055 0.40182016 0.1005193  0.20666287\n",
      "  0.71224557 0.12402713 0.81054577 0.30032815 0.3063726  0.43182585\n",
      "  0.39085457 0.55095167 0.32626039 0.37711014 0.40620119 0.40195894\n",
      "  0.54948364 0.40070188 0.43797427 0.66663164 0.42450549 0.71281189\n",
      "  0.68990324 0.51788694 0.26189403 0.3377481  0.16314597 0.38985858\n",
      "  0.34189056 0.02076812 0.26611697 0.43208148 0.26090995 0.45985549\n",
      "  0.33002071 0.31508722 0.72300647 0.60153969]\n",
      " [0.72593293 0.52215514 0.8143717  0.2919897  0.46653495 0.5032821\n",
      "  0.74897477 0.49822665 0.40129295 0.72203545 0.22476694 0.54072306\n",
      "  0.41321713 0.69875256 0.85289806 0.71936999 0.4574523  0.03046096\n",
      "  0.60197439 0.0758409  0.         0.43444704 0.61416617 0.17799156\n",
      "  0.71418806 0.75686177 0.26632247 0.65116543 0.65342311 0.12061048\n",
      "  0.46620327 0.11060088 0.45767083 0.17382641 0.34402281 0.22279475\n",
      "  0.14827401 0.69672382 0.3904275  0.47558808 0.07797624 0.44345504\n",
      "  0.65179399 0.297236   0.12645088 0.40349625 0.6709863  0.85470376\n",
      "  0.81841778 0.70499446 0.33566443 0.46600907 0.39536276 0.65245686\n",
      "  0.35344707 0.20486372 0.2028126  0.64821054 0.33078512 0.15278419\n",
      "  0.28285887 0.61692451 0.79500004 0.44758664 0.06747989 0.23255523\n",
      "  0.78230324 0.08913806 0.84577294 0.24772888 0.23483798 0.49697068\n",
      "  0.45979746 0.62534737 0.26573214 0.40350784 0.41153451 0.47053749\n",
      "  0.62357472 0.45970001 0.44214236 0.74232278 0.42597383 0.74745202\n",
      "  0.75759774 0.57465584 0.3375883  0.40990335 0.18066883 0.39567724\n",
      "  0.40388152 0.05507361 0.19363532 0.50774522 0.30179408 0.43755676\n",
      "  0.26937472 0.37755861 0.74356056 0.66833301]\n",
      " [0.33043247 0.85984518 0.53488268 0.28402001 0.28077393 0.63626802\n",
      "  0.31503136 0.06658789 0.53882242 0.71351717 0.21230048 0.67264167\n",
      "  0.75121194 0.39745289 0.42994023 0.53076452 0.26154089 0.45636768\n",
      "  0.18402942 0.35897025 0.43444704 0.         0.41124104 0.60803602\n",
      "  0.28127889 0.38811728 0.69590604 0.2256258  0.23490308 0.54685016\n",
      "  0.261665   0.36296873 0.10660484 0.41819802 0.13344972 0.30416652\n",
      "  0.46009885 0.69827602 0.34500309 0.10892249 0.4186981  0.0094723\n",
      "  0.35139029 0.65227387 0.45353165 0.29481557 0.65233751 0.42253786\n",
      "  0.42901613 0.50529854 0.72859403 0.35149039 0.29419782 0.22503822\n",
      "  0.76549567 0.54813278 0.26354375 0.22586398 0.19025069 0.38472185\n",
      "  0.70594801 0.18251028 0.49514578 0.40065927 0.43235918 0.35972891\n",
      "  0.43887095 0.46167308 0.77134732 0.62999093 0.66245889 0.27567175\n",
      "  0.13811785 0.23766804 0.66682802 0.41595728 0.57601504 0.14693288\n",
      "  0.24193912 0.23833459 0.60359175 0.30833182 0.54545522 0.6900251\n",
      "  0.44269826 0.40025884 0.0977459  0.15809732 0.37627457 0.50623893\n",
      "  0.19684256 0.37960758 0.62346841 0.07431008 0.31239771 0.7032722\n",
      "  0.67059265 0.19105201 0.76896253 0.37662991]\n",
      " [0.3208468  0.77658602 0.20970901 0.3223945  0.69008977 0.42373529\n",
      "  0.48495579 0.43307951 0.38857854 0.35429645 0.49314852 0.44292024\n",
      "  0.69609107 0.1486431  0.47181307 0.12161135 0.67078349 0.64457623\n",
      "  0.34985346 0.55534873 0.61416617 0.41124104 0.         0.72636985\n",
      "  0.51647773 0.27888291 0.79475828 0.38415962 0.35994413 0.72983561\n",
      "  0.16751157 0.61616136 0.30479517 0.47385723 0.3468426  0.39141022\n",
      "  0.72247262 0.34948379 0.73378292 0.5155584  0.54903415 0.4078945\n",
      "  0.13632683 0.64938832 0.70572167 0.69222793 0.30042009 0.52780197\n",
      "  0.35361357 0.09885447 0.74890608 0.75620682 0.21890282 0.3925961\n",
      "  0.80881602 0.80453614 0.42515564 0.53281068 0.56832718 0.6656413\n",
      "  0.78467951 0.43694582 0.20776794 0.19964568 0.65586331 0.68565096\n",
      "  0.25076309 0.57524282 0.37069658 0.66636594 0.76181902 0.14228181\n",
      "  0.54899348 0.28272009 0.7158262  0.79845751 0.42641977 0.55709895\n",
      "  0.27113167 0.64863157 0.43488576 0.48218671 0.90845274 0.30488024\n",
      "  0.19714518 0.04515169 0.41651201 0.27205882 0.6735924  0.86836047\n",
      "  0.60078225 0.57115767 0.73768905 0.40066994 0.67449208 0.58839087\n",
      "  0.71868769 0.58813986 0.4220775  0.12576658]\n",
      " [0.8831701  0.3949956  0.93443459 0.41929486 0.63595627 0.50303055\n",
      "  0.92070808 0.67295604 0.42361071 0.75423424 0.40152075 0.53404101\n",
      "  0.29976513 0.83154696 1.01759759 0.81727872 0.62854716 0.16513451\n",
      "  0.76830375 0.25052345 0.17799156 0.60803602 0.72636985 0.\n",
      "  0.88899503 0.9055803  0.0884546  0.81899549 0.81892714 0.11366633\n",
      "  0.59881564 0.28004824 0.61988674 0.25270364 0.50633659 0.35408626\n",
      "  0.25899406 0.72748605 0.54718753 0.6534652  0.19629933 0.61679214\n",
      "  0.78737088 0.19678726 0.24301104 0.56900209 0.71289671 1.02440781\n",
      "  0.97165403 0.80762581 0.1853158  0.62576243 0.5157522  0.82096964\n",
      "  0.18361707 0.25220063 0.35839493 0.82507982 0.50730349 0.30464835\n",
      "  0.10725479 0.78985642 0.92219833 0.53731896 0.21211048 0.3853826\n",
      "  0.92285662 0.15817079 0.89323807 0.13472594 0.05730132 0.62876705\n",
      "  0.63768335 0.78360671 0.11944818 0.54535235 0.41625701 0.6483547\n",
      "  0.78048465 0.6329443  0.44042292 0.91413793 0.52983779 0.79654328\n",
      "  0.89100981 0.6830894  0.51039375 0.5630601  0.33219496 0.50891904\n",
      "  0.57930257 0.2304926  0.01564664 0.68019643 0.46369462 0.37293963\n",
      "  0.12195699 0.55337242 0.75943601 0.80048715]\n",
      " [0.23736823 1.12696993 0.53026613 0.54053425 0.41144865 0.86025947\n",
      "  0.07055611 0.2160724  0.77670993 0.86774447 0.48989414 0.89219062\n",
      "  1.02108439 0.41661501 0.21752475 0.60860814 0.3987416  0.73477459\n",
      "  0.17332941 0.63919844 0.71418806 0.28127889 0.51647773 0.88899503\n",
      "  0.         0.31788229 0.97700765 0.132323   0.157109   0.82347569\n",
      "  0.4388196  0.63472162 0.30408328 0.69314676 0.40005091 0.57556734\n",
      "  0.72281692 0.85971146 0.5249713  0.25821696 0.69980624 0.2727892\n",
      "  0.3936103  0.92752112 0.7197948  0.46745401 0.81052098 0.17095533\n",
      "  0.30352522 0.58158567 1.0074632  0.48841404 0.51148642 0.12393661\n",
      "  1.04610193 0.80766427 0.54237124 0.08764135 0.42330433 0.64664038\n",
      "  0.98721846 0.1049546  0.4798643  0.60205825 0.70648507 0.60287711\n",
      "  0.38736817 0.74268221 0.88076631 0.90885957 0.94365231 0.43267411\n",
      "  0.29239387 0.23389815 0.94700017 0.59467446 0.81678283 0.28736997\n",
      "  0.24553576 0.37440744 0.84030611 0.06615798 0.73536529 0.82129304\n",
      "  0.42744386 0.53050071 0.37901609 0.38035697 0.63244412 0.7012139\n",
      "  0.38135909 0.65968934 0.90447004 0.21181811 0.53446258 0.95954507\n",
      "  0.95074908 0.39522593 0.93307221 0.41594111]\n",
      " [0.08099733 1.03157686 0.21526195 0.48916652 0.6436553  0.69644355\n",
      "  0.26069584 0.36400162 0.64510781 0.62110678 0.56784307 0.71866806\n",
      "  0.94073778 0.13412992 0.19853355 0.3278675  0.62599262 0.7848626\n",
      "  0.21904918 0.68453088 0.75686177 0.38811728 0.27888291 0.9055803\n",
      "  0.31788229 0.         0.98560365 0.21106516 0.18544972 0.87739138\n",
      "  0.31537089 0.7183273  0.31113521 0.66226697 0.41769288 0.55168087\n",
      "  0.82427828 0.62050067 0.72870816 0.45323801 0.71098971 0.37977845\n",
      "  0.14665826 0.87466236 0.81314648 0.67497956 0.5726095  0.26476447\n",
      "  0.07604359 0.30370808 0.96992634 0.72118323 0.40610288 0.21862512\n",
      "  1.02321035 0.91282838 0.5543634  0.37397199 0.57836269 0.75328013\n",
      "  0.98384362 0.28910926 0.16455888 0.44768423 0.77760544 0.74240372\n",
      "  0.06949227 0.74740968 0.59840749 0.87764223 0.95115431 0.28917197\n",
      "  0.4947946  0.1505648  0.92442055 0.80076102 0.68536093 0.49736432\n",
      "  0.14639209 0.60022655 0.6991213  0.2610738  0.93307783 0.5586046\n",
      "  0.11700503 0.31391168 0.45371618 0.34697919 0.75064839 0.89408798\n",
      "  0.5756276  0.70431239 0.91930339 0.33084831 0.70038873 0.84598641\n",
      "  0.92776855 0.57538981 0.69090872 0.15311768]\n",
      " [0.96606645 0.35400767 1.00407965 0.496993   0.72020733 0.53114465\n",
      "  1.00793584 0.7610204  0.46549115 0.790077   0.48995544 0.55788157\n",
      "  0.27626574 0.90640652 1.10265878 0.87942151 0.71348726 0.2521207\n",
      "  0.85417883 0.33892504 0.26632247 0.69590604 0.79475828 0.0884546\n",
      "  0.97700765 0.98560365 0.         0.90522415 0.90448808 0.18648879\n",
      "  0.67539812 0.36630689 0.7049696  0.32567851 0.59187264 0.43427231\n",
      "  0.33366937 0.76319004 0.62717324 0.74187447 0.2811666  0.70460368\n",
      "  0.86344854 0.19956744 0.32022938 0.65200239 0.75375654 1.11099901\n",
      "  1.05302546 0.87166623 0.14328869 0.70632341 0.58965831 0.90738781\n",
      "  0.11351477 0.30911027 0.44357838 0.91348597 0.59469    0.38670316\n",
      "  0.03728147 0.87746459 0.99455498 0.60071654 0.29641379 0.46599759\n",
      "  1.00000296 0.24067647 0.93374518 0.1474772  0.03453217 0.70479442\n",
      "  0.72579516 0.86707181 0.10475409 0.62005681 0.45096154 0.73640135\n",
      "  0.86354427 0.71875873 0.47084948 1.00139136 0.59087534 0.83906952\n",
      "  0.96577115 0.75061865 0.59820031 0.64595628 0.41350281 0.57395241\n",
      "  0.66612477 0.31893747 0.07282693 0.76776346 0.54611322 0.37531478\n",
      "  0.10448346 0.6403974  0.78779032 0.8753083 ]\n",
      " [0.13287817 1.02324654 0.41229669 0.43875472 0.44304695 0.73824309\n",
      "  0.1150852  0.17775517 0.66022568 0.73571813 0.43493042 0.76870329\n",
      "  0.92062936 0.29004024 0.20441386 0.47815795 0.42652618 0.67524264\n",
      "  0.05287955 0.57536064 0.65116543 0.2256258  0.38415962 0.81899549\n",
      "  0.132323   0.21106516 0.90522415 0.         0.02726783 0.76720508\n",
      "  0.31515386 0.58734626 0.20354514 0.60260148 0.3138503  0.48381339\n",
      "  0.68569786 0.72804054 0.53951187 0.25762371 0.62417289 0.21615771\n",
      "  0.2631894  0.83418697 0.67884528 0.48326683 0.67880659 0.20642473\n",
      "  0.22388935 0.45101366 0.91998988 0.52168725 0.39448841 0.00871644\n",
      "  0.96394103 0.77375722 0.4620596  0.16565672 0.40546512 0.61034274\n",
      "  0.91120609 0.07843928 0.36315698 0.47813552 0.65527932 0.5820753\n",
      "  0.27792998 0.66564652 0.74937046 0.82221867 0.87103786 0.30560776\n",
      "  0.29901579 0.1017415  0.86377631 0.6118607  0.70088879 0.29924476\n",
      "  0.11339746 0.40061152 0.72258192 0.10999344 0.74925465 0.68899304\n",
      "  0.30876273 0.39866775 0.31602602 0.27451177 0.60145638 0.7118334\n",
      "  0.38610019 0.59612238 0.83403872 0.1528712  0.52645829 0.8495352\n",
      "  0.86743772 0.39142401 0.80137726 0.28642222]\n",
      " [0.10902215 1.01317823 0.38509473 0.43108665 0.46406053 0.72164713\n",
      "  0.13116354 0.19281692 0.64615929 0.71252368 0.44055989 0.75137436\n",
      "  0.91175898 0.26297014 0.19948456 0.45202149 0.44715753 0.67824228\n",
      "  0.05188209 0.57779632 0.65342311 0.23490308 0.35994413 0.81892714\n",
      "  0.157109   0.18544972 0.90448808 0.02726783 0.         0.77063685\n",
      "  0.29904404 0.5935833  0.19990248 0.5976419  0.31264586 0.47912189\n",
      "  0.69368351 0.70537535 0.55755354 0.2764824  0.62332969 0.22552817\n",
      "  0.23696601 0.827674   0.6860451  0.50183022 0.65610576 0.21169347\n",
      "  0.20329    0.42492257 0.91500609 0.54247788 0.38117882 0.03584686\n",
      "  0.96035024 0.78208924 0.46090994 0.19284302 0.41913976 0.61884953\n",
      "  0.90936308 0.103721   0.33603529 0.46113321 0.6603115  0.59383114\n",
      "  0.251592   0.66425145 0.72374543 0.81768347 0.87016822 0.28746669\n",
      "  0.3181394  0.07728916 0.86009954 0.62996456 0.6869757  0.31910682\n",
      "  0.0888283  0.42123701 0.70788252 0.12695454 0.76637205 0.6645545\n",
      "  0.28157712 0.37600546 0.32127533 0.26711565 0.61110321 0.72854299\n",
      "  0.40379392 0.59851202 0.83382021 0.16476072 0.5408887  0.83757522\n",
      "  0.86372849 0.40769432 0.77865499 0.25989243]\n",
      " [0.84552413 0.50709544 0.93231719 0.40912202 0.53698308 0.57134309\n",
      "  0.86185758 0.60867634 0.47898351 0.80864752 0.33464137 0.60589623\n",
      "  0.40817586 0.81853433 0.97005548 0.83155532 0.53137007 0.09291069\n",
      "  0.71895115 0.19393169 0.12061048 0.54685016 0.72983561 0.11366633\n",
      "  0.82347569 0.87739138 0.18648879 0.76720508 0.77063685 0.\n",
      "  0.58547988 0.19188772 0.57665674 0.26877458 0.46343436 0.33991685\n",
      "  0.14749083 0.78247846 0.44091529 0.57679479 0.18137698 0.55608144\n",
      "  0.77182893 0.29851423 0.13378607 0.46748213 0.76165372 0.96901132\n",
      "  0.93854242 0.81848668 0.29888775 0.52018632 0.51181621 0.76808572\n",
      "  0.29396437 0.14265197 0.32342054 0.75334587 0.42080446 0.2025501\n",
      "  0.21494928 0.72905191 0.91414712 0.55529711 0.11890621 0.28023638\n",
      "  0.90280964 0.16388357 0.93994903 0.23758929 0.16442976 0.61621839\n",
      "  0.55596097 0.74488085 0.23172713 0.43429544 0.48043141 0.56583182\n",
      "  0.74336333 0.53842507 0.50830262 0.85514777 0.41652283 0.84179596\n",
      "  0.87751787 0.68917407 0.45167478 0.53041418 0.22842839 0.39525369\n",
      "  0.48909656 0.17360364 0.12553326 0.62090135 0.36135628 0.46678843\n",
      "  0.23450754 0.46436591 0.82246562 0.78799321]\n",
      " [0.31494915 0.72522319 0.35003584 0.17964536 0.53256887 0.42308997\n",
      "  0.4295328  0.29878334 0.34854292 0.45445433 0.32632425 0.45387683\n",
      "  0.62962907 0.23366493 0.46866852 0.28829166 0.51336242 0.4960586\n",
      "  0.26651574 0.40114429 0.46620327 0.261665   0.16751157 0.59881564\n",
      "  0.4388196  0.31537089 0.67539812 0.31515386 0.29904404 0.58547988\n",
      "  0.         0.45517144 0.16179207 0.34997617 0.17980322 0.24709254\n",
      "  0.56265665 0.44091109 0.56843336 0.37022296 0.40926557 0.2604981\n",
      "  0.18857002 0.55950209 0.54711874 0.52898728 0.39366832 0.50368961\n",
      "  0.38771    0.2663572  0.65455897 0.59502501 0.09109771 0.3218737\n",
      "  0.70826022 0.64714674 0.26786636 0.42933725 0.40320919 0.50231509\n",
      "  0.67136723 0.34117164 0.32879684 0.16335218 0.50076891 0.51879336\n",
      "  0.32460633 0.44173293 0.51076618 0.56269709 0.64121052 0.0307694\n",
      "  0.39881572 0.23163414 0.60992674 0.63197969 0.38950828 0.40822171\n",
      "  0.22316847 0.4927111  0.40930667 0.42481859 0.74094304 0.42836078\n",
      "  0.2930106  0.14413689 0.25129581 0.1087348  0.50869572 0.70084907\n",
      "  0.44088306 0.41868253 0.61175304 0.27183517 0.50719639 0.54416869\n",
      "  0.61321857 0.42613066 0.51302634 0.20284551]\n",
      " [0.67715593 0.63179745 0.80416274 0.30172913 0.3572797  0.57934033\n",
      "  0.67637924 0.42189172 0.47225968 0.77565778 0.15321217 0.61818753\n",
      "  0.52212289 0.67890943 0.79164132 0.72998102 0.3490312  0.11509428\n",
      "  0.54171951 0.08355791 0.11060088 0.36296873 0.61616136 0.28004824\n",
      "  0.63472162 0.7183273  0.36630689 0.58734626 0.5935833  0.19188772\n",
      "  0.45517144 0.         0.40868155 0.24469012 0.30136363 0.23998157\n",
      "  0.10792101 0.7517477  0.28045593 0.38523595 0.16183146 0.37239038\n",
      "  0.63031116 0.40634662 0.09486244 0.29309347 0.72049253 0.78506881\n",
      "  0.77337746 0.71222519 0.44584113 0.35548566 0.40135123 0.58737517\n",
      "  0.46061827 0.19512526 0.19189069 0.56254331 0.22962857 0.05740728\n",
      "  0.38707833 0.5432811  0.77854018 0.47561476 0.07299078 0.12643571\n",
      "  0.75254139 0.19120318 0.88802957 0.3582181  0.33729861 0.48519614\n",
      "  0.36411084 0.57717742 0.37570182 0.29837882 0.48962538 0.37405873\n",
      "  0.57734216 0.35290345 0.52135574 0.66962473 0.34099576 0.79079091\n",
      "  0.73578757 0.58136262 0.27241704 0.37719967 0.07980681 0.30632107\n",
      "  0.2999154  0.08514465 0.29536531 0.43724273 0.19130655 0.53729481\n",
      "  0.37930226 0.27441492 0.80528885 0.64992914]\n",
      " [0.26946684 0.82425562 0.43482561 0.23767394 0.3869535  0.56414931\n",
      "  0.31446247 0.13703982 0.47507795 0.61624527 0.2569908  0.59830624\n",
      "  0.7198083  0.2982029  0.39774238 0.42415974 0.36767807 0.48378476\n",
      "  0.15100628 0.38277989 0.45767083 0.10660484 0.30479517 0.61988674\n",
      "  0.30408328 0.31113521 0.7049696  0.20354514 0.19990248 0.57665674\n",
      "  0.16179207 0.40868155 0.         0.39905943 0.11394408 0.28026825\n",
      "  0.51369652 0.60256935 0.44365635 0.21175447 0.42391464 0.10311563\n",
      "  0.25053522 0.63106928 0.50324422 0.39650708 0.55544935 0.40971365\n",
      "  0.36478414 0.39872    0.71644545 0.45619782 0.21361762 0.20713341\n",
      "  0.76078054 0.60239349 0.26152185 0.27705924 0.28158268 0.44218204\n",
      "  0.70948558 0.19967843 0.39798579 0.31427015 0.47087622 0.43374909\n",
      "  0.35231075 0.46453377 0.66728695 0.61871377 0.67059534 0.17171216\n",
      "  0.24420586 0.16894271 0.66056139 0.51281314 0.5145889  0.25244694\n",
      "  0.16867874 0.34478448 0.53933929 0.30848609 0.63642546 0.58828295\n",
      "  0.34770813 0.29539114 0.14335967 0.07660535 0.43968804 0.5965387\n",
      "  0.30065061 0.40327788 0.63465626 0.11184722 0.39978433 0.65546246\n",
      "  0.66420755 0.2916406  0.67446395 0.27503118]\n",
      " [0.64817598 0.445059   0.68173098 0.17329475 0.54865014 0.33528886\n",
      "  0.71236686 0.48452059 0.22983747 0.54831202 0.25691756 0.37387247\n",
      "  0.334701   0.58079586 0.79146919 0.56795717 0.53480316 0.20129893\n",
      "  0.54997387 0.16143469 0.17382641 0.41819802 0.47385723 0.25270364\n",
      "  0.69314676 0.66226697 0.32567851 0.60260148 0.5976419  0.26877458\n",
      "  0.34997617 0.24469012 0.39905943 0.         0.29323708 0.11881243\n",
      "  0.31877327 0.52293171 0.50480878 0.49418146 0.09585124 0.42532443\n",
      "  0.53779749 0.23448871 0.29726009 0.50013707 0.49788525 0.80859165\n",
      "  0.73148546 0.55694115 0.31742881 0.57050888 0.26412834 0.60612333\n",
      "  0.36413475 0.3781574  0.15718952 0.64406057 0.39281348 0.30095277\n",
      "  0.32168703 0.58894908 0.6699914  0.28887099 0.23734455 0.36749847\n",
      "  0.67453832 0.10544104 0.67402405 0.22014899 0.2916788  0.37918764\n",
      "  0.49299752 0.55156367 0.26409473 0.53634449 0.24501068 0.50490885\n",
      "  0.54679953 0.52879791 0.27668656 0.70619011 0.58487076 0.57567813\n",
      "  0.64019096 0.43088003 0.32573884 0.33155577 0.32446123 0.55087848\n",
      "  0.46628633 0.16157339 0.26448837 0.48180868 0.41494808 0.31027428\n",
      "  0.26760958 0.43981357 0.57015967 0.54969745]\n",
      " [0.38209023 0.72972274 0.51302841 0.15063103 0.36413583 0.50621628\n",
      "  0.42045767 0.19660907 0.40659418 0.60594242 0.15553413 0.54336489\n",
      "  0.62230883 0.38214805 0.51131752 0.46800734 0.345428   0.37052384\n",
      "  0.26237521 0.26950753 0.34402281 0.13344972 0.3468426  0.50633659\n",
      "  0.40005091 0.41769288 0.59187264 0.3138503  0.31264586 0.46343436\n",
      "  0.17980322 0.30136363 0.11394408 0.29323708 0.         0.17557876\n",
      "  0.40836584 0.58817937 0.38944054 0.23198773 0.31070608 0.13860955\n",
      "  0.33317956 0.52749357 0.3962103  0.35243764 0.54482499 0.52016328\n",
      "  0.47575551 0.44564395 0.60905135 0.42071025 0.17733104 0.3164677\n",
      "  0.65088539 0.49640703 0.14833388 0.35549659 0.22492268 0.34025486\n",
      "  0.59736192 0.2957164  0.48282106 0.2842412  0.36007095 0.34476009\n",
      "  0.45139287 0.3518721  0.68107404 0.51069219 0.55758168 0.20499613\n",
      "  0.24828236 0.28144712 0.55091149 0.45222994 0.44321587 0.25951197\n",
      "  0.28005857 0.32762983 0.47125482 0.41415011 0.56256242 0.59284807\n",
      "  0.4372943  0.32310077 0.07517998 0.07931766 0.34174853 0.52240078\n",
      "  0.27039279 0.28987461 0.52119454 0.18944119 0.32768523 0.57024036\n",
      "  0.55460601 0.25236812 0.6563096  0.35463893]\n",
      " [0.5328015  0.55567944 0.59240184 0.06927555 0.47035376 0.37636484\n",
      "  0.59364004 0.3697729  0.26806947 0.54123649 0.17921238 0.41572117\n",
      "  0.44733542 0.48075743 0.67386118 0.49840767 0.45435532 0.25318211\n",
      "  0.43121706 0.16748243 0.22279475 0.30416652 0.39141022 0.35408626\n",
      "  0.57556734 0.55168087 0.43427231 0.48381339 0.47912189 0.33991685\n",
      "  0.24709254 0.23998157 0.28026825 0.11881243 0.17557876 0.\n",
      "  0.33975123 0.51845147 0.45019224 0.38832562 0.16217602 0.31070458\n",
      "  0.43521134 0.35219665 0.32099894 0.43327162 0.48421703 0.68987617\n",
      "  0.61876067 0.48309526 0.43617931 0.50551354 0.1725686  0.48731271\n",
      "  0.48157508 0.41685977 0.06474567 0.52940822 0.31256534 0.29567049\n",
      "  0.43452639 0.47106184 0.57487742 0.23572465 0.26717809 0.3409931\n",
      "  0.56943979 0.1960171  0.64864399 0.33858058 0.39976728 0.27762851\n",
      "  0.39273762 0.43495298 0.38132598 0.49517743 0.29765106 0.40470121\n",
      "  0.43071936 0.44405298 0.32875376 0.58748389 0.570413   0.55185184\n",
      "  0.54008783 0.3523467  0.21664024 0.21397264 0.31148222 0.53269117\n",
      "  0.38104213 0.18127117 0.36766703 0.36490546 0.36589114 0.4037943\n",
      "  0.38491933 0.35610181 0.5766983  0.4499194 ]\n",
      " [0.78076286 0.64521721 0.91193823 0.4047263  0.39871759 0.65121039\n",
      "  0.7691147  0.51501633 0.5481145  0.86409567 0.25674382 0.68882984\n",
      "  0.54115744 0.7868093  0.89003878 0.83494412 0.39531183 0.12821526\n",
      "  0.64201958 0.17293045 0.14827401 0.46009885 0.72247262 0.25899406\n",
      "  0.72281692 0.82427828 0.33366937 0.68569786 0.69368351 0.14749083\n",
      "  0.56265665 0.10792101 0.51369652 0.31877327 0.40836584 0.33975123\n",
      "  0.         0.83930534 0.29577825 0.46700941 0.22418333 0.46957065\n",
      "  0.73818904 0.42673517 0.02182379 0.32708525 0.81111928 0.87898573\n",
      "  0.87771826 0.81783027 0.44218191 0.3752637  0.50613221 0.68510749\n",
      "  0.44121887 0.08878355 0.29735115 0.64593085 0.30284739 0.07623551\n",
      "  0.36239091 0.63652897 0.8864612  0.5747089  0.08162506 0.13886223\n",
      "  0.85975053 0.23604789 0.98267269 0.36975038 0.31175606 0.59279337\n",
      "  0.43980735 0.68138042 0.37301257 0.28684411 0.55956981 0.44830032\n",
      "  0.68204871 0.40556105 0.59030699 0.76234375 0.28242683 0.88472899\n",
      "  0.84360965 0.68676701 0.37434204 0.48483046 0.09323805 0.25581346\n",
      "  0.36307474 0.16292922 0.2719935  0.533696   0.22175809 0.58042244\n",
      "  0.3761284  0.34082535 0.88864744 0.75784928]\n",
      " [0.66970196 0.59022483 0.46983127 0.47379855 0.95157629 0.23577491\n",
      "  0.83300562 0.73960907 0.30480273 0.02688728 0.68674814 0.21949043\n",
      "  0.55454842 0.48637131 0.81769031 0.3052352  0.93310997 0.72406719\n",
      "  0.6881986  0.67066415 0.69672382 0.69827602 0.34948379 0.72748605\n",
      "  0.85971146 0.62050067 0.76319004 0.72804054 0.70537535 0.78247846\n",
      "  0.44091109 0.7517477  0.60256935 0.52293171 0.58817937 0.51845147\n",
      "  0.83930534 0.         0.95875221 0.80709686 0.61876714 0.69836246\n",
      "  0.4848233  0.56972924 0.81823336 0.93181383 0.04928164 0.87655944\n",
      "  0.69150859 0.32365019 0.66089452 1.00289091 0.41084852 0.7361585\n",
      "  0.72685938 0.90095725 0.5796523  0.86467857 0.80359111 0.80899643\n",
      "  0.73836318 0.77176019 0.50030758 0.30452264 0.75878622 0.85940659\n",
      "  0.57753842 0.62131732 0.1755166  0.61573626 0.73827509 0.43608911\n",
      "  0.83156009 0.6282926  0.66141549 1.01011915 0.31260519 0.84191504\n",
      "  0.61694891 0.91579509 0.29282986 0.82991595 1.08841231 0.09885206\n",
      "  0.518019   0.32940547 0.66267777 0.54021633 0.82756514 1.05100299\n",
      "  0.85763247 0.67720515 0.73249692 0.71255345 0.87983322 0.42457614\n",
      "  0.66271297 0.83777665 0.07336693 0.47046512]\n",
      " [0.6633589  0.91224953 0.87818326 0.48527754 0.12299647 0.82447824\n",
      "  0.58685371 0.36609477 0.71542596 0.97935906 0.27308771 0.86397027\n",
      "  0.80249808 0.74107221 0.72859411 0.85538643 0.12979088 0.38925292\n",
      "  0.51300111 0.35148295 0.3904275  0.34500309 0.73378292 0.54718753\n",
      "  0.5249713  0.72870816 0.62717324 0.53951187 0.55755354 0.44091529\n",
      "  0.56843336 0.28045593 0.44365635 0.50480878 0.38944054 0.45019224\n",
      "  0.29577825 0.95875221 0.         0.28200679 0.43714413 0.35225081\n",
      "  0.6939683  0.68678549 0.30719012 0.05757931 0.91953686 0.69520382\n",
      "  0.76045813 0.83196257 0.72278857 0.07948719 0.55702799 0.53538697\n",
      "  0.73078703 0.3524317  0.38560852 0.43798695 0.16545677 0.24310948\n",
      "  0.65353336 0.46905311 0.83970342 0.65725186 0.33712766 0.16182324\n",
      "  0.78281277 0.47060035 1.06709323 0.63805626 0.60267739 0.59156661\n",
      "  0.24106    0.57864593 0.65242154 0.07241281 0.74061758 0.24246317\n",
      "  0.58426564 0.15175884 0.77251592 0.58051039 0.21125163 0.97582535\n",
      "  0.78761167 0.71231742 0.31735243 0.46172446 0.21516466 0.17624393\n",
      "  0.15382428 0.36084398 0.56144886 0.39811061 0.09057528 0.8108408\n",
      "  0.65589698 0.15406693 1.02157372 0.71864823]\n",
      " [0.38382187 0.93923614 0.62270511 0.38034786 0.19088541 0.73819516\n",
      "  0.31227762 0.09094749 0.63771168 0.82242893 0.2536628  0.77533429\n",
      "  0.82874487 0.48608791 0.44906271 0.6333483  0.17288194 0.49236773\n",
      "  0.23455132 0.40406375 0.47558808 0.10892249 0.5155584  0.6534652\n",
      "  0.25821696 0.45323801 0.74187447 0.25762371 0.2764824  0.57679479\n",
      "  0.37022296 0.38523595 0.21175447 0.49418146 0.23198773 0.38832562\n",
      "  0.46700941 0.80709686 0.28200679 0.         0.47653661 0.10974892\n",
      "  0.44295966 0.72386583 0.4654834  0.22564446 0.76124129 0.4227091\n",
      "  0.47976177 0.60729835 0.79202224 0.26795558 0.40136148 0.25339004\n",
      "  0.8222816  0.55052763 0.33709242 0.17892227 0.16535929 0.39120888\n",
      "  0.75665015 0.18787595 0.57948008 0.50836822 0.45811953 0.34466318\n",
      "  0.51200342 0.51958218 0.87886981 0.69446278 0.70995661 0.3830437\n",
      "  0.0417299  0.30621076 0.72657065 0.35429861 0.6734476  0.04473982\n",
      "  0.31356062 0.14725924 0.70215669 0.30565137 0.49237463 0.79851812\n",
      "  0.525228   0.50711755 0.17193331 0.26688087 0.37547796 0.45555159\n",
      "  0.12931452 0.42344562 0.66911099 0.12590512 0.2777943  0.79202424\n",
      "  0.7303607  0.13864448 0.87762899 0.46873032]\n",
      " [0.68698318 0.48110551 0.75299448 0.23044755 0.49783924 0.42727156\n",
      "  0.72795807 0.4847751  0.32402186 0.64410942 0.22389168 0.4651631\n",
      "  0.36977645 0.64293011 0.82165337 0.65020988 0.48629657 0.10585967\n",
      "  0.57302593 0.08620375 0.07797624 0.4186981  0.54903415 0.19629933\n",
      "  0.69980624 0.71098971 0.2811666  0.62417289 0.62332969 0.18137698\n",
      "  0.40926557 0.16183146 0.42391464 0.09585124 0.31070608 0.16217602\n",
      "  0.22418333 0.61876714 0.43714413 0.47653661 0.         0.42704807\n",
      "  0.59732705 0.25644904 0.20249285 0.44128596 0.59331069 0.83013505\n",
      "  0.77607907 0.63712787 0.31569579 0.5084561  0.33187451 0.62644435\n",
      "  0.34739008 0.28249618 0.16243098 0.64084836 0.34968341 0.21469467\n",
      "  0.28791203 0.59862111 0.73668616 0.37485317 0.1425585  0.28816894\n",
      "  0.7310565  0.04322255 0.76865982 0.21903583 0.246895   0.43977918\n",
      "  0.46734294 0.58732646 0.25019643 0.45992396 0.33583877 0.47880852\n",
      "  0.58427694 0.48452181 0.36687721 0.72146985 0.49613918 0.67031188\n",
      "  0.70226384 0.50800808 0.32118573 0.36699267 0.24048013 0.4638037\n",
      "  0.42455583 0.07707369 0.21086432 0.48898986 0.34662285 0.37567613\n",
      "  0.25398641 0.39765532 0.66572762 0.61208005]\n",
      " [0.32148422 0.86634626 0.52857713 0.28888081 0.28562984 0.63953625\n",
      "  0.30584697 0.05920063 0.54283147 0.71330499 0.22158281 0.67569704\n",
      "  0.75793211 0.39112805 0.4204683  0.52697375 0.26645526 0.46550306\n",
      "  0.17473594 0.36792446 0.44345504 0.0094723  0.4078945  0.61679214\n",
      "  0.2727892  0.37977845 0.70460368 0.21615771 0.22552817 0.55608144\n",
      "  0.2604981  0.37239038 0.10311563 0.42532443 0.13860955 0.31070458\n",
      "  0.46957065 0.69836246 0.35225081 0.10974892 0.42704807 0.\n",
      "  0.34539719 0.65954702 0.4629982  0.30151251 0.65217806 0.41320814\n",
      "  0.4200697  0.50134895 0.73639853 0.35718671 0.29591431 0.21556636\n",
      "  0.7736696  0.55759992 0.27119002 0.21884599 0.19870367 0.39418765\n",
      "  0.71444326 0.17346947 0.48842027 0.40194388 0.44171015 0.36892147\n",
      "  0.43110529 0.46997381 0.76937716 0.63778064 0.67110922 0.27354213\n",
      "  0.14109918 0.22925845 0.67488319 0.42342192 0.5802821  0.14938565\n",
      "  0.23373824 0.24288515 0.60762266 0.29915507 0.55353091 0.6887701\n",
      "  0.43574186 0.39789319 0.10640541 0.1585843  0.3856925  0.5143969\n",
      "  0.20309939 0.38858018 0.63220916 0.06494243 0.32095265 0.70880135\n",
      "  0.67864445 0.19820155 0.76929698 0.37074443]\n",
      " [0.18488122 0.88811949 0.18429052 0.36820239 0.62986583 0.54978532\n",
      "  0.3549833  0.35336611 0.50038719 0.48830609 0.48870337 0.57221091\n",
      "  0.79989009 0.04897634 0.33570403 0.21506057 0.61087998 0.68122533\n",
      "  0.23925396 0.58391972 0.65179399 0.35139029 0.13632683 0.78737088\n",
      "  0.3936103  0.14665826 0.86344854 0.2631894  0.23696601 0.77182893\n",
      "  0.18857002 0.63031116 0.25053522 0.53779749 0.33317956 0.43521134\n",
      "  0.73818904 0.4848233  0.6939683  0.44295966 0.59732705 0.34539719\n",
      "  0.         0.73951892 0.72433815 0.64571275 0.43598321 0.39179286\n",
      "  0.22264997 0.18798903 0.8366694  0.70255349 0.2746516  0.27189118\n",
      "  0.89250768 0.82490651 0.45039673 0.42275841 0.53200427 0.6726022\n",
      "  0.85851572 0.32679356 0.14976947 0.30310901 0.68186999 0.67630038\n",
      "  0.1377529  0.63027195 0.48746128 0.74726095 0.82935337 0.15870487\n",
      "  0.48131261 0.1628826  0.79528168 0.76334324 0.54031267 0.48721697\n",
      "  0.15146894 0.5865446  0.55321099 0.35285696 0.88587368 0.433213\n",
      "  0.10598678 0.16788796 0.38810228 0.25440647 0.67490512 0.84584939\n",
      "  0.54822871 0.60238896 0.80026288 0.31845194 0.64890376 0.70159069\n",
      "  0.79847539 0.54116524 0.55692383 0.02583647]\n",
      " [0.86992759 0.22569306 0.85791349 0.39698176 0.75397626 0.33505171\n",
      "  0.94530144 0.71871586 0.28345436 0.59653572 0.47625267 0.35969933\n",
      "  0.11599369 0.77730153 1.01790805 0.71817889 0.74267369 0.30415791\n",
      "  0.78135577 0.34149055 0.297236   0.65227387 0.64938832 0.19678726\n",
      "  0.92752112 0.87466236 0.19956744 0.83418697 0.827674   0.29851423\n",
      "  0.55950209 0.40634662 0.63106928 0.23448871 0.52749357 0.35219665\n",
      "  0.42673517 0.56972924 0.68678549 0.72386583 0.25644904 0.65954702\n",
      "  0.73951892 0.         0.40680483 0.69566819 0.56446744 1.03927647\n",
      "  0.94715985 0.7144691  0.10002451 0.76093159 0.46857521 0.83810248\n",
      "  0.16349351 0.44116369 0.38947531 0.87809645 0.60576329 0.44942902\n",
      "  0.17035658 0.82317651 0.85600183 0.44977621 0.35783347 0.52977453\n",
      "  0.87710287 0.2178182  0.7428322  0.06211648 0.18205574 0.58561698\n",
      "  0.71883187 0.77666571 0.09482163 0.70022776 0.26143119 0.73054823\n",
      "  0.77082732 0.74092248 0.2771511  0.93921801 0.70824186 0.6505485\n",
      "  0.83516558 0.60424242 0.5584816  0.56055844 0.47755701 0.68254354\n",
      "  0.68064366 0.32834923 0.19368072 0.71628702 0.5972002  0.17832699\n",
      "  0.09530385 0.65373797 0.59028478 0.7467661 ]\n",
      " [0.77129216 0.62633852 0.89681994 0.3867209  0.40616758 0.62943764\n",
      "  0.76453498 0.51003463 0.52647357 0.843095   0.24690512 0.66703343\n",
      "  0.52157975 0.77281518 0.88325914 0.81736487 0.40178521 0.10672368\n",
      "  0.63425937 0.15366943 0.12645088 0.45353165 0.70572167 0.24301104\n",
      "  0.7197948  0.81314648 0.32022938 0.67884528 0.6860451  0.13378607\n",
      "  0.54711874 0.09486244 0.50324422 0.29726009 0.3962103  0.32099894\n",
      "  0.02182379 0.81823336 0.30719012 0.4654834  0.20249285 0.4629982\n",
      "  0.72433815 0.40680483 0.         0.33546705 0.79035588 0.87403024\n",
      "  0.86779605 0.80059454 0.42483761 0.38652629 0.48867792 0.67851989\n",
      "  0.42608638 0.10057368 0.28063622 0.64428554 0.30275033 0.07520724\n",
      "  0.34775144 0.63165435 0.87213919 0.55541478 0.0599596  0.1472636\n",
      "  0.84729785 0.21429322 0.96236934 0.35044634 0.29694021 0.57741226\n",
      "  0.43983665 0.67151505 0.35528253 0.30238954 0.53778146 0.44873394\n",
      "  0.67184977 0.4107796  0.56850175 0.75776537 0.3033141  0.86435234\n",
      "  0.82997109 0.66948052 0.36555099 0.47175625 0.09740529 0.27590824\n",
      "  0.36576502 0.14262892 0.25649922 0.52749788 0.22945819 0.55918059\n",
      "  0.35847186 0.34262747 0.8672561  0.74361547]\n",
      " [0.60830839 0.92128253 0.82955433 0.46109929 0.07313311 0.80960474\n",
      "  0.52928391 0.31139063 0.70105185 0.95147651 0.2540637  0.84898337\n",
      "  0.81042871 0.69217117 0.67121471 0.81374065 0.07530788 0.40657673\n",
      "  0.45813979 0.3551312  0.40349625 0.29481557 0.69222793 0.56900209\n",
      "  0.46745401 0.67497956 0.65200239 0.48326683 0.50183022 0.46748213\n",
      "  0.52898728 0.29309347 0.39650708 0.50013707 0.35243764 0.43327162\n",
      "  0.32708525 0.93181383 0.05757931 0.22564446 0.44128596 0.30151251\n",
      "  0.64571275 0.69566819 0.33546705 0.         0.89102906 0.63763446\n",
      "  0.70497683 0.78967658 0.73893169 0.07227951 0.5250974  0.47896336\n",
      "  0.75175631 0.39229369 0.36865942 0.38055256 0.12861645 0.26533522\n",
      "  0.67615758 0.41207432 0.78991527 0.62818045 0.35692242 0.18841532\n",
      "  0.7303925  0.47790718 1.03325413 0.65037837 0.62555845 0.5505649\n",
      "  0.18436295 0.52542753 0.66876374 0.12900124 0.72867782 0.18529037\n",
      "  0.53145648 0.09521221 0.76030602 0.52294561 0.26874137 0.9438114\n",
      "  0.73721505 0.6731183  0.27818898 0.42090195 0.23906151 0.23378971\n",
      "  0.09942693 0.36732781 0.58380521 0.34413143 0.106139   0.80952991\n",
      "  0.67235307 0.1049126  0.99654157 0.67072097]\n",
      " [0.62086014 0.6038383  0.42761174 0.43595242 0.90878907 0.23717227\n",
      "  0.78373258 0.69245104 0.28955186 0.06127263 0.64867412 0.2288683\n",
      "  0.55941885 0.43850466 0.76941394 0.26138871 0.89018033 0.69909245\n",
      "  0.63913949 0.64065555 0.6709863  0.65233751 0.30042009 0.71289671\n",
      "  0.81052098 0.5726095  0.75375654 0.67880659 0.65610576 0.76165372\n",
      "  0.39366832 0.72049253 0.55544935 0.49788525 0.54482499 0.48421703\n",
      "  0.81111928 0.04928164 0.91953686 0.76124129 0.59331069 0.65217806\n",
      "  0.43598321 0.56446744 0.79035588 0.89102906 0.         0.82776851\n",
      "  0.64414795 0.27831391 0.65864207 0.96169677 0.36770618 0.68693473\n",
      "  0.72459387 0.8757895  0.54390553 0.81606912 0.76254712 0.77745858\n",
      "  0.73078997 0.72291848 0.45598948 0.26284862 0.73140363 0.82494427\n",
      "  0.53098202 0.59890944 0.18041031 0.60686243 0.72734802 0.38794639\n",
      "  0.78650491 0.57901537 0.65392667 0.97250992 0.30358882 0.79671056\n",
      "  0.56766922 0.87236387 0.28816505 0.78063741 1.0546077  0.08618846\n",
      "  0.4716351  0.2801536  0.61966359 0.49445731 0.79500962 1.01672352\n",
      "  0.8148996  0.64836658 0.71886455 0.66496872 0.84218863 0.43039706\n",
      "  0.65548402 0.79560279 0.12257092 0.42199472]\n",
      " [0.20696041 1.22385789 0.47253085 0.64277937 0.58240301 0.92150757\n",
      "  0.11064208 0.36402919 0.85222822 0.87944317 0.63476032 0.94883243\n",
      "  1.12315193 0.39464639 0.07717722 0.59168026 0.56960174 0.87784211\n",
      "  0.25870762 0.77887504 0.85470376 0.42253786 0.52780197 1.02440781\n",
      "  0.17095533 0.26476447 1.11099901 0.20642473 0.21169347 0.96901132\n",
      "  0.50368961 0.78506881 0.40971365 0.80859165 0.52016328 0.68987617\n",
      "  0.87898573 0.87655944 0.69520382 0.4227091  0.83013505 0.41320814\n",
      "  0.39179286 1.03927647 0.87403024 0.63763446 0.82776851 0.\n",
      "  0.21196921 0.56679732 1.12602043 0.65929787 0.58955612 0.2037326\n",
      "  1.17034374 0.96565838 0.66824164 0.25859564 0.58533788 0.80285487\n",
      "  1.11744155 0.24245756 0.42314195 0.66171481 0.85488676 0.76530912\n",
      "  0.325957   0.87180303 0.86313516 1.0284076  1.07689543 0.4876776\n",
      "  0.45948604 0.27205906 1.07016465 0.76529728 0.89319681 0.45548497\n",
      "  0.28083107 0.54512971 0.91250346 0.11735669 0.90592756 0.82059765\n",
      "  0.38086651 0.55464567 0.51751092 0.47874787 0.79100648 0.87141524\n",
      "  0.54922013 0.79963612 1.03954052 0.34827616 0.70049304 1.04649238\n",
      "  1.07382197 0.56122589 0.94844059 0.40670702]\n",
      " [0.09858567 1.10684107 0.2615604  0.55819305 0.66683586 0.7724143\n",
      "  0.2374911  0.39471021 0.72082741 0.69093819 0.62106975 0.79441919\n",
      "  1.01517066 0.20659561 0.13787773 0.3936856  0.6501536  0.84569838\n",
      "  0.24818919 0.74483684 0.81841778 0.42901613 0.35361357 0.97165403\n",
      "  0.30352522 0.07604359 1.05302546 0.22388935 0.20329    0.93854242\n",
      "  0.38771    0.77337746 0.36478414 0.73148546 0.47575551 0.61876067\n",
      "  0.87771826 0.69150859 0.76045813 0.47976177 0.77607907 0.4200697\n",
      "  0.22264997 0.94715985 0.86779605 0.70497683 0.64414795 0.21196921\n",
      "  0.         0.37099366 1.04162373 0.74540472 0.47876334 0.22955629\n",
      "  1.09388105 0.96649528 0.61707084 0.3730962  0.61782102 0.80500877\n",
      "  1.05250724 0.30080906 0.21319914 0.52344664 0.83532815 0.78804924\n",
      "  0.1182227  0.81362553 0.65953141 0.94840886 1.01851336 0.36260104\n",
      "  0.52142775 0.19633798 0.99464489 0.8328664  0.76115127 0.52233203\n",
      "  0.19613123 0.62423023 0.77509755 0.23980227 0.96848948 0.62579547\n",
      "  0.17693694 0.38956121 0.50394191 0.40953618 0.80032922 0.93029939\n",
      "  0.60663672 0.7649807  0.9856637  0.36432705 0.74013278 0.92157316\n",
      "  0.99804521 0.60952033 0.76100897 0.22801388]\n",
      " [0.36401435 0.82009815 0.15635375 0.41489859 0.78541745 0.45256924\n",
      "  0.5411395  0.52210256 0.43996944 0.32093881 0.59166563 0.46394363\n",
      "  0.74889804 0.17244804 0.50221976 0.02724774 0.76611943 0.73545543\n",
      "  0.42413874 0.64896674 0.70499446 0.50529854 0.09885447 0.80762581\n",
      "  0.58158567 0.30370808 0.87166623 0.45101366 0.42492257 0.81848668\n",
      "  0.2663572  0.71222519 0.39872    0.55694115 0.44564395 0.48309526\n",
      "  0.81783027 0.32365019 0.83196257 0.60729835 0.63712787 0.50134895\n",
      "  0.18798903 0.7144691  0.80059454 0.78967658 0.27831391 0.56679732\n",
      "  0.37099366 0.         0.81449355 0.8528167  0.31199999 0.4597015\n",
      "  0.87664947 0.89866507 0.52059503 0.60844261 0.66651979 0.76258521\n",
      "  0.85885157 0.5121163  0.17823156 0.27099236 0.749408   0.78412613\n",
      "  0.25488345 0.66055897 0.30017034 0.73753609 0.83960238 0.24086035\n",
      "  0.64218372 0.35005208 0.78732342 0.89701659 0.47395639 0.64977982\n",
      "  0.33848723 0.74346817 0.47626939 0.53938111 1.0072873  0.25505462\n",
      "  0.19519058 0.13112419 0.51487003 0.37036298 0.77119776 0.9672003\n",
      "  0.69717944 0.66402607 0.81811808 0.48855185 0.77331476 0.6326797\n",
      "  0.78994728 0.68528793 0.39116282 0.16619108]\n",
      " [0.96214322 0.21291488 0.9576631  0.48689905 0.8020765  0.42512824\n",
      "  1.02921852 0.7951639  0.3820362  0.68750523 0.53955441 0.44585539\n",
      "  0.1351451  0.87528722 1.10790652 0.81813728 0.7926099  0.3335809\n",
      "  0.86739103 0.39435942 0.33566443 0.72859403 0.74890608 0.1853158\n",
      "  1.0074632  0.96992634 0.14328869 0.91998988 0.91500609 0.29888775\n",
      "  0.65455897 0.44584113 0.71644545 0.31742881 0.60905135 0.43617931\n",
      "  0.44218191 0.66089452 0.72278857 0.79202224 0.31569579 0.73639853\n",
      "  0.8366694  0.10002451 0.42483761 0.73893169 0.65864207 1.12602043\n",
      "  1.04162373 0.81449355 0.         0.79993041 0.56407173 0.92343934\n",
      "  0.06600035 0.43632253 0.46531374 0.95329789 0.66160004 0.48001914\n",
      "  0.10634599 0.90407535 0.95518061 0.54938029 0.38586905 0.56165809\n",
      "  0.97438913 0.27297388 0.83536742 0.09862904 0.14351498 0.68143059\n",
      "  0.78289373 0.86720869 0.07036764 0.72659369 0.3576545  0.79429839\n",
      "  0.86189521 0.7937586  0.37047763 1.02297956 0.71513148 0.74483043\n",
      "  0.93344691 0.70377582 0.63246683 0.64849627 0.5082319  0.69407756\n",
      "  0.73599449 0.3777764  0.17484004 0.79564634 0.6359668  0.24829315\n",
      "  0.06690417 0.70926402 0.67615995 0.84461284]\n",
      " [0.65080209 0.98661148 0.88530112 0.5330199  0.07878985 0.88182264\n",
      "  0.55425125 0.35800456 0.77322332 1.02229244 0.32630118 0.92121105\n",
      "  0.87626126 0.74790429 0.69975982 0.87739256 0.09535513 0.46639874\n",
      "  0.50235225 0.42228775 0.46600907 0.35149039 0.75620682 0.62576243\n",
      "  0.48841404 0.72118323 0.70632341 0.52168725 0.54247788 0.52018632\n",
      "  0.59502501 0.35548566 0.45619782 0.57050888 0.42071025 0.50551354\n",
      "  0.3752637  1.00289091 0.07948719 0.26795558 0.5084561  0.35718671\n",
      "  0.70255349 0.76093159 0.38652629 0.07227951 0.96169677 0.65929787\n",
      "  0.74540472 0.8528167  0.79993041 0.         0.59502468 0.51648528\n",
      "  0.8092849  0.4305629  0.4408771  0.4008135  0.19930758 0.32123568\n",
      "  0.73233715 0.44672317 0.84394714 0.69889627 0.41490614 0.24049601\n",
      "  0.77957682 0.54369362 1.10175679 0.71370107 0.68150274 0.61539441\n",
      "  0.22650484 0.57375338 0.72958018 0.12022003 0.80063013 0.22392358\n",
      "  0.58071641 0.12125823 0.83229807 0.54826228 0.25542074 1.01320117\n",
      "  0.79036769 0.73893483 0.34580991 0.48642558 0.29356751 0.227664\n",
      "  0.15571264 0.43324804 0.64014698 0.39230628 0.16421979 0.87916704\n",
      "  0.73309589 0.16895305 1.06802604 0.7279292 ]\n",
      " [0.4051883  0.63590191 0.42115759 0.10349216 0.54108664 0.35069361\n",
      "  0.50957335 0.34497414 0.26592263 0.42874461 0.29374652 0.38469058\n",
      "  0.53906086 0.31676087 0.55779081 0.32882396 0.52250069 0.42574918\n",
      "  0.34338175 0.3370493  0.39536276 0.29419782 0.21890282 0.5157522\n",
      "  0.51148642 0.40610288 0.58965831 0.39448841 0.38117882 0.51181621\n",
      "  0.09109771 0.40135123 0.21361762 0.26412834 0.17733104 0.1725686\n",
      "  0.50613221 0.41084852 0.55702799 0.40136148 0.33187451 0.29591431\n",
      "  0.2746516  0.46857521 0.48867792 0.5250974  0.36770618 0.58955612\n",
      "  0.47876334 0.31199999 0.56407173 0.59502468 0.         0.40044589\n",
      "  0.61856119 0.58668126 0.20946512 0.49063335 0.39649025 0.45327559\n",
      "  0.58396644 0.4094968  0.40653992 0.10743688 0.43754037 0.48265149\n",
      "  0.4121348  0.36078074 0.5102697  0.47310305 0.55576195 0.11740172\n",
      "  0.42267805 0.31838458 0.52082629 0.6145826  0.30646458 0.43342985\n",
      "  0.31075154 0.50495468 0.32897054 0.50442213 0.71099391 0.41898903\n",
      "  0.37611288 0.18088082 0.25197995 0.13963474 0.46403295 0.67151699\n",
      "  0.44719345 0.35245885 0.52808726 0.32437932 0.48539899 0.4569414\n",
      "  0.52405374 0.42808678 0.47922472 0.28566487]\n",
      " [0.13987855 1.02815562 0.42070074 0.44314392 0.4377826  0.74494431\n",
      "  0.10938333 0.17522229 0.66628515 0.74394217 0.43525091 0.77558519\n",
      "  0.92521153 0.29872287 0.20497959 0.48684922 0.42142603 0.67628919\n",
      "  0.05758722 0.57662664 0.65245686 0.22503822 0.3925961  0.82096964\n",
      "  0.12393661 0.21862512 0.90738781 0.00871644 0.03584686 0.76808572\n",
      "  0.3218737  0.58737517 0.20713341 0.60612333 0.3164677  0.48731271\n",
      "  0.68510749 0.7361585  0.53538697 0.25339004 0.62644435 0.21556636\n",
      "  0.27189118 0.83810248 0.67851989 0.47896336 0.68693473 0.2037326\n",
      "  0.22955629 0.4597015  0.92343934 0.51648528 0.40044589 0.\n",
      "  0.96696648 0.77302548 0.46450904 0.15731772 0.40303955 0.60960389\n",
      "  0.91370933 0.07168753 0.37148353 0.48499297 0.65567645 0.58023055\n",
      "  0.28579267 0.66807268 0.75800441 0.82555268 0.87324933 0.31281655\n",
      "  0.29462074 0.11031203 0.86684493 0.60768856 0.70689943 0.29454974\n",
      "  0.12196942 0.39552701 0.72879612 0.10403662 0.74542244 0.69744907\n",
      "  0.31715282 0.40681796 0.31660386 0.2789971  0.60033361 0.70816137\n",
      "  0.38218918 0.5973937  0.8360562  0.15165559 0.52368455 0.85499332\n",
      "  0.8705154  0.38805159 0.80950328 0.29513732]\n",
      " [1.01209454 0.24937396 1.01809053 0.53652454 0.81774155 0.4910869\n",
      "  1.0712059  0.83179197 0.4467853  0.75345716 0.56862883 0.51147297\n",
      "  0.19234832 0.93226411 1.15536578 0.88096804 0.80963954 0.345714\n",
      "  0.91170949 0.41930989 0.35344707 0.76549567 0.80881602 0.18361707\n",
      "  1.04610193 1.02321035 0.11351477 0.96394103 0.96035024 0.29396437\n",
      "  0.70826022 0.46061827 0.76078054 0.36413475 0.65088539 0.48157508\n",
      "  0.44121887 0.72685938 0.73078703 0.8222816  0.34739008 0.7736696\n",
      "  0.89250768 0.16349351 0.42608638 0.75175631 0.72459387 1.17034374\n",
      "  1.09388105 0.87664947 0.06600035 0.8092849  0.61856119 0.96696648\n",
      "  0.         0.42212459 0.50433227 0.98823843 0.68395818 0.48808094\n",
      "  0.07952687 0.94385234 1.01416599 0.60973443 0.39495866 0.56897149\n",
      "  1.03024326 0.30419515 0.90136547 0.14557393 0.1295381  0.73590801\n",
      "  0.8101633  0.91569651 0.10026061 0.72803567 0.42324073 0.82126241\n",
      "  0.91090903 0.81283262 0.43642989 1.06484626 0.70378501 0.81078218\n",
      "  0.99082535 0.76376672 0.66826947 0.69538166 0.51573469 0.68601225\n",
      "  0.75731472 0.40099934 0.16963387 0.8346035  0.64682872 0.3122243\n",
      "  0.0966559  0.73094206 0.74155656 0.90141861]\n",
      " [0.8695433  0.64718367 0.99701499 0.48396214 0.46533033 0.70083647\n",
      "  0.85551711 0.6019821  0.60253681 0.92643279 0.34548547 0.73695867\n",
      "  0.5502875  0.87337051 0.97800021 0.91483886 0.46447907 0.1768935\n",
      "  0.73048113 0.2497797  0.20486372 0.54813278 0.80453614 0.25220063\n",
      "  0.80766427 0.91282838 0.30911027 0.77375722 0.78208924 0.14265197\n",
      "  0.64714674 0.19512526 0.60239349 0.3781574  0.49640703 0.41685977\n",
      "  0.08878355 0.90095725 0.3524317  0.55052763 0.28249618 0.55759992\n",
      "  0.82490651 0.44116369 0.10057368 0.39229369 0.8757895  0.96565838\n",
      "  0.96649528 0.89866507 0.43632253 0.4305629  0.58668126 0.77302548\n",
      "  0.42212459 0.         0.37997444 0.72918204 0.38533391 0.16342227\n",
      "  0.3429195  0.72328699 0.97263549 0.64887831 0.1497003  0.21083125\n",
      "  0.94766179 0.28233214 1.0505545  0.38017605 0.29535003 0.67752487\n",
      "  0.52128592 0.7701573  0.37163701 0.32689321 0.60902263 0.52912645\n",
      "  0.77079666 0.47759403 0.63842803 0.8487495  0.28176789 0.95225094\n",
      "  0.93054476 0.76755791 0.46309557 0.57226005 0.17522027 0.26627637\n",
      "  0.4406643  0.23579082 0.26155083 0.62147312 0.2913861  0.60794544\n",
      "  0.3741559  0.42015396 0.94616771 0.84413668]\n",
      " [0.526216   0.60217489 0.61788096 0.11175091 0.40708681 0.44094687\n",
      "  0.56722446 0.33012818 0.33245022 0.60186019 0.11461344 0.48033485\n",
      "  0.49188743 0.4979495  0.65926255 0.53812317 0.39146414 0.2315236\n",
      "  0.41070639 0.13363582 0.2028126  0.26354375 0.42515564 0.35839493\n",
      "  0.54237124 0.5543634  0.44357838 0.4620596  0.46090994 0.32342054\n",
      "  0.26786636 0.19189069 0.26152185 0.15718952 0.14833388 0.06474567\n",
      "  0.29735115 0.5796523  0.38560852 0.33709242 0.16243098 0.27119002\n",
      "  0.45039673 0.38947531 0.28063622 0.36865942 0.54390553 0.66824164\n",
      "  0.61707084 0.52059503 0.46531374 0.4408771  0.20946512 0.46450904\n",
      "  0.50433227 0.37997444 0.         0.4890156  0.24913525 0.24435337\n",
      "  0.44920217 0.43958964 0.59561605 0.28904097 0.23290256 0.28164549\n",
      "  0.57967224 0.20358693 0.70447967 0.36668478 0.40926466 0.2984742\n",
      "  0.33730425 0.42608337 0.40482155 0.43171075 0.36112669 0.34926333\n",
      "  0.42352003 0.38215139 0.39247403 0.5608124  0.51168332 0.60870197\n",
      "  0.55636766 0.38961565 0.16903184 0.20768497 0.25686327 0.47330599\n",
      "  0.31906521 0.15201737 0.37313682 0.33059974 0.30199387 0.45951125\n",
      "  0.40855671 0.2936234  0.63932156 0.4679054 ]\n",
      " [0.29350361 1.08488226 0.57793775 0.50329582 0.32381283 0.84120719\n",
      "  0.15475314 0.15967252 0.75075812 0.87525515 0.42360981 0.8752786\n",
      "  0.97671692 0.45362857 0.30208533 0.63568935 0.31121829 0.6668892\n",
      "  0.18432669 0.5745617  0.64821054 0.22586398 0.53281068 0.82507982\n",
      "  0.08764135 0.37397199 0.91348597 0.16565672 0.19284302 0.75334587\n",
      "  0.42933725 0.56254331 0.27705924 0.64406057 0.35549659 0.52940822\n",
      "  0.64593085 0.86467857 0.43798695 0.17892227 0.64084836 0.21884599\n",
      "  0.42275841 0.87809645 0.64428554 0.38055256 0.81606912 0.25859564\n",
      "  0.3730962  0.60844261 0.95329789 0.4008135  0.49063335 0.15731772\n",
      "  0.98823843 0.72918204 0.4890156  0.         0.34384829 0.57011651\n",
      "  0.92599657 0.09635122 0.52879886 0.58915263 0.63513891 0.52193492\n",
      "  0.44216768 0.68404792 0.90281601 0.85479959 0.88078657 0.4293787\n",
      "  0.20936322 0.26022335 0.89041404 0.5073355  0.78968782 0.20320321\n",
      "  0.27144357 0.28703811 0.81530922 0.14918758 0.64805212 0.83583728\n",
      "  0.47441479 0.53964507 0.32083274 0.35264914 0.55427209 0.61418564\n",
      "  0.29683181 0.59463551 0.84067795 0.16886949 0.45094638 0.92459362\n",
      "  0.8941937  0.31239559 0.93778371 0.44719621]\n",
      " [0.51932856 0.82902093 0.71625717 0.33461526 0.15795644 0.6880246\n",
      "  0.47469928 0.2278173  0.58036064 0.8230704  0.13665025 0.72718112\n",
      "  0.71741279 0.57978557 0.60568501 0.68993208 0.14268626 0.34257228\n",
      "  0.37036096 0.26731421 0.33078512 0.19025069 0.56832718 0.50730349\n",
      "  0.42330433 0.57836269 0.59469    0.40546512 0.41913976 0.42080446\n",
      "  0.40320919 0.22962857 0.28158268 0.39281348 0.22492268 0.31256534\n",
      "  0.30284739 0.80359111 0.16545677 0.16535929 0.34968341 0.19870367\n",
      "  0.53200427 0.60576329 0.30275033 0.12861645 0.76254712 0.58533788\n",
      "  0.61782102 0.66651979 0.66160004 0.19930758 0.39649025 0.40303955\n",
      "  0.68395818 0.38533391 0.24913525 0.34384829 0.         0.22776223\n",
      "  0.61337609 0.34517415 0.67942467 0.49970847 0.30215689 0.18001671\n",
      "  0.62809881 0.39049831 0.90503351 0.56741969 0.5645613  0.42612057\n",
      "  0.13710072 0.42791311 0.59310672 0.23198487 0.61010155 0.14605736\n",
      "  0.43212488 0.1361973  0.64130128 0.46798122 0.35602831 0.81527122\n",
      "  0.62848018 0.54722376 0.15196612 0.29626962 0.21055595 0.31650956\n",
      "  0.07488403 0.28400173 0.52283386 0.25447496 0.12235279 0.70273143\n",
      "  0.59684735 0.04797821 0.86879334 0.55624626]\n",
      " [0.70759103 0.67350862 0.84932691 0.35550364 0.33443369 0.63601892\n",
      "  0.69292874 0.4389412  0.52925231 0.83283292 0.18576413 0.67475423\n",
      "  0.56540539 0.72146854 0.81457802 0.78107384 0.32899271 0.14706559\n",
      "  0.56731242 0.14056693 0.15278419 0.38472185 0.6656413  0.30464835\n",
      "  0.64664038 0.75328013 0.38670316 0.61034274 0.61884953 0.2025501\n",
      "  0.50231509 0.05740728 0.44218204 0.30095277 0.34025486 0.29567049\n",
      "  0.07623551 0.80899643 0.24310948 0.39120888 0.21469467 0.39418765\n",
      "  0.6726022  0.44942902 0.07520724 0.26533522 0.77745858 0.80285487\n",
      "  0.80500877 0.76258521 0.48001914 0.32123568 0.45327559 0.60960389\n",
      "  0.48808094 0.16342227 0.24435337 0.57011651 0.22776223 0.\n",
      "  0.41149316 0.56040567 0.82175927 0.53084547 0.09415045 0.08164346\n",
      "  0.79097684 0.23956571 0.94422212 0.39764333 0.36074167 0.53181997\n",
      "  0.36486212 0.60877507 0.40967893 0.25083871 0.54596021 0.37365652\n",
      "  0.60987438 0.3368896  0.57759754 0.68615801 0.2840452  0.84718348\n",
      "  0.77733345 0.63216671 0.30107593 0.41826479 0.02831414 0.25002704\n",
      "  0.29070322 0.13983046 0.31918089 0.45806339 0.15941815 0.58812227\n",
      "  0.41311541 0.26743358 0.86269185 0.69316085]\n",
      " [0.96732369 0.31673406 0.99434511 0.49468478 0.74321087 0.50472331\n",
      "  1.01582604 0.77166523 0.44431924 0.76522748 0.5034555  0.53002984\n",
      "  0.24018964 0.90045268 1.10655285 0.86555424 0.73576017 0.27202343\n",
      "  0.85962883 0.35259507 0.28285887 0.70594801 0.78467951 0.10725479\n",
      "  0.98721846 0.98384362 0.03728147 0.91120609 0.90936308 0.21494928\n",
      "  0.67136723 0.38707833 0.70948558 0.32168703 0.59736192 0.43452639\n",
      "  0.36239091 0.73836318 0.65353336 0.75665015 0.28791203 0.71444326\n",
      "  0.85851572 0.17035658 0.34775144 0.67615758 0.73078997 1.11744155\n",
      "  1.05250724 0.85885157 0.10634599 0.73233715 0.58396644 0.91370933\n",
      "  0.07952687 0.3429195  0.44920217 0.92599657 0.61337609 0.41149316\n",
      "  0.         0.88646261 0.98664007 0.58846187 0.31932549 0.49184889\n",
      "  0.99568489 0.24570693 0.91023246 0.12465549 0.05086577 0.7002317\n",
      "  0.74234375 0.86915105 0.07696216 0.64922911 0.42727053 0.75318971\n",
      "  0.86514926 0.73996989 0.44555022 1.00934856 0.6244581  0.81650389\n",
      "  0.95963585 0.74014411 0.60823656 0.64788011 0.43884404 0.60649541\n",
      "  0.68584471 0.33329297 0.09235628 0.77679196 0.57071908 0.34305578\n",
      "  0.07568423 0.65976971 0.76053216 0.86938805]\n",
      " [0.21131554 1.02201551 0.48607474 0.43561562 0.36793716 0.75955886\n",
      "  0.13309907 0.12162122 0.67375937 0.78160812 0.39441206 0.79234011\n",
      "  0.91618646 0.35894677 0.26155526 0.53936197 0.35204171 0.63883751\n",
      "  0.08798149 0.54137689 0.61692451 0.18251028 0.43694582 0.78985642\n",
      "  0.1049546  0.28910926 0.87746459 0.07843928 0.103721   0.72905191\n",
      "  0.34117164 0.5432811  0.19967843 0.58894908 0.2957164  0.47106184\n",
      "  0.63652897 0.77176019 0.46905311 0.18787595 0.59862111 0.17346947\n",
      "  0.32679356 0.82317651 0.63165435 0.41207432 0.72291848 0.24245756\n",
      "  0.30080906 0.5121163  0.90407535 0.44672317 0.4094968  0.07168753\n",
      "  0.94385234 0.72328699 0.43958964 0.09635122 0.34517415 0.56040567\n",
      "  0.88646261 0.         0.43777827 0.50339264 0.61373182 0.52460251\n",
      "  0.35519893 0.64123719 0.80664846 0.80553704 0.84380841 0.33837343\n",
      "  0.22807021 0.16480764 0.84441039 0.54106351 0.7135894  0.22683968\n",
      "  0.17582073 0.32622896 0.73767942 0.12634699 0.67992202 0.7405707\n",
      "  0.38293498 0.44506659 0.27962059 0.27618213 0.54881756 0.64334337\n",
      "  0.31716888 0.562042   0.80522499 0.10971445 0.46335513 0.85501212\n",
      "  0.84814436 0.32543501 0.84501905 0.351434  ]\n",
      " [0.24291241 0.98269937 0.05071682 0.50623891 0.76928273 0.62272532\n",
      "  0.42497498 0.4885895  0.59566556 0.49563535 0.6383044  0.63736868\n",
      "  0.90374983 0.10082716 0.35087825 0.1950828  0.75063313 0.82484185\n",
      "  0.3564996  0.72922055 0.79500004 0.49514578 0.20776794 0.92219833\n",
      "  0.4798643  0.16455888 0.99455498 0.36315698 0.33603529 0.91414712\n",
      "  0.32879684 0.77854018 0.39798579 0.6699914  0.48282106 0.57487742\n",
      "  0.8864612  0.50030758 0.83970342 0.57948008 0.73668616 0.48842027\n",
      "  0.14976947 0.85600183 0.87213919 0.78991527 0.45598948 0.42314195\n",
      "  0.21319914 0.17823156 0.95518061 0.84394714 0.40653992 0.37148353\n",
      "  1.01416599 0.97263549 0.59561605 0.52879886 0.67942467 0.82175927\n",
      "  0.98664007 0.43777827 0.         0.40684304 0.82815683 0.82604286\n",
      "  0.09750988 0.76712997 0.44891187 0.87058048 0.96099898 0.29802945\n",
      "  0.61945032 0.27784003 0.91969006 0.90987209 0.63283932 0.62419786\n",
      "  0.2686716  0.72564566 0.63953897 0.42512417 1.03432314 0.42433273\n",
      "  0.05505773 0.25271255 0.5374034  0.40386181 0.82446754 0.99438095\n",
      "  0.69138372 0.74712346 0.93437164 0.45357669 0.79749573 0.79441474\n",
      "  0.92266976 0.68607078 0.56568719 0.12864772]\n",
      " [0.46452194 0.58510617 0.40838808 0.17774978 0.64708621 0.26059005\n",
      "  0.59206698 0.44890992 0.197439   0.32340629 0.38804495 0.2905961\n",
      "  0.49928751 0.33431071 0.62058331 0.27996329 0.62866086 0.47772279\n",
      "  0.42986135 0.40182016 0.44758664 0.40065927 0.19964568 0.53731896\n",
      "  0.60205825 0.44768423 0.60071654 0.47813552 0.46113321 0.55529711\n",
      "  0.16335218 0.47561476 0.31427015 0.28887099 0.2842412  0.23572465\n",
      "  0.5747089  0.30452264 0.65725186 0.50836822 0.37485317 0.40194388\n",
      "  0.30310901 0.44977621 0.55541478 0.62818045 0.26284862 0.66171481\n",
      "  0.52344664 0.27099236 0.54938029 0.69889627 0.10743688 0.48499297\n",
      "  0.60973443 0.64887831 0.28904097 0.58915263 0.49970847 0.53084547\n",
      "  0.58846187 0.50339264 0.40684304 0.         0.4996203  0.57021333\n",
      "  0.43704265 0.39389426 0.41564999 0.46832121 0.56861003 0.17435985\n",
      "  0.53010695 0.3907283  0.51799129 0.71174044 0.23770827 0.54083773\n",
      "  0.38128208 0.61161765 0.25290958 0.58750537 0.80019025 0.32076894\n",
      "  0.38988797 0.154494   0.35835851 0.24393668 0.54529244 0.7614459\n",
      "  0.55314019 0.41360279 0.54751292 0.42608752 0.58159999 0.39852085\n",
      "  0.52074254 0.53327833 0.37206973 0.30516418]\n",
      " [0.74029591 0.58073554 0.85077606 0.33454305 0.42404531 0.56964569\n",
      "  0.74678526 0.49269013 0.46651644 0.78375142 0.22044465 0.60733934\n",
      "  0.4735892  0.7298618  0.85916152 0.76532862 0.41708376 0.05373455\n",
      "  0.60844288 0.1005193  0.06747989 0.43235918 0.65586331 0.21211048\n",
      "  0.70648507 0.77760544 0.29641379 0.65527932 0.6603115  0.11890621\n",
      "  0.50076891 0.07299078 0.47087622 0.23734455 0.36007095 0.26717809\n",
      "  0.08162506 0.75878622 0.33712766 0.45811953 0.1425585  0.44171015\n",
      "  0.68186999 0.35783347 0.0599596  0.35692242 0.73140363 0.85488676\n",
      "  0.83532815 0.749408   0.38586905 0.41490614 0.43754037 0.65567645\n",
      "  0.39495866 0.1497003  0.23290256 0.63513891 0.30215689 0.09415045\n",
      "  0.31932549 0.61373182 0.82815683 0.4996203  0.         0.17578971\n",
      "  0.80820134 0.15640504 0.90422383 0.30448024 0.26886461 0.53136852\n",
      "  0.43705998 0.63981891 0.31553139 0.34317917 0.47805181 0.44695693\n",
      "  0.63925345 0.42255805 0.50886837 0.74004614 0.35881043 0.8060873\n",
      "  0.78782266 0.61835028 0.33931019 0.43241561 0.12237726 0.3291487\n",
      "  0.37138721 0.08613467 0.22701259 0.50665256 0.25188604 0.50390604\n",
      "  0.31896551 0.34627934 0.80741691 0.70010491]\n",
      " [0.68957295 0.75438701 0.8576082  0.39246614 0.25985545 0.69944475\n",
      "  0.65467829 0.4055414  0.59115355 0.88222334 0.19251138 0.73864608\n",
      "  0.64576315 0.72521601 0.78412493 0.80452569 0.25670383 0.22859608\n",
      "  0.54355908 0.20666287 0.23255523 0.35972891 0.68565096 0.3853826\n",
      "  0.60287711 0.74240372 0.46599759 0.5820753  0.59383114 0.28023638\n",
      "  0.51879336 0.12643571 0.43374909 0.36749847 0.34476009 0.3409931\n",
      "  0.13886223 0.85940659 0.16182324 0.34466318 0.28816894 0.36892147\n",
      "  0.67630038 0.52977453 0.1472636  0.18841532 0.82494427 0.76530912\n",
      "  0.78804924 0.78412613 0.56165809 0.24049601 0.48265149 0.58023055\n",
      "  0.56897149 0.21083125 0.28164549 0.52193492 0.18001671 0.08164346\n",
      "  0.49184889 0.52460251 0.82604286 0.57021333 0.17578971 0.\n",
      "  0.78605847 0.31701663 0.98585227 0.47885571 0.44100978 0.54662453\n",
      "  0.31281489 0.59386836 0.49132074 0.17199274 0.61116191 0.31999046\n",
      "  0.59650402 0.26793158 0.64308143 0.64795455 0.23004697 0.89031648\n",
      "  0.77853736 0.65602051 0.29055663 0.42403422 0.05345342 0.191783\n",
      "  0.23004966 0.21122427 0.39969239 0.42948821 0.08290999 0.66372567\n",
      "  0.49475487 0.21045356 0.91660257 0.69857217]\n",
      " [0.15026604 1.02173422 0.14773964 0.50362094 0.7028859  0.67442599\n",
      "  0.32973391 0.42157372 0.63314198 0.57573454 0.60528337 0.69348807\n",
      "  0.93568265 0.10337536 0.25472368 0.27661674 0.68481958 0.81119544\n",
      "  0.2803287  0.71224557 0.78230324 0.43887095 0.25076309 0.92285662\n",
      "  0.38736817 0.06949227 1.00000296 0.27792998 0.251592   0.90280964\n",
      "  0.32460633 0.75254139 0.35231075 0.67453832 0.45139287 0.56943979\n",
      "  0.85975053 0.57753842 0.78281277 0.51200342 0.7310565  0.43110529\n",
      "  0.1377529  0.87710287 0.84729785 0.7303925  0.53098202 0.325957\n",
      "  0.1182227  0.25488345 0.97438913 0.77957682 0.4121348  0.28579267\n",
      "  1.03024326 0.94766179 0.57967224 0.44216768 0.62809881 0.79097684\n",
      "  0.99568489 0.35519893 0.09750988 0.43704265 0.80820134 0.78605847\n",
      "  0.         0.76522172 0.54131737 0.884965   0.96580364 0.29545487\n",
      "  0.55316178 0.20583155 0.93290984 0.85435376 0.67237971 0.55655084\n",
      "  0.19906673 0.65925968 0.68321005 0.33027619 0.98403394 0.50885773\n",
      "  0.05969449 0.29135013 0.49557499 0.37593679 0.79045973 0.94460317\n",
      "  0.63099836 0.73137653 0.93599332 0.38739231 0.74912607 0.83430585\n",
      "  0.93611697 0.62883127 0.64593816 0.13188587]\n",
      " [0.72570686 0.44337608 0.78142394 0.26209113 0.53642773 0.4189296\n",
      "  0.77018551 0.52782172 0.32044975 0.64721271 0.26662738 0.45558153\n",
      "  0.33263261 0.6750298  0.86211102 0.67227974 0.5254644  0.10880357\n",
      "  0.61423659 0.12402713 0.08913806 0.46167308 0.57524282 0.15817079\n",
      "  0.74268221 0.74740968 0.24067647 0.66564652 0.66425145 0.16388357\n",
      "  0.44173293 0.19120318 0.46453377 0.10544104 0.3518721  0.1960171\n",
      "  0.23604789 0.62131732 0.47060035 0.51958218 0.04322255 0.46997381\n",
      "  0.63027195 0.2178182  0.21429322 0.47790718 0.59890944 0.87180303\n",
      "  0.81362553 0.66055897 0.27297388 0.54369362 0.36078074 0.66807268\n",
      "  0.30419515 0.28233214 0.20358693 0.68404792 0.39049831 0.23956571\n",
      "  0.24570693 0.64123719 0.76712997 0.39389426 0.15640504 0.31701663\n",
      "  0.76522172 0.         0.7765796  0.17706214 0.20620978 0.47192343\n",
      "  0.50992009 0.62649595 0.20703928 0.48891973 0.3270396  0.52133126\n",
      "  0.62310132 0.52457518 0.35690645 0.76372159 0.51510197 0.67834135\n",
      "  0.73447613 0.53308925 0.36423989 0.40552967 0.26677429 0.48473191\n",
      "  0.46527703 0.11059136 0.1720386  0.53166792 0.3804898  0.34888733\n",
      "  0.21082964 0.43841005 0.66437986 0.64403409]\n",
      " [0.66324982 0.76303302 0.40593501 0.59339815 1.04237007 0.4106164\n",
      "  0.84130892 0.80051421 0.46996193 0.14976817 0.8021811  0.39491908\n",
      "  0.73004974 0.4714072  0.79519759 0.27372194 1.02326191 0.87449859\n",
      "  0.71899485 0.81054577 0.84577294 0.77134732 0.37069658 0.89323807\n",
      "  0.88076631 0.59840749 0.93374518 0.74937046 0.72374543 0.93994903\n",
      "  0.51076618 0.88802957 0.66728695 0.67402405 0.68107404 0.64864399\n",
      "  0.98267269 0.1755166  1.06709323 0.87886981 0.76865982 0.76937716\n",
      "  0.48746128 0.7428322  0.96236934 1.03325413 0.18041031 0.86313516\n",
      "  0.65953141 0.30017034 0.83536742 1.10175679 0.5102697  0.75800441\n",
      "  0.90136547 1.0505545  0.70447967 0.90281601 0.90503351 0.94422212\n",
      "  0.91023246 0.80664846 0.44891187 0.41564999 0.90422383 0.98585227\n",
      "  0.54131737 0.7765796  0.         0.78663886 0.90760492 0.49584379\n",
      "  0.9091593  0.64779052 0.83329672 1.12467227 0.48301305 0.9182656\n",
      "  0.63614454 1.00314951 0.46572468 0.83954363 1.21584005 0.09835334\n",
      "  0.48347639 0.37205986 0.75596299 0.61878672 0.95989124 1.17707507\n",
      "  0.94970177 0.81978625 0.89926654 0.76924348 0.99510241 0.60006481\n",
      "  0.83476107 0.93312603 0.18799563 0.4663086 ]\n",
      " [0.86716544 0.276368   0.8759964  0.39150723 0.71132967 0.38391856\n",
      "  0.93100653 0.69656558 0.31971593 0.64262253 0.44277711 0.41146578\n",
      "  0.17170618 0.78743069 1.01152969 0.74335441 0.7010314  0.25083802\n",
      "  0.76971235 0.30032815 0.24772888 0.62999093 0.66636594 0.13472594\n",
      "  0.90885957 0.87764223 0.1474772  0.82221867 0.81768347 0.23758929\n",
      "  0.56269709 0.3582181  0.61871377 0.22014899 0.51069219 0.33858058\n",
      "  0.36975038 0.61573626 0.63805626 0.69446278 0.21903583 0.63778064\n",
      "  0.74726095 0.06211648 0.35044634 0.65037837 0.60686243 1.0284076\n",
      "  0.94840886 0.73753609 0.09862904 0.71370107 0.47310305 0.82555268\n",
      "  0.14557393 0.38017605 0.36668478 0.85479959 0.56741969 0.39764333\n",
      "  0.12465549 0.80553704 0.87058048 0.46832121 0.30448024 0.47885571\n",
      "  0.884965   0.17706214 0.78663886 0.         0.12487879 0.59041336\n",
      "  0.68628555 0.77130956 0.04979992 0.64765917 0.303679   0.69778518\n",
      "  0.7662994  0.70096274 0.32338831 0.92474376 0.64996387 0.69240204\n",
      "  0.8461632  0.62148764 0.53396915 0.55168762 0.42593927 0.62534115\n",
      "  0.64212801 0.28499342 0.13215068 0.69704152 0.54950092 0.23900022\n",
      "  0.05243339 0.61528713 0.64079835 0.75652214]\n",
      " [0.93153709 0.35642046 0.97097956 0.46265127 0.69287687 0.50807285\n",
      "  0.97406932 0.72774267 0.43826136 0.76515305 0.45746416 0.53621094\n",
      "  0.27030416 0.87247128 1.06825811 0.8477611  0.68562533 0.22243017\n",
      "  0.81991953 0.3063726  0.23483798 0.66245889 0.76181902 0.05730132\n",
      "  0.94365231 0.95115431 0.03453217 0.87103786 0.87016822 0.16442976\n",
      "  0.64121052 0.33729861 0.67059534 0.2916788  0.55758168 0.39976728\n",
      "  0.31175606 0.73827509 0.60267739 0.70995661 0.246895   0.67110922\n",
      "  0.82935337 0.18205574 0.29694021 0.62555845 0.72734802 1.07689543\n",
      "  1.01851336 0.83960238 0.14351498 0.68150274 0.55576195 0.87324933\n",
      "  0.1295381  0.29535003 0.40926466 0.88078657 0.5645613  0.36074167\n",
      "  0.05086577 0.84380841 0.96099898 0.56861003 0.26886461 0.44100978\n",
      "  0.96580364 0.20620978 0.90760492 0.12487879 0.         0.67067481\n",
      "  0.69463322 0.83255855 0.08990945 0.59859764 0.42567926 0.70535358\n",
      "  0.829019   0.69017539 0.44689044 0.96753692 0.57622886 0.81228206\n",
      "  0.93185854 0.7178168  0.56472412 0.61143209 0.38803791 0.55737732\n",
      "  0.63660363 0.28661327 0.04194583 0.73409593 0.52002709 0.36010948\n",
      "  0.09086007 0.61066724 0.76512612 0.84137268]\n",
      " [0.29395633 0.74671272 0.3195294  0.20985994 0.55099016 0.43486573\n",
      "  0.41860338 0.30705467 0.36599398 0.44802235 0.354366   0.4639854\n",
      "  0.65293111 0.2032012  0.44909044 0.26384201 0.53171329 0.52682799\n",
      "  0.2593795  0.43182585 0.49697068 0.27567175 0.14228181 0.62876705\n",
      "  0.43267411 0.28917197 0.70479442 0.30560776 0.28746669 0.61621839\n",
      "  0.0307694  0.48519614 0.17171216 0.37918764 0.20499613 0.27762851\n",
      "  0.59279337 0.43608911 0.59156661 0.3830437  0.43977918 0.27354213\n",
      "  0.15870487 0.58561698 0.57741226 0.5505649  0.38794639 0.4876776\n",
      "  0.36260104 0.24086035 0.68143059 0.61539441 0.11740172 0.31281655\n",
      "  0.73590801 0.67752487 0.2984742  0.4293787  0.42612057 0.53181997\n",
      "  0.7002317  0.33837343 0.29802945 0.17435985 0.53136852 0.54662453\n",
      "  0.29545487 0.47192343 0.49584379 0.59041336 0.67067481 0.\n",
      "  0.41369944 0.21637201 0.63797448 0.65619599 0.40694941 0.42259699\n",
      "  0.2070032  0.51032237 0.42511259 0.4142322  0.7673514  0.41681932\n",
      "  0.26260571 0.12477036 0.27425209 0.12987746 0.53769489 0.7272104\n",
      "  0.46041823 0.44941426 0.64160049 0.277925   0.53265325 0.563927\n",
      "  0.64122749 0.44686611 0.50892266 0.17230481]\n",
      " [0.42555133 0.93733672 0.6621162  0.39204854 0.15000418 0.75207104\n",
      "  0.34953935 0.13164371 0.64931698 0.84777357 0.24351166 0.78985124\n",
      "  0.82622341 0.52516545 0.48849424 0.66792657 0.13169206 0.47448304\n",
      "  0.27622441 0.39085457 0.45979746 0.13811785 0.54899348 0.63768335\n",
      "  0.29239387 0.4947946  0.72579516 0.29901579 0.3181394  0.55596097\n",
      "  0.39881572 0.36411084 0.24420586 0.49299752 0.24828236 0.39273762\n",
      "  0.43980735 0.83156009 0.24106    0.0417299  0.46734294 0.14109918\n",
      "  0.48131261 0.71883187 0.43983665 0.18436295 0.78650491 0.45948604\n",
      "  0.52142775 0.64218372 0.78289373 0.22650484 0.42267805 0.29462074\n",
      "  0.8101633  0.52128592 0.33730425 0.20936322 0.13710072 0.36486212\n",
      "  0.74234375 0.22807021 0.61945032 0.53010695 0.43705998 0.31281489\n",
      "  0.55316178 0.50992009 0.9091593  0.68628555 0.69463322 0.41369944\n",
      "  0.         0.34733095 0.71614656 0.31321804 0.68376451 0.01197368\n",
      "  0.35446819 0.10631794 0.71324585 0.34300352 0.45185438 0.82688191\n",
      "  0.5654007  0.53834732 0.18064079 0.29269526 0.34718055 0.41542174\n",
      "  0.0898992  0.40942271 0.65331144 0.16625741 0.24209093 0.79596882\n",
      "  0.71992776 0.10307234 0.90122885 0.50700339]\n",
      " [0.1006555  0.95400403 0.32441857 0.38034192 0.4970954  0.65116079\n",
      "  0.20593548 0.215749   0.58016929 0.63528007 0.42474189 0.67973252\n",
      "  0.85530122 0.1943189  0.24132293 0.37725714 0.4789952  0.65197054\n",
      "  0.0791799  0.55095167 0.62534737 0.23766804 0.28272009 0.78360671\n",
      "  0.23389815 0.1505648  0.86707181 0.1017415  0.07728916 0.74488085\n",
      "  0.23163414 0.57717742 0.16894271 0.55156367 0.28144712 0.43495298\n",
      "  0.68138042 0.6282926  0.57864593 0.30621076 0.58732646 0.22925845\n",
      "  0.1628826  0.77666571 0.67151505 0.52542753 0.57901537 0.27205906\n",
      "  0.19633798 0.35005208 0.86720869 0.57375338 0.31838458 0.11031203\n",
      "  0.91569651 0.7701573  0.42608337 0.26022335 0.42791311 0.60877507\n",
      "  0.86915105 0.16480764 0.27784003 0.3907283  0.63981891 0.59386836\n",
      "  0.20583155 0.62649595 0.64779052 0.77130956 0.83255855 0.21637201\n",
      "  0.34733095 0.         0.81559984 0.65056829 0.62113862 0.35080416\n",
      "  0.01165741 0.45345508 0.64057675 0.20234987 0.78251869 0.58743666\n",
      "  0.22281642 0.29901487 0.30776868 0.22128361 0.60450933 0.74352383\n",
      "  0.42600326 0.57131722 0.7980392  0.18170234 0.55004195 0.77502105\n",
      "  0.81913622 0.42507353 0.70154233 0.18702367]\n",
      " [0.91222682 0.27562366 0.92549239 0.4368373  0.73225974 0.42798487\n",
      "  0.97132091 0.73325604 0.36804718 0.68828215 0.47332042 0.45381342\n",
      "  0.1822363  0.83588404 1.05514388 0.79315056 0.7230051  0.26321621\n",
      "  0.81150873 0.32626039 0.26573214 0.66682802 0.7158262  0.11944818\n",
      "  0.94700017 0.92442055 0.10475409 0.86377631 0.86009954 0.23172713\n",
      "  0.60992674 0.37570182 0.66056139 0.26409473 0.55091149 0.38132598\n",
      "  0.37301257 0.66141549 0.65242154 0.72657065 0.25019643 0.67488319\n",
      "  0.79528168 0.09482163 0.35528253 0.66876374 0.65392667 1.07016465\n",
      "  0.99464489 0.78732342 0.07036764 0.72958018 0.52082629 0.86684493\n",
      "  0.10026061 0.37163701 0.40482155 0.89041404 0.59310672 0.40967893\n",
      "  0.07696216 0.84441039 0.91969006 0.51799129 0.31553139 0.49132074\n",
      "  0.93290984 0.20703928 0.83329672 0.04979992 0.08990945 0.63797448\n",
      "  0.71614656 0.81559984 0.         0.65664522 0.35037033 0.72743944\n",
      "  0.81089081 0.72454745 0.36861449 0.96498159 0.64820995 0.73969281\n",
      "  0.89473571 0.6709912  0.56992285 0.59516715 0.43790259 0.62614137\n",
      "  0.66727857 0.30910526 0.11138171 0.73533789 0.56564515 0.27131218\n",
      "  0.00379041 0.64062318 0.68410357 0.80492872]\n",
      " [0.73573002 0.92388342 0.94763275 0.53661219 0.18617793 0.86417476\n",
      "  0.65754525 0.43845148 0.75522706 1.03157783 0.3238858  0.90359715\n",
      "  0.81618418 0.81079021 0.80007092 0.91991036 0.19650918 0.39685218\n",
      "  0.58535736 0.37711014 0.40350784 0.41595728 0.79845751 0.54535235\n",
      "  0.59467446 0.80076102 0.62005681 0.6118607  0.62996456 0.43429544\n",
      "  0.63197969 0.29837882 0.51281314 0.53634449 0.45222994 0.49517743\n",
      "  0.28684411 1.01011915 0.07241281 0.35429861 0.45992396 0.42342192\n",
      "  0.76334324 0.70022776 0.30238954 0.12900124 0.97250992 0.76529728\n",
      "  0.8328664  0.89701659 0.72659369 0.12022003 0.6145826  0.60768856\n",
      "  0.72803567 0.32689321 0.43171075 0.5073355  0.23198487 0.25083871\n",
      "  0.64922911 0.54106351 0.90987209 0.71174044 0.34317917 0.17199274\n",
      "  0.85435376 0.48891973 1.12467227 0.64765917 0.59859764 0.65619599\n",
      "  0.31321804 0.65056829 0.65664522 0.         0.7776798  0.31429137\n",
      "  0.65603807 0.22029739 0.80966831 0.65126355 0.14072253 1.03192003\n",
      "  0.85815113 0.77521114 0.38232526 0.52674993 0.22283918 0.10877717\n",
      "  0.22622983 0.38287852 0.55865113 0.47032413 0.13032699 0.83558142\n",
      "  0.65993316 0.22557108 1.07091522 0.7877949 ]\n",
      " [0.70037198 0.35017101 0.62589454 0.29316274 0.76796902 0.09189731\n",
      "  0.81596382 0.63581242 0.04098381 0.33947925 0.47534233 0.12932456\n",
      "  0.27533657 0.56908253 0.85594774 0.47314285 0.75200524 0.43517109\n",
      "  0.64983886 0.40620119 0.41153451 0.57601504 0.42641977 0.41625701\n",
      "  0.81678283 0.68536093 0.45096154 0.70088879 0.6869757  0.48043141\n",
      "  0.38950828 0.48962538 0.5145889  0.24501068 0.44321587 0.29765106\n",
      "  0.55956981 0.31260519 0.74061758 0.6734476  0.33583877 0.5802821\n",
      "  0.54031267 0.26143119 0.53778146 0.72867782 0.30358882 0.89319681\n",
      "  0.76115127 0.47395639 0.3576545  0.80063013 0.30646458 0.70689943\n",
      "  0.42324073 0.60902263 0.36112669 0.78968782 0.61010155 0.54596021\n",
      "  0.42727053 0.7135894  0.63283932 0.23770827 0.47805181 0.61116191\n",
      "  0.67237971 0.3270396  0.48301305 0.303679   0.42567926 0.40694941\n",
      "  0.68376451 0.62113862 0.35037033 0.7776798  0.         0.6955836\n",
      "  0.61254876 0.74141936 0.0319889  0.81085172 0.8298176  0.38947672\n",
      "  0.62244804 0.38276914 0.50337567 0.43804349 0.5693394  0.79587974\n",
      "  0.67849231 0.40642127 0.42058989 0.62095194 0.65258662 0.162079\n",
      "  0.35190353 0.65371496 0.34376324 0.54090292]\n",
      " [0.42706583 0.94919381 0.66732204 0.403746   0.14638325 0.763684\n",
      "  0.34593534 0.13568732 0.66106647 0.85797211 0.25503855 0.80141941\n",
      "  0.83806007 0.53060548 0.48623446 0.67564494 0.12863992 0.48490589\n",
      "  0.27844559 0.40195894 0.47053749 0.14693288 0.55709895 0.6483547\n",
      "  0.28736997 0.49736432 0.73640135 0.29924476 0.31910682 0.56583182\n",
      "  0.40822171 0.37405873 0.25244694 0.50490885 0.25951197 0.40470121\n",
      "  0.44830032 0.84191504 0.24246317 0.04473982 0.47880852 0.14938565\n",
      "  0.48721697 0.73054823 0.44873394 0.18529037 0.79671056 0.45548497\n",
      "  0.52233203 0.64977982 0.79429839 0.22392358 0.43342985 0.29454974\n",
      "  0.82126241 0.52912645 0.34926333 0.20320321 0.14605736 0.37365652\n",
      "  0.75318971 0.22683968 0.62419786 0.54083773 0.44695693 0.31999046\n",
      "  0.55655084 0.52133126 0.9182656  0.69778518 0.70535358 0.42259699\n",
      "  0.01197368 0.35080416 0.72743944 0.31429137 0.6955836  0.\n",
      "  0.35823589 0.10286576 0.72502917 0.33946181 0.45362018 0.83645411\n",
      "  0.56996282 0.54713329 0.19237326 0.30260671 0.35546464 0.41766149\n",
      "  0.09398998 0.42042019 0.66397589 0.17063205 0.24774345 0.80794243\n",
      "  0.73121913 0.10962372 0.9117374  0.51295947]\n",
      " [0.10272455 0.94659537 0.31477065 0.37500688 0.5043821  0.64156889\n",
      "  0.21690014 0.22282495 0.57156861 0.62383471 0.4253112  0.66987402\n",
      "  0.84843126 0.18368121 0.24771845 0.36569841 0.48616003 0.65046141\n",
      "  0.08947059 0.54948364 0.62357472 0.24193912 0.27113167 0.78048465\n",
      "  0.24553576 0.14639209 0.86354427 0.11339746 0.0888283  0.74336333\n",
      "  0.22316847 0.57734216 0.16867874 0.54679953 0.28005857 0.43071936\n",
      "  0.68204871 0.61694891 0.58426564 0.31356062 0.58427694 0.23373824\n",
      "  0.15146894 0.77082732 0.67184977 0.53145648 0.56766922 0.28083107\n",
      "  0.19613123 0.33848723 0.86189521 0.58071641 0.31075154 0.12196942\n",
      "  0.91090903 0.77079666 0.42352003 0.27144357 0.43212488 0.60987438\n",
      "  0.86514926 0.17582073 0.2686716  0.38128208 0.63925345 0.59650402\n",
      "  0.19906673 0.62310132 0.63614454 0.7662994  0.829019   0.2070032\n",
      "  0.35446819 0.01165741 0.81089081 0.65603807 0.61254876 0.35823589\n",
      "  0.         0.46071142 0.63167295 0.21341947 0.78725867 0.57581928\n",
      "  0.21372981 0.28773894 0.30914857 0.21759021 0.60614297 0.74813246\n",
      "  0.43203879 0.5697609  0.79482978 0.18842027 0.55405748 0.76702449\n",
      "  0.81440904 0.43047175 0.69018136 0.17575291]\n",
      " [0.52954638 0.96474427 0.76802266 0.45788792 0.04368658 0.81641426\n",
      "  0.43793388 0.23790244 0.7100639  0.9335197  0.2720823  0.85519278\n",
      "  0.85315697 0.63090278 0.58185009 0.76876387 0.02592371 0.46794967\n",
      "  0.38127886 0.40070188 0.45970001 0.23833459 0.64863157 0.6329443\n",
      "  0.37440744 0.60022655 0.71875873 0.40061152 0.42123701 0.53842507\n",
      "  0.4927111  0.35290345 0.34478448 0.52879791 0.32762983 0.44405298\n",
      "  0.40556105 0.91579509 0.15175884 0.14725924 0.48452181 0.24288515\n",
      "  0.5865446  0.74092248 0.4107796  0.09521221 0.87236387 0.54512971\n",
      "  0.62423023 0.74346817 0.7937586  0.12125823 0.50495468 0.39552701\n",
      "  0.81283262 0.47759403 0.38215139 0.28703811 0.1361973  0.3368896\n",
      "  0.73996989 0.32622896 0.72564566 0.61161765 0.42255805 0.26793158\n",
      "  0.65925968 0.52457518 1.00314951 0.70096274 0.69017539 0.51032237\n",
      "  0.10631794 0.45345508 0.72454745 0.22029739 0.74141936 0.10286576\n",
      "  0.46071142 0.         0.77219582 0.43174059 0.36101525 0.91791748\n",
      "  0.67166611 0.63498658 0.25329092 0.38436992 0.3134579  0.32750562\n",
      "  0.0630862  0.41621316 0.64823386 0.27257411 0.18620798 0.83843362\n",
      "  0.72824926 0.08903932 0.98360415 0.61214718]\n",
      " [0.71730743 0.34400906 0.63009828 0.32183887 0.79910591 0.06312753\n",
      "  0.83755573 0.66256769 0.06479849 0.31968582 0.50681274 0.09868388\n",
      "  0.27809582 0.57983922 0.87326499 0.4736234  0.78303715 0.46533535\n",
      "  0.67202937 0.43797427 0.44214236 0.60359175 0.43488576 0.44042292\n",
      "  0.84030611 0.6991213  0.47084948 0.72258192 0.70788252 0.50830262\n",
      "  0.40930667 0.52135574 0.53933929 0.27668656 0.47125482 0.32875376\n",
      "  0.59030699 0.29282986 0.77251592 0.70215669 0.36687721 0.60762266\n",
      "  0.55321099 0.2771511  0.56850175 0.76030602 0.28816505 0.91250346\n",
      "  0.77509755 0.47626939 0.37047763 0.83229807 0.32897054 0.72879612\n",
      "  0.43642989 0.63842803 0.39247403 0.81530922 0.64130128 0.57759754\n",
      "  0.44555022 0.73767942 0.63953897 0.25290958 0.50886837 0.64308143\n",
      "  0.68321005 0.35690645 0.46572468 0.32338831 0.44689044 0.42511259\n",
      "  0.71324585 0.64057675 0.36861449 0.80966831 0.0319889  0.72502917\n",
      "  0.63167295 0.77219582 0.         0.83257253 0.86137269 0.37435351\n",
      "  0.6318098  0.3922258  0.53269676 0.46298468 0.60109564 0.82756104\n",
      "  0.70932651 0.43797327 0.44400335 0.64681203 0.68454297 0.15646079\n",
      "  0.36988994 0.6846784  0.31910612 0.55240375]\n",
      " [0.1826902  1.13150703 0.4758133  0.54572497 0.47041233 0.84783636\n",
      "  0.00677111 0.24784719 0.77020416 0.83615799 0.52052342 0.8779477\n",
      "  1.02798166 0.37006792 0.15291911 0.56598826 0.45669989 0.76464818\n",
      "  0.16148484 0.66663164 0.74232278 0.30833182 0.48218671 0.91413793\n",
      "  0.06615798 0.2610738  1.00139136 0.10999344 0.12695454 0.85514777\n",
      "  0.42481859 0.66962473 0.30848609 0.70619011 0.41415011 0.58748389\n",
      "  0.76234375 0.82991595 0.58051039 0.30565137 0.72146985 0.29915507\n",
      "  0.35285696 0.93921801 0.75776537 0.52294561 0.78063741 0.11735669\n",
      "  0.23980227 0.53938111 1.02297956 0.54826228 0.50442213 0.10403662\n",
      "  1.06484626 0.8487495  0.5608124  0.14918758 0.46798122 0.68615801\n",
      "  1.00934856 0.12634699 0.42512417 0.58750537 0.74004614 0.64795455\n",
      "  0.33027619 0.76372159 0.83954363 0.92474376 0.96753692 0.4142322\n",
      "  0.34300352 0.20234987 0.96498159 0.65126355 0.81085172 0.33946181\n",
      "  0.21341947 0.43174059 0.83257253 0.         0.79162801 0.78525143\n",
      "  0.37443592 0.5010136  0.40474158 0.38196178 0.67394772 0.75650581\n",
      "  0.43287011 0.68734473 0.92942228 0.23458739 0.58343489 0.95894963\n",
      "  0.96868506 0.44426319 0.90304819 0.37325039]\n",
      " [0.87068561 0.92323646 1.06967029 0.62244223 0.32628058 0.92004543\n",
      "  0.79794344 0.57384213 0.8132407  1.11151814 0.41789308 0.95873415\n",
      "  0.82167003 0.93414722 0.93982187 1.02872872 0.33716902 0.40970565\n",
      "  0.72036874 0.42450549 0.42597383 0.54545522 0.90845274 0.52983779\n",
      "  0.73536529 0.93307783 0.59087534 0.74925465 0.76637205 0.41652283\n",
      "  0.74094304 0.34099576 0.63642546 0.58487076 0.56256242 0.570413\n",
      "  0.28242683 1.08841231 0.21125163 0.49237463 0.49613918 0.55353091\n",
      "  0.88587368 0.70824186 0.3033141  0.26874137 1.0546077  0.90592756\n",
      "  0.96848948 1.0072873  0.71513148 0.25542074 0.71099391 0.74542244\n",
      "  0.70378501 0.28176789 0.51168332 0.64805212 0.35602831 0.2840452\n",
      "  0.6244581  0.67992202 1.03432314 0.80019025 0.35881043 0.23004697\n",
      "  0.98403394 0.51510197 1.21584005 0.64996387 0.57622886 0.7673514\n",
      "  0.45185438 0.78251869 0.64820995 0.14072253 0.8298176  0.45362018\n",
      "  0.78725867 0.36101525 0.86137269 0.79162801 0.         1.12036345\n",
      "  0.98400741 0.88118521 0.4986517  0.64042149 0.2622272  0.04017898\n",
      "  0.36324375 0.42340212 0.54059555 0.6044713  0.23699396 0.86227268\n",
      "  0.65101932 0.35897454 1.14432969 0.90954111]\n",
      " [0.61574774 0.68596017 0.38867456 0.49818789 0.95614321 0.32271839\n",
      "  0.78766798 0.72379581 0.37406828 0.08107856 0.70857747 0.31208653\n",
      "  0.64473448 0.42604437 0.75713761 0.23224413 0.93718953 0.7761537\n",
      "  0.65412645 0.71281189 0.74745202 0.6900251  0.30488024 0.79654328\n",
      "  0.82129304 0.5586046  0.83906952 0.68899304 0.6645545  0.84179596\n",
      "  0.42836078 0.79079091 0.58828295 0.57567813 0.59284807 0.55185184\n",
      "  0.88472899 0.09885206 0.97582535 0.79851812 0.67031188 0.6887701\n",
      "  0.433213   0.6505485  0.86435234 0.9438114  0.08618846 0.82059765\n",
      "  0.62579547 0.25505462 0.74483043 1.01320117 0.41898903 0.69744907\n",
      "  0.81078218 0.95225094 0.60870197 0.83583728 0.81527122 0.84718348\n",
      "  0.81650389 0.7405707  0.42433273 0.32076894 0.8060873  0.89031648\n",
      "  0.50885773 0.67834135 0.09835334 0.69240204 0.81228206 0.41681932\n",
      "  0.82688191 0.58743666 0.73969281 1.03192003 0.38947672 0.83645411\n",
      "  0.57581928 0.91791748 0.37435351 0.78525143 1.12036345 0.\n",
      "  0.4492797  0.2970177  0.66800832 0.53458078 0.86330151 1.08182858\n",
      "  0.86282823 0.72181255 0.80289097 0.69396505 0.90196927 0.51535185\n",
      "  0.74129128 0.84520765 0.14602307 0.41514882]\n",
      " [0.19174583 0.97249219 0.10356394 0.47245584 0.71532969 0.62036236\n",
      "  0.37465879 0.43429368 0.58389215 0.51606259 0.59274556 0.63815387\n",
      "  0.88915355 0.05946363 0.31172576 0.21703933 0.69675835 0.78709008\n",
      "  0.30144211 0.68990324 0.75759774 0.44269826 0.19714518 0.89100981\n",
      "  0.42744386 0.11700503 0.96577115 0.30876273 0.28157712 0.87751787\n",
      "  0.2930106  0.73578757 0.34770813 0.64019096 0.4372943  0.54008783\n",
      "  0.84360965 0.518019   0.78761167 0.525228   0.70226384 0.43574186\n",
      "  0.10598678 0.83516558 0.82997109 0.73721505 0.4716351  0.38086651\n",
      "  0.17693694 0.19519058 0.93344691 0.79036769 0.37611288 0.31715282\n",
      "  0.99082535 0.93054476 0.55636766 0.47441479 0.62848018 0.77733345\n",
      "  0.95963585 0.38293498 0.05505773 0.38988797 0.78782266 0.77853736\n",
      "  0.05969449 0.73447613 0.48347639 0.8461632  0.93185854 0.26260571\n",
      "  0.5654007  0.22281642 0.89473571 0.85815113 0.62244804 0.56996282\n",
      "  0.21372981 0.67166611 0.6318098  0.37443592 0.98400741 0.4492797\n",
      "  0.         0.23975166 0.48875694 0.35912666 0.77892225 0.94417455\n",
      "  0.63841728 0.70834861 0.90365825 0.39933556 0.74748669 0.78452674\n",
      "  0.89783762 0.63374687 0.58627151 0.09053214]\n",
      " [0.34855527 0.73289769 0.25450879 0.28390867 0.67546591 0.38382725\n",
      "  0.50428559 0.42865732 0.34450536 0.33735801 0.46398261 0.40488217\n",
      "  0.65142954 0.18814861 0.50238673 0.14897434 0.65620602 0.60510952\n",
      "  0.35991131 0.51788694 0.57465584 0.40025884 0.04515169 0.6830894\n",
      "  0.53050071 0.31391168 0.75061865 0.39866775 0.37600546 0.68917407\n",
      "  0.14413689 0.58136262 0.29539114 0.43088003 0.32310077 0.3523467\n",
      "  0.68676701 0.32940547 0.71231742 0.50711755 0.50800808 0.39789319\n",
      "  0.16788796 0.60424242 0.66948052 0.6731183  0.2801536  0.55464567\n",
      "  0.38956121 0.13112419 0.70377582 0.73893483 0.18088082 0.40681796\n",
      "  0.76376672 0.76755791 0.38961565 0.53964507 0.54722376 0.63216671\n",
      "  0.74014411 0.44506659 0.25271255 0.154494   0.61835028 0.65602051\n",
      "  0.29135013 0.53308925 0.37205986 0.62148764 0.7178168  0.12477036\n",
      "  0.53834732 0.29901487 0.6709912  0.77521114 0.38276914 0.54713329\n",
      "  0.28773894 0.63498658 0.3922258  0.5010136  0.88118521 0.2970177\n",
      "  0.23975166 0.         0.39537522 0.25251244 0.64139801 0.84123571\n",
      "  0.58441406 0.5330675  0.69421619 0.39789444 0.64929552 0.54483652\n",
      "  0.6738338  0.57011213 0.40272312 0.16225558]\n",
      " [0.40656577 0.77000174 0.57132121 0.21142756 0.28913793 0.57162459\n",
      "  0.41138941 0.16358937 0.46869418 0.68072336 0.11928916 0.60956928\n",
      "  0.66024326 0.43674619 0.51986476 0.53809331 0.27052143 0.360333\n",
      "  0.26939509 0.26189403 0.3375883  0.0977459  0.41651201 0.51039375\n",
      "  0.37901609 0.45371618 0.59820031 0.31602602 0.32127533 0.45167478\n",
      "  0.25129581 0.27241704 0.14335967 0.32573884 0.07517998 0.21664024\n",
      "  0.37434204 0.66267777 0.31735243 0.17193331 0.32118573 0.10640541\n",
      "  0.38810228 0.5584816  0.36555099 0.27818898 0.61966359 0.51751092\n",
      "  0.50394191 0.51487003 0.63246683 0.34580991 0.25197995 0.31660386\n",
      "  0.66826947 0.46309557 0.16903184 0.32083274 0.15196612 0.30107593\n",
      "  0.60823656 0.27962059 0.5374034  0.35835851 0.33931019 0.29055663\n",
      "  0.49557499 0.36423989 0.75596299 0.53396915 0.56472412 0.27425209\n",
      "  0.18064079 0.30776868 0.56992285 0.38232526 0.50337567 0.19237326\n",
      "  0.30914857 0.25329092 0.53269676 0.40474158 0.4986517  0.66800832\n",
      "  0.48875694 0.39537522 0.         0.14450711 0.29704557 0.45851987\n",
      "  0.19530614 0.28260329 0.52580619 0.17019152 0.26182374 0.62015551\n",
      "  0.57369582 0.17725053 0.7303139  0.41131465]\n",
      " [0.32017851 0.74959551 0.43371196 0.16426535 0.42394464 0.488978\n",
      "  0.38772362 0.20543713 0.39862892 0.55567945 0.23449644 0.52370814\n",
      "  0.64621697 0.30332929 0.45998608 0.39366246 0.40476108 0.43790093\n",
      "  0.22165164 0.3377481  0.40990335 0.15809732 0.27205882 0.5630601\n",
      "  0.38035697 0.34697919 0.64595628 0.27451177 0.26711565 0.53041418\n",
      "  0.1087348  0.37719967 0.07660535 0.33155577 0.07931766 0.21397264\n",
      "  0.48483046 0.54021633 0.46172446 0.26688087 0.36699267 0.1585843\n",
      "  0.25440647 0.56055844 0.47175625 0.42090195 0.49445731 0.47874787\n",
      "  0.40953618 0.37036298 0.64849627 0.48642558 0.13963474 0.2789971\n",
      "  0.69538166 0.57226005 0.20768497 0.35264914 0.29626962 0.41826479\n",
      "  0.64788011 0.27618213 0.40386181 0.24393668 0.43241561 0.42403422\n",
      "  0.37593679 0.40552967 0.61878672 0.55168762 0.61143209 0.12987746\n",
      "  0.29269526 0.22128361 0.59516715 0.52674993 0.43804349 0.30260671\n",
      "  0.21759021 0.38436992 0.46298468 0.38196178 0.64042149 0.53458078\n",
      "  0.35912666 0.25251244 0.14450711 0.         0.4206115  0.60024272\n",
      "  0.33214857 0.35740531 0.57733476 0.1851294  0.40453092 0.57930443\n",
      "  0.5987404  0.31760826 0.61087099 0.27550829]\n",
      " [0.70241769 0.70175751 0.85344877 0.3685922  0.30907786 0.65886703\n",
      "  0.68071102 0.42784974 0.55149696 0.85107114 0.18621533 0.69778218\n",
      "  0.59354354 0.72386414 0.80521535 0.79036783 0.30441592 0.17537852\n",
      "  0.55989814 0.16314597 0.18066883 0.37627457 0.6735924  0.33219496\n",
      "  0.63244412 0.75064839 0.41350281 0.60145638 0.61110321 0.22842839\n",
      "  0.50869572 0.07980681 0.43968804 0.32446123 0.34174853 0.31148222\n",
      "  0.09323805 0.82756514 0.21516466 0.37547796 0.24048013 0.3856925\n",
      "  0.67490512 0.47755701 0.09740529 0.23906151 0.79500962 0.79100648\n",
      "  0.80032922 0.77119776 0.5082319  0.29356751 0.46403295 0.60033361\n",
      "  0.51573469 0.17522027 0.25686327 0.55427209 0.21055595 0.02831414\n",
      "  0.43884404 0.54881756 0.82446754 0.54529244 0.12237726 0.05345342\n",
      "  0.79045973 0.26677429 0.95989124 0.42593927 0.38803791 0.53769489\n",
      "  0.34718055 0.60450933 0.43790259 0.22283918 0.5693394  0.35546464\n",
      "  0.60614297 0.3134579  0.60109564 0.67394772 0.2622272  0.86330151\n",
      "  0.77892225 0.64139801 0.29704557 0.4206115  0.         0.22684735\n",
      "  0.26985186 0.16453289 0.34660312 0.44868912 0.13292894 0.6149173\n",
      "  0.44133031 0.2476357  0.8824763  0.69609106]\n",
      " [0.83233594 0.90011623 1.02959921 0.58373185 0.29477274 0.88564977\n",
      "  0.76288072 0.535837   0.7783428  1.07392337 0.37818781 0.92450847\n",
      "  0.79688403 0.89415696 0.90382866 0.98869308 0.30441092 0.38119521\n",
      "  0.68211874 0.38985858 0.39567724 0.50623893 0.86836047 0.50891904\n",
      "  0.7012139  0.89408798 0.57395241 0.7118334  0.72854299 0.39525369\n",
      "  0.70084907 0.30632107 0.5965387  0.55087848 0.52240078 0.53269117\n",
      "  0.25581346 1.05100299 0.17624393 0.45555159 0.4638037  0.5143969\n",
      "  0.84584939 0.68254354 0.27590824 0.23378971 1.01672352 0.87141524\n",
      "  0.93029939 0.9672003  0.69407756 0.227664   0.67151699 0.70816137\n",
      "  0.68601225 0.26627637 0.47330599 0.61418564 0.31650956 0.25002704\n",
      "  0.60649541 0.64334337 0.99438095 0.7614459  0.3291487  0.191783\n",
      "  0.94460317 0.48473191 1.17707507 0.62534115 0.55737732 0.7272104\n",
      "  0.41542174 0.74352383 0.62614137 0.10877717 0.79587974 0.41766149\n",
      "  0.74813246 0.32750562 0.82756104 0.75650581 0.04017898 1.08182858\n",
      "  0.94417455 0.84123571 0.45851987 0.60024272 0.22684735 0.\n",
      "  0.3262497  0.38983902 0.52040049 0.56608473 0.19694583 0.83303577\n",
      "  0.62908078 0.32087822 1.10758392 0.86947786]\n",
      " [0.50956909 0.90379283 0.7316542  0.39619951 0.09394606 0.75396131\n",
      "  0.43939382 0.21235942 0.6473541  0.8759165  0.20940547 0.79282293\n",
      "  0.79218203 0.59420808 0.57812041 0.72184477 0.07571503 0.41421173\n",
      "  0.35924571 0.34189056 0.40388152 0.19684256 0.60078225 0.57930257\n",
      "  0.38135909 0.5756276  0.66612477 0.38610019 0.40379392 0.48909656\n",
      "  0.44088306 0.2999154  0.30065061 0.46628633 0.27039279 0.38104213\n",
      "  0.36307474 0.85763247 0.15382428 0.12931452 0.42455583 0.20309939\n",
      "  0.54822871 0.68064366 0.36576502 0.09942693 0.8148996  0.54922013\n",
      "  0.60663672 0.69717944 0.73599449 0.15571264 0.44719345 0.38218918\n",
      "  0.75731472 0.4406643  0.31906521 0.29683181 0.07488403 0.29070322\n",
      "  0.68584471 0.31716888 0.69138372 0.55314019 0.37138721 0.23004966\n",
      "  0.63099836 0.46527703 0.94970177 0.64212801 0.63660363 0.46041823\n",
      "  0.0898992  0.42600326 0.66727857 0.22622983 0.67849231 0.09398998\n",
      "  0.43203879 0.0630862  0.70932651 0.43287011 0.36324375 0.86282823\n",
      "  0.63841728 0.58441406 0.19530614 0.33214857 0.26985186 0.3262497\n",
      "  0.         0.35824209 0.59475014 0.24479082 0.15456705 0.77566742\n",
      "  0.67100867 0.02690612 0.92470288 0.57343744]\n",
      " [0.67195141 0.55395691 0.76820081 0.24915941 0.42652576 0.49686201\n",
      "  0.69399102 0.4436541  0.39090991 0.70178286 0.17103784 0.53541926\n",
      "  0.44320611 0.64984478 0.79799509 0.67963414 0.41604425 0.0807189\n",
      "  0.54702051 0.02076812 0.05507361 0.37960758 0.57115767 0.2304926\n",
      "  0.65968934 0.70431239 0.31893747 0.59612238 0.59851202 0.17360364\n",
      "  0.41868253 0.08514465 0.40327788 0.16157339 0.28987461 0.18127117\n",
      "  0.16292922 0.67720515 0.36084398 0.42344562 0.07707369 0.38858018\n",
      "  0.60238896 0.32834923 0.14262892 0.36732781 0.64836658 0.79963612\n",
      "  0.7649807  0.66402607 0.3777764  0.43324804 0.35245885 0.5973937\n",
      "  0.40099934 0.23579082 0.15201737 0.59463551 0.28400173 0.13983046\n",
      "  0.33329297 0.562042   0.74712346 0.41360279 0.08613467 0.21122427\n",
      "  0.73137653 0.11059136 0.81978625 0.28499342 0.28661327 0.44941426\n",
      "  0.40942271 0.57131722 0.30910526 0.38287852 0.40642127 0.42042019\n",
      "  0.5697609  0.41621316 0.43797327 0.68734473 0.42340212 0.72181255\n",
      "  0.70834861 0.5330675  0.28260329 0.35740531 0.16453289 0.38983902\n",
      "  0.35824209 0.         0.24611097 0.45278346 0.27047319 0.45274576\n",
      "  0.31284562 0.33154691 0.72806022 0.61969923]\n",
      " [0.89749111 0.38600253 0.94607258 0.43237315 0.65098504 0.50631706\n",
      "  0.93598643 0.68844301 0.42935256 0.75929423 0.41713246 0.53659075\n",
      "  0.29316501 0.84420198 1.03239101 0.82740319 0.64369156 0.18054684\n",
      "  0.78326423 0.26611697 0.19363532 0.62346841 0.73768905 0.01564664\n",
      "  0.90447004 0.91930339 0.07282693 0.83403872 0.83382021 0.12553326\n",
      "  0.61175304 0.29536531 0.63465626 0.26448837 0.52119454 0.36766703\n",
      "  0.2719935  0.73249692 0.56144886 0.66911099 0.21086432 0.63220916\n",
      "  0.80026288 0.19368072 0.25649922 0.58380521 0.71886455 1.03954052\n",
      "  0.9856637  0.81811808 0.17484004 0.64014698 0.52808726 0.8360562\n",
      "  0.16963387 0.26155083 0.37313682 0.84067795 0.52283386 0.31918089\n",
      "  0.09235628 0.80522499 0.93437164 0.54751292 0.22701259 0.39969239\n",
      "  0.93599332 0.1720386  0.89926654 0.13215068 0.04194583 0.64160049\n",
      "  0.65331144 0.7980392  0.11138171 0.55865113 0.42058989 0.66397589\n",
      "  0.79482978 0.64823386 0.44400335 0.92942228 0.54059555 0.80289097\n",
      "  0.90365825 0.69421619 0.52580619 0.57733476 0.34660312 0.52040049\n",
      "  0.59475014 0.24611097 0.         0.69555202 0.47836951 0.37113484\n",
      "  0.11355027 0.56885013 0.76310878 0.81312671]\n",
      " [0.26625121 0.91884371 0.49698785 0.33494835 0.31626068 0.67408216\n",
      "  0.24125082 0.03508442 0.58218209 0.72544292 0.28649072 0.70881594\n",
      "  0.81172019 0.36067618 0.35660722 0.51513552 0.29789437 0.53012801\n",
      "  0.11619647 0.43208148 0.50774522 0.07431008 0.40066994 0.68019643\n",
      "  0.21181811 0.33084831 0.76776346 0.1528712  0.16476072 0.62090135\n",
      "  0.27183517 0.43724273 0.11184722 0.48180868 0.18944119 0.36490546\n",
      "  0.533696   0.71255345 0.39811061 0.12590512 0.48898986 0.06494243\n",
      "  0.31845194 0.71628702 0.52749788 0.34413143 0.66496872 0.34827616\n",
      "  0.36432705 0.48855185 0.79564634 0.39230628 0.32437932 0.15165559\n",
      "  0.8346035  0.62147312 0.33059974 0.16886949 0.25447496 0.45806339\n",
      "  0.77679196 0.10971445 0.45357669 0.42608752 0.50665256 0.42948821\n",
      "  0.38739231 0.53166792 0.76924348 0.69704152 0.73409593 0.277925\n",
      "  0.16625741 0.18170234 0.73533789 0.47032413 0.62095194 0.17063205\n",
      "  0.18842027 0.27257411 0.64681203 0.23458739 0.6044713  0.69396505\n",
      "  0.39933556 0.39789444 0.17019152 0.1851294  0.44868912 0.56608473\n",
      "  0.24479082 0.45278346 0.69555202 0.         0.37644916 0.75622858\n",
      "  0.73908125 0.2455996  0.78482768 0.34428174]\n",
      " [0.64165997 0.82281417 0.83267675 0.40628526 0.17697484 0.73760285\n",
      "  0.59006761 0.34872694 0.62851865 0.9012551  0.19361677 0.7770872\n",
      "  0.71274527 0.69722516 0.7247815  0.79548469 0.173958   0.30262244\n",
      "  0.49250058 0.26090995 0.30179408 0.31239771 0.67449208 0.46369462\n",
      "  0.53446258 0.70038873 0.54611322 0.52645829 0.5408887  0.36135628\n",
      "  0.50719639 0.19130655 0.39978433 0.41494808 0.32768523 0.36589114\n",
      "  0.22175809 0.87983322 0.09057528 0.2777943  0.34662285 0.32095265\n",
      "  0.64890376 0.5972002  0.22945819 0.106139   0.84218863 0.70049304\n",
      "  0.74013278 0.77331476 0.6359668  0.16421979 0.48539899 0.52368455\n",
      "  0.64682872 0.2913861  0.30199387 0.45094638 0.12235279 0.15941815\n",
      "  0.57071908 0.46335513 0.79749573 0.58159999 0.25188604 0.08290999\n",
      "  0.74912607 0.3804898  0.99510241 0.54950092 0.52002709 0.53265325\n",
      "  0.24209093 0.55004195 0.56564515 0.13032699 0.65258662 0.24774345\n",
      "  0.55405748 0.18620798 0.68454297 0.58343489 0.23699396 0.90196927\n",
      "  0.74748669 0.64929552 0.26182374 0.40453092 0.13292894 0.19694583\n",
      "  0.15456705 0.27047319 0.47836951 0.37644916 0.         0.72032429\n",
      "  0.5691821  0.1393531  0.94088177 0.67254721]\n",
      " [0.85788076 0.18828565 0.78615438 0.42131622 0.85891716 0.19371055\n",
      "  0.9643763  0.76671816 0.20126422 0.45040365 0.56635317 0.20518836\n",
      "  0.13000565 0.73105087 1.01264116 0.63003865 0.84496794 0.45258584\n",
      "  0.79746858 0.45985549 0.43755676 0.7032722  0.58839087 0.37293963\n",
      "  0.95954507 0.84598641 0.37531478 0.8495352  0.83757522 0.46678843\n",
      "  0.54416869 0.53729481 0.65546246 0.31027428 0.57024036 0.4037943\n",
      "  0.58042244 0.42457614 0.8108408  0.79202424 0.37567613 0.70880135\n",
      "  0.70159069 0.17832699 0.55918059 0.80952991 0.43039706 1.04649238\n",
      "  0.92157316 0.6326797  0.24829315 0.87916704 0.4569414  0.85499332\n",
      "  0.3122243  0.60794544 0.45951125 0.92459362 0.70273143 0.58812227\n",
      "  0.34305578 0.85501212 0.79441474 0.39852085 0.50390604 0.66372567\n",
      "  0.83430585 0.34888733 0.60006481 0.23900022 0.36010948 0.563927\n",
      "  0.79596882 0.77502105 0.27131218 0.83558142 0.162079   0.80794243\n",
      "  0.76702449 0.83843362 0.15646079 0.95894963 0.86227268 0.51535185\n",
      "  0.78452674 0.54483652 0.62015551 0.57930443 0.6149173  0.83303577\n",
      "  0.77566742 0.45274576 0.37113484 0.75622858 0.72032429 0.\n",
      "  0.27114329 0.74939453 0.4317106  0.70271366]\n",
      " [0.91571669 0.27304211 0.92833995 0.44029011 0.73590718 0.42906357\n",
      "  0.97502239 0.73702348 0.36992715 0.6895737  0.47710804 0.45464282\n",
      "  0.1805149  0.83900738 1.0587212  0.79568092 0.72667552 0.26671583\n",
      "  0.81516063 0.33002071 0.26937472 0.67059265 0.71868769 0.12195699\n",
      "  0.95074908 0.92776855 0.10448346 0.86743772 0.86372849 0.23450754\n",
      "  0.61321857 0.37930226 0.66420755 0.26760958 0.55460601 0.38491933\n",
      "  0.3761284  0.66271297 0.65589698 0.7303607  0.25398641 0.67864445\n",
      "  0.79847539 0.09530385 0.35847186 0.67235307 0.65548402 1.07382197\n",
      "  0.99804521 0.78994728 0.06690417 0.73309589 0.52405374 0.8705154\n",
      "  0.0966559  0.3741559  0.40855671 0.8941937  0.59684735 0.41311541\n",
      "  0.07568423 0.84814436 0.92266976 0.52074254 0.31896551 0.49475487\n",
      "  0.93611697 0.21082964 0.83476107 0.05243339 0.09086007 0.64122749\n",
      "  0.71992776 0.81913622 0.00379041 0.65993316 0.35190353 0.73121913\n",
      "  0.81440904 0.72824926 0.36988994 0.96868506 0.65101932 0.74129128\n",
      "  0.89783762 0.6738338  0.57369582 0.5987404  0.44133031 0.62908078\n",
      "  0.67100867 0.31284562 0.11355027 0.73908125 0.5691821  0.27114329\n",
      "  0.         0.644357   0.68502515 0.80805994]\n",
      " [0.51173662 0.87691951 0.72517114 0.3734571  0.11550395 0.73002408\n",
      "  0.45087692 0.21495882 0.62303188 0.85647936 0.18304476 0.76899515\n",
      "  0.76530923 0.58787068 0.58697971 0.70954327 0.09852187 0.38835938\n",
      "  0.36139668 0.31508722 0.37755861 0.19105201 0.58813986 0.55337242\n",
      "  0.39522593 0.57538981 0.6403974  0.39142401 0.40769432 0.46436591\n",
      "  0.42613066 0.27441492 0.2916406  0.43981357 0.25236812 0.35610181\n",
      "  0.34082535 0.83777665 0.15406693 0.13864448 0.39765532 0.19820155\n",
      "  0.54116524 0.65373797 0.34262747 0.1049126  0.79560279 0.56122589\n",
      "  0.60952033 0.68528793 0.70926402 0.16895305 0.42808678 0.38805159\n",
      "  0.73094206 0.42015396 0.2936234  0.31239559 0.04797821 0.26743358\n",
      "  0.65976971 0.32543501 0.68607078 0.53327833 0.34627934 0.21045356\n",
      "  0.62883127 0.43841005 0.93312603 0.61528713 0.61066724 0.44686611\n",
      "  0.10307234 0.42507353 0.64062318 0.22557108 0.65371496 0.10962372\n",
      "  0.43047175 0.08903932 0.6846784  0.44426319 0.35897454 0.84520765\n",
      "  0.63374687 0.57011213 0.17725053 0.31760826 0.2476357  0.32087822\n",
      "  0.02690612 0.33154691 0.56885013 0.2455996  0.1393531  0.74939453\n",
      "  0.644357   0.         0.90423175 0.56608335]\n",
      " [0.74173261 0.58251102 0.53247504 0.53636973 1.0186199  0.25709749\n",
      "  0.90609527 0.81147732 0.34401933 0.07022869 0.74874232 0.23075883\n",
      "  0.56066868 0.55687543 0.88863688 0.37104642 1.00033301 0.76977968\n",
      "  0.76155354 0.72300647 0.74356056 0.76896253 0.4220775  0.75943601\n",
      "  0.93307221 0.69090872 0.78779032 0.80137726 0.77865499 0.82246562\n",
      "  0.51302634 0.80528885 0.67446395 0.57015967 0.6563096  0.5766983\n",
      "  0.88864744 0.07336693 1.02157372 0.87762899 0.66572762 0.76929698\n",
      "  0.55692383 0.59028478 0.8672561  0.99654157 0.12257092 0.94844059\n",
      "  0.76100897 0.39116282 0.67615995 1.06802604 0.47922472 0.80950328\n",
      "  0.74155656 0.94616771 0.63932156 0.93778371 0.86879334 0.86269185\n",
      "  0.76053216 0.84501905 0.56568719 0.37206973 0.80741691 0.91660257\n",
      "  0.64593816 0.66437986 0.18799563 0.64079835 0.76512612 0.50892266\n",
      "  0.90122885 0.70154233 0.68410357 1.07091522 0.34376324 0.9117374\n",
      "  0.69018136 0.98360415 0.31910612 0.90304819 1.14432969 0.14602307\n",
      "  0.58627151 0.40272312 0.7303139  0.61087099 0.8824763  1.10758392\n",
      "  0.92470288 0.72806022 0.76310878 0.78482768 0.94088177 0.4317106\n",
      "  0.68502515 0.90423175 0.         0.54194015]\n",
      " [0.20071156 0.88998068 0.16014535 0.38207577 0.65543509 0.54603503\n",
      "  0.37509131 0.37918873 0.50148563 0.47277214 0.51000468 0.56695723\n",
      "  0.80387007 0.03109866 0.34754959 0.19297057 0.63642867 0.69798169\n",
      "  0.26414392 0.60153969 0.66833301 0.37662991 0.12576658 0.80048715\n",
      "  0.41594111 0.15311768 0.8753083  0.28642222 0.25989243 0.78799321\n",
      "  0.20284551 0.64992914 0.27503118 0.54969745 0.35463893 0.4499194\n",
      "  0.75784928 0.47046512 0.71864823 0.46873032 0.61208005 0.37074443\n",
      "  0.02583647 0.7467661  0.74361547 0.67072097 0.42199472 0.40670702\n",
      "  0.22801388 0.16619108 0.84461284 0.7279292  0.28566487 0.29513732\n",
      "  0.90141861 0.84413668 0.4679054  0.44719621 0.55624626 0.69316085\n",
      "  0.86938805 0.351434   0.12864772 0.30516418 0.70010491 0.69857217\n",
      "  0.13188587 0.64403409 0.4663086  0.75652214 0.84137268 0.17230481\n",
      "  0.50700339 0.18702367 0.80492872 0.7877949  0.54090292 0.51295947\n",
      "  0.17575291 0.61214718 0.55240375 0.37325039 0.90954111 0.41514882\n",
      "  0.09053214 0.16225558 0.41131465 0.27550829 0.69609106 0.86947786\n",
      "  0.57343744 0.61969923 0.81312671 0.34428174 0.67254721 0.70271366\n",
      "  0.80805994 0.56608335 0.54194015 0.        ]]\n"
     ]
    }
   ],
   "source": [
    "Z = np.random.random((100,2))\n",
    "X,Y = np.atleast_2d(Z[:,0], Z[:,1])\n",
    "D = np.sqrt((X-X.T)**2 +(Y-Y.T)**2)\n",
    "print(D)"
   ]
  },
  {
   "cell_type": "markdown",
   "metadata": {},
   "source": [
    "#### 53. How to convert a float (32 bits) array into an integer (32 bits) in place?"
   ]
  },
  {
   "cell_type": "code",
   "execution_count": 217,
   "metadata": {},
   "outputs": [
    {
     "name": "stdout",
     "output_type": "stream",
     "text": [
      "[0. 1. 2. 3. 4. 5. 6. 7. 8. 9.]\n",
      "[0 1 2 3 4 5 6 7 8 9]\n"
     ]
    }
   ],
   "source": [
    "Z = np.arange(10, dtype=np.float32)\n",
    "print(Z)\n",
    "Z = Z.astype(np.int32, copy=False)\n",
    "print(Z)"
   ]
  },
  {
   "cell_type": "markdown",
   "metadata": {},
   "source": [
    "#### 54. How to read the following file? (★★☆)"
   ]
  },
  {
   "cell_type": "markdown",
   "metadata": {},
   "source": [
    "```\n",
    "1, 2, 3, 4, 5\n",
    "6,  ,  , 7, 8\n",
    " ,  , 9,10,11\n",
    "```"
   ]
  },
  {
   "cell_type": "code",
   "execution_count": 224,
   "metadata": {},
   "outputs": [
    {
     "name": "stdout",
     "output_type": "stream",
     "text": [
      "[[ 1  2  3  4  5]\n",
      " [ 6  0  0  7  8]\n",
      " [ 0  0  9 10 11]]\n"
     ]
    }
   ],
   "source": [
    "from io import StringIO\n",
    "# Fake file\n",
    "s = StringIO(\"\"\"1, 2, 3, 4, 5\\n\n",
    "6, , , 7, 8\\n\n",
    ", , 9,10,11\\n\"\"\")\n",
    "Z = np.genfromtxt(s,delimiter=\",\",dtype=np.int,filling_values=0)\n",
    "print(Z)"
   ]
  },
  {
   "cell_type": "markdown",
   "metadata": {},
   "source": [
    "#### 55. What is the equivalent of enumerate for numpy arrays? (★★☆)"
   ]
  },
  {
   "cell_type": "code",
   "execution_count": 225,
   "metadata": {},
   "outputs": [
    {
     "name": "stdout",
     "output_type": "stream",
     "text": [
      "(0, 0) 0\n",
      "(0, 1) 1\n",
      "(0, 2) 2\n",
      "(1, 0) 3\n",
      "(1, 1) 4\n",
      "(1, 2) 5\n",
      "(2, 0) 6\n",
      "(2, 1) 7\n",
      "(2, 2) 8\n"
     ]
    }
   ],
   "source": [
    "Z = np.arange(9).reshape(3,3)\n",
    "for index, value in np.ndenumerate(Z):\n",
    "    print(index, value)"
   ]
  },
  {
   "cell_type": "markdown",
   "metadata": {},
   "source": [
    "#### 56. Generate a generic 2D Gaussian-like array (★★☆)"
   ]
  },
  {
   "cell_type": "code",
   "execution_count": 226,
   "metadata": {},
   "outputs": [
    {
     "data": {
      "text/plain": [
       "array([[0., 0., 1., 1., 1., 1., 1., 1., 0., 0.],\n",
       "       [0., 1., 1., 1., 1., 1., 1., 1., 1., 0.],\n",
       "       [1., 1., 1., 1., 1., 1., 1., 1., 1., 1.],\n",
       "       [1., 1., 1., 1., 1., 1., 1., 1., 1., 1.],\n",
       "       [1., 1., 1., 1., 1., 1., 1., 1., 1., 1.],\n",
       "       [1., 1., 1., 1., 1., 1., 1., 1., 1., 1.],\n",
       "       [1., 1., 1., 1., 1., 1., 1., 1., 1., 1.],\n",
       "       [1., 1., 1., 1., 1., 1., 1., 1., 1., 1.],\n",
       "       [0., 1., 1., 1., 1., 1., 1., 1., 1., 0.],\n",
       "       [0., 0., 1., 1., 1., 1., 1., 1., 0., 0.]])"
      ]
     },
     "execution_count": 226,
     "metadata": {},
     "output_type": "execute_result"
    }
   ],
   "source": [
    "X, Y = np.meshgrid(np.linspace(-1,1,10), np.linspace(-1,1,10))\n",
    "D = np.sqrt(X*X+Y*Y)\n",
    "sigma, mu = 1.0, 0.0\n",
    "G = np.exp(-( (D-mu)**2 / ( 2.0 * sigma**2 ) ) )\n",
    "rint(G)"
   ]
  },
  {
   "cell_type": "markdown",
   "metadata": {},
   "source": [
    "#### 57. How to randomly place p elements in a 2D array? (★★☆)"
   ]
  },
  {
   "cell_type": "code",
   "execution_count": 230,
   "metadata": {},
   "outputs": [
    {
     "name": "stdout",
     "output_type": "stream",
     "text": [
      "[[0. 0. 0. 1. 0. 0. 0. 0. 0. 0.]\n",
      " [0. 0. 0. 0. 0. 0. 0. 0. 1. 0.]\n",
      " [0. 0. 0. 1. 0. 0. 0. 0. 1. 0.]\n",
      " [0. 0. 0. 0. 0. 0. 0. 0. 0. 0.]\n",
      " [0. 0. 0. 0. 0. 0. 0. 0. 0. 0.]\n",
      " [1. 1. 0. 0. 0. 0. 0. 0. 0. 0.]\n",
      " [0. 0. 0. 0. 0. 0. 0. 0. 0. 0.]\n",
      " [0. 0. 0. 0. 0. 1. 0. 1. 0. 0.]\n",
      " [0. 0. 0. 0. 0. 0. 0. 0. 0. 0.]\n",
      " [0. 0. 0. 0. 0. 0. 0. 0. 0. 0.]]\n"
     ]
    }
   ],
   "source": [
    "n = 10\n",
    "p = 8\n",
    "Z = np.zeros((n,n))\n",
    "np.put(Z, np.random.choice(range(n*n), p, replace=False),1)\n",
    "print(Z)"
   ]
  },
  {
   "cell_type": "markdown",
   "metadata": {},
   "source": [
    "#### 58. Subtract the mean of each row of a matrix (★★☆)"
   ]
  },
  {
   "cell_type": "code",
   "execution_count": 233,
   "metadata": {},
   "outputs": [
    {
     "data": {
      "text/plain": [
       "array([0.47157598, 0.55021841, 0.61963668, 0.33373611, 0.41828314])"
      ]
     },
     "execution_count": 233,
     "metadata": {},
     "output_type": "execute_result"
    }
   ],
   "source": [
    "X = np.random.rand(5, 10)\n",
    "X.mean(1)"
   ]
  },
  {
   "cell_type": "markdown",
   "metadata": {},
   "source": [
    "#### 59. How to sort an array by the nth column? (★★☆)"
   ]
  },
  {
   "cell_type": "code",
   "execution_count": 235,
   "metadata": {},
   "outputs": [
    {
     "name": "stdout",
     "output_type": "stream",
     "text": [
      "[[0 2 0]\n",
      " [5 8 7]\n",
      " [5 5 6]]\n",
      "[[0 2 0]\n",
      " [5 5 6]\n",
      " [5 8 7]]\n"
     ]
    }
   ],
   "source": [
    "Z = np.random.randint(0,10,(3,3))\n",
    "print(Z)\n",
    "print(Z[Z[:,2].argsort()])"
   ]
  },
  {
   "cell_type": "markdown",
   "metadata": {},
   "source": [
    "#### 60. How to tell if a given 2D array has null columns? (★★☆)"
   ]
  },
  {
   "cell_type": "code",
   "execution_count": 241,
   "metadata": {},
   "outputs": [
    {
     "name": "stdout",
     "output_type": "stream",
     "text": [
      "[[1 0 1 2 0 0 0 2 0 2]\n",
      " [2 2 0 2 1 0 1 1 0 0]\n",
      " [2 2 2 1 1 2 1 2 1 1]\n",
      " [2 0 0 2 0 1 2 0 2 2]]\n",
      "False\n"
     ]
    }
   ],
   "source": [
    "nums = np.random.randint(0,3,(4,10))\n",
    "print(nums)\n",
    "print((~nums.any(axis=0)).any())"
   ]
  },
  {
   "cell_type": "markdown",
   "metadata": {},
   "source": [
    "#### 61. Find the nearest value from a given value in an array (★★☆)"
   ]
  },
  {
   "cell_type": "code",
   "execution_count": 248,
   "metadata": {},
   "outputs": [
    {
     "name": "stdout",
     "output_type": "stream",
     "text": [
      "4\n"
     ]
    }
   ],
   "source": [
    "Z = np.random.randint(0,7,(2,5))\n",
    "z=3.6\n",
    "m = Z.flat[np.abs(Z - z).argmin()]\n",
    "print(m)"
   ]
  },
  {
   "cell_type": "markdown",
   "metadata": {},
   "source": [
    "#### 62. Considering two arrays with shape (1,3) and (3,1), how to compute their sum using an iterator? (★★☆)"
   ]
  },
  {
   "cell_type": "code",
   "execution_count": 255,
   "metadata": {},
   "outputs": [
    {
     "name": "stdout",
     "output_type": "stream",
     "text": [
      "[[0]\n",
      " [1]\n",
      " [2]]\n",
      "[[0 1 2]]\n",
      "[[0 1 2]\n",
      " [1 2 3]\n",
      " [2 3 4]]\n",
      "[[0 1 2]\n",
      " [1 2 3]\n",
      " [2 3 4]]\n",
      "[[0 1 2]\n",
      " [1 2 3]\n",
      " [2 3 4]]\n",
      "[[0 1 2]\n",
      " [1 2 3]\n",
      " [2 3 4]]\n",
      "[[0 1 2]\n",
      " [1 2 3]\n",
      " [2 3 4]]\n",
      "[[0 1 2]\n",
      " [1 2 3]\n",
      " [2 3 4]]\n",
      "[[0 1 2]\n",
      " [1 2 3]\n",
      " [2 3 4]]\n",
      "[[0 1 2]\n",
      " [1 2 3]\n",
      " [2 3 4]]\n",
      "[[0 1 2]\n",
      " [1 2 3]\n",
      " [2 3 4]]\n"
     ]
    }
   ],
   "source": [
    "A = np.arange(3).reshape(3,1)\n",
    "B = np.arange(3).reshape(1,3)\n",
    "print(A)\n",
    "print(B)\n",
    "addop = np.add\n",
    "it = np.nditer([A,B,None])\n",
    "with it:\n",
    "    for (a, b, c) in it:\n",
    "        addop(a, b, out=c)\n",
    "        print(it.operands[2])"
   ]
  },
  {
   "cell_type": "markdown",
   "metadata": {},
   "source": [
    "#### 63. Create an array class that has a name attribute (★★☆)"
   ]
  },
  {
   "cell_type": "code",
   "execution_count": 256,
   "metadata": {},
   "outputs": [],
   "source": [
    "class NamedArray(np.ndarray):\n",
    "    def __name__(self):\n",
    "        obj = np.asarray(array).view(self)\n",
    "        obj.name = name\n",
    "        return obj"
   ]
  },
  {
   "cell_type": "markdown",
   "metadata": {},
   "source": [
    "#### 64. Consider a given vector, how to add 1 to each element indexed by a second vector (be careful with repeated indices)? (★★★)"
   ]
  },
  {
   "cell_type": "code",
   "execution_count": 274,
   "metadata": {},
   "outputs": [
    {
     "name": "stdout",
     "output_type": "stream",
     "text": [
      "[4. 2. 2. 1. 1.]\n"
     ]
    }
   ],
   "source": [
    "Z = np.ones(5)\n",
    "I = [0,1,0,2,0]\n",
    "np.add.at(Z, I, 1)\n",
    "print(Z)"
   ]
  },
  {
   "cell_type": "markdown",
   "metadata": {},
   "source": [
    "#### 65. How to accumulate elements of a vector (X) to an array (F) based on an index list (I)? (★★★)"
   ]
  },
  {
   "cell_type": "code",
   "execution_count": 266,
   "metadata": {},
   "outputs": [
    {
     "name": "stdout",
     "output_type": "stream",
     "text": [
      "[0. 1. 0. 9. 3. 7. 1.]\n"
     ]
    }
   ],
   "source": [
    "X = [1,5,3,4,5,6]\n",
    "I = [1,3,9,3,4,1]\n",
    "F = np.bincount(X,I)\n",
    "print(F)"
   ]
  },
  {
   "cell_type": "markdown",
   "metadata": {},
   "source": [
    "#### 66. Considering a (w,h,3) image of (dtype=ubyte), compute the number of unique colors (★★★)"
   ]
  },
  {
   "cell_type": "code",
   "execution_count": 272,
   "metadata": {},
   "outputs": [
    {
     "name": "stdout",
     "output_type": "stream",
     "text": [
      "[0 1]\n"
     ]
    }
   ],
   "source": [
    "w,h = 16,16\n",
    "I = np.random.randint(0,2,(h,w,3)).astype(np.ubyte)\n",
    "F = I[...,0]*256*256 + I[...,1]*256 +I[...,2]\n",
    "n = len(np.unique(F))\n",
    "print(np.unique(I))"
   ]
  },
  {
   "cell_type": "markdown",
   "metadata": {},
   "source": [
    "#### 67. Considering a four dimensions array, how to get sum over the last two axis at once? (★★★)"
   ]
  },
  {
   "cell_type": "code",
   "execution_count": 277,
   "metadata": {},
   "outputs": [
    {
     "name": "stdout",
     "output_type": "stream",
     "text": [
      "[[58 45 42 44]\n",
      " [40 45 69 62]\n",
      " [56 42 60 44]]\n"
     ]
    }
   ],
   "source": [
    "A = np.random.randint(0,10,(3,4,3,4))\n",
    "sum = A.sum(axis=(-2,-1))\n",
    "print(sum)"
   ]
  },
  {
   "cell_type": "markdown",
   "metadata": {},
   "source": [
    "#### 68. Considering a one-dimensional vector D, how to compute means of subsets of D using a vector S of same size describing subset  indices? (★★★)"
   ]
  },
  {
   "cell_type": "code",
   "execution_count": 286,
   "metadata": {},
   "outputs": [
    {
     "name": "stdout",
     "output_type": "stream",
     "text": [
      "1    3.5\n",
      "3    4.5\n",
      "4    5.0\n",
      "6    3.0\n",
      "dtype: float64\n"
     ]
    }
   ],
   "source": [
    "D = [1,5,3,4,5,6]\n",
    "S = [1,3,6,3,4,1]\n",
    "\n",
    "import pandas as pd\n",
    "print(pd.Series(D).groupby(S).mean())"
   ]
  },
  {
   "cell_type": "markdown",
   "metadata": {},
   "source": [
    "#### 69. How to get the diagonal of a dot product? (★★★)"
   ]
  },
  {
   "cell_type": "code",
   "execution_count": 287,
   "metadata": {},
   "outputs": [
    {
     "data": {
      "text/plain": [
       "array([0.48216947, 1.20201477, 1.23196853, 1.0608389 , 0.76993892])"
      ]
     },
     "execution_count": 287,
     "metadata": {},
     "output_type": "execute_result"
    }
   ],
   "source": [
    "A = np.random.uniform(0,1,(5,5))\n",
    "B = np.random.uniform(0,1,(5,5))\n",
    "np.diag(np.dot(A, B))"
   ]
  },
  {
   "cell_type": "markdown",
   "metadata": {},
   "source": [
    "#### 70. Consider the vector \\[1, 2, 3, 4, 5\\], how to build a new vector with 3 consecutive zeros interleaved between each value? (★★★)"
   ]
  },
  {
   "cell_type": "code",
   "execution_count": 291,
   "metadata": {},
   "outputs": [
    {
     "name": "stdout",
     "output_type": "stream",
     "text": [
      "[1. 0. 0. 0. 2. 0. 0. 0. 3. 0. 0. 0. 4. 0. 0. 0. 5.]\n"
     ]
    }
   ],
   "source": [
    "Z = np.array([1,2,3,4,5])\n",
    "nz = 3\n",
    "Z0 = np.zeros(len(Z) + (len(Z)-1)*(nz))\n",
    "Z0[::nz+1] = Z\n",
    "print(Z0)"
   ]
  },
  {
   "cell_type": "markdown",
   "metadata": {},
   "source": [
    "#### 71. Consider an array of dimension (5,5,3), how to mulitply it by an array with dimensions (5,5)? (★★★)"
   ]
  },
  {
   "cell_type": "code",
   "execution_count": 292,
   "metadata": {},
   "outputs": [
    {
     "name": "stdout",
     "output_type": "stream",
     "text": [
      "[[[2. 2. 2.]\n",
      "  [2. 2. 2.]\n",
      "  [2. 2. 2.]\n",
      "  [2. 2. 2.]\n",
      "  [2. 2. 2.]]\n",
      "\n",
      " [[2. 2. 2.]\n",
      "  [2. 2. 2.]\n",
      "  [2. 2. 2.]\n",
      "  [2. 2. 2.]\n",
      "  [2. 2. 2.]]\n",
      "\n",
      " [[2. 2. 2.]\n",
      "  [2. 2. 2.]\n",
      "  [2. 2. 2.]\n",
      "  [2. 2. 2.]\n",
      "  [2. 2. 2.]]\n",
      "\n",
      " [[2. 2. 2.]\n",
      "  [2. 2. 2.]\n",
      "  [2. 2. 2.]\n",
      "  [2. 2. 2.]\n",
      "  [2. 2. 2.]]\n",
      "\n",
      " [[2. 2. 2.]\n",
      "  [2. 2. 2.]\n",
      "  [2. 2. 2.]\n",
      "  [2. 2. 2.]\n",
      "  [2. 2. 2.]]]\n"
     ]
    }
   ],
   "source": [
    "A = np.ones((5,5,3))\n",
    "B = 2*np.ones((5,5))\n",
    "print(A * B[:,:,None])"
   ]
  },
  {
   "cell_type": "markdown",
   "metadata": {},
   "source": [
    "#### 72. How to swap two rows of an array? (★★★)"
   ]
  },
  {
   "cell_type": "code",
   "execution_count": 5,
   "metadata": {},
   "outputs": [
    {
     "data": {
      "text/plain": [
       "array([[9, 9, 3],\n",
       "       [5, 7, 0],\n",
       "       [4, 3, 1],\n",
       "       [8, 2, 4]])"
      ]
     },
     "execution_count": 5,
     "metadata": {},
     "output_type": "execute_result"
    }
   ],
   "source": [
    "a = np.array([[4,3,1], [5,7,0], [9,9,3], [8,2,4]])\n",
    "a[[0, 2]] = a[[2, 0]]\n",
    "a"
   ]
  },
  {
   "cell_type": "markdown",
   "metadata": {},
   "source": [
    "#### 73. Consider a set of 10 triplets describing 10 triangles (with shared vertices), find the set of unique line segments composing all the  triangles (★★★)"
   ]
  },
  {
   "cell_type": "code",
   "execution_count": 293,
   "metadata": {},
   "outputs": [
    {
     "name": "stdout",
     "output_type": "stream",
     "text": [
      "[( 1, 51) ( 1, 95) ( 4, 58) ( 4, 81) ( 5, 44) ( 5, 47) ( 5, 89) ( 5, 91)\n",
      " ( 9, 24) ( 9, 81) ( 9, 93) ( 9, 99) (24, 81) (26, 94) (31, 48) (31, 73)\n",
      " (36, 42) (36, 65) (36, 66) (36, 75) (42, 66) (44, 47) (48, 73) (51, 95)\n",
      " (58, 81) (65, 75) (89, 91) (93, 99) (94, 94)]\n"
     ]
    }
   ],
   "source": [
    "faces = np.random.randint(0,100,(10,3))\n",
    "F = np.roll(faces.repeat(2,axis=1),-1,axis=1)\n",
    "F = F.reshape(len(F)*3,2)\n",
    "F = np.sort(F,axis=1)\n",
    "G = F.view( dtype=[('p0',F.dtype),('p1',F.dtype)] )\n",
    "G = np.unique(G)\n",
    "print(G)"
   ]
  },
  {
   "cell_type": "markdown",
   "metadata": {},
   "source": [
    "#### 74. Given an array C that is a bincount, how to produce an array A such that np.bincount(A) == C? (★★★)"
   ]
  },
  {
   "cell_type": "code",
   "execution_count": 295,
   "metadata": {},
   "outputs": [
    {
     "name": "stdout",
     "output_type": "stream",
     "text": [
      "[1 1 2 3 4 4 6]\n"
     ]
    }
   ],
   "source": [
    "C = np.bincount([1,1,2,3,4,4,6])\n",
    "A = np.repeat(np.arange(len(C)), C)\n",
    "print(A)"
   ]
  },
  {
   "cell_type": "markdown",
   "metadata": {},
   "source": [
    "#### 75. How to compute averages using a sliding window over an array? (★★★)"
   ]
  },
  {
   "cell_type": "code",
   "execution_count": 238,
   "metadata": {},
   "outputs": [
    {
     "name": "stdout",
     "output_type": "stream",
     "text": [
      "[2. 3. 4. 5. 6. 7. 8.]\n"
     ]
    }
   ],
   "source": [
    "def moving_average(a, n=3) :\n",
    "    ret = np.cumsum(a, dtype=float)\n",
    "    ret[n:] = ret[n:] - ret[:-n]\n",
    "    return ret[n - 1:] / n\n",
    "Z = np.arange(1,10)\n",
    "print(moving_average(Z, n=3))"
   ]
  },
  {
   "cell_type": "markdown",
   "metadata": {},
   "source": [
    "#### 76. Consider a one-dimensional array Z, build a two-dimensional array whose first row is (Z\\[0\\],Z\\[1\\],Z\\[2\\]) and each subsequent row is  shifted by 1 (last row should be (Z\\[-3\\],Z\\[-2\\],Z\\[-1\\]) (★★★)"
   ]
  },
  {
   "cell_type": "code",
   "execution_count": 296,
   "metadata": {},
   "outputs": [
    {
     "name": "stdout",
     "output_type": "stream",
     "text": [
      "[[0 1 2]\n",
      " [1 2 3]\n",
      " [2 3 4]\n",
      " [3 4 5]\n",
      " [4 5 6]\n",
      " [5 6 7]\n",
      " [6 7 8]\n",
      " [7 8 9]]\n"
     ]
    }
   ],
   "source": [
    "from numpy.lib import stride_tricks\n",
    "def rolling(a, window):\n",
    "    shape = (a.size - window + 1, window)\n",
    "    strides = (a.itemsize, a.itemsize)\n",
    "    return stride_tricks.as_strided(a, shape=shape, strides=strides)\n",
    "\n",
    "Z = rolling(np.arange(10), 3)\n",
    "print(Z)"
   ]
  },
  {
   "cell_type": "markdown",
   "metadata": {},
   "source": [
    "#### 77. How to negate a boolean, or to change the sign of a float inplace? (★★★)"
   ]
  },
  {
   "cell_type": "code",
   "execution_count": 300,
   "metadata": {},
   "outputs": [
    {
     "name": "stdout",
     "output_type": "stream",
     "text": [
      "[1 0 0 1 1 0 0 1 1 0]\n",
      "[ 0.27831125  0.64907447 -0.39967657  0.94802728  0.84341838  0.25515705\n",
      "  0.18540483 -0.53742312 -0.02950874  0.77130362]\n"
     ]
    }
   ],
   "source": [
    "Z = np.random.randint(0,2,10)\n",
    "print(np.logical_not(Z, out=Z))\n",
    "Z = np.random.uniform(-1.0,1.0,10)\n",
    "print(np.negative(Z, out=Z))"
   ]
  },
  {
   "cell_type": "markdown",
   "metadata": {},
   "source": [
    "#### 78. Consider 2 sets of points P0,P1 describing lines (2d) and a point p, how to compute distance from p to each line i  (P0\\[i\\],P1\\[i\\])? (★★★)"
   ]
  },
  {
   "cell_type": "code",
   "execution_count": 301,
   "metadata": {},
   "outputs": [
    {
     "name": "stdout",
     "output_type": "stream",
     "text": [
      "[1.389178   1.15866005 8.06328223 1.02964199 5.95412951 1.00785751\n",
      " 7.24273252 8.25994353 4.78132635 9.98798917]\n"
     ]
    }
   ],
   "source": [
    "def distance(P0, P1, p):\n",
    "    T = P1 - P0\n",
    "    L = (T**2).sum(axis=1)\n",
    "    U = -((P0[:,0]-p[...,0])*T[:,0] + (P0[:,1]-p[...,1])*T[:,1]) / L\n",
    "    U = U.reshape(len(U),1)\n",
    "    D = P0 + U*T - p\n",
    "    return np.sqrt((D**2).sum(axis=1))\n",
    "\n",
    "P0 = np.random.uniform(-10,10,(10,2))\n",
    "P1 = np.random.uniform(-10,10,(10,2))\n",
    "p = np.random.uniform(-10,10,( 1,2))\n",
    "print(distance(P0, P1, p))"
   ]
  },
  {
   "cell_type": "markdown",
   "metadata": {},
   "source": [
    "#### 79. Consider 2 sets of points P0,P1 describing lines (2d) and a set of points P, how to compute distance from each point j (P\\[j\\]) to each line i (P0\\[i\\],P1\\[i\\])? (★★★)"
   ]
  },
  {
   "cell_type": "code",
   "execution_count": 302,
   "metadata": {},
   "outputs": [
    {
     "name": "stdout",
     "output_type": "stream",
     "text": [
      "[[ 1.92762191  2.01831962 10.93802259 13.3833025   1.26236372  5.13733347\n",
      "  10.10540701  8.16199491  5.88913325  2.03988797]\n",
      " [ 4.6185138   2.55359291  6.47751919 14.72872663  0.08903455  8.37821005\n",
      "  12.25642612 10.17010331  5.14620066  2.78896122]\n",
      " [ 1.64477134  4.56925974  4.28484824  5.15509315 10.00514359  3.87971408\n",
      "   4.51753529  2.07596944  7.54900189 10.90569596]\n",
      " [11.57703324  6.26323914  2.08442459  2.88648615 17.76624827  6.62888382\n",
      "   4.72641714  6.9688945  11.69323686  2.32308405]\n",
      " [ 1.08970425  2.73766987 11.15040748 12.60588835  2.02753511  4.29758834\n",
      "   9.28356911  7.34638149  5.31783899  2.46647931]\n",
      " [ 3.91790294  8.1758902   3.74207006 10.91103629  4.26185527  9.1733166\n",
      "  10.22578466  7.80642324  2.42423706 11.95011777]\n",
      " [ 3.35138824  7.15090981  2.69866592 10.65957009  4.47342391  8.47598899\n",
      "   9.78641098  7.40053077  2.19665352 10.8379894 ]\n",
      " [ 5.84618913  8.00061922 11.75324314  5.81886799  8.75381002  2.48707911\n",
      "   2.33150838  0.4082633   0.1991177   4.94011506]\n",
      " [ 3.07656725  8.27702567  4.90439018  9.71136057  5.49757724  8.52823523\n",
      "   9.22284921  6.76498727  3.9362513  12.78102044]\n",
      " [ 6.23817219  3.09705136  7.48197528 16.66253328  1.87083143  9.79763558\n",
      "  14.02784122 11.97551944  7.2157657   2.31822759]]\n"
     ]
    }
   ],
   "source": [
    "P0 = np.random.uniform(-10, 10, (10,2))\n",
    "P1 = np.random.uniform(-10,10,(10,2))\n",
    "p = np.random.uniform(-10, 10, (10,2))\n",
    "print(np.array([distance(P0,P1,p_i) for p_i in p]))"
   ]
  },
  {
   "cell_type": "markdown",
   "metadata": {},
   "source": [
    "#### 80. Consider an arbitrary array, write a function that extract a subpart with a fixed shape and centered on a given element (pad with a `fill` value when necessary) (★★★)"
   ]
  },
  {
   "cell_type": "code",
   "execution_count": 334,
   "metadata": {},
   "outputs": [
    {
     "data": {
      "text/plain": [
       "array([[7., 3.],\n",
       "       [6., 6.]])"
      ]
     },
     "execution_count": 334,
     "metadata": {},
     "output_type": "execute_result"
    }
   ],
   "source": [
    "array = np.random.randint(1,8,(4,4))\n",
    "shape = (2,2)\n",
    "array_0 = np.zeros((array.shape[0]+2*shape[0],array.shape[1]+2*shape[1]))\n",
    "array_0[shape[0]:-shape[0],shape[0]:-shape[0]]=array\n",
    "centered = (2,3)\n",
    "array_0[int(centered[0]+shape[0]/2):int(centered[0]+shape[0]*1.5),int(centered[1]+shape[1]/2):int(centered[1]+shape[1]*1.5)]"
   ]
  },
  {
   "cell_type": "markdown",
   "metadata": {},
   "source": [
    "#### 81. Consider an array Z = \\[1,2,3,4,5,6,7,8,9,10,11,12,13,14\\], how to generate an array R = \\[\\[1,2,3,4\\], \\[2,3,4,5\\], \\[3,4,5,6\\], ..., \\[11,12,13,14\\]\\]? (★★★)"
   ]
  },
  {
   "cell_type": "code",
   "execution_count": 342,
   "metadata": {},
   "outputs": [
    {
     "name": "stdout",
     "output_type": "stream",
     "text": [
      "[[ 1  2  3  4]\n",
      " [ 2  3  4  5]\n",
      " [ 3  4  5  6]\n",
      " [ 4  5  6  7]\n",
      " [ 5  6  7  8]\n",
      " [ 6  7  8  9]\n",
      " [ 7  8  9 10]\n",
      " [ 8  9 10 11]\n",
      " [ 9 10 11 12]\n",
      " [10 11 12 13]\n",
      " [11 12 13 14]]\n"
     ]
    }
   ],
   "source": [
    "Z = [1,2,3,4,5,6,7,8,9,10,11,12,13,14]\n",
    "R = stride_tricks.as_strided(Z,(11,4),(4,4))\n",
    "print(R)"
   ]
  },
  {
   "cell_type": "markdown",
   "metadata": {},
   "source": [
    "#### 82. Compute a matrix rank (★★★)"
   ]
  },
  {
   "cell_type": "code",
   "execution_count": 15,
   "metadata": {},
   "outputs": [
    {
     "data": {
      "text/plain": [
       "2"
      ]
     },
     "execution_count": 15,
     "metadata": {},
     "output_type": "execute_result"
    }
   ],
   "source": [
    "import numpy as np\n",
    "array = np.random.randint(2,6,(2,4))\n",
    "np.linalg.matrix_rank(array)"
   ]
  },
  {
   "cell_type": "markdown",
   "metadata": {},
   "source": [
    "#### 83. How to find the most frequent value in an array?"
   ]
  },
  {
   "cell_type": "code",
   "execution_count": 18,
   "metadata": {},
   "outputs": [
    {
     "name": "stdout",
     "output_type": "stream",
     "text": [
      "[2 3 4] [2 2 4]\n"
     ]
    }
   ],
   "source": [
    "a = np.random.randint(2,6,(2,4))\n",
    "unique_elements, counts_elements = np.unique(a, return_counts=True)\n",
    "print(unique_elements,counts_elements)"
   ]
  },
  {
   "cell_type": "markdown",
   "metadata": {},
   "source": [
    "#### 84. Extract all the contiguous 3x3 blocks from a random 10x10 matrix (★★★)"
   ]
  },
  {
   "cell_type": "code",
   "execution_count": null,
   "metadata": {},
   "outputs": [],
   "source": []
  },
  {
   "cell_type": "markdown",
   "metadata": {},
   "source": [
    "#### 85. Create a 2D array subclass such that Z\\[i,j\\] == Z\\[j,i\\] (★★★)"
   ]
  },
  {
   "cell_type": "code",
   "execution_count": null,
   "metadata": {},
   "outputs": [],
   "source": []
  },
  {
   "cell_type": "markdown",
   "metadata": {},
   "source": [
    "#### 86. Consider a set of p matrices wich shape (n,n) and a set of p vectors with shape (n,1). How to compute the sum of of the p matrix products at once? (result has shape (n,1)) (★★★)"
   ]
  },
  {
   "cell_type": "code",
   "execution_count": null,
   "metadata": {},
   "outputs": [],
   "source": []
  },
  {
   "cell_type": "markdown",
   "metadata": {},
   "source": [
    "#### 87. Consider a 16x16 array, how to get the block-sum (block size is 4x4)? (★★★)"
   ]
  },
  {
   "cell_type": "code",
   "execution_count": null,
   "metadata": {},
   "outputs": [],
   "source": []
  },
  {
   "cell_type": "markdown",
   "metadata": {},
   "source": [
    "#### 88. How to implement the Game of Life using numpy arrays? (★★★)"
   ]
  },
  {
   "cell_type": "code",
   "execution_count": null,
   "metadata": {},
   "outputs": [],
   "source": []
  },
  {
   "cell_type": "markdown",
   "metadata": {},
   "source": [
    "#### 89. How to get the n largest values of an array (★★★)"
   ]
  },
  {
   "cell_type": "code",
   "execution_count": null,
   "metadata": {},
   "outputs": [],
   "source": []
  },
  {
   "cell_type": "markdown",
   "metadata": {},
   "source": [
    "#### 90. Given an arbitrary number of vectors, build the cartesian product (every combinations of every item) (★★★)"
   ]
  },
  {
   "cell_type": "code",
   "execution_count": null,
   "metadata": {
    "scrolled": true
   },
   "outputs": [],
   "source": []
  },
  {
   "cell_type": "markdown",
   "metadata": {},
   "source": [
    "#### 91. How to create a record array from a regular array? (★★★)"
   ]
  },
  {
   "cell_type": "code",
   "execution_count": null,
   "metadata": {},
   "outputs": [],
   "source": []
  },
  {
   "cell_type": "markdown",
   "metadata": {},
   "source": [
    "#### 92. Consider a large vector Z, compute Z to the power of 3 using 3 different methods (★★★)"
   ]
  },
  {
   "cell_type": "code",
   "execution_count": null,
   "metadata": {},
   "outputs": [],
   "source": []
  },
  {
   "cell_type": "markdown",
   "metadata": {},
   "source": [
    "#### 93. Consider two arrays A and B of shape (8,3) and (2,2). How to find rows of A that contain elements of each row of B regardless of the order of the elements in B? (★★★)"
   ]
  },
  {
   "cell_type": "code",
   "execution_count": null,
   "metadata": {},
   "outputs": [],
   "source": []
  },
  {
   "cell_type": "markdown",
   "metadata": {},
   "source": [
    "#### 94. Considering a 10x3 matrix, extract rows with unequal values (e.g. \\[2,2,3\\]) (★★★)"
   ]
  },
  {
   "cell_type": "code",
   "execution_count": null,
   "metadata": {},
   "outputs": [],
   "source": []
  },
  {
   "cell_type": "markdown",
   "metadata": {},
   "source": [
    "#### 95. Convert a vector of ints into a matrix binary representation (★★★)"
   ]
  },
  {
   "cell_type": "code",
   "execution_count": null,
   "metadata": {},
   "outputs": [],
   "source": []
  },
  {
   "cell_type": "markdown",
   "metadata": {},
   "source": [
    "#### 96. Given a two dimensional array, how to extract unique rows? (★★★)"
   ]
  },
  {
   "cell_type": "code",
   "execution_count": null,
   "metadata": {},
   "outputs": [],
   "source": []
  },
  {
   "cell_type": "markdown",
   "metadata": {},
   "source": [
    "#### 97. Considering 2 vectors A & B, write the einsum equivalent of inner, outer, sum, and mul function (★★★)"
   ]
  },
  {
   "cell_type": "code",
   "execution_count": null,
   "metadata": {},
   "outputs": [],
   "source": []
  },
  {
   "cell_type": "markdown",
   "metadata": {},
   "source": [
    "#### 98. Considering a path described by two vectors (X,Y), how to sample it using equidistant samples (★★★)?"
   ]
  },
  {
   "cell_type": "code",
   "execution_count": null,
   "metadata": {
    "collapsed": true
   },
   "outputs": [],
   "source": []
  },
  {
   "cell_type": "markdown",
   "metadata": {},
   "source": [
    "#### 99. Given an integer n and a 2D array X, select from X the rows which can be interpreted as draws from a multinomial distribution with n degrees, i.e., the rows which only contain integers and which sum to n. (★★★)"
   ]
  },
  {
   "cell_type": "code",
   "execution_count": null,
   "metadata": {},
   "outputs": [],
   "source": []
  },
  {
   "cell_type": "markdown",
   "metadata": {},
   "source": [
    "#### 100. Compute bootstrapped 95% confidence intervals for the mean of a 1D array X (i.e., resample the elements of an array with replacement N times, compute the mean of each sample, and then compute percentiles over the means). (★★★)"
   ]
  },
  {
   "cell_type": "code",
   "execution_count": null,
   "metadata": {},
   "outputs": [],
   "source": []
  }
 ],
 "metadata": {
  "interpreter": {
   "hash": "39f09f95418d5e20a22cd80830927c706683f81e2f5e3773e1b700995dc38a17"
  },
  "kernelspec": {
   "display_name": "Python 3",
   "language": "python",
   "name": "python3"
  },
  "language_info": {
   "codemirror_mode": {
    "name": "ipython",
    "version": 3
   },
   "file_extension": ".py",
   "mimetype": "text/x-python",
   "name": "python",
   "nbconvert_exporter": "python",
   "pygments_lexer": "ipython3",
   "version": "3.8.5"
  }
 },
 "nbformat": 4,
 "nbformat_minor": 1
}
